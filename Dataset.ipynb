{
  "cells": [
    {
      "cell_type": "markdown",
      "id": "fe25ddd8",
      "metadata": {
        "id": "fe25ddd8"
      },
      "source": [
        "**Импорт библиотек для работы**"
      ]
    },
    {
      "cell_type": "code",
      "execution_count": null,
      "id": "2f958e31",
      "metadata": {
        "id": "2f958e31"
      },
      "outputs": [],
      "source": [
        "import pandas as pd\n",
        "import numpy as np\n",
        "import matplotlib.pyplot as plt\n",
        "import re"
      ]
    },
    {
      "cell_type": "code",
      "execution_count": null,
      "id": "75214ad1",
      "metadata": {
        "id": "75214ad1"
      },
      "outputs": [],
      "source": [
        "#Загрузка датасета\n",
        "\n",
        "realty_data = pd.read_csv(\"C:\\\\Users\\\\79960\\\\OneDrive\\\\Документы\\\\Итоговый проект\\\\data.csv\")"
      ]
    },
    {
      "cell_type": "code",
      "execution_count": null,
      "id": "5bab7f3d",
      "metadata": {
        "id": "5bab7f3d",
        "outputId": "4384ada1-8d1b-48ce-ed46-7c0e2dfad5c9"
      },
      "outputs": [
        {
          "data": {
            "text/html": [
              "<div>\n",
              "<style scoped>\n",
              "    .dataframe tbody tr th:only-of-type {\n",
              "        vertical-align: middle;\n",
              "    }\n",
              "\n",
              "    .dataframe tbody tr th {\n",
              "        vertical-align: top;\n",
              "    }\n",
              "\n",
              "    .dataframe thead th {\n",
              "        text-align: right;\n",
              "    }\n",
              "</style>\n",
              "<table border=\"1\" class=\"dataframe\">\n",
              "  <thead>\n",
              "    <tr style=\"text-align: right;\">\n",
              "      <th></th>\n",
              "      <th>status</th>\n",
              "      <th>private pool</th>\n",
              "      <th>propertyType</th>\n",
              "      <th>street</th>\n",
              "      <th>baths</th>\n",
              "      <th>homeFacts</th>\n",
              "      <th>fireplace</th>\n",
              "      <th>city</th>\n",
              "      <th>schools</th>\n",
              "      <th>sqft</th>\n",
              "      <th>zipcode</th>\n",
              "      <th>beds</th>\n",
              "      <th>state</th>\n",
              "      <th>stories</th>\n",
              "      <th>mls-id</th>\n",
              "      <th>PrivatePool</th>\n",
              "      <th>MlsId</th>\n",
              "      <th>target</th>\n",
              "    </tr>\n",
              "  </thead>\n",
              "  <tbody>\n",
              "    <tr>\n",
              "      <th>187763</th>\n",
              "      <td>for sale</td>\n",
              "      <td>NaN</td>\n",
              "      <td>lot/land</td>\n",
              "      <td>5640 NW 6th Ave</td>\n",
              "      <td>NaN</td>\n",
              "      <td>{'atAGlanceFacts': [{'factValue': '', 'factLab...</td>\n",
              "      <td>NaN</td>\n",
              "      <td>Miami</td>\n",
              "      <td>[{'rating': ['2/10', '2/10', '10/10', '3/10', ...</td>\n",
              "      <td>3,509 sqft</td>\n",
              "      <td>33127</td>\n",
              "      <td>NaN</td>\n",
              "      <td>FL</td>\n",
              "      <td>NaN</td>\n",
              "      <td>NaN</td>\n",
              "      <td>NaN</td>\n",
              "      <td>A10783162</td>\n",
              "      <td>$70,000</td>\n",
              "    </tr>\n",
              "    <tr>\n",
              "      <th>173918</th>\n",
              "      <td>Under Contract Show</td>\n",
              "      <td>NaN</td>\n",
              "      <td>Single Family Home</td>\n",
              "      <td>6327 Big Oak Ln</td>\n",
              "      <td>2</td>\n",
              "      <td>{'atAGlanceFacts': [{'factValue': '1979', 'fac...</td>\n",
              "      <td>Den</td>\n",
              "      <td>Charlotte</td>\n",
              "      <td>[{'rating': ['2', '2', '3', '6', '3', '6', 'NR...</td>\n",
              "      <td>1505</td>\n",
              "      <td>28227</td>\n",
              "      <td>3</td>\n",
              "      <td>NC</td>\n",
              "      <td>1 Story</td>\n",
              "      <td>NaN</td>\n",
              "      <td>NaN</td>\n",
              "      <td>3512475</td>\n",
              "      <td>$149,000</td>\n",
              "    </tr>\n",
              "    <tr>\n",
              "      <th>44562</th>\n",
              "      <td>Active</td>\n",
              "      <td>NaN</td>\n",
              "      <td>Contemporary</td>\n",
              "      <td>852 Park Grove Ct</td>\n",
              "      <td>1,750</td>\n",
              "      <td>{'atAGlanceFacts': [{'factValue': '2005', 'fac...</td>\n",
              "      <td>NaN</td>\n",
              "      <td>ORLANDO</td>\n",
              "      <td>[{'rating': ['9', '7', '6', '8', '7', '7'], 'd...</td>\n",
              "      <td>1,312</td>\n",
              "      <td>32828</td>\n",
              "      <td>Baths</td>\n",
              "      <td>FL</td>\n",
              "      <td>Two</td>\n",
              "      <td>NaN</td>\n",
              "      <td>NaN</td>\n",
              "      <td>O5831859</td>\n",
              "      <td>205,000</td>\n",
              "    </tr>\n",
              "  </tbody>\n",
              "</table>\n",
              "</div>"
            ],
            "text/plain": [
              "                     status private pool        propertyType  \\\n",
              "187763             for sale          NaN            lot/land   \n",
              "173918  Under Contract Show          NaN  Single Family Home   \n",
              "44562                Active          NaN        Contemporary   \n",
              "\n",
              "                    street  baths  \\\n",
              "187763     5640 NW 6th Ave    NaN   \n",
              "173918     6327 Big Oak Ln      2   \n",
              "44562   852 Park Grove Ct   1,750   \n",
              "\n",
              "                                                homeFacts fireplace  \\\n",
              "187763  {'atAGlanceFacts': [{'factValue': '', 'factLab...       NaN   \n",
              "173918  {'atAGlanceFacts': [{'factValue': '1979', 'fac...       Den   \n",
              "44562   {'atAGlanceFacts': [{'factValue': '2005', 'fac...       NaN   \n",
              "\n",
              "             city                                            schools  \\\n",
              "187763      Miami  [{'rating': ['2/10', '2/10', '10/10', '3/10', ...   \n",
              "173918  Charlotte  [{'rating': ['2', '2', '3', '6', '3', '6', 'NR...   \n",
              "44562     ORLANDO  [{'rating': ['9', '7', '6', '8', '7', '7'], 'd...   \n",
              "\n",
              "              sqft zipcode   beds state  stories mls-id PrivatePool  \\\n",
              "187763  3,509 sqft   33127    NaN    FL      NaN    NaN         NaN   \n",
              "173918        1505   28227      3    NC  1 Story    NaN         NaN   \n",
              "44562        1,312   32828  Baths    FL      Two    NaN         NaN   \n",
              "\n",
              "            MlsId    target  \n",
              "187763  A10783162   $70,000  \n",
              "173918    3512475  $149,000  \n",
              "44562    O5831859   205,000  "
            ]
          },
          "execution_count": 39,
          "metadata": {},
          "output_type": "execute_result"
        }
      ],
      "source": [
        "realty_data.sample(3)"
      ]
    },
    {
      "cell_type": "code",
      "execution_count": null,
      "id": "88c0e454",
      "metadata": {
        "id": "88c0e454",
        "outputId": "9fd0f43c-3ae4-42d0-88b3-14827fef9e9f"
      },
      "outputs": [
        {
          "data": {
            "text/plain": [
              "(377185, 18)"
            ]
          },
          "execution_count": 41,
          "metadata": {},
          "output_type": "execute_result"
        }
      ],
      "source": [
        "realty_data.shape"
      ]
    },
    {
      "cell_type": "markdown",
      "id": "e932b367",
      "metadata": {
        "id": "e932b367"
      },
      "source": [
        "# Предобработка данных"
      ]
    },
    {
      "cell_type": "markdown",
      "id": "5f952781",
      "metadata": {
        "id": "5f952781"
      },
      "source": [
        "**Работа с множественными пропущенными значениями.**"
      ]
    },
    {
      "cell_type": "code",
      "execution_count": null,
      "id": "7bb49ff1",
      "metadata": {
        "id": "7bb49ff1",
        "outputId": "44b67bd6-ca5a-43d0-a5d4-5ed43ecf65d4"
      },
      "outputs": [
        {
          "name": "stdout",
          "output_type": "stream",
          "text": [
            "private pool: 98.89153%\n",
            "private pool\n",
            "NaN    373004\n",
            "Yes      4181\n",
            "Name: count, dtype: int64\n",
            "\n",
            "fireplace: 72.66222%\n",
            "fireplace\n",
            "NaN                                                                     274071\n",
            "yes                                                                      50356\n",
            "Yes                                                                      20856\n",
            "1                                                                        14544\n",
            "2                                                                         2432\n",
            "                                                                         ...  \n",
            "Free-standing, Insert, Wood                                                  1\n",
            "Wood Burning, Attached Fireplace Doors/Screen, Electric, Gas Starter         1\n",
            "One, Living Room                                                             1\n",
            "FAMILYRM, Great Room, Living Room                                            1\n",
            "Ceiling Fan, SMAPL, Utility Connection, Walk-In Closets                      1\n",
            "Name: count, Length: 1653, dtype: int64\n",
            "\n",
            "mls-id: 93.38733%\n",
            "mls-id\n",
            "NaN          352243\n",
            "No MLS#           3\n",
            "No                3\n",
            "1020766           2\n",
            "241962            2\n",
            "              ...  \n",
            "A10762436         1\n",
            "1592770           1\n",
            "14201834          1\n",
            "816230            1\n",
            "F10202858         1\n",
            "Name: count, Length: 24908, dtype: int64\n",
            "\n",
            "PrivatePool: 89.31267%\n",
            "PrivatePool\n",
            "NaN    336874\n",
            "yes     28793\n",
            "Yes     11518\n",
            "Name: count, dtype: int64\n",
            "\n"
          ]
        }
      ],
      "source": [
        "num_rows = len(realty_data.index)\n",
        "low_information_cols = []\n",
        "\n",
        "for col in realty_data.columns:\n",
        "    cnts = realty_data[col].value_counts(dropna=False)\n",
        "    top_pct = (cnts/num_rows).iloc[0]\n",
        "\n",
        "    if top_pct > 0.50:           #количество пропущенных значений более 50%\n",
        "        low_information_cols.append(col)\n",
        "        print('{0}: {1:.5f}%'.format(col, top_pct*100))\n",
        "        print(cnts)\n",
        "        print()"
      ]
    },
    {
      "cell_type": "markdown",
      "id": "4060696f",
      "metadata": {
        "id": "4060696f"
      },
      "source": [
        "Как мы видим из вычислений большое количество пропущенных значений имеют колонки: private pool, PrivatePool,fireplace,mls-id.\n",
        "\n",
        "А колонки **private pool**, **PrivatePool** дают нам одинаковое представление(дублирующие колонки).\n",
        "Данный признак может по разному влиять на цену недвижимости в разных  климатических зонах(в северной части- скорее уменьшить,в южной части-скорее увеличить),поэтому нужно оставить этот признак и посмотреть,как он может влиять на данные.\n",
        "\n",
        "\n",
        "Ссылка на статью:https://www.nytimes.com/2021/07/17/realestate/pool-property-value.html\n",
        "\n",
        "\n",
        "\n",
        "Также мы видим большое количество пропущенных значений в колонке **mls-id**. Для этой колонки также существует дублирующая MlsId.\n",
        "MLS ID – его можно назвать общедоступным идентификатором или идентификатором агента.\n",
        "Поэтому от данных колонок нужно отказаться.\n",
        "\n",
        "Ссылка на статью:https://www.sapling.com/5834082/listing-mls-id-number\n",
        "\n",
        "\n"
      ]
    },
    {
      "cell_type": "code",
      "execution_count": null,
      "id": "94ff0434",
      "metadata": {
        "id": "94ff0434"
      },
      "outputs": [],
      "source": [
        "realty_data = realty_data.drop('MlsId', axis=1)\n",
        "realty_data = realty_data.drop('mls-id', axis=1)"
      ]
    },
    {
      "cell_type": "code",
      "execution_count": null,
      "id": "20dab8a1",
      "metadata": {
        "id": "20dab8a1",
        "outputId": "1a9d47fe-1931-4c3a-888d-dd34311b2fe7"
      },
      "outputs": [
        {
          "name": "stdout",
          "output_type": "stream",
          "text": [
            "<class 'pandas.core.frame.DataFrame'>\n",
            "RangeIndex: 377185 entries, 0 to 377184\n",
            "Data columns (total 16 columns):\n",
            " #   Column        Non-Null Count   Dtype \n",
            "---  ------        --------------   ----- \n",
            " 0   status        337267 non-null  object\n",
            " 1   private pool  4181 non-null    object\n",
            " 2   propertyType  342452 non-null  object\n",
            " 3   street        377183 non-null  object\n",
            " 4   baths         270847 non-null  object\n",
            " 5   homeFacts     377185 non-null  object\n",
            " 6   fireplace     103114 non-null  object\n",
            " 7   city          377151 non-null  object\n",
            " 8   schools       377185 non-null  object\n",
            " 9   sqft          336608 non-null  object\n",
            " 10  zipcode       377185 non-null  object\n",
            " 11  beds          285903 non-null  object\n",
            " 12  state         377185 non-null  object\n",
            " 13  stories       226469 non-null  object\n",
            " 14  PrivatePool   40311 non-null   object\n",
            " 15  target        374704 non-null  object\n",
            "dtypes: object(16)\n",
            "memory usage: 46.0+ MB\n"
          ]
        }
      ],
      "source": [
        "realty_data.info()"
      ]
    },
    {
      "cell_type": "markdown",
      "id": "8fa48945",
      "metadata": {
        "id": "8fa48945"
      },
      "source": [
        "**Удаление дубликатов**"
      ]
    },
    {
      "cell_type": "code",
      "execution_count": null,
      "id": "74adec74",
      "metadata": {
        "id": "74adec74"
      },
      "outputs": [],
      "source": [
        "realty_data = realty_data.drop_duplicates(ignore_index=True)"
      ]
    },
    {
      "cell_type": "markdown",
      "id": "0c95b2e0",
      "metadata": {
        "id": "0c95b2e0"
      },
      "source": [
        "**Status** *статус объекта недвижимости*"
      ]
    },
    {
      "cell_type": "code",
      "execution_count": null,
      "id": "f455dfd0",
      "metadata": {
        "id": "f455dfd0",
        "outputId": "a74b9ae6-ef36-42a3-9415-fcb7be53eaa6"
      },
      "outputs": [
        {
          "name": "stdout",
          "output_type": "stream",
          "text": [
            "Количество пропущенных значений: 39916\n",
            "Количество уникальных значений: 159\n",
            "Уникальные значения: ['Active', 'for sale', nan, 'New construction', 'New', 'For sale', 'Pending', 'P', 'Active/Contingent', 'Pre-foreclosure / auction', ' / auction', 'Under Contract', 'Under Contract   Showing', 'Pre-foreclosure', 'Under Contract Backups', 'foreclosure', 'Active Under Contract', 'Foreclosed', 'Option Pending', 'Under Contract Show']\n"
          ]
        }
      ],
      "source": [
        "missing_values = realty_data.status.isna().sum()\n",
        "total_count = len(realty_data)\n",
        "\n",
        "print(f\"Количество пропущенных значений: {missing_values}\\n\"\n",
        "      f\"Количество уникальных значений: {realty_data.status.nunique()}\\n\"\n",
        "      f\"Уникальные значения: {list(realty_data.status.unique()[:20])}\")"
      ]
    },
    {
      "cell_type": "code",
      "execution_count": null,
      "id": "ae87555a",
      "metadata": {
        "id": "ae87555a"
      },
      "outputs": [],
      "source": [
        "#Категоризация статусов для уменьшения их количества\n",
        "\n",
        "categories = {\n",
        "    \"Coming Soon\": [\n",
        "        'Coming soon: Dec 23.','Coming soon: Nov 25.','Coming soon: Nov 12.','Coming soon: Nov 5.','Coming soon: Dec 1.',\n",
        "        'Coming soon: Dec 11.', 'Coming soon: Dec 5.', 'Coming soon: Dec 7.', 'Coming soon: Dec 27.', 'Coming soon: Nov 14.',\n",
        "        'Coming soon: Nov 22.', 'Coming soon: Oct 21.','Coming soon: Nov 13.','Coming soon: Dec 3.','Coming soon: Dec 25.',\n",
        "        'Coming soon: Nov 11.', 'Coming soon: Dec 14.', 'Coming soon: Oct 24.','Coming soon: Nov 28.','Coming soon: Nov 19.',\n",
        "        'Coming soon: Nov 8.', 'Coming soon: Oct 29.','Coming soon: Dec 15.', 'Coming soon: Dec 20.', 'Coming soon: Dec 9.',\n",
        "        'Coming soon: Nov 27.','Coming soon: Nov 26.','Coming soon: Dec 6.','Coming soon: Dec 24.','Coming soon: Dec 10.',\n",
        "        'Coming soon: Nov 17.', 'Coming soon: Dec 13.','Coming soon: Oct 30.','Coming soon: Nov 30.','Coming soon: Nov 21.',\n",
        "        'Coming soon: Dec 4.','Coming soon: Dec 18.','Coming soon: Nov 29.', 'Coming soon: Dec 2.','Coming soon: Dec 16.',\n",
        "         'Coming soon: Dec 12.','Coming soon: Nov 23.'],\n",
        "\n",
        "    \"Active\": [\n",
        "        'Active','For Sale', 'New construction', 'New', 'For sale','Lease/Purchase','A Active','Uc Continue To Show',\n",
        "        'Price Change','Reactivated','Back On Market','Re Activated','Reactivated','Back on Market','Active with Contract',\n",
        "        'Temporary Active','Active Option', 'Active Option Contract','Active With Offer','Active With Contingencies'],\n",
        "\n",
        "    'Sold': [\n",
        "           'Sold: $285,000','Sold: $15,000','Closed','recently sold','Accepted Offer'],\n",
        "\n",
        "    'Foreclosed': [\n",
        "        'Pre-foreclosure / auction','Pre-foreclosure','Closed','recently sold','Pf','Pi','Ps','Foreclosed','foreclosure',\n",
        "        'Foreclosure','Contingent   Foreclosure','Pending Backups Wanted', 'Pending Fe'],\n",
        "\n",
        "    'Auction': ['/ auction','Auction','Auction - Active','Active - Auction'],\n",
        "\n",
        "    'Pending':[\n",
        "        'Pending','P','Option Pending','Due Diligence Period','Pending Sh','Pending Offer Approval',\n",
        "        'Pending In', 'Pending W/Insp Finance', 'Pending   Continue To Show   Financing',\n",
        "        'Pending W/ Cont.', 'Pending W/Escape Clause','Pending With Contingencies',\n",
        "        'Lease/Purchase Pending', 'Pending Bring Backup', 'Pending Taking Backups','P Pending Sale','Pending Sale',\n",
        "        'Pending Sale','Pending, Continue to Show','Pending - Backup Offer Requested','Pending W/Backup Wanted',\n",
        "        'Pending   Continue To Show','Pending (Do Not Show)', 'Pending - Taking Backups','Pending - Continue to Show',\n",
        "        'Pending Continue To Show','Pending Ab','pending', 'Pending Inspection','Pending Take Backups'],\n",
        "\n",
        "    'For rent':['Apartment for rent','Condo for rent','for rent'],\n",
        "\n",
        "    'Backup Contract':['Contract','Active Under Contract','Under Contract','U Under Contract','Contract Contingent On Buyer Sale',\n",
        "                       'Under Contract W/ Bckp','Under Contract Taking Back Up Offers','Backup','Contract P', 'Under Contract   Showing',\n",
        "                       'Under Contract Backups','Under Contract Show','Under Contract - No Show', 'Active Backup',\n",
        "                       'Under contract','Contingent Take Backup','Backup Contract', 'Option Contract','Conditional Contract',\n",
        "                       'Under Contract - Show','Conting Accpt Backups','Accepting backups'],\n",
        "\n",
        "    'Contingent':['CT Insp - Inspection Contingency','C Continue Show','Ct','Contingent','Contingency Contract',\n",
        "                  'Active Contingency','Active/Contingent','Contingent   No Show','Contingent - Sale of Home',\n",
        "                  'Contingent - Financing','Contingency 48 Hr (+/ )','Contingent   Release','Contingent Lien Holder Release',\n",
        "                  'Contingent Show','Contingent Escape','Active Contingent','Contingent   Show','C', 'Contingent Finance And Inspection',\n",
        "                  'Contingent Finance and Inspection','Active - Contingent'],\n",
        "\n",
        "     'Listing Extended': ['Listing Extended']\n",
        "}\n",
        "\n",
        "def separation_statuses(status_value):\n",
        "    if isinstance(status_value, str): # Проверяем, является ли значение строкой\n",
        "        for category, values in categories.items():\n",
        "            if status_value.lower() in [val.lower() for val in values]:\n",
        "                return category\n",
        "    return \"other\"\n",
        "\n",
        "\n",
        "# Заменяем значения столбца 'status' на категории, используя функцию separation_statuses\n",
        "realty_data['status'] = realty_data['status'].apply(separation_statuses)"
      ]
    },
    {
      "cell_type": "code",
      "execution_count": null,
      "id": "7807031f",
      "metadata": {
        "id": "7807031f",
        "outputId": "8a0c9467-2481-4e60-fcb0-1b5a28e9cd44"
      },
      "outputs": [
        {
          "data": {
            "text/plain": [
              "['Active',\n",
              " 'other',\n",
              " 'Pending',\n",
              " 'Contingent',\n",
              " 'Foreclosed',\n",
              " 'Backup Contract',\n",
              " 'For rent',\n",
              " 'Auction',\n",
              " 'Sold',\n",
              " 'Coming Soon',\n",
              " 'Listing Extended']"
            ]
          },
          "execution_count": 56,
          "metadata": {},
          "output_type": "execute_result"
        }
      ],
      "source": [
        "#Проверка полученных категорий\n",
        "list(realty_data.status.unique())"
      ]
    },
    {
      "cell_type": "markdown",
      "id": "f303d06e",
      "metadata": {
        "id": "f303d06e"
      },
      "source": [
        "**propertyType** *тип недвижимости*"
      ]
    },
    {
      "cell_type": "code",
      "execution_count": null,
      "id": "19c2d3b2",
      "metadata": {
        "id": "19c2d3b2",
        "outputId": "6686dbf9-6290-4f1c-913d-ba95f0320832"
      },
      "outputs": [
        {
          "name": "stdout",
          "output_type": "stream",
          "text": [
            "Количество пропущенных значений: 34725\n",
            "Количество уникальных значений: 1280\n",
            "Уникальные значения: ['Single Family Home', 'single-family home', 'lot/land', 'townhouse', 'Florida', nan, 'Single Family', 'coop', 'English', '2 Story', 'Townhouse', 'multi-family', 'Penthouse, Split-Level', 'Multi-Family Home', 'Condo', 'condo', 'Land', 'Condo/Townhome/Row Home/Co-Op', ' ', 'Detached, Two Story']\n"
          ]
        }
      ],
      "source": [
        "missing_values_t = realty_data.propertyType.isna().sum()\n",
        "\n",
        "\n",
        "print(f\"Количество пропущенных значений: {missing_values_t}\\n\"\n",
        "      f\"Количество уникальных значений: {realty_data.propertyType.nunique()}\\n\"\n",
        "      f\"Уникальные значения: {list(realty_data.propertyType.unique()[:20])}\")"
      ]
    },
    {
      "cell_type": "code",
      "execution_count": null,
      "id": "333c2fb8",
      "metadata": {
        "id": "333c2fb8"
      },
      "outputs": [],
      "source": [
        "# переведем все в строчные\n",
        "realty_data.propertyType = realty_data.propertyType.str.lower()"
      ]
    },
    {
      "cell_type": "code",
      "execution_count": null,
      "id": "13df3fa3",
      "metadata": {
        "id": "13df3fa3"
      },
      "outputs": [],
      "source": [
        "# приведем разное написание к одному виду,yes и unknown заменим  на Other\n",
        "realty_data.propertyType = realty_data.propertyType \\\n",
        ".str.replace('single-family home','single family') \\\n",
        ".str.replace('single family home','single family') \\\n",
        ".str.replace('yes','Other') \\\n",
        ".str.replace('multi-family home','multi-family') \\\n",
        ".str.replace('unknown','Other')\n",
        "\n",
        "# создаем признак Type и записываем в него только первое слово\n",
        "realty_data['Type'] = realty_data['propertyType'].str.split(',').str[0]"
      ]
    },
    {
      "cell_type": "code",
      "execution_count": null,
      "id": "3ea0a649",
      "metadata": {
        "id": "3ea0a649"
      },
      "outputs": [],
      "source": [
        "#Категоризация типов недвижимости для уменьшения их количества\n",
        "\n",
        "keyword_mapping_type = {\n",
        "    'single_family': [\n",
        "        'single family', '1 story', '2 story', 'detached', '1 story/ranch', '1 story traditional', 'single detached','singlefamilyresidence',\n",
        "        'single wide', 'single-wide mobile with land','tri-level','a-frame','2 stories with basement','cape',\n",
        "        'two story', 'one story', 'one level unit', 'rancher', '1 1/2 story', 'single wide mh', 'one story traditional'],\n",
        "\n",
        "    'multi_family': [\n",
        "        'multi-family', 'duplex', 'triplex','4-plex', 'fourplex', 'multi_level','multi-level', 'multi family', '2 unit condo',\n",
        "        'multiplex', '2-story'],\n",
        "\n",
        "    'condos': [\n",
        "        'condo', 'coop', 'cooperative', 'condo/townhome/row home/co-op', 'condo/townhome', 'condominium', 'condo/unit',\n",
        "        'apartment/condo/townhouse', 'co-op', '2 story condo', 'high rise','condominium (3+ levels)','condominium (2 levels)'],\n",
        "\n",
        "    'townhouse': [\n",
        "        'townhouse', 'townhome style', 'townhouse-interior', 'townhouse-end unit'],\n",
        "\n",
        "    'apartment': [\n",
        "        'apartment', 'condominium (single level)', 'high-rise', 'mid-rise', 'low-rise (1-3 stories)', 'flat', 'studio'],\n",
        "\n",
        "    'land': [\n",
        "        'lot/land', 'land'],\n",
        "\n",
        "    'mobile_home': [\n",
        "        'mobile/manufactured', 'mobile / manufactured', 'manufactured house', 'mfd/mobile home', 'mobile home',\n",
        "        'manufactured home', 'manufactured double-wide', 'manufactured single-wide', 'mobile home 1 story',\n",
        "        'mobile manu - double wide','single-wide mobile with land','manuf/mobile'],\n",
        "\n",
        "    'ranch': [\n",
        "        'ranch', 'one story','step ranch','hi ranch','raised ranch'],\n",
        "\n",
        "    'contemporary ': [\n",
        "        'contemporary', 'contemporary/modern', \"modern\", 'mid-century modern', 'modern farmhouse', 'modernist','urban contemporary'],\n",
        "\n",
        "    'historical': [\n",
        "        'historical', 'designated historical home', 'historical/conservation district', 'historic/older', 'historic vintage',\n",
        "        'historic'],\n",
        "\n",
        "    'other': [\n",
        "        'Other','other (see remarks)', 'english','spanish','french', 'other style','victorian ', 'florida', 'farms/ranches', 'carriage house', 'country english', 'straight thru', 'less than 4 floors', 'bungalow', 'custom', 'arts & crafts', 'tudor', 'new build 2019', 'split foyer', 'cottage', 'cottage/camp', 'garden home', 'farm/ranch', 'farm/ranch house', 'farm house', 'attached duplex', 'farmhouse', 'houseboat', 'ground floor', '3 story', '3+ stories', 'santa barbara/tuscan', 'old style', 'modular/prefab', 'post and beam', 'multiple occupancy', 'attached', 'hawaiian plantation', 'forest garden home', '1 1/2 story with basement', 'split-entry', 'texas hill country', 'lake house', '1 story with basement', 'hi-rise', 'coastal beach home', 'historical', 'key west/coastal', 'loft/balcony', 'english manor', 'mid-rise (4-7 stories)', 'mid-level', 'new englander', 'residential (<1 acre)', 'ranch','residential (1+ acre)', 'split', 'split level', 'split (4 level)', 'split (5+ level)', 'urban', 'patio', 'patio home', 'penthouse', 'manor', 'victorian/federal', 'coastal', 'coastal contemporary', 'coastal ii', 'coastal modern', 'coastal two story','elevated ', 'mountain contemporary', 'key west', 'high ranch', 'end unit']\n",
        "}\n",
        "\n",
        "#функция,которая принимает значение и возращает тип недвижимости,если значение не найдено,возвращает other\n",
        "def separation_propertyType(value):\n",
        "    for key, type_values in keyword_mapping_type.items():\n",
        "        if value in type_values:\n",
        "            return key\n",
        "    return \"other\"\n",
        "\n",
        "\n",
        "realty_data['Type'] = realty_data['Type'].apply(separation_propertyType)"
      ]
    },
    {
      "cell_type": "code",
      "execution_count": null,
      "id": "fb7d3ee7",
      "metadata": {
        "id": "fb7d3ee7"
      },
      "outputs": [],
      "source": [
        "realty_data.drop('propertyType', axis=1, inplace=True)"
      ]
    },
    {
      "cell_type": "markdown",
      "id": "308b8e22",
      "metadata": {
        "id": "308b8e22"
      },
      "source": [
        "**street** *улица*"
      ]
    },
    {
      "cell_type": "code",
      "execution_count": null,
      "id": "5b4be80e",
      "metadata": {
        "id": "5b4be80e",
        "outputId": "86a6de6f-abd6-4249-c69f-a4e0084f37ff"
      },
      "outputs": [
        {
          "name": "stdout",
          "output_type": "stream",
          "text": [
            "Количество пропущенных значений: 2\n",
            "Количество уникальных значений: 337076\n",
            "Уникальные значения: ['240 Heather Ln', '12911 E Heroy Ave', '2005 Westridge Rd', '4311 Livingston Ave', '1524 Kiscoe St', '1624 S Newkirk St', '552 Casanova Ct ', '6094 Mingle Dr ', '11182 Owl Ave', '8612 Cedar Plains Ln', '14205 Roosevelt Ave #512', '4222 False Cypress Ln ', '16373 NW 16th St', '1538 Umpqua Dr', '15351 Falmouth Ave', '930 52nd St ', '2402 NW 22nd Rd ', '24 W 126th St ', '22702 Alderdale Ln', '1633 NE 15th St']\n"
          ]
        }
      ],
      "source": [
        "missing_values_s = realty_data.street.isna().sum()\n",
        "\n",
        "\n",
        "print(f\"Количество пропущенных значений: {missing_values_s}\\n\"\n",
        "      f\"Количество уникальных значений: {realty_data.street.nunique()}\\n\"\n",
        "      f\"Уникальные значения: {list(realty_data.street.unique()[:20])}\")"
      ]
    },
    {
      "cell_type": "code",
      "execution_count": null,
      "id": "8e84ce77",
      "metadata": {
        "id": "8e84ce77"
      },
      "outputs": [],
      "source": [
        "# удаляем строки, где есть пропуски в столбце street\n",
        "realty_data = realty_data.dropna(subset=['street'])"
      ]
    },
    {
      "cell_type": "markdown",
      "id": "3bf8c17d",
      "metadata": {
        "id": "3bf8c17d"
      },
      "source": [
        "**PrivatePool** *приватный бассейн*"
      ]
    },
    {
      "cell_type": "code",
      "execution_count": null,
      "id": "bea7b667",
      "metadata": {
        "id": "bea7b667",
        "outputId": "7df9e730-96d3-451d-a5c0-560a00e74ba4"
      },
      "outputs": [
        {
          "name": "stdout",
          "output_type": "stream",
          "text": [
            "Уникальные значения : [False  True]\n"
          ]
        }
      ],
      "source": [
        "# Объединяем колонки private pool, PrivatePool\n",
        "realty_data['pool'] = realty_data['private pool'].combine_first(realty_data['PrivatePool'])\n",
        "\n",
        "# Заменить NaN на False\n",
        "realty_data['pool'] = realty_data['pool'].fillna(False)\n",
        "\n",
        "# Заменить 'yes' на True\n",
        "realty_data['pool'] = realty_data['pool'].replace(['yes', 'Yes'], True)\n",
        "\n",
        "# Выводим результат\n",
        "print(\"Уникальные значения :\", realty_data['pool'].unique())\n",
        "\n",
        "# Удаляем столбец PrivatePool\n",
        "realty_data = realty_data.drop(['PrivatePool', 'private pool'], axis=1)"
      ]
    },
    {
      "cell_type": "code",
      "execution_count": null,
      "id": "4690f3e1",
      "metadata": {
        "id": "4690f3e1"
      },
      "outputs": [],
      "source": [
        "realty_data = realty_data.drop_duplicates(ignore_index=True)"
      ]
    },
    {
      "cell_type": "markdown",
      "id": "78192bf8",
      "metadata": {
        "id": "78192bf8"
      },
      "source": [
        "**baths** *ванные комнаты*"
      ]
    },
    {
      "cell_type": "code",
      "execution_count": null,
      "id": "aeb550de",
      "metadata": {
        "id": "aeb550de",
        "outputId": "d69fd4b4-2933-44e7-e6d7-1fd3691d9e91"
      },
      "outputs": [
        {
          "name": "stdout",
          "output_type": "stream",
          "text": [
            "Количество пропущенных значений: 106260\n",
            "Количество уникальных значений: 229\n",
            "Уникальные значения: ['3.5', '3 Baths', '2 Baths', '8 Baths', nan, '2', '3', 'Bathrooms: 2', '1,750', '4 Baths', '2 ba', 'Bathrooms: 5', '1,000', '7 Baths', '2.0', '3.0', 'Bathrooms: 1', '4.0', '2.1 Baths', '2.5 Baths']\n"
          ]
        }
      ],
      "source": [
        "missing_values_b = realty_data.baths.isna().sum()\n",
        "\n",
        "\n",
        "print(f\"Количество пропущенных значений: {missing_values_b}\\n\"\n",
        "      f\"Количество уникальных значений: {realty_data.baths.nunique()}\\n\"\n",
        "      f\"Уникальные значения: {list(realty_data.baths.unique()[:20])}\")"
      ]
    },
    {
      "cell_type": "code",
      "execution_count": null,
      "id": "24fc479d",
      "metadata": {
        "id": "24fc479d"
      },
      "outputs": [],
      "source": [
        "mode_type_baths = realty_data['baths'].mode()[0]  # заменяем пропущенные значение модой\n",
        "realty_data['baths'].fillna(mode_type_baths, inplace=True)"
      ]
    },
    {
      "cell_type": "code",
      "execution_count": null,
      "id": "3f2a1c1c",
      "metadata": {
        "id": "3f2a1c1c",
        "outputId": "b4293f35-528c-4332-e1e6-a873648aa2d1"
      },
      "outputs": [
        {
          "data": {
            "text/plain": [
              "array(['3.5', '3 Baths', '2 Baths', '8 Baths', '2', '3', 'Bathrooms: 2',\n",
              "       '1,750', '4 Baths', '2 ba', 'Bathrooms: 5', '1,000', '7 Baths',\n",
              "       '2.0', '3.0', 'Bathrooms: 1', '4.0', '2.1 Baths', '2.5 Baths', '1',\n",
              "       'Bathrooms: 3', '4.5', '6 Baths', 'Bathrooms: 4', '3 ba', '5',\n",
              "       '2,500', '5.5 Baths', '1.0', '5 Baths', '1.5', '4', '~', '2.5',\n",
              "       '4,000', '3.5 Baths', '2,000', '3,000', '8.0', '1 ba', '3.5 ba',\n",
              "       '0', '5.0', '1,500', '7.0', '1,250', '9 Baths', '2,250', '6.0',\n",
              "       '12 Baths', '5.5', '3,500', '1.5 Baths', '2,750', 'Bathrooms: 6',\n",
              "       '4.5 Baths', '750', '5.5+', '6', '10 Baths', '6 ba',\n",
              "       'Bathrooms: 19', '10.0', '1.5 ba', '4 ba', '12 ba', '2.5+', '8',\n",
              "       '7.5+', 'Bathrooms: 10', '0 / 0', 'Sq. Ft. ', '5 ba', '4.5+',\n",
              "       '18 Baths', '-- baths', 'Bathrooms: 7', '7', '18', '3.5+', '1.5+',\n",
              "       '11 Baths', '5,000', '1.75 Baths', '9', '12.0', '1.1 Baths', '6.5',\n",
              "       'Bathrooms: 8', '10', '19 Baths', 'Bathrooms: 9', '16 Baths',\n",
              "       '13 Baths', 'Bathrooms: 13', '14', '9.0', '8.5+', '7 ba', '12',\n",
              "       '2.5 ba', 'Bathrooms: 12', '17', 'Bathrooms: 241', '16.0', '10.5+',\n",
              "       '8 ba', '6.5+', '6.5 Baths', '14 Baths', '7,500+', '7.5', '11.0',\n",
              "       '20 Baths', '11', '40 Baths', '1-0 / 1-0 / 1', '14.0', '1.75 ba',\n",
              "       '2.75 Baths', '24 Baths', '22.0', '0.00', '2.25 Baths',\n",
              "       '3.1 Baths', '3.25 Baths', '—', '13', '4.5 ba', '22', '9 ba', '32',\n",
              "       '7.5 Baths', '18.0', 'Bathrooms: 11', '17 Baths', '0.0',\n",
              "       'Bathrooms: 27', '26', '20.0', '9.5', '8.5', '26 Baths', '2 baths',\n",
              "       '15 Baths', '16', '35', '3.75 Baths', '29 Baths', '22 Baths',\n",
              "       'Bathrooms: 18', '116 / 116 / 116', '40', '21 Baths', '5.2 Baths',\n",
              "       '29', '8.5 Baths', '14.5+', '76 Baths', '13.0',\n",
              "       'Bathrooms: SemiMod', '3-1 / 2-2', '32 Baths', '2.25 ba', '15.0',\n",
              "       '23 Baths', '3.3 Baths', '43 Baths', '21', '1.25 Baths',\n",
              "       '34 Baths', '20', '2.2 Baths', '1 / 1 / 1 / 1', '55.0', '3 baths',\n",
              "       '25 Baths', '12.5+', 'Bathrooms: 24', '44 Baths', '0.5 Baths',\n",
              "       '4.25 Baths', '4.75 Baths', '0.75 Baths', '4.1 Baths', '15',\n",
              "       'Bathrooms: 14', '5.25 Baths', '10 ba', '41.0', '1.8 Baths',\n",
              "       'Bathrooms: 16', '10.5', 'Bathrooms: 21', '9.5+', '36 Baths',\n",
              "       '30 Baths', '27', '10.5 Baths', '12.5', '24.0', '23.0', '24',\n",
              "       '28 Baths', '2.8 Baths', '34.0', '64.0', '11.5+', '13 ba',\n",
              "       '39 Baths', '30', '30.0', '17.0', '42 Baths', '5.5 ba', '16 ba',\n",
              "       '11.5 Baths', '27 Baths', '11 ba', '3.2 Baths',\n",
              "       '2-1 / 2-1 / 1-1 / 1-1', '23', '60 Baths', '1 / 1-0 / 1-0 / 1-0',\n",
              "       '6.75 Baths', '1-2 Baths', 'Bathrooms: 15', '68 Baths', '44.0'],\n",
              "      dtype=object)"
            ]
          },
          "execution_count": 68,
          "metadata": {},
          "output_type": "execute_result"
        }
      ],
      "source": [
        "realty_data.baths.unique()"
      ]
    },
    {
      "cell_type": "code",
      "execution_count": null,
      "id": "b29dfa5f",
      "metadata": {
        "id": "b29dfa5f"
      },
      "outputs": [],
      "source": [
        "# отдельно исправим некорректно написанные значения\n",
        "\n",
        "realty_data['baths'].replace(['1,750'], 1.75, inplace=True)\n",
        "realty_data['baths'].replace(['1,000'], 1, inplace=True)\n",
        "realty_data['baths'].replace(['2,500'], 2.5, inplace=True)\n",
        "realty_data['baths'].replace(['~','0 / 0','Sq. Ft. ','-- baths','—'],0, inplace=True)\n",
        "realty_data['baths'].replace(['4,000'], 4, inplace=True)\n",
        "realty_data['baths'].replace(['3,000'], 3, inplace=True)\n",
        "realty_data['baths'].replace(['1,500'], 1.5, inplace=True)\n",
        "realty_data['baths'].replace(['1,250'], 1.25, inplace=True)\n",
        "realty_data['baths'].replace(['2,250'], 2.25, inplace=True)\n",
        "realty_data['baths'].replace(['3,500'], 3.5, inplace=True)\n",
        "realty_data['baths'].replace(['2,750'], 2.75, inplace=True)\n",
        "realty_data['baths'].replace(['5,000'], 5, inplace=True)\n",
        "realty_data['baths'].replace(['7,500+'], 7.5, inplace=True)\n",
        "realty_data['baths'].replace(['1-0 / 1-0 / 1','1 / 1 / 1 / 1','1 / 1-0 / 1-0 / 1-0'], 1, inplace=True)\n",
        "realty_data['baths'].replace(['116 / 116 / 116'], 116, inplace=True)\n",
        "realty_data['baths'].replace(['3-1 / 2-2'], 3, inplace=True)\n",
        "realty_data['baths'].replace(['2-1 / 2-1 / 1-1 / 1-1'], 2, inplace=True)\n",
        "realty_data['baths'].replace(['1-2 Baths'], 2, inplace=True)"
      ]
    },
    {
      "cell_type": "code",
      "execution_count": null,
      "id": "079cf673",
      "metadata": {
        "id": "079cf673"
      },
      "outputs": [],
      "source": [
        "realty_data['baths'] = realty_data['baths'].apply(lambda x: float(re.findall('\\d+', str(x))[0]) if re.findall('\\d+', str(x)) else None)"
      ]
    },
    {
      "cell_type": "code",
      "execution_count": null,
      "id": "0a6987b3",
      "metadata": {
        "id": "0a6987b3",
        "outputId": "f4dc1d6f-12d7-426e-882f-1579853a0b52"
      },
      "outputs": [
        {
          "data": {
            "text/html": [
              "<div>\n",
              "<style scoped>\n",
              "    .dataframe tbody tr th:only-of-type {\n",
              "        vertical-align: middle;\n",
              "    }\n",
              "\n",
              "    .dataframe tbody tr th {\n",
              "        vertical-align: top;\n",
              "    }\n",
              "\n",
              "    .dataframe thead th {\n",
              "        text-align: right;\n",
              "    }\n",
              "</style>\n",
              "<table border=\"1\" class=\"dataframe\">\n",
              "  <thead>\n",
              "    <tr style=\"text-align: right;\">\n",
              "      <th></th>\n",
              "      <th>status</th>\n",
              "      <th>street</th>\n",
              "      <th>baths</th>\n",
              "      <th>homeFacts</th>\n",
              "      <th>fireplace</th>\n",
              "      <th>city</th>\n",
              "      <th>schools</th>\n",
              "      <th>sqft</th>\n",
              "      <th>zipcode</th>\n",
              "      <th>beds</th>\n",
              "      <th>state</th>\n",
              "      <th>stories</th>\n",
              "      <th>target</th>\n",
              "      <th>Type</th>\n",
              "      <th>pool</th>\n",
              "    </tr>\n",
              "  </thead>\n",
              "  <tbody>\n",
              "    <tr>\n",
              "      <th>1109</th>\n",
              "      <td>Active</td>\n",
              "      <td>3624 Douglas Ave</td>\n",
              "      <td>750.0</td>\n",
              "      <td>{'atAGlanceFacts': [{'factValue': '1993', 'fac...</td>\n",
              "      <td>1</td>\n",
              "      <td>Dallas</td>\n",
              "      <td>[{'rating': ['5', '5', '2', '10'], 'data': {'D...</td>\n",
              "      <td>1,758</td>\n",
              "      <td>75219</td>\n",
              "      <td>Baths</td>\n",
              "      <td>TX</td>\n",
              "      <td>NaN</td>\n",
              "      <td>499,000</td>\n",
              "      <td>other</td>\n",
              "      <td>False</td>\n",
              "    </tr>\n",
              "    <tr>\n",
              "      <th>2022</th>\n",
              "      <td>Active</td>\n",
              "      <td>920 I St NW #411</td>\n",
              "      <td>750.0</td>\n",
              "      <td>{'atAGlanceFacts': [{'factValue': '2013', 'fac...</td>\n",
              "      <td>NaN</td>\n",
              "      <td>Washington</td>\n",
              "      <td>[{'rating': ['8', '8', '3', '8'], 'data': {'Di...</td>\n",
              "      <td>1,367</td>\n",
              "      <td>20001</td>\n",
              "      <td>NaN</td>\n",
              "      <td>DC</td>\n",
              "      <td>NaN</td>\n",
              "      <td>1,499,000</td>\n",
              "      <td>other</td>\n",
              "      <td>False</td>\n",
              "    </tr>\n",
              "    <tr>\n",
              "      <th>3594</th>\n",
              "      <td>Active</td>\n",
              "      <td>601 W 11th Ave #409</td>\n",
              "      <td>750.0</td>\n",
              "      <td>{'atAGlanceFacts': [{'factValue': '1981', 'fac...</td>\n",
              "      <td>NaN</td>\n",
              "      <td>DENVER</td>\n",
              "      <td>[{'rating': ['5', 'NR', '5', '2'], 'data': {'D...</td>\n",
              "      <td>873</td>\n",
              "      <td>80204</td>\n",
              "      <td>Baths</td>\n",
              "      <td>CO</td>\n",
              "      <td>NaN</td>\n",
              "      <td>348,900</td>\n",
              "      <td>other</td>\n",
              "      <td>False</td>\n",
              "    </tr>\n",
              "    <tr>\n",
              "      <th>7564</th>\n",
              "      <td>Active</td>\n",
              "      <td>1260 Xavier St</td>\n",
              "      <td>750.0</td>\n",
              "      <td>{'atAGlanceFacts': [{'factValue': '1936', 'fac...</td>\n",
              "      <td>NaN</td>\n",
              "      <td>DENVER</td>\n",
              "      <td>[{'rating': ['2', '2', '2'], 'data': {'Distanc...</td>\n",
              "      <td>1,864</td>\n",
              "      <td>80204</td>\n",
              "      <td>Baths</td>\n",
              "      <td>CO</td>\n",
              "      <td>NaN</td>\n",
              "      <td>560,000</td>\n",
              "      <td>other</td>\n",
              "      <td>False</td>\n",
              "    </tr>\n",
              "    <tr>\n",
              "      <th>7693</th>\n",
              "      <td>Active</td>\n",
              "      <td>3314 Douglas Ave Unit 202D</td>\n",
              "      <td>750.0</td>\n",
              "      <td>{'atAGlanceFacts': [{'factValue': '1984', 'fac...</td>\n",
              "      <td>3</td>\n",
              "      <td>Dallas</td>\n",
              "      <td>[{'rating': ['4', '3', '2', '10'], 'data': {'D...</td>\n",
              "      <td>1,336</td>\n",
              "      <td>75219</td>\n",
              "      <td>Baths</td>\n",
              "      <td>TX</td>\n",
              "      <td>3</td>\n",
              "      <td>285,000</td>\n",
              "      <td>condos</td>\n",
              "      <td>False</td>\n",
              "    </tr>\n",
              "    <tr>\n",
              "      <th>...</th>\n",
              "      <td>...</td>\n",
              "      <td>...</td>\n",
              "      <td>...</td>\n",
              "      <td>...</td>\n",
              "      <td>...</td>\n",
              "      <td>...</td>\n",
              "      <td>...</td>\n",
              "      <td>...</td>\n",
              "      <td>...</td>\n",
              "      <td>...</td>\n",
              "      <td>...</td>\n",
              "      <td>...</td>\n",
              "      <td>...</td>\n",
              "      <td>...</td>\n",
              "      <td>...</td>\n",
              "    </tr>\n",
              "    <tr>\n",
              "      <th>372463</th>\n",
              "      <td>Active</td>\n",
              "      <td>601 Pennsylvania Ave NW #212</td>\n",
              "      <td>750.0</td>\n",
              "      <td>{'atAGlanceFacts': [{'factValue': '1991', 'fac...</td>\n",
              "      <td>NaN</td>\n",
              "      <td>Washington</td>\n",
              "      <td>[{'rating': ['8', '8', '3', '5'], 'data': {'Di...</td>\n",
              "      <td>801</td>\n",
              "      <td>20004</td>\n",
              "      <td>NaN</td>\n",
              "      <td>DC</td>\n",
              "      <td>NaN</td>\n",
              "      <td>449,000</td>\n",
              "      <td>other</td>\n",
              "      <td>False</td>\n",
              "    </tr>\n",
              "    <tr>\n",
              "      <th>375492</th>\n",
              "      <td>Active</td>\n",
              "      <td>3225 Turtle Creek Blvd #1646</td>\n",
              "      <td>750.0</td>\n",
              "      <td>{'atAGlanceFacts': [{'factValue': '1998', 'fac...</td>\n",
              "      <td>NaN</td>\n",
              "      <td>Dallas</td>\n",
              "      <td>[{'rating': ['5', '5', '2', '10'], 'data': {'D...</td>\n",
              "      <td>832</td>\n",
              "      <td>75219</td>\n",
              "      <td>Baths</td>\n",
              "      <td>TX</td>\n",
              "      <td>NaN</td>\n",
              "      <td>219,500</td>\n",
              "      <td>condos</td>\n",
              "      <td>False</td>\n",
              "    </tr>\n",
              "    <tr>\n",
              "      <th>375870</th>\n",
              "      <td>Active</td>\n",
              "      <td>2262 Alterbrook Ln</td>\n",
              "      <td>750.0</td>\n",
              "      <td>{'atAGlanceFacts': [{'factValue': '2019', 'fac...</td>\n",
              "      <td>NaN</td>\n",
              "      <td>Dallas</td>\n",
              "      <td>[{'rating': ['4', '3', '2', '10'], 'data': {'D...</td>\n",
              "      <td>2,102</td>\n",
              "      <td>75219</td>\n",
              "      <td>Baths</td>\n",
              "      <td>TX</td>\n",
              "      <td>NaN</td>\n",
              "      <td>464,900</td>\n",
              "      <td>condos</td>\n",
              "      <td>False</td>\n",
              "    </tr>\n",
              "    <tr>\n",
              "      <th>376005</th>\n",
              "      <td>Active</td>\n",
              "      <td>3225 Turtle Creek Blvd #528</td>\n",
              "      <td>750.0</td>\n",
              "      <td>{'atAGlanceFacts': [{'factValue': '1998', 'fac...</td>\n",
              "      <td>NaN</td>\n",
              "      <td>Dallas</td>\n",
              "      <td>[{'rating': ['5', '5', '2', '10'], 'data': {'D...</td>\n",
              "      <td>837</td>\n",
              "      <td>75219</td>\n",
              "      <td>Baths</td>\n",
              "      <td>TX</td>\n",
              "      <td>22</td>\n",
              "      <td>240,000</td>\n",
              "      <td>condos</td>\n",
              "      <td>False</td>\n",
              "    </tr>\n",
              "    <tr>\n",
              "      <th>376629</th>\n",
              "      <td>Active</td>\n",
              "      <td>3811 Throckmorton St</td>\n",
              "      <td>750.0</td>\n",
              "      <td>{'atAGlanceFacts': [{'factValue': '2015', 'fac...</td>\n",
              "      <td>1</td>\n",
              "      <td>Dallas</td>\n",
              "      <td>[{'rating': ['5', '5', '2', '10'], 'data': {'D...</td>\n",
              "      <td>2,785</td>\n",
              "      <td>75219</td>\n",
              "      <td>Baths</td>\n",
              "      <td>TX</td>\n",
              "      <td>NaN</td>\n",
              "      <td>749,999</td>\n",
              "      <td>condos</td>\n",
              "      <td>False</td>\n",
              "    </tr>\n",
              "  </tbody>\n",
              "</table>\n",
              "<p>238 rows × 15 columns</p>\n",
              "</div>"
            ],
            "text/plain": [
              "        status                         street  baths  \\\n",
              "1109    Active              3624 Douglas Ave   750.0   \n",
              "2022    Active              920 I St NW #411   750.0   \n",
              "3594    Active           601 W 11th Ave #409   750.0   \n",
              "7564    Active                1260 Xavier St   750.0   \n",
              "7693    Active    3314 Douglas Ave Unit 202D   750.0   \n",
              "...        ...                            ...    ...   \n",
              "372463  Active  601 Pennsylvania Ave NW #212   750.0   \n",
              "375492  Active  3225 Turtle Creek Blvd #1646   750.0   \n",
              "375870  Active            2262 Alterbrook Ln   750.0   \n",
              "376005  Active   3225 Turtle Creek Blvd #528   750.0   \n",
              "376629  Active          3811 Throckmorton St   750.0   \n",
              "\n",
              "                                                homeFacts fireplace  \\\n",
              "1109    {'atAGlanceFacts': [{'factValue': '1993', 'fac...         1   \n",
              "2022    {'atAGlanceFacts': [{'factValue': '2013', 'fac...       NaN   \n",
              "3594    {'atAGlanceFacts': [{'factValue': '1981', 'fac...       NaN   \n",
              "7564    {'atAGlanceFacts': [{'factValue': '1936', 'fac...       NaN   \n",
              "7693    {'atAGlanceFacts': [{'factValue': '1984', 'fac...         3   \n",
              "...                                                   ...       ...   \n",
              "372463  {'atAGlanceFacts': [{'factValue': '1991', 'fac...       NaN   \n",
              "375492  {'atAGlanceFacts': [{'factValue': '1998', 'fac...       NaN   \n",
              "375870  {'atAGlanceFacts': [{'factValue': '2019', 'fac...       NaN   \n",
              "376005  {'atAGlanceFacts': [{'factValue': '1998', 'fac...       NaN   \n",
              "376629  {'atAGlanceFacts': [{'factValue': '2015', 'fac...         1   \n",
              "\n",
              "              city                                            schools   sqft  \\\n",
              "1109        Dallas  [{'rating': ['5', '5', '2', '10'], 'data': {'D...  1,758   \n",
              "2022    Washington  [{'rating': ['8', '8', '3', '8'], 'data': {'Di...  1,367   \n",
              "3594        DENVER  [{'rating': ['5', 'NR', '5', '2'], 'data': {'D...    873   \n",
              "7564        DENVER  [{'rating': ['2', '2', '2'], 'data': {'Distanc...  1,864   \n",
              "7693        Dallas  [{'rating': ['4', '3', '2', '10'], 'data': {'D...  1,336   \n",
              "...            ...                                                ...    ...   \n",
              "372463  Washington  [{'rating': ['8', '8', '3', '5'], 'data': {'Di...    801   \n",
              "375492      Dallas  [{'rating': ['5', '5', '2', '10'], 'data': {'D...    832   \n",
              "375870      Dallas  [{'rating': ['4', '3', '2', '10'], 'data': {'D...  2,102   \n",
              "376005      Dallas  [{'rating': ['5', '5', '2', '10'], 'data': {'D...    837   \n",
              "376629      Dallas  [{'rating': ['5', '5', '2', '10'], 'data': {'D...  2,785   \n",
              "\n",
              "       zipcode   beds state stories     target    Type   pool  \n",
              "1109     75219  Baths    TX     NaN    499,000   other  False  \n",
              "2022     20001    NaN    DC     NaN  1,499,000   other  False  \n",
              "3594     80204  Baths    CO     NaN    348,900   other  False  \n",
              "7564     80204  Baths    CO     NaN    560,000   other  False  \n",
              "7693     75219  Baths    TX       3    285,000  condos  False  \n",
              "...        ...    ...   ...     ...        ...     ...    ...  \n",
              "372463   20004    NaN    DC     NaN    449,000   other  False  \n",
              "375492   75219  Baths    TX     NaN    219,500  condos  False  \n",
              "375870   75219  Baths    TX     NaN    464,900  condos  False  \n",
              "376005   75219  Baths    TX      22    240,000  condos  False  \n",
              "376629   75219  Baths    TX     NaN    749,999  condos  False  \n",
              "\n",
              "[238 rows x 15 columns]"
            ]
          },
          "execution_count": 71,
          "metadata": {},
          "output_type": "execute_result"
        }
      ],
      "source": [
        "realty_data.query('baths > 200')"
      ]
    },
    {
      "cell_type": "markdown",
      "id": "8f76bdf1",
      "metadata": {
        "id": "8f76bdf1"
      },
      "source": [
        "Вывод из полученных данных: существует 238 объектов недвижимости,которые имеют более 200 ванных комнат,однако даже в самых огромных объектах количество спален не более 200."
      ]
    },
    {
      "cell_type": "code",
      "execution_count": null,
      "id": "a3b5bbb0",
      "metadata": {
        "id": "a3b5bbb0"
      },
      "outputs": [],
      "source": [
        "# не включаем данные строки\n",
        "realty_data = realty_data.loc[realty_data['baths'] <= 100]"
      ]
    },
    {
      "cell_type": "markdown",
      "id": "978c1075",
      "metadata": {
        "id": "978c1075"
      },
      "source": [
        "**homeFacts** *данные о здании*"
      ]
    },
    {
      "cell_type": "code",
      "execution_count": null,
      "id": "f36de9b0",
      "metadata": {
        "id": "f36de9b0",
        "outputId": "ddd5f6b5-145e-4ca6-ccf0-7a1247302a90"
      },
      "outputs": [
        {
          "data": {
            "text/plain": [
              "\"{'atAGlanceFacts': [{'factValue': '2019', 'factLabel': 'Year built'}, {'factValue': '', 'factLabel': 'Remodeled year'}, {'factValue': 'Central A/C, Heat Pump', 'factLabel': 'Heating'}, {'factValue': '', 'factLabel': 'Cooling'}, {'factValue': '', 'factLabel': 'Parking'}, {'factValue': None, 'factLabel': 'lotsize'}, {'factValue': '$144', 'factLabel': 'Price/sqft'}]}\""
            ]
          },
          "execution_count": 73,
          "metadata": {},
          "output_type": "execute_result"
        }
      ],
      "source": [
        "realty_data['homeFacts'][0]"
      ]
    },
    {
      "cell_type": "markdown",
      "id": "276f6d7f",
      "metadata": {
        "id": "276f6d7f"
      },
      "source": [
        "Достаем label и Value из признака homeFacts"
      ]
    },
    {
      "cell_type": "code",
      "execution_count": null,
      "id": "90285a14",
      "metadata": {
        "id": "90285a14",
        "outputId": "41b63ffe-9716-4916-b25c-5ea597909e50"
      },
      "outputs": [
        {
          "name": "stdout",
          "output_type": "stream",
          "text": [
            "[\"'Year built'\", \"'Remodeled year'\", \"'Heating'\", \"'Cooling'\", \"'Parking'\", \"'lotsize'\", \"'Price/sqft'\"]\n",
            "0    ['2019', '', 'Central A/C, Heat Pump', '', '',...\n",
            "1    ['2019', '', '', '', '', '5828 sqft', '$159/sq...\n",
            "2    ['1961', '1967', 'Forced Air', 'Central', 'Att...\n",
            "Name: homeFacts, dtype: object\n"
          ]
        }
      ],
      "source": [
        "label = realty_data.homeFacts.str.findall(r\"\\bfactLabel': ([\\s\\S]+?)[}\\b]\")\n",
        "print(label[0])\n",
        "\n",
        "Value = realty_data.homeFacts.str.findall(r\"\\bfactValue': ([\\s\\S]+?), 'factLabel\\b\")\n",
        "print(Value[:3])"
      ]
    },
    {
      "cell_type": "code",
      "execution_count": null,
      "id": "d41ac288",
      "metadata": {
        "id": "d41ac288"
      },
      "outputs": [],
      "source": [
        "# список названий признаков без кавычкек\n",
        "list_label = ','.join(label[0]).replace(\"'\",\"\").split(',')\n",
        "\n",
        "# Создаем признаки в датафрейме и заполняем  значениями\n",
        "for i, value in enumerate(list_label):\n",
        "    realty_data[value]=Value.apply(lambda x: x[i])\n"
      ]
    },
    {
      "cell_type": "code",
      "execution_count": null,
      "id": "d852caa3",
      "metadata": {
        "id": "d852caa3"
      },
      "outputs": [],
      "source": [
        "realty_data = realty_data.drop('homeFacts', axis=1)"
      ]
    },
    {
      "cell_type": "markdown",
      "id": "e569296e",
      "metadata": {
        "id": "e569296e"
      },
      "source": [
        "**Year built** *год постройки*"
      ]
    },
    {
      "cell_type": "code",
      "execution_count": null,
      "id": "bf291751",
      "metadata": {
        "id": "bf291751"
      },
      "outputs": [],
      "source": [
        "#удаляем кавычки вокруг чисел\n",
        "realty_data['Year built'] = realty_data['Year built'].str.replace(\"'\",'', regex=True)"
      ]
    },
    {
      "cell_type": "code",
      "execution_count": null,
      "id": "06f57602",
      "metadata": {
        "id": "06f57602",
        "outputId": "ed543122-c4b2-499b-efa3-7260d3c9beeb"
      },
      "outputs": [
        {
          "data": {
            "text/plain": [
              "array(['', '1', '1019', '1057', '1060', '1208', '1700', '1703', '1735',\n",
              "       '1740', '1750', '1780', '1788', '1790', '1794', '1795', '1796',\n",
              "       '1799', '1800', '1802', '1803', '1804', '1805', '1807', '1808',\n",
              "       '1809', '1810', '1811', '1812', '1815', '1816', '1817', '1818',\n",
              "       '1820', '1822', '1823', '1824', '1825', '1828', '1829', '1830',\n",
              "       '1831', '1832', '1834', '1835', '1836', '1840', '1842', '1843',\n",
              "       '1844', '1845', '1846', '1847', '1848', '1850', '1851', '1852',\n",
              "       '1853', '1854', '1855', '1856', '1857', '1858', '1859', '1860',\n",
              "       '1861', '1862', '1863', '1864', '1865', '1866', '1867', '1868',\n",
              "       '1869', '1870', '1871', '1872', '1873', '1874', '1875', '1876',\n",
              "       '1877', '1878', '1879', '1880', '1881', '1882', '1883', '1884',\n",
              "       '1885', '1886', '1887', '1888', '1889', '1890', '1891', '1892',\n",
              "       '1893', '1894', '1895', '1896', '1897', '1898', '1899', '1900',\n",
              "       '1901', '1902', '1903', '1904', '1905', '1906', '1907', '1908',\n",
              "       '1909', '1910', '1911', '1912', '1913', '1914', '1915', '1916',\n",
              "       '1917', '1918', '1919', '1920', '1921', '1922', '1923', '1924',\n",
              "       '1925', '1926', '1927', '1928', '1929', '1930', '1931', '1932',\n",
              "       '1933', '1934', '1935', '1936', '1937', '1938', '1939', '1940',\n",
              "       '1941', '1942', '1943', '1944', '1945', '1946', '1947', '1948',\n",
              "       '1949', '1950', '1951', '1952', '1953', '1954', '1955', '1956',\n",
              "       '1957', '1958', '1959', '1960', '1961', '1962', '1963', '1964',\n",
              "       '1965', '1966', '1967', '1968', '1969', '1970', '1971', '1972',\n",
              "       '1973', '1974', '1975', '1976', '1977', '1978', '1979', '1980',\n",
              "       '1981', '1982', '1983', '1984', '1985', '1986', '1987', '1988',\n",
              "       '1989', '1990', '1991', '1992', '1993', '1994', '1995', '1996',\n",
              "       '1997', '1998', '1999', '2000', '2001', '2002', '2003', '2004',\n",
              "       '2005', '2006', '2007', '2008', '2009', '2010', '2011', '2012',\n",
              "       '2013', '2014', '2015', '2016', '2017', '2018', '2019', '2020',\n",
              "       '2021', '2022', '2025', '559990649990', 'No Data', 'None'],\n",
              "      dtype=object)"
            ]
          },
          "execution_count": 78,
          "metadata": {},
          "output_type": "execute_result"
        }
      ],
      "source": [
        "realty_data['Year built'].sort_values().unique()"
      ]
    },
    {
      "cell_type": "code",
      "execution_count": null,
      "id": "8361cced",
      "metadata": {
        "id": "8361cced"
      },
      "outputs": [],
      "source": [
        "# Заменим кавычки на no date\n",
        "realty_data['Year built'] = realty_data['Year built'].str.replace('^\\s*$','no date', regex=True)\n",
        "# Заменим некорректные значения на no date\n",
        "mask= realty_data['Year built'].isin(['','1','1208','559990649990','2025','No Data','None'])\n",
        "realty_data.loc[mask,'Year built'] = 'no date'\n",
        "\n",
        "\n",
        "# Исправим некорректно написанные значения\n",
        "realty_data.loc[realty_data['Year built']=='1019','Year built'] = '1919'\n",
        "realty_data.loc[realty_data['Year built']=='1057','Year built'] = '1957'\n",
        "realty_data.loc[realty_data['Year built']=='1060','Year built'] = '1960'"
      ]
    },
    {
      "cell_type": "code",
      "execution_count": null,
      "id": "fcc5a70f",
      "metadata": {
        "id": "fcc5a70f",
        "outputId": "b0136392-6a7d-441a-a19b-cc8a148ad17c"
      },
      "outputs": [
        {
          "data": {
            "text/plain": [
              "array(['1700', '1703', '1735', '1740', '1750', '1780', '1788', '1790',\n",
              "       '1794', '1795', '1796', '1799', '1800', '1802', '1803', '1804',\n",
              "       '1805', '1807', '1808', '1809', '1810', '1811', '1812', '1815',\n",
              "       '1816', '1817', '1818', '1820', '1822', '1823', '1824', '1825',\n",
              "       '1828', '1829', '1830', '1831', '1832', '1834', '1835', '1836',\n",
              "       '1840', '1842', '1843', '1844', '1845', '1846', '1847', '1848',\n",
              "       '1850', '1851', '1852', '1853', '1854', '1855', '1856', '1857',\n",
              "       '1858', '1859', '1860', '1861', '1862', '1863', '1864', '1865',\n",
              "       '1866', '1867', '1868', '1869', '1870', '1871', '1872', '1873',\n",
              "       '1874', '1875', '1876', '1877', '1878', '1879', '1880', '1881',\n",
              "       '1882', '1883', '1884', '1885', '1886', '1887', '1888', '1889',\n",
              "       '1890', '1891', '1892', '1893', '1894', '1895', '1896', '1897',\n",
              "       '1898', '1899', '1900', '1901', '1902', '1903', '1904', '1905',\n",
              "       '1906', '1907', '1908', '1909', '1910', '1911', '1912', '1913',\n",
              "       '1914', '1915', '1916', '1917', '1918', '1919', '1920', '1921',\n",
              "       '1922', '1923', '1924', '1925', '1926', '1927', '1928', '1929',\n",
              "       '1930', '1931', '1932', '1933', '1934', '1935', '1936', '1937',\n",
              "       '1938', '1939', '1940', '1941', '1942', '1943', '1944', '1945',\n",
              "       '1946', '1947', '1948', '1949', '1950', '1951', '1952', '1953',\n",
              "       '1954', '1955', '1956', '1957', '1958', '1959', '1960', '1961',\n",
              "       '1962', '1963', '1964', '1965', '1966', '1967', '1968', '1969',\n",
              "       '1970', '1971', '1972', '1973', '1974', '1975', '1976', '1977',\n",
              "       '1978', '1979', '1980', '1981', '1982', '1983', '1984', '1985',\n",
              "       '1986', '1987', '1988', '1989', '1990', '1991', '1992', '1993',\n",
              "       '1994', '1995', '1996', '1997', '1998', '1999', '2000', '2001',\n",
              "       '2002', '2003', '2004', '2005', '2006', '2007', '2008', '2009',\n",
              "       '2010', '2011', '2012', '2013', '2014', '2015', '2016', '2017',\n",
              "       '2018', '2019', '2020', '2021', '2022', 'no date'], dtype=object)"
            ]
          },
          "execution_count": 80,
          "metadata": {},
          "output_type": "execute_result"
        }
      ],
      "source": [
        "realty_data['Year built'].sort_values().unique()"
      ]
    },
    {
      "cell_type": "markdown",
      "id": "6b38edda",
      "metadata": {
        "id": "6b38edda"
      },
      "source": [
        "**Remodeled year** *год реконструкции*"
      ]
    },
    {
      "cell_type": "code",
      "execution_count": null,
      "id": "452377c8",
      "metadata": {
        "id": "452377c8"
      },
      "outputs": [],
      "source": [
        "#удаляем кавычки вокруг чисел\n",
        "realty_data['Remodeled year'] = realty_data['Remodeled year'].str.replace(\"'\",'', regex=True)"
      ]
    },
    {
      "cell_type": "code",
      "execution_count": null,
      "id": "61723b79",
      "metadata": {
        "id": "61723b79",
        "outputId": "a1f80600-6aaf-439e-fe8e-083e9ff85374"
      },
      "outputs": [
        {
          "data": {
            "text/plain": [
              "array(['', '0', '1111', '1738', '1800', '1845', '1846', '1853', '1862',\n",
              "       '1869', '1870', '1874', '1876', '1877', '1880', '1883', '1884',\n",
              "       '1885', '1886', '1887', '1888', '1889', '1890', '1891', '1892',\n",
              "       '1893', '1894', '1895', '1896', '1897', '1898', '1899', '1900',\n",
              "       '1901', '1902', '1903', '1904', '1905', '1906', '1907', '1908',\n",
              "       '1909', '1910', '1911', '1912', '1913', '1914', '1915', '1916',\n",
              "       '1917', '1918', '1919', '1920', '1921', '1922', '1923', '1924',\n",
              "       '1925', '1926', '1927', '1928', '1929', '1930', '1931', '1932',\n",
              "       '1933', '1934', '1935', '1936', '1937', '1938', '1939', '1940',\n",
              "       '1941', '1942', '1943', '1944', '1945', '1946', '1947', '1948',\n",
              "       '1949', '1950', '1951', '1952', '1953', '1954', '1955', '1956',\n",
              "       '1957', '1958', '1959', '1960', '1961', '1962', '1963', '1964',\n",
              "       '1965', '1966', '1967', '1968', '1969', '1970', '1971', '1972',\n",
              "       '1973', '1974', '1975', '1976', '1977', '1978', '1979', '1980',\n",
              "       '1981', '1982', '1983', '1984', '1985', '1986', '1987', '1988',\n",
              "       '1989', '1990', '1991', '1992', '1993', '1994', '1995', '1996',\n",
              "       '1997', '1998', '1999', '2000', '2001', '2002', '2003', '2004',\n",
              "       '2005', '2006', '2007', '2008', '2009', '2010', '2011', '2012',\n",
              "       '2013', '2014', '2015', '2016', '2017', '2018', '2019', '2020',\n",
              "       '2021', 'None'], dtype=object)"
            ]
          },
          "execution_count": 82,
          "metadata": {},
          "output_type": "execute_result"
        }
      ],
      "source": [
        "realty_data['Remodeled year'].sort_values().unique()"
      ]
    },
    {
      "cell_type": "code",
      "execution_count": null,
      "id": "22b6ebd8",
      "metadata": {
        "id": "22b6ebd8"
      },
      "outputs": [],
      "source": [
        "#Заменяем некоректные значения на None\n",
        "\n",
        "mask_y= realty_data['Remodeled year'].isin(['', '0', '1111'])\n",
        "realty_data.loc[mask_y,'Remodeled year'] = 'None'"
      ]
    },
    {
      "cell_type": "code",
      "execution_count": null,
      "id": "5a3e40c2",
      "metadata": {
        "id": "5a3e40c2",
        "outputId": "6fd2d82f-710c-427f-8b2a-221522c3fa20"
      },
      "outputs": [
        {
          "name": "stdout",
          "output_type": "stream",
          "text": [
            "Процент None: 60.02%\n",
            "Количество None: 226144\n"
          ]
        }
      ],
      "source": [
        "# посмотрим на колличество None\n",
        "print(f\"Процент None: {round(realty_data[realty_data['Remodeled year']=='None'].shape[0]/realty_data.shape[0]*100, 2)}%\")\n",
        "print(f\"Количество None: {realty_data.loc[realty_data['Remodeled year']=='None', 'Remodeled year'].count()}\")"
      ]
    },
    {
      "cell_type": "markdown",
      "id": "cb36b352",
      "metadata": {
        "id": "cb36b352"
      },
      "source": [
        "Колонка 'Remodeled year' содержит только около 140 000  из 377000 строк не имеющих значение  Nope это около 40%.Удаляем данный признак."
      ]
    },
    {
      "cell_type": "code",
      "execution_count": null,
      "id": "ffa5baa3",
      "metadata": {
        "id": "ffa5baa3"
      },
      "outputs": [],
      "source": [
        "realty_data = realty_data.drop('Remodeled year', axis=1)"
      ]
    },
    {
      "cell_type": "markdown",
      "id": "cc122787",
      "metadata": {
        "id": "cc122787"
      },
      "source": [
        "**Heating**  *отопление*"
      ]
    },
    {
      "cell_type": "code",
      "execution_count": null,
      "id": "b6faacc8",
      "metadata": {
        "id": "b6faacc8",
        "outputId": "291379ac-6b0a-4c11-813d-10b050c4b343"
      },
      "outputs": [
        {
          "data": {
            "text/plain": [
              "Heating\n",
              "'forced air'                                                      134306\n",
              "''                                                                105490\n",
              "'other'                                                            29622\n",
              "'electric'                                                         10216\n",
              "'gas'                                                               9295\n",
              "                                                                   ...  \n",
              "'mini/split ac unit-master'                                            1\n",
              "'zoned heating, wall unit heating, forced air heating'                 1\n",
              "'baseboard, spacewallunit'                                             1\n",
              "'hot air, stove-pellet'                                                1\n",
              "'baseboard, hot water, programmable thermostat, radiant floor'         1\n",
              "Name: count, Length: 1912, dtype: int64"
            ]
          },
          "execution_count": 86,
          "metadata": {},
          "output_type": "execute_result"
        }
      ],
      "source": [
        "realty_data['Heating'].str.lower().value_counts()"
      ]
    },
    {
      "cell_type": "markdown",
      "source": [
        "Признак имеет  много пропусков и с большой вероятностью пропуски это отсутствие отпления"
      ],
      "metadata": {
        "id": "2gFa48KaAaZU"
      },
      "id": "2gFa48KaAaZU"
    },
    {
      "cell_type": "code",
      "execution_count": null,
      "id": "6918853d",
      "metadata": {
        "id": "6918853d"
      },
      "outputs": [],
      "source": [
        "# удаляем лишние кавычки\n",
        "realty_data['Heating'] = realty_data['Heating'].str.replace(\"'\",'', regex=True)\n",
        "realty_data['Heating'] = realty_data['Heating'].apply(lambda x: True if x not in ['', 'no data', 'None', 'none'] else False)"
      ]
    },
    {
      "cell_type": "code",
      "execution_count": null,
      "id": "6c8f897b",
      "metadata": {
        "id": "6c8f897b",
        "outputId": "ae0ca5a3-ed68-4660-cf6a-998a4bde8652"
      },
      "outputs": [
        {
          "name": "stdout",
          "output_type": "stream",
          "text": [
            "Количество пропущенных значений: 0\n",
            "Количество уникальных значений: 2\n",
            "Уникальные значения: [False, True]\n"
          ]
        }
      ],
      "source": [
        "# выполним проверку\n",
        "missing_values_Heating = realty_data['Heating'].isna().sum()\n",
        "\n",
        "print(f\"Количество пропущенных значений: {missing_values_Heating}\\n\"\n",
        "f\"Количество уникальных значений: {realty_data['Heating'].nunique()}\\n\"\n",
        "f\"Уникальные значения: {list(realty_data['Heating'].sort_values().unique())}\")"
      ]
    },
    {
      "cell_type": "markdown",
      "id": "512c0c59",
      "metadata": {
        "id": "512c0c59"
      },
      "source": [
        "**Cooling** *система охлаждения*"
      ]
    },
    {
      "cell_type": "code",
      "execution_count": null,
      "id": "71748add",
      "metadata": {
        "id": "71748add",
        "outputId": "6a42e389-4286-45b3-8fbe-259633cf94c3"
      },
      "outputs": [
        {
          "data": {
            "text/plain": [
              "Cooling\n",
              "'central'                                             158741\n",
              "''                                                    120272\n",
              "'central air'                                          14345\n",
              "'no data'                                              10615\n",
              "'has cooling'                                           9730\n",
              "                                                       ...  \n",
              "'zoned cooling, ceiling fan(s)'                            1\n",
              "'central, multiunits'                                      1\n",
              "'central, electric, fans - attic'                          1\n",
              "'electric heating, individual heating'                     1\n",
              "'central a/c (gas), central heat (gas), heat pump'         1\n",
              "Name: count, Length: 1436, dtype: int64"
            ]
          },
          "execution_count": 89,
          "metadata": {},
          "output_type": "execute_result"
        }
      ],
      "source": [
        "realty_data['Cooling'].str.lower().value_counts()"
      ]
    },
    {
      "cell_type": "code",
      "execution_count": null,
      "id": "6f373333",
      "metadata": {
        "id": "6f373333"
      },
      "outputs": [],
      "source": [
        "realty_data['Cooling'] = realty_data['Cooling'].str.replace(\"'\",'', regex=True)\n",
        "realty_data['Cooling'] = realty_data['Cooling'].apply(lambda x: True if x not in ['', 'no data', 'None', 'none'] else False)"
      ]
    },
    {
      "cell_type": "markdown",
      "source": [
        "Признак имеет  много пропусков и с большой вероятностью пропуски это отсутствие системы охлаждения"
      ],
      "metadata": {
        "id": "kImBtCJSAmRf"
      },
      "id": "kImBtCJSAmRf"
    },
    {
      "cell_type": "markdown",
      "id": "f7653193",
      "metadata": {
        "id": "f7653193"
      },
      "source": [
        "**Parking** *парковка*"
      ]
    },
    {
      "cell_type": "code",
      "execution_count": null,
      "id": "e4be8fa7",
      "metadata": {
        "id": "e4be8fa7",
        "outputId": "87fc575b-2b6e-401f-ed5f-039d6b8a08fe"
      },
      "outputs": [
        {
          "data": {
            "text/plain": [
              "Parking\n",
              "''                                                                                                                                    171517\n",
              "'attached garage'                                                                                                                      70748\n",
              "'2 spaces'                                                                                                                             28060\n",
              "'1 space'                                                                                                                              14252\n",
              "'no data'                                                                                                                              13332\n",
              "                                                                                                                                       ...  \n",
              "'boat, driveway, garage door opener, garage faces rear, oversized, workshop in garage'                                                     1\n",
              "'assigned, open, under building'                                                                                                           1\n",
              "'assigned parking space - 1, parking garage, parking space - 1'                                                                            1\n",
              "'paved parking, driveway, off street'                                                                                                      1\n",
              "'deed restrictions, fitness, gated community, golf carts ok, no truck/rv/motorcycle parking, pool, special community restrictions'         1\n",
              "Name: count, Length: 3320, dtype: int64"
            ]
          },
          "execution_count": 91,
          "metadata": {},
          "output_type": "execute_result"
        }
      ],
      "source": [
        "realty_data['Parking'].str.lower().value_counts()"
      ]
    },
    {
      "cell_type": "markdown",
      "source": [
        "Признак имеет  много пропусков и с большой вероятностью пропуски это отсутствие паркинга"
      ],
      "metadata": {
        "id": "7PfcaF7WA01P"
      },
      "id": "7PfcaF7WA01P"
    },
    {
      "cell_type": "code",
      "execution_count": null,
      "id": "7db4fcee",
      "metadata": {
        "id": "7db4fcee"
      },
      "outputs": [],
      "source": [
        "# удалим лишние кавычки\n",
        "realty_data['Parking'] = realty_data['Parking'].str.replace(\"'\",'', regex=True)\n",
        "realty_data['Parking'] = realty_data['Parking'].apply(lambda x: True if x not in ['', 'no data', 'None', 'none','0'] else False)"
      ]
    },
    {
      "cell_type": "markdown",
      "id": "e491951b",
      "metadata": {
        "id": "e491951b"
      },
      "source": [
        "**lotsize** *размер участка*"
      ]
    },
    {
      "cell_type": "code",
      "execution_count": null,
      "id": "04ad7215",
      "metadata": {
        "id": "04ad7215",
        "outputId": "6c5e04d7-fca7-43de-cf64-a447a3726c62"
      },
      "outputs": [
        {
          "data": {
            "text/plain": [
              "lotsize\n",
              "''                  33055\n",
              "none                28346\n",
              "'—'                 25073\n",
              "'no data'            5329\n",
              "'-- sqft lot'        3819\n",
              "                    ...  \n",
              "'4,396 sqft'            1\n",
              "'8,661 sqft'            1\n",
              "'5,591 sqft'            1\n",
              "'5,716 sq. ft.'         1\n",
              "'7,084 sqft lot'        1\n",
              "Name: count, Length: 36599, dtype: int64"
            ]
          },
          "execution_count": 93,
          "metadata": {},
          "output_type": "execute_result"
        }
      ],
      "source": [
        "realty_data['lotsize'].str.lower().value_counts()"
      ]
    },
    {
      "cell_type": "code",
      "execution_count": null,
      "id": "6a02a2bc",
      "metadata": {
        "id": "6a02a2bc"
      },
      "outputs": [],
      "source": [
        "#Заменяем некоректные значения на None\n",
        "realty_data['lotsize'] = realty_data['lotsize'].str.replace(\"'\",'', regex=True)\n",
        "mask_lot= realty_data['lotsize'].isin(['', 'none', '—','no data','-- sqft lot'])\n",
        "realty_data.loc[mask_lot,'lotsize'] = 'None'"
      ]
    },
    {
      "cell_type": "markdown",
      "id": "da3fcfe7",
      "metadata": {
        "id": "da3fcfe7"
      },
      "source": [
        "\n",
        "Удаляем данный признак так как он содержит много пропусков и некорректную информацию,которую невозможно перевести в значение lotsize"
      ]
    },
    {
      "cell_type": "code",
      "execution_count": null,
      "id": "e93ba23b",
      "metadata": {
        "id": "e93ba23b"
      },
      "outputs": [],
      "source": [
        "realty_data.drop('lotsize', axis=1, inplace=True)"
      ]
    },
    {
      "cell_type": "markdown",
      "id": "6ff504d0",
      "metadata": {
        "id": "6ff504d0"
      },
      "source": [
        "**Price/sqft** *цена/квадратный фут*"
      ]
    },
    {
      "cell_type": "markdown",
      "id": "0a578c16",
      "metadata": {
        "id": "0a578c16"
      },
      "source": [
        "Признак Price/sqft напрямую зависит от целевого признака,поэтому удаляем."
      ]
    },
    {
      "cell_type": "code",
      "execution_count": null,
      "id": "e6bdae64",
      "metadata": {
        "id": "e6bdae64"
      },
      "outputs": [],
      "source": [
        "realty_data= realty_data.drop('Price/sqft', axis=1)"
      ]
    },
    {
      "cell_type": "markdown",
      "id": "00d5e57d",
      "metadata": {
        "id": "00d5e57d"
      },
      "source": [
        "**fireplace** *камин*"
      ]
    },
    {
      "cell_type": "code",
      "execution_count": null,
      "id": "012569c7",
      "metadata": {
        "id": "012569c7",
        "outputId": "b0c2198c-6da1-4a6d-f822-e6b53407680a"
      },
      "outputs": [
        {
          "data": {
            "text/plain": [
              "fireplace\n",
              "yes                                                                     71209\n",
              "1                                                                       14486\n",
              "2                                                                        2418\n",
              "not applicable                                                           1993\n",
              "fireplace                                                                 847\n",
              "                                                                        ...  \n",
              "free-standing, insert, wood                                                 1\n",
              "wood burning, attached fireplace doors/screen, electric, gas starter        1\n",
              "one, living room                                                            1\n",
              "familyrm, great room, living room                                           1\n",
              "ceiling fan, smapl, utility connection, walk-in closets                     1\n",
              "Name: count, Length: 1651, dtype: int64"
            ]
          },
          "execution_count": 97,
          "metadata": {},
          "output_type": "execute_result"
        }
      ],
      "source": [
        "realty_data['fireplace'].str.lower().value_counts()"
      ]
    },
    {
      "cell_type": "markdown",
      "source": [
        "Признак имеет много пропусков и с большой вероятностью пропуски это отсутствие камина"
      ],
      "metadata": {
        "id": "YBvOG02AB9B_"
      },
      "id": "YBvOG02AB9B_"
    },
    {
      "cell_type": "code",
      "execution_count": null,
      "id": "ee3de2b3",
      "metadata": {
        "id": "ee3de2b3"
      },
      "outputs": [],
      "source": [
        "realty_data['fireplace'] = realty_data['fireplace'].apply(lambda x: True if x not in ['', 'no data', 'None', 'none', '0', 'not applicable', 'no'] and not pd.isna(x) else False)"
      ]
    },
    {
      "cell_type": "markdown",
      "id": "616b881d",
      "metadata": {
        "id": "616b881d"
      },
      "source": [
        "**City** *город*"
      ]
    },
    {
      "cell_type": "code",
      "execution_count": null,
      "id": "7484376d",
      "metadata": {
        "id": "7484376d",
        "outputId": "2ddedc51-dc0c-46d4-b9a7-1cf145f5edce"
      },
      "outputs": [
        {
          "name": "stdout",
          "output_type": "stream",
          "text": [
            "Количество пропущенных значений: 32\n",
            "Количество уникальных значений: 1909\n",
            "Уникальные значения: [' ', '--', 'Abilene', 'Abingdon', 'Accokeek', 'Adams', 'Addison', 'Adel', 'Adelphi', 'Advance']\n"
          ]
        }
      ],
      "source": [
        "# Приведем названия к единому виду(с заглавной буквы)\n",
        "realty_data['city'] = realty_data['city'].str.title()\n",
        "\n",
        "missing_values_count = realty_data['city'].isna().sum()\n",
        "\n",
        "\n",
        "print(f\"Количество пропущенных значений: {missing_values_count}\\n\"\n",
        "f\"Количество уникальных значений: {realty_data['city'].nunique()}\\n\"\n",
        "f\"Уникальные значения: {list(realty_data['city'].sort_values().unique()[:10])}\")"
      ]
    },
    {
      "cell_type": "code",
      "execution_count": null,
      "id": "89fc58bf",
      "metadata": {
        "id": "89fc58bf"
      },
      "outputs": [],
      "source": [
        "# Удаляем  слово Сity в названии\n",
        "realty_data['city'] = realty_data['city'].str.replace(' City', '')\n",
        "\n",
        "#удаляем строки, содержащие ' ', '--' или NaN в столбце 'city'\n",
        "realty_data = realty_data[~realty_data['city'].isin([' ', '--', np.nan])]"
      ]
    },
    {
      "cell_type": "markdown",
      "id": "83b001a1",
      "metadata": {
        "id": "83b001a1"
      },
      "source": [
        "**schools** *школы*"
      ]
    },
    {
      "cell_type": "code",
      "execution_count": null,
      "id": "ef6f8a81",
      "metadata": {
        "id": "ef6f8a81",
        "outputId": "0a64fa67-cc64-4bc4-ddae-e357cd49a218"
      },
      "outputs": [
        {
          "data": {
            "text/plain": [
              "\"[{'rating': ['9/10', '9/10', '10/10', '9/10'], 'data': {'Distance': ['1.05mi', '0.1mi', '1.05mi', '0.81mi'], 'Grades': ['5-6', 'PK-4', '7-8', '9-12']}, 'name': ['Mcculloch Intermediate School', 'Bradfield Elementary School', 'Highland Park Middle School', 'Highland Park High School']}]\""
            ]
          },
          "execution_count": 125,
          "metadata": {},
          "output_type": "execute_result"
        }
      ],
      "source": [
        "realty_data.schools[3]"
      ]
    },
    {
      "cell_type": "markdown",
      "id": "0e66e04a",
      "metadata": {
        "id": "0e66e04a"
      },
      "source": [
        "Данный признак содержит такие данные как:\n",
        "                                         \n",
        "                                          рейтинги школ,\n",
        "\n",
        "                                          растояние до школы,\n",
        "                                          \n",
        "                                          классы обучения,\n",
        "                                          \n",
        "                                          название школы.\n",
        "\n",
        "Классы обучения и название учебного заведения не дают полезной информации.А рейтинг школы и расстояние до школы могут стать нужными признаками(используются в американских агенствах по продаже недвижимости)"
      ]
    },
    {
      "cell_type": "code",
      "execution_count": null,
      "id": "2cbcd9c7",
      "metadata": {
        "id": "2cbcd9c7"
      },
      "outputs": [],
      "source": [
        "# Средний рейтинг\n",
        "def process_rating(rating):\n",
        "    rating = rating[0].replace('/10', '')\n",
        "    extracted_number = [float(num) for num in rating if num.isdigit()]\n",
        "    average_rating = np.average(extracted_number) if extracted_number else -1\n",
        "    return round(average_rating, 1)\n",
        "\n",
        "a_rating = (realty_data.schools.str.findall(r\"\\brating': ([\\s\\S]+?), 'data\\b\").apply(lambda x: process_rating(x)))\n",
        "\n",
        "# Создадим признак school_rating _mean в нашем наборе данных. Пропуски заполним -1\n",
        "realty_data['school_rating _mean'] = a_rating"
      ]
    },
    {
      "cell_type": "code",
      "execution_count": null,
      "id": "fa65c4d2",
      "metadata": {
        "id": "fa65c4d2"
      },
      "outputs": [],
      "source": [
        "# Расчет минимального расстояния до школы\n",
        "s_distance = realty_data.schools.str.findall(r\"\\bDistance': ([\\s\\S]+?), 'Grades\\b\")\n",
        "s_distance = s_distance.apply(lambda x: x[0])\n",
        "s_distance = s_distance.str.replace('[a-zA-Z]','', regex=True)\n",
        "# Удаление всех символов алфавита из расстояний\n",
        "s_distance = s_distance.str.findall(r'\\b([0-9]+.[0-9]+)')\n",
        "s_distance = s_distance.apply(lambda x: [float(i) for i in x])\n",
        "\n",
        "# Нахождение минимального значения в каждом списке s_distance, и возвращение -1, если длина списка равна 0\n",
        "school_dist_min = s_distance.apply(lambda x: -1 if len(x)==0 else min(x))\n",
        "\n",
        "\n",
        "realty_data['school_dist_min'] = school_dist_min"
      ]
    },
    {
      "cell_type": "code",
      "execution_count": null,
      "id": "12041aa1",
      "metadata": {
        "id": "12041aa1"
      },
      "outputs": [],
      "source": [
        "realty_data.drop('schools', axis=1, inplace=True)"
      ]
    },
    {
      "cell_type": "markdown",
      "id": "b1b1ff5d",
      "metadata": {
        "id": "b1b1ff5d"
      },
      "source": [
        "**sqft**  *Площадь в футах *"
      ]
    },
    {
      "cell_type": "code",
      "execution_count": null,
      "id": "bbe6033a",
      "metadata": {
        "id": "bbe6033a",
        "outputId": "fac48020-d8dc-4ee3-e51e-3be57a5bf333"
      },
      "outputs": [
        {
          "name": "stdout",
          "output_type": "stream",
          "text": [
            "Количество пропущенных значений: 40509\n",
            "Количество уникальных значений: 21097\n",
            "Уникальные значения: ['--', '-- sqft', '0', '1', '1 sqft', '10 sqft', '100', '100 sqft', '1000', '1000 sqft', '10000', '10000 sqft', '100000 sqft', '10001', '100056 sqft', '10008 sqft', '10009', '10009 sqft', '1001', '1001 sqft']\n"
          ]
        }
      ],
      "source": [
        "missing_values_sqft = realty_data['sqft'].isna().sum()\n",
        "\n",
        "print(f\"Количество пропущенных значений: {missing_values_sqft}\\n\"\n",
        "f\"Количество уникальных значений: {realty_data['sqft'].nunique()}\\n\"\n",
        "f\"Уникальные значения: {list(realty_data['sqft'].sort_values().unique()[:20])}\")"
      ]
    },
    {
      "cell_type": "code",
      "execution_count": null,
      "id": "72842876",
      "metadata": {
        "id": "72842876"
      },
      "outputs": [],
      "source": [
        "realty_data['sqft'] = realty_data['sqft'].str.replace(',', '')"
      ]
    },
    {
      "cell_type": "code",
      "execution_count": null,
      "id": "d928fd51",
      "metadata": {
        "id": "d928fd51"
      },
      "outputs": [],
      "source": [
        "realty_data1 = realty_data.copy()"
      ]
    },
    {
      "cell_type": "code",
      "execution_count": null,
      "id": "cff0507f",
      "metadata": {
        "id": "cff0507f"
      },
      "outputs": [],
      "source": [
        "def extract_number(x):\n",
        "    # Преобразуем строку x в тип str, если она не already str\n",
        "    x = str(x) if not isinstance(x, str) else x\n",
        "    # Используем re.findall для поиска всех целых чисел в строке x\n",
        "    numbers = re.findall('\\d+', x)\n",
        "    # Возвращаем первое найденное число, преобразованное в int, или None, если чисел нет\n",
        "    return int(numbers[0]) if numbers else None\n",
        "\n",
        "# Применяем функцию  и обновляем значения\n",
        "realty_data1.loc[:, 'sqft'] = realty_data1['sqft'].apply(extract_number)"
      ]
    },
    {
      "cell_type": "code",
      "execution_count": null,
      "id": "001da6cc",
      "metadata": {
        "id": "001da6cc"
      },
      "outputs": [],
      "source": [
        "realty_data1['sqft'] = realty_data1['sqft'].fillna(0)"
      ]
    },
    {
      "cell_type": "code",
      "execution_count": null,
      "id": "8c43c57d",
      "metadata": {
        "id": "8c43c57d",
        "outputId": "0db4af66-0747-4ce7-83b8-c609f0579248"
      },
      "outputs": [
        {
          "name": "stdout",
          "output_type": "stream",
          "text": [
            "Количество пропущенных значений: 0\n",
            "Количество уникальных значений: 9888\n",
            "Уникальные значения: [0.0, 1.0, 2.0, 3.0, 4.0, 5.0, 6.0, 10.0, 11.0, 12.0, 17.0, 20.0, 22.0, 30.0, 31.0, 33.0, 35.0, 40.0, 41.0, 45.0]\n"
          ]
        }
      ],
      "source": [
        "missing_values_sqft = realty_data1['sqft'].isna().sum()\n",
        "\n",
        "print(f\"Количество пропущенных значений: {missing_values_sqft}\\n\"\n",
        "f\"Количество уникальных значений: {realty_data1['sqft'].nunique()}\\n\"\n",
        "f\"Уникальные значения: {list(realty_data1['sqft'].sort_values().unique()[:20])}\")"
      ]
    },
    {
      "cell_type": "markdown",
      "id": "0f564b2a",
      "metadata": {
        "id": "0f564b2a"
      },
      "source": [
        "**zipcode** *почтовый индекс *"
      ]
    },
    {
      "cell_type": "code",
      "execution_count": null,
      "id": "3a8f74dd",
      "metadata": {
        "id": "3a8f74dd",
        "outputId": "49fbe91f-ef7e-442c-db8b-025f7fa87b81"
      },
      "outputs": [
        {
          "name": "stdout",
          "output_type": "stream",
          "text": [
            "Количество пропущенных значений: 0\n",
            "Количество уникальных значений: 4549\n",
            "Уникальные значения: ['--', '0', '00000', '02108', '02109', '02110', '02111', '02113', '02114', '02115', '02116', '02118', '02119', '02120', '02121', '02122', '02124', '02125', '02126', '02127', '02128', '02129', '02130', '02131', '02132', '02134', '02135', '02136', '02199', '02210', '02215', '02467', '04666', '04901', '04937', '04957', '04963', '05345', '05441', '05441-4400', '05443', '05444', '05445', '05448', '05450', '05454', '05455', '05456', '05457', '05461', '05462', '05464', '05469', '05472', '05473', '05478', '05482', '05483', '05487', '05488', '05491', '05642', '07004', '07004-1106', '07004-1300', '07004-1413', '07004-1528', '07004-1607', '07004-1809', '07004-1878', '07004-1935', '07004-2116', '07004-2137', '07004-2214', '08701', '10001', '10002', '10003', '10004', '10005', '10006', '10007', '10009', '10010', '10011', '10012', '10013', '10014', '10016', '10017', '10018', '10019', '10021', '10022', '10023', '10024', '10025', '10026', '10027', '10028', '10029', '10030', '10031', '10032', '10033', '10034', '10035', '10036', '10037', '10038', '10039', '10040', '10044', '10065', '10069', '10075', '10103', '10128', '10129', '10280', '10281', '10282', '10301', '10302', '10303', '10304', '10305', '10306', '10307', '10308', '10309', '10310', '10312', '10314', '10451', '10452', '10453', '10454', '10455', '10456', '10457', '10458', '10459', '10460', '10461', '10462', '10463', '10464', '10465', '10466', '10467', '10468', '10469', '10470', '10471', '10472', '10473', '10474', '10475', '10583', '10701', '10703', '10704', '10705', '10706', '10707', '10708', '10710', '11001', '11004', '11005', '11020', '1103', '1104', '11040', '1105', '1106', '1107', '1108', '1109', '11101', '11102', '11103', '11104', '11105', '11106', '11109', '1118', '1119', '11201', '11203', '11204', '11205', '11206', '11207', '11208', '11209', '11210', '11211', '11212']\n"
          ]
        }
      ],
      "source": [
        "missing_values_zipcode = realty_data1['zipcode'].isna().sum()\n",
        "\n",
        "print(f\"Количество пропущенных значений: {missing_values_zipcode}\\n\"\n",
        "f\"Количество уникальных значений: {realty_data1['zipcode'].nunique()}\\n\"\n",
        "f\"Уникальные значения: {list(realty_data1['zipcode'].sort_values().unique()[:200])}\")"
      ]
    },
    {
      "cell_type": "code",
      "execution_count": null,
      "id": "649f0e07",
      "metadata": {
        "id": "649f0e07",
        "outputId": "fbc972cf-3e6e-469c-dbd6-67eec9a2b0fd"
      },
      "outputs": [
        {
          "data": {
            "text/html": [
              "<div>\n",
              "<style scoped>\n",
              "    .dataframe tbody tr th:only-of-type {\n",
              "        vertical-align: middle;\n",
              "    }\n",
              "\n",
              "    .dataframe tbody tr th {\n",
              "        vertical-align: top;\n",
              "    }\n",
              "\n",
              "    .dataframe thead th {\n",
              "        text-align: right;\n",
              "    }\n",
              "</style>\n",
              "<table border=\"1\" class=\"dataframe\">\n",
              "  <thead>\n",
              "    <tr style=\"text-align: right;\">\n",
              "      <th></th>\n",
              "      <th>status</th>\n",
              "      <th>street</th>\n",
              "      <th>baths</th>\n",
              "      <th>fireplace</th>\n",
              "      <th>city</th>\n",
              "      <th>sqft</th>\n",
              "      <th>zipcode</th>\n",
              "      <th>beds</th>\n",
              "      <th>state</th>\n",
              "      <th>stories</th>\n",
              "      <th>target</th>\n",
              "      <th>Type</th>\n",
              "      <th>pool</th>\n",
              "      <th>Year built</th>\n",
              "      <th>Heating</th>\n",
              "      <th>Cooling</th>\n",
              "      <th>Parking</th>\n",
              "      <th>school_rating _mean</th>\n",
              "      <th>school_dist_min</th>\n",
              "    </tr>\n",
              "  </thead>\n",
              "  <tbody>\n",
              "    <tr>\n",
              "      <th>30258</th>\n",
              "      <td>Active</td>\n",
              "      <td>Gates Canyon Rd</td>\n",
              "      <td>2.0</td>\n",
              "      <td>False</td>\n",
              "      <td>Vacaville</td>\n",
              "      <td>0.0</td>\n",
              "      <td>0</td>\n",
              "      <td>NaN</td>\n",
              "      <td>CA</td>\n",
              "      <td>NaN</td>\n",
              "      <td>$380,000</td>\n",
              "      <td>land</td>\n",
              "      <td>False</td>\n",
              "      <td>no date</td>\n",
              "      <td>False</td>\n",
              "      <td>False</td>\n",
              "      <td>False</td>\n",
              "      <td>3.7</td>\n",
              "      <td>6.50</td>\n",
              "    </tr>\n",
              "    <tr>\n",
              "      <th>83514</th>\n",
              "      <td>Active</td>\n",
              "      <td>Cornejo Ricardo Descalzi</td>\n",
              "      <td>2.0</td>\n",
              "      <td>False</td>\n",
              "      <td>Quito Ecuador</td>\n",
              "      <td>0.0</td>\n",
              "      <td>0</td>\n",
              "      <td>NaN</td>\n",
              "      <td>NY</td>\n",
              "      <td>NaN</td>\n",
              "      <td>470,000</td>\n",
              "      <td>other</td>\n",
              "      <td>False</td>\n",
              "      <td>1995</td>\n",
              "      <td>False</td>\n",
              "      <td>True</td>\n",
              "      <td>False</td>\n",
              "      <td>-1.0</td>\n",
              "      <td>-1.00</td>\n",
              "    </tr>\n",
              "    <tr>\n",
              "      <th>231228</th>\n",
              "      <td>Active</td>\n",
              "      <td>0 N Gopher Canyon Rd</td>\n",
              "      <td>2.0</td>\n",
              "      <td>False</td>\n",
              "      <td>Bonsall</td>\n",
              "      <td>0.0</td>\n",
              "      <td>--</td>\n",
              "      <td>449 acres</td>\n",
              "      <td>CA</td>\n",
              "      <td>NaN</td>\n",
              "      <td>$60,000,000</td>\n",
              "      <td>other</td>\n",
              "      <td>False</td>\n",
              "      <td>no date</td>\n",
              "      <td>False</td>\n",
              "      <td>False</td>\n",
              "      <td>False</td>\n",
              "      <td>5.7</td>\n",
              "      <td>2.90</td>\n",
              "    </tr>\n",
              "    <tr>\n",
              "      <th>235152</th>\n",
              "      <td>other</td>\n",
              "      <td>1744 N Dixie Hwy # 1744</td>\n",
              "      <td>3.0</td>\n",
              "      <td>False</td>\n",
              "      <td>Fort Lauderdale</td>\n",
              "      <td>2043.0</td>\n",
              "      <td>--</td>\n",
              "      <td>3</td>\n",
              "      <td>FL</td>\n",
              "      <td>NaN</td>\n",
              "      <td>$425,000</td>\n",
              "      <td>townhouse</td>\n",
              "      <td>False</td>\n",
              "      <td>2010</td>\n",
              "      <td>True</td>\n",
              "      <td>True</td>\n",
              "      <td>True</td>\n",
              "      <td>5.0</td>\n",
              "      <td>0.50</td>\n",
              "    </tr>\n",
              "    <tr>\n",
              "      <th>305479</th>\n",
              "      <td>Active</td>\n",
              "      <td>000 U.S. Hwy 359</td>\n",
              "      <td>2.0</td>\n",
              "      <td>False</td>\n",
              "      <td>Laredo</td>\n",
              "      <td>243849.0</td>\n",
              "      <td>0</td>\n",
              "      <td>NaN</td>\n",
              "      <td>TX</td>\n",
              "      <td>NaN</td>\n",
              "      <td>$1,740,000</td>\n",
              "      <td>land</td>\n",
              "      <td>False</td>\n",
              "      <td>no date</td>\n",
              "      <td>False</td>\n",
              "      <td>False</td>\n",
              "      <td>False</td>\n",
              "      <td>4.0</td>\n",
              "      <td>7.45</td>\n",
              "    </tr>\n",
              "    <tr>\n",
              "      <th>308133</th>\n",
              "      <td>Active</td>\n",
              "      <td>435 pescador</td>\n",
              "      <td>2.0</td>\n",
              "      <td>False</td>\n",
              "      <td>Foreign Country</td>\n",
              "      <td>1100.0</td>\n",
              "      <td>00000</td>\n",
              "      <td>NaN</td>\n",
              "      <td>OS</td>\n",
              "      <td>NaN</td>\n",
              "      <td>125,000</td>\n",
              "      <td>other</td>\n",
              "      <td>False</td>\n",
              "      <td>1972</td>\n",
              "      <td>False</td>\n",
              "      <td>False</td>\n",
              "      <td>False</td>\n",
              "      <td>-1.0</td>\n",
              "      <td>-1.00</td>\n",
              "    </tr>\n",
              "  </tbody>\n",
              "</table>\n",
              "</div>"
            ],
            "text/plain": [
              "        status                     street  baths  fireplace             city  \\\n",
              "30258   Active            Gates Canyon Rd    2.0      False        Vacaville   \n",
              "83514   Active  Cornejo Ricardo Descalzi     2.0      False    Quito Ecuador   \n",
              "231228  Active       0 N Gopher Canyon Rd    2.0      False          Bonsall   \n",
              "235152   other    1744 N Dixie Hwy # 1744    3.0      False  Fort Lauderdale   \n",
              "305479  Active           000 U.S. Hwy 359    2.0      False           Laredo   \n",
              "308133  Active              435 pescador     2.0      False  Foreign Country   \n",
              "\n",
              "            sqft zipcode       beds state stories       target       Type  \\\n",
              "30258        0.0       0        NaN    CA     NaN     $380,000       land   \n",
              "83514        0.0       0        NaN    NY     NaN      470,000      other   \n",
              "231228       0.0      --  449 acres    CA     NaN  $60,000,000      other   \n",
              "235152    2043.0      --          3    FL     NaN     $425,000  townhouse   \n",
              "305479  243849.0       0        NaN    TX     NaN   $1,740,000       land   \n",
              "308133    1100.0   00000        NaN    OS     NaN      125,000      other   \n",
              "\n",
              "         pool Year built  Heating  Cooling  Parking  school_rating _mean  \\\n",
              "30258   False    no date    False    False    False                  3.7   \n",
              "83514   False       1995    False     True    False                 -1.0   \n",
              "231228  False    no date    False    False    False                  5.7   \n",
              "235152  False       2010     True     True     True                  5.0   \n",
              "305479  False    no date    False    False    False                  4.0   \n",
              "308133  False       1972    False    False    False                 -1.0   \n",
              "\n",
              "        school_dist_min  \n",
              "30258              6.50  \n",
              "83514             -1.00  \n",
              "231228             2.90  \n",
              "235152             0.50  \n",
              "305479             7.45  \n",
              "308133            -1.00  "
            ]
          },
          "execution_count": 379,
          "metadata": {},
          "output_type": "execute_result"
        }
      ],
      "source": [
        "realty_data1[(realty_data1['zipcode']=='--') | (realty_data1['zipcode']=='0')| (realty_data1['zipcode']=='00000') ]"
      ]
    },
    {
      "cell_type": "code",
      "execution_count": null,
      "id": "a920496b",
      "metadata": {
        "id": "a920496b"
      },
      "outputs": [],
      "source": [
        "indexes_drop = realty_data1[(realty_data1['zipcode']=='--') | (realty_data1['zipcode']=='0')| (realty_data1['zipcode']=='00000') ].index\n",
        "\n",
        "# Удаляем строки по  индексам\n",
        "realty_data1 = realty_data1.drop(indexes_drop)"
      ]
    },
    {
      "cell_type": "code",
      "execution_count": null,
      "id": "7b519984",
      "metadata": {
        "id": "7b519984",
        "outputId": "b85050e3-e56d-4780-ee2b-032af50bf425"
      },
      "outputs": [
        {
          "data": {
            "text/plain": [
              "array(['02108', '02109', '02110', '02111', '02113', '02114', '02115',\n",
              "       '02116', '02118', '02119', '02120', '02121', '02122', '02124',\n",
              "       '02125', '02126', '02127', '02128', '02129', '02130'], dtype=object)"
            ]
          },
          "execution_count": 381,
          "metadata": {},
          "output_type": "execute_result"
        }
      ],
      "source": [
        "#Исправим некорректные zipcode,которые имеют дополнительные числа после тире\n",
        "\n",
        "realty_data1.zipcode = realty_data1.zipcode.str.replace(\"-.+\",'', regex=True)\n",
        "\n",
        "realty_data1['zipcode'].sort_values().unique()[:20]"
      ]
    },
    {
      "cell_type": "markdown",
      "id": "323b751f",
      "metadata": {
        "id": "323b751f"
      },
      "source": [
        "**beds**  *количество спальных комнат*"
      ]
    },
    {
      "cell_type": "code",
      "execution_count": null,
      "id": "014ca4f6",
      "metadata": {
        "id": "014ca4f6",
        "outputId": "ea134bc2-358a-4a86-842e-9aa5fb990db2"
      },
      "outputs": [
        {
          "name": "stdout",
          "output_type": "stream",
          "text": [
            "Количество пропущенных значений: 91140\n",
            "Количество уникальных значений: 1181\n",
            "Уникальные значения: [' ', '# Bedrooms 1st Floor', '-- bd', '-- sqft', '0', '0.0', '0.25 acres', '0.26 acres', '0.27 acres', '0.28 acres', '0.29 acres', '0.3 acres', '0.31 acres', '0.32 acres', '0.33 acres', '0.34 acres', '0.35 acres', '0.36 acres', '0.37 acres', '0.38 acres', '0.39 acres', '0.4 acres', '0.41 acres', '0.42 acres', '0.43 acres', '0.44 acres', '0.45 acres', '0.46 acres', '0.47 acres', '0.48 acres', '0.49 acres', '0.5 acres', '0.51 acres', '0.52 acres', '0.53 acres', '0.54 acres', '0.55 acres', '0.56 acres', '0.57 acres', '0.58 acres', '0.59 acres', '0.6 acres', '0.61 acres', '0.62 acres', '0.63 acres', '0.64 acres', '0.65 acres', '0.66 acres', '0.67 acres', '0.68 acres', '0.69 acres', '0.7 acres', '0.71 acres', '0.72 acres', '0.73 acres', '0.74 acres', '0.75 acres', '0.76 acres', '0.77 acres', '0.78 acres', '0.79 acres', '0.8 acres', '0.81 acres', '0.82 acres', '0.83 acres', '0.84 acres', '0.85 acres', '0.86 acres', '0.87 acres', '0.88 acres', '0.89 acres', '0.9 acres', '0.91 acres', '0.92 acres', '0.93 acres', '0.94 acres', '0.95 acres', '0.96 acres', '0.97 acres', '0.98 acres', '0.99 acres', '1', '1 Bath, 2 Bedrooms', '1 Bath, 2 Bedrooms, Cable TV Available, Dining Room, Eat-In Kitchen, Living Room', '1 Bath, 2 Bedrooms, Eat-In Kitchen, Living Room, Range/Oven, Refrigerator', '1 Bath, 2 Bedrooms, Living Room, Range/Oven, Refrigerator', '1 Bath, 3 or More Bedrooms, Cable TV Available, Dining Room, Eat-In Kitchen, Living Room, Range/Oven, Refrigerator', '1 acre', '1 bd', '1,188 sqft', '1,210 sqft', '1,385 sqft', '1,498 sqft', '1,502 sqft', '1,524 sqft', '1,568 sqft', '1,650 sqft', '1,690 sqft', '1,703 sqft', '1,742 sqft', '1,745 sqft', '1,825 sqft', '1,960 sqft', '1,999 sqft', '1-2 Beds', '1.0', '1.01 acres', '1.02 acres', '1.03 acres', '1.04 acres', '1.05 acres', '1.06 acres', '1.07 acres', '1.08 acres', '1.09 acres', '1.1 acres', '1.11 acres', '1.12 acres', '1.13 acres', '1.14 acres', '1.15 acres', '1.16 acres', '1.17 acres', '1.18 acres', '1.19 acres', '1.2 acres', '1.21 acres', '1.22 acres', '1.23 acres', '1.24 acres', '1.25 acres', '1.26 acres', '1.27 acres', '1.28 acres', '1.29 acres', '1.3 acres', '1.32 acres', '1.33 acres', '1.34 acres', '1.35 acres', '1.36 acres', '1.38 acres', '1.39 acres', '1.4 acres', '1.41 acres', '1.42 acres', '1.43 acres', '1.44 acres', '1.45 acres', '1.46 acres', '1.47 acres', '1.48 acres', '1.49 acres', '1.5 acres', '1.51 acres', '1.52 acres', '1.53 acres', '1.54 acres', '1.55 acres', '1.56 acres', '1.57 acres', '1.58 acres', '1.59 acres', '1.6 acres', '1.61 acres', '1.62 acres', '1.63 acres', '1.65 acres', '1.66 acres', '1.67 acres', '1.68 acres', '1.69 acres', '1.7 acres', '1.71 acres', '1.72 acres', '1.73 acres', '1.74 acres', '1.75 acres', '1.76 acres', '1.78 acres', '1.8 acres', '1.81 acres', '1.82 acres', '1.83 acres', '1.84 acres', '1.85 acres', '1.87 acres', '1.88 acres', '1.91 acres', '1.92 acres', '1.93 acres', '1.94 acres', '1.95 acres', '1.96 acres', '1.97 acres', '1.98 acres', '10', '10 Beds', '10 acres', '10 bd']\n"
          ]
        }
      ],
      "source": [
        "missing_values_beds = realty_data1['beds'].isna().sum()\n",
        "\n",
        "print(f\"Количество пропущенных значений: {missing_values_beds}\\n\"\n",
        "f\"Количество уникальных значений: {realty_data1['beds'].nunique()}\\n\"\n",
        "f\"Уникальные значения: {list(realty_data1['beds'].sort_values().unique()[:200])}\")"
      ]
    },
    {
      "cell_type": "markdown",
      "id": "03e1a369",
      "metadata": {
        "id": "03e1a369"
      },
      "source": [
        "К сожалению данный признак содержит во-первых много пропущенных значений,во-вторых текст описывающий недвижимость или ее площадь,в третьих слишком мало данных непосредственно о количестве спален.\n",
        "Поэтому удаляем признак beds"
      ]
    },
    {
      "cell_type": "code",
      "execution_count": null,
      "id": "a40023d3",
      "metadata": {
        "id": "a40023d3"
      },
      "outputs": [],
      "source": [
        "realty_data1 = realty_data1.drop('beds', axis=1)"
      ]
    },
    {
      "cell_type": "markdown",
      "id": "9dee8264",
      "metadata": {
        "id": "9dee8264"
      },
      "source": [
        "**state** *штат*"
      ]
    },
    {
      "cell_type": "code",
      "execution_count": null,
      "id": "18d4d70d",
      "metadata": {
        "id": "18d4d70d",
        "outputId": "b34297d7-99ab-41a1-8873-98d4b47c01bb"
      },
      "outputs": [
        {
          "name": "stdout",
          "output_type": "stream",
          "text": [
            "Количество пропущенных значений: 0\n",
            "Количество уникальных значений: 37\n",
            "Уникальные значения: ['AL', 'AZ', 'CA', 'CO', 'DC', 'DE', 'FL', 'Fl', 'GA', 'IA', 'IL', 'IN', 'KY', 'MA', 'MD', 'ME', 'MI', 'MO', 'MS', 'MT']\n"
          ]
        }
      ],
      "source": [
        "missing_values_state = realty_data1['state'].isna().sum()\n",
        "\n",
        "print(f\"Количество пропущенных значений: {missing_values_state}\\n\"\n",
        "f\"Количество уникальных значений: {realty_data1['state'].nunique()}\\n\"\n",
        "f\"Уникальные значения: {list(realty_data1['state'].sort_values().unique()[:20])}\")"
      ]
    },
    {
      "cell_type": "markdown",
      "id": "793970d5",
      "metadata": {
        "id": "793970d5"
      },
      "source": [
        "**stories** *этажи*"
      ]
    },
    {
      "cell_type": "code",
      "execution_count": null,
      "id": "da5b754d",
      "metadata": {
        "id": "da5b754d",
        "outputId": "614cce98-f8cb-4455-9733-465b0bc99cb2"
      },
      "outputs": [
        {
          "name": "stdout",
          "output_type": "stream",
          "text": [
            "Количество пропущенных значений: 150321\n",
            "Количество уникальных значений: 346\n",
            "Уникальные значения: [', 1', ', 2', ', 3', '0', '0.0', '1', '1 1/2 Levels', '1 1/2 Story', '1 Level', '1 Level, 1.5 Level', '1 Level, 2 Level', '1 Level, Condo', '1 Level, Condo, Site Built', '1 Level, Non-Site Built', '1 Level, Site Built', '1 Level, Site Built, Townhouse', '1 Level, Split Foyer', '1 Level, Townhouse', '1 Leveland + Loft', '1 Story', '1 Story Basement', '1 Story, 2 Story', '1 Story, Hillside', '1 Story, Multi Level', '1 Story, Split Level', '1 Story, Townhouse', '1 Story/F.R.O.G.', '1 Story/Ranch', '1, 1', '1-2 Stories', '1-2 Stories, 3-4 Stories', '1.0', '1.00', '1.000', '1.0000', '1.2', '1.30', '1.3000', '1.5', '1.5 Level', '1.5 Level, Site Built', '1.5 Level, Site Built, Tri-Level', '1.5 Stories', '1.5 Story', '1.5 Story/Basement', '1.5, 2', '1.50', '1.500', '1.5000', '1.7', '1.70', '1.7000', '1.75', '10', '10.0', '1002.0', '11', '11.0', '11.00', '1120.0', '12', '12.0', '13', '13.0', '14', '14.0', '15', '15.0', '15.00', '16', '16.0', '16.00', '17', '17.0', '18', '18.0', '19', '19.0', '2', '2 Level', '2 Level, Condo', '2 Level, Condo, Site Built', '2 Level, Site Built', '2 Level, Site Built, Split Foyer', '2 Level, Site Built, Townhouse', '2 Level, Split Foyer', '2 Levels', '2 Or More Stories', '2 Stories', '2 Stories, Tear Down', '2 Stories, Townhouse', '2 Story', '2 Story or 2 Level', '2 Story, Multi Level', '2 Story, Split Level', '2 Story, Tri Level', '2 Story/Basement', '2.0', '2.00', '2.000', '2.0000', '2.20', '2.5', '2.5 Story', '2.5 Story/Basement', '2.50', '2.5000', '20', '20.0', '21', '21.0', '22', '22.0', '23', '23.0', '24', '24.0', '25', '25.0', '26', '26.0', '27', '27.0', '28', '28.0', '29', '29.0', '3', '3 - 5 Stories', '3 Level', '3 Level, Condo, Site Built', '3 Level, Site Built', '3 Level, Site Built, Split Level', '3 Level, Site Built, Townhouse', '3 Level, Site Built, Tri-Level', '3 Level, Townhouse', '3 Levels', '3 Stories', '3 Story', '3 Story, Multi Level', '3 Story, Tri Level', '3 Story/Basement', '3+', '3+ Story', '3-4 Stories', '3.0', '3.00', '3.000', '3.0000', '3.5', '30', '30.0', '30.00', '31', '31.0', '32', '32.0', '33', '33.0', '34', '34.0', '35', '35.0', '36', '36.0', '37', '37.0', '38', '38.0', '39', '39.0', '4', '4 Stories', '4 Story', '4.0', '4.00', '4.0000', '40', '40.0', '41', '41.0', '42', '42.0', '43', '43.0', '44', '45', '45.0', '46', '46.0', '47', '47.0', '48', '48.0', '49.0', '5', '5.0', '5.00', '50', '50.0', '51.0', '52', '52.0', '54.0', '55.0', '56', '56.0', '57', '57.0', '58', '58.0', '6', '6+ Stories', '6.0', '6.00', '60', '60.0', '62.0', '63.0', '64', '64.0', '65.0', '66', '66.0', '68.0', '7', '7.0', '7.00', '70', '70.0', '75', '77', '77.0', '78', '78.0', '8', '8.0', '80', '80.0', '82', '9', '9.0', '90.0', '91', '95', '95.0', '96.0', 'A Frame', 'Acreage', 'Apartments', 'Bedroom - Split Plan', 'Bi-Level', 'Bungalow', 'Cabin/Cottage', 'Cape Cod', 'Cape, Other Style', 'Chalet', 'Co-op', 'Colonial', 'Commercial', 'Condo', 'Condo, Site Built', 'Condominium', 'Contemporary', 'Craftsman', 'Detached', 'Double Wide', 'Duplex', 'Dwelling Stories', 'Farm', 'Farm House', 'Federal', 'Fourplex', 'Garden', 'Ground Level', 'Ground Level, One', 'Ground Level, Split Level, Two', 'Ground Level, Two', 'High-Rise', 'Hillside', 'Live/Work', 'Loft', 'Log', 'Log Home', 'Lot', 'Manufactured Doublewide', 'Manufactured Home, Non-Site Built', 'Manufactured Singlewide', 'Mid-Rise', 'Mobile', 'Modular Home', 'Multi Level', 'Multi Level, Three or More', 'Multi Level, Tri Level', 'Multi-Level', 'Multi-Level, New Englander', 'Multi-Story', 'Multi/Split', 'Multi/Split, Two', 'One', 'One Level', 'One Story', 'One and One Half', 'One and One Half, Three Or More', 'One, Three Or More', 'One, Two', 'One, Two, Multi/Split', 'Other Multi-unit', 'Other, Two, Multi/Split', 'Patio Home', 'Quad Level', 'Raised Ranch', 'Ranch', 'Ranch/1 Story', 'Site Built', 'Site Built, Split Foyer', 'Site Built, Split Level', 'Site Built, Townhouse', 'Site Built, Tri-Level', 'Sixplex', 'Split Entry (Bi-Level)', 'Split Foyer', 'Split Foyer, Tri-Level', 'Split Level', 'Split Level w/ Sub', 'Stories/Levels', 'T3-Townhouse 3+ Stories', 'Three Or More', 'Three Or More Levels', 'Three Or More, Multi/Split', 'Total Floors in Bldg', 'Townhouse', 'Townhouse-2 Story, T3-Townhouse 3+ Stories', 'Traditional', 'Tri Level', 'Tri-Level', 'Tri/Multi Level', 'Triplex', 'Tudor', 'Two', 'Two Stories', 'Two Story or More', 'Two, Multi/Split', 'Two, Three Or More', 'Unimproved Commercial', 'Victorian', nan]\n"
          ]
        }
      ],
      "source": [
        "missing_values_stories = realty_data1['stories'].isna().sum()\n",
        "\n",
        "print(f\"Количество пропущенных значений: {missing_values_stories}\\n\"\n",
        "f\"Количество уникальных значений: {realty_data1['stories'].nunique()}\\n\"\n",
        "f\"Уникальные значения: {list(realty_data1['stories'].sort_values().unique()[:400])}\")"
      ]
    },
    {
      "cell_type": "code",
      "execution_count": null,
      "id": "b64a438d",
      "metadata": {
        "id": "b64a438d"
      },
      "outputs": [],
      "source": [
        "realty_data1['stories'].replace(['1-2 Stories','Ground Level, Two','Two, Multi/Split','One, Two, Multi/Split','One and One Half','One, Two','Two Stories','Bungalow','Bi-Level','Ground Level, Split Level, Two','Duplex','2.0','Sixplex','Two'], 2, inplace=True)\n",
        "realty_data1['stories'].replace(['1-2 Stories, 3-4 Stories','Two Story or More','One and One Half, Three Or More','Two, Three Or More','Tri-Level','Multi Level, Three or More'], 3, inplace=True)\n",
        "realty_data1['stories'].replace(['3 - 5 Stories','3-4 Stories','Three Or More'], 4, inplace=True)\n",
        "realty_data1['stories'].replace(['A Frame','Apartments','One','One Level','Manufactured Doublewide','One Story','1.0'], 1, inplace=True)\n",
        "realty_data1['stories'].replace(['Acreage','Lot','Unimproved Commercial'], 0, inplace=True)"
      ]
    },
    {
      "cell_type": "code",
      "execution_count": null,
      "id": "e43a27b8",
      "metadata": {
        "id": "e43a27b8"
      },
      "outputs": [],
      "source": [
        "realty_data1['stories'] = realty_data1['stories'].apply(lambda x: int(re.findall('\\d+', str(x))[0]) if re.findall('\\d+', str(x)) else None)"
      ]
    },
    {
      "cell_type": "code",
      "execution_count": null,
      "id": "f9966884",
      "metadata": {
        "id": "f9966884",
        "outputId": "18311f1d-7595-4bf5-c827-cffd8d21d04e"
      },
      "outputs": [
        {
          "name": "stdout",
          "output_type": "stream",
          "text": [
            "Количество пропущенных значений: 152006\n",
            "Количество уникальных значений: 77\n",
            "Уникальные значения: [0.0, 1.0, 2.0, 3.0, 4.0, 5.0, 6.0, 7.0, 8.0, 9.0, 10.0, 11.0, 12.0, 13.0, 14.0, 15.0, 16.0, 17.0, 18.0, 19.0, 20.0, 21.0, 22.0, 23.0, 24.0, 25.0, 26.0, 27.0, 28.0, 29.0, 30.0, 31.0, 32.0, 33.0, 34.0, 35.0, 36.0, 37.0, 38.0, 39.0, 40.0, 41.0, 42.0, 43.0, 44.0, 45.0, 46.0, 47.0, 48.0, 49.0, 50.0, 51.0, 52.0, 54.0, 55.0, 56.0, 57.0, 58.0, 60.0, 62.0, 63.0, 64.0, 65.0, 66.0, 68.0, 70.0, 75.0, 77.0, 78.0, 80.0, 82.0, 90.0, 91.0, 95.0, 96.0, 1002.0, 1120.0, nan]\n"
          ]
        }
      ],
      "source": [
        "missing_values_stories = realty_data1['stories'].isna().sum()\n",
        "\n",
        "\n",
        "\n",
        "print(f\"Количество пропущенных значений: {missing_values_stories}\\n\"\n",
        "f\"Количество уникальных значений: {realty_data1['stories'].nunique()}\\n\"\n",
        "f\"Уникальные значения: {list(realty_data1['stories'].sort_values().unique()[:400])}\")"
      ]
    },
    {
      "cell_type": "code",
      "execution_count": null,
      "id": "026efa5d",
      "metadata": {
        "id": "026efa5d",
        "outputId": "0edd6c27-06b7-4de3-d916-957e4b9cbeef"
      },
      "outputs": [
        {
          "data": {
            "text/plain": [
              "Type\n",
              "single_family    47035\n",
              "other            36774\n",
              "land             28836\n",
              "condos           25058\n",
              "multi_family      5334\n",
              "townhouse         3936\n",
              "mobile_home       1514\n",
              "ranch             1420\n",
              "contemporary      1221\n",
              "apartment          834\n",
              "historical          44\n",
              "Name: count, dtype: int64"
            ]
          },
          "execution_count": 389,
          "metadata": {},
          "output_type": "execute_result"
        }
      ],
      "source": [
        "realty_data1[realty_data1.stories.isna()].Type.value_counts()"
      ]
    },
    {
      "cell_type": "code",
      "execution_count": null,
      "id": "7b465220",
      "metadata": {
        "id": "7b465220",
        "outputId": "520efad8-7e2c-4d54-914a-9ead16a6da63"
      },
      "outputs": [
        {
          "name": "stdout",
          "output_type": "stream",
          "text": [
            "40.34879091126271\n"
          ]
        }
      ],
      "source": [
        "total_count = len(realty_data1)\n",
        "missing_values_stories_percent = (missing_values_stories / total_count) * 100\n",
        "print(missing_values_stories_percent)"
      ]
    },
    {
      "cell_type": "markdown",
      "source": [
        "Большое количество пропущенных значений даже в типах недвижимости,где есть дома. Можно постараться заполнить эти значения, но првильность заполнения будет под вопросом."
      ],
      "metadata": {
        "id": "EWuCTBOUCpnd"
      },
      "id": "EWuCTBOUCpnd"
    },
    {
      "cell_type": "code",
      "execution_count": null,
      "id": "4931efc1",
      "metadata": {
        "id": "4931efc1"
      },
      "outputs": [],
      "source": [
        "realty_data1 = realty_data1.drop('stories', axis=1)"
      ]
    },
    {
      "cell_type": "markdown",
      "id": "c98b6444",
      "metadata": {
        "id": "c98b6444"
      },
      "source": [
        "*Целевой признак*   **target**   *цена объекта недвижимости*"
      ]
    },
    {
      "cell_type": "code",
      "execution_count": null,
      "id": "bb158737",
      "metadata": {
        "id": "bb158737",
        "outputId": "8bb218bc-741e-4ea4-da80-0f3b4f318af8"
      },
      "outputs": [
        {
          "name": "stdout",
          "output_type": "stream",
          "text": [
            "Количество пропущенных значений: 2475\n",
            "Количество уникальных значений: 43927\n",
            "Уникальные значения: ['$1', '$1,000', '$1,000,000', '$1,000,000+', '$1,000,036', '$1,000,050', '$1,000,100', '$1,000,898', '$1,000/mo', '$1,001,713', '$1,001,990+', '$1,001,995', '$1,001,995+', '$1,002,500', '$1,002,562', '$1,002,695', '$1,002,990+', '$1,004,047', '$1,004,500', '$1,004,993', '$1,005,000', '$1,005,000+', '$1,005,187', '$1,005,803', '$1,006,033', '$1,006,118', '$1,006,302', '$1,006,419', '$1,006,500', '$1,006,635+', '$1,006,990', '$1,006,990+', '$1,007,000', '$1,007,112', '$1,007,530', '$1,008,000', '$1,008,098', '$1,008,375', '$1,008,800', '$1,009,000', '$1,009,034', '$1,009,995', '$1,010,000', '$1,010,214', '$1,010,990+', '$1,011,000', '$1,011,097', '$1,011,346', '$1,012,600', '$1,013,000', '$1,013,239', '$1,013,888', '$1,013,990', '$1,013,990+', '$1,014,311', '$1,014,900', '$1,014,925', '$1,014,995', '$1,014,995+', '$1,015,000', '$1,015,000+', '$1,015,554', '$1,015,666', '$1,015,722', '$1,016,697', '$1,016,990', '$1,016,990+', '$1,017,000', '$1,017,500', '$1,017,600', '$1,017,800', '$1,018,000', '$1,018,046', '$1,018,625', '$1,019,000', '$1,019,082', '$1,019,197', '$1,019,900', '$1,019,950', '$1,019,999', '$1,020,000', '$1,020,990+', '$1,021,000', '$1,021,188', '$1,021,236', '$1,021,700', '$1,021,948', '$1,022,027+', '$1,022,686', '$1,022,714', '$1,023,000', '$1,023,518', '$1,023,637', '$1,023,990+', '$1,024,000', '$1,024,007', '$1,024,876', '$1,024,880', '$1,024,900', '$1,024,950', '$1,025,000', '$1,025,950', '$1,026,977', '$1,027,498', '$1,027,500', '$1,027,502', '$1,027,773', '$1,027,990', '$1,028,000', '$1,028,000+', '$1,028,990+', '$1,029,000', '$1,029,098', '$1,029,430', '$1,029,557', '$1,029,657', '$1,029,850', '$1,029,900', '$1,029,990', '$1,030,000', '$1,030,440', '$1,030,720', '$1,030,720+', '$1,030,942', '$1,031,500', '$1,031,500+', '$1,031,990', '$1,032,000', '$1,032,323', '$1,032,386', '$1,032,445', '$1,032,632', '$1,032,811', '$1,033,415', '$1,033,431', '$1,033,581', '$1,034,092', '$1,034,900', '$1,034,985', '$1,035,000', '$1,035,000+', '$1,035,420', '$1,035,500', '$1,035,888', '$1,035,900', '$1,036,826', '$1,037,714', '$1,038,000', '$1,038,880', '$1,038,888', '$1,038,895', '$1,039,000', '$1,039,618', '$1,039,794', '$1,039,900', '$1,040,000', '$1,040,936', '$1,040,950', '$1,041,530', '$1,041,973', '$1,042,000', '$1,042,168', '$1,042,357', '$1,042,525', '$1,043,880', '$1,043,990', '$1,043,995', '$1,043,995+', '$1,044,145', '$1,044,330', '$1,044,880', '$1,044,888', '$1,044,990+', '$1,045,000', '$1,045,562', '$1,046,000', '$1,046,000+', '$1,046,274', '$1,046,318', '$1,046,368', '$1,046,990', '$1,046,990+', '$1,047,000', '$1,047,584', '$1,047,950', '$1,047,994', '$1,047,999', '$1,048,000', '$1,048,508', '$1,048,602', '$1,048,700', '$1,048,880', '$1,048,888', '$1,048,900', '$1,049,000', '$1,049,076', '$1,049,500', '$1,049,888', '$1,049,900', '$1,049,900+', '$1,049,925', '$1,049,950', '$1,049,990', '$1,049,999', '$1,050,000', '$1,050,000+', '$1,050,120', '$1,050,790', '$1,050,990+', '$1,050/mo', '$1,052,000', '$1,052,096', '$1,052,300', '$1,052,300+', '$1,052,473', '$1,052,800', '$1,052,846', '$1,053,049', '$1,054,234', '$1,054,817', '$1,054,995', '$1,055,000', '$1,055,000+', '$1,055,377', '$1,055,377+', '$1,055,784', '$1,055,900', '$1,056,118', '$1,056,125', '$1,057,335+', '$1,058,000', '$1,058,440', '$1,058,740', '$1,058,859', '$1,058,888', '$1,059,000', '$1,059,200', '$1,060,000', '$1,060,494', '$1,060,498', '$1,061,845', '$1,062,569', '$1,063,770', '$1,063,770+', '$1,064,500', '$1,064,568', '$1,064,794', '$1,064,862', '$1,064,990', '$1,064,990+', '$1,065,000', '$1,065,603', '$1,065,750', '$1,065,995', '$1,066,000', '$1,066,100+', '$1,066,281', '$1,066,609', '$1,066,846', '$1,066,990', '$1,067,000', '$1,067,104', '$1,067,500', '$1,067,606', '$1,068,000', '$1,068,340', '$1,068,445', '$1,068,900', '$1,069,000', '$1,069,900', '$1,069,900+', '$1,069,990', '$1,069,994', '$1,069,999', '$1,070,000', '$1,070,995', '$1,070/mo', '$1,071,049', '$1,072,000', '$1,072,011', '$1,072,313', '$1,072,990', '$1,073,786', '$1,073,880', '$1,073,880+', '$1,073,888', '$1,073,890', '$1,073,905', '$1,074,000', '$1,074,500', '$1,074,880+', '$1,074,888', '$1,074,900', '$1,074,900+', '$1,074,955', '$1,074,989', '$1,074,999', '$1,075,000', '$1,075,131', '$1,075,432', '$1,075,700', '$1,075,900+', '$1,075/mo', '$1,076,000', '$1,076,752', '$1,076,990', '$1,077,000', '$1,077,108', '$1,077,170', '$1,077,170+', '$1,077,386', '$1,077,413', '$1,077,500', '$1,078,000', '$1,078,236', '$1,078,500', '$1,079,000', '$1,079,411', '$1,079,500', '$1,079,562', '$1,079,900', '$1,079,999', '$1,080,000', '$1,080,237', '$1,080,590', '$1,080,800', '$1,080,990', '$1,080,990+', '$1,080,999', '$1,080/mo', '$1,081,100', '$1,081,702', '$1,081,894', '$1,082,000', '$1,083,000', '$1,083,749', '$1,083,790+', '$1,083,880', '$1,083,900', '$1,084,000', '$1,084,379', '$1,084,600', '$1,084,900', '$1,084,999', '$1,085,000', '$1,086,000', '$1,086,319', '$1,087,500', '$1,087,584', '$1,088,000', '$1,088,400', '$1,088,700', '$1,088,800', '$1,088,850', '$1,088,888', '$1,089,000', '$1,089,200', '$1,089,469', '$1,089,500', '$1,089,520', '$1,089,776', '$1,089,900', '$1,089,990', '$1,089,990+', '$1,090,000', '$1,091,600+', '$1,092,000', '$1,092,232', '$1,092,343', '$1,092,720', '$1,092,950', '$1,092,990', '$1,092,990+', '$1,093,000', '$1,093,827', '$1,094,000', '$1,094,605', '$1,094,995+', '$1,094,999', '$1,095,000', '$1,095,000+', '$1,095,205+', '$1,095,500', '$1,095,888', '$1,095,990', '$1,095/mo', '$1,096,000', '$1,096,500', '$1,097,000', '$1,097,400', '$1,097,500', '$1,097,723', '$1,097,788', '$1,097,900', '$1,097,990', '$1,097,990+', '$1,098,000', '$1,098,250', '$1,098,340', '$1,098,500', '$1,098,700', '$1,098,800', '$1,098,880', '$1,098,888', '$1,098,900+', '$1,099,000', '$1,099,490', '$1,099,500', '$1,099,500+', '$1,099,750', '$1,099,800', '$1,099,888', '$1,099,900', '$1,099,950', '$1,099,990', '$1,099,995', '$1,099,999', '$1,100', '$1,100,000', '$1,100,000+', '$1,100,100', '$1,100,500', '$1,100,888', '$1,100/mo', '$1,101,056', '$1,101,292', '$1,101,600', '$1,101,995', '$1,103,000', '$1,103,542', '$1,103,950', '$1,103,990', '$1,104,000', '$1,104,190', '$1,104,320', '$1,105,000', '$1,105,995', '$1,107,148', '$1,108,870', '$1,109,000', '$1,109,900', '$1,109,900+', '$1,110,000', '$1,110,266', '$1,110,700', '$1,110,780', '$1,110,990', '$1,110,990+', '$1,111,000', '$1,111,075', '$1,111,111', '$1,111,200', '$1,111,244', '$1,112,000', '$1,112,491', '$1,112,557+', '$1,113,600', '$1,114,000', '$1,114,422', '$1,114,990', '$1,114,990+', '$1,115,000', '$1,115,183', '$1,115,500', '$1,115,864', '$1,115,900+', '$1,115,950', '$1,116,000', '$1,116,660', '$1,116,753', '$1,116,818', '$1,117,225', '$1,117,506', '$1,118,000', '$1,118,375', '$1,118,990', '$1,119,000', '$1,119,000+', '$1,119,900', '$1,119,990', '$1,120,000', '$1,120,888', '$1,120,995', '$1,121,398', '$1,121,815', '$1,122,000', '$1,122,079', '$1,122,200', '$1,122,975', '$1,122,990+', '$1,123,000', '$1,124,000', '$1,124,165', '$1,124,900', '$1,124,999', '$1,125,000', '$1,125,000+', '$1,125,800', '$1,127,000', '$1,127,000+', '$1,128,000', '$1,128,510', '$1,129,000', '$1,129,800', '$1,129,888', '$1,129,900', '$1,129,995', '$1,130,000', '$1,130,007', '$1,130,185', '$1,130,204', '$1,130,879', '$1,130,888', '$1,130,990+', '$1,131,000', '$1,131,990+', '$1,132,062', '$1,132,560', '$1,133,333', '$1,133,532', '$1,133,565', '$1,134,000', '$1,134,017', '$1,134,500', '$1,134,854', '$1,134,871', '$1,135,000', '$1,135,000+', '$1,135,400', '$1,135,400+', '$1,135,800', '$1,135,995', '$1,136,000', '$1,136,281', '$1,137,000', '$1,137,116', '$1,137,200', '$1,137,500', '$1,138,000', '$1,138,585', '$1,139,000', '$1,139,500', '$1,139,900', '$1,139,950', '$1,139,995', '$1,139,999', '$1,140,000', '$1,140,869', '$1,141,172', '$1,141,476', '$1,141,900+', '$1,142,371', '$1,142,371+', '$1,142,771', '$1,142,800', '$1,143,000', '$1,144,000', '$1,144,800', '$1,144,900', '$1,144,950', '$1,144,990', '$1,144,999', '$1,145,000', '$1,145,754', '$1,146,000', '$1,147,000', '$1,147,376', '$1,147,500', '$1,147,995', '$1,147,999', '$1,148,000', '$1,148,888', '$1,149,000', '$1,149,000+', '$1,149,500', '$1,149,800', '$1,149,888', '$1,149,900', '$1,149,900+', '$1,149,950', '$1,149,964', '$1,149,995', '$1,149,995+', '$1,149,999', '$1,150,000', '$1,150,000+', '$1,150/mo', '$1,151,000', '$1,151,880', '$1,152,000', '$1,152,500', '$1,152,990', '$1,152,995+', '$1,153,880', '$1,154,000', '$1,154,888', '$1,154,900', '$1,154,900+', '$1,154,990', '$1,155,000', '$1,155,560', '$1,155,574', '$1,155,725', '$1,155,900', '$1,156,792', '$1,157,000', '$1,157,999', '$1,158,000', '$1,158,500', '$1,158,888', '$1,158,950', '$1,159,000', '$1,159,326+', '$1,159,500', '$1,159,880', '$1,159,884', '$1,159,990', '$1,159,995', '$1,159,999', '$1,160,000', '$1,160,700', '$1,160,893', '$1,161,000', '$1,161,200', '$1,161,900', '$1,162,900', '$1,163,175', '$1,164,676', '$1,164,880', '$1,165,000', '$1,165,424', '$1,166,000+', '$1,166,100', '$1,166,160', '$1,166,400', '$1,166,531', '$1,166,581', '$1,166,910', '$1,167,000', '$1,167,500', '$1,168,000', '$1,168,125', '$1,168,579', '$1,168,807', '$1,168,888', '$1,169,000', '$1,169,500', '$1,169,900', '$1,169,990', '$1,169,990+', '$1,170,000', '$1,170,340', '$1,170,632', '$1,171,000', '$1,171,990+', '$1,172,595', '$1,173,500', '$1,173,700', '$1,173,880', '$1,173,880+', '$1,174,000', '$1,174,550', '$1,174,600', '$1,174,875', '$1,174,900', '$1,174,988', '$1,174,990', '$1,174,995', '$1,174,999', '$1,175,000', '$1,175,500', '$1,175,888', '$1,175,900', '$1,175/mo', '$1,176,000', '$1,176,580', '$1,177,000', '$1,177,900', '$1,177,900+', '$1,178,000', '$1,178,000+', '$1,178,100', '$1,178,888', '$1,179,000', '$1,179,500', '$1,179,781', '$1,179,781+', '$1,179,880+', '$1,179,900', '$1,179,950', '$1,179,990', '$1,180,000', '$1,180,587', '$1,181,139', '$1,182,000', '$1,183,000', '$1,183,000+', '$1,184,900', '$1,184,990', '$1,184,995', '$1,185,000', '$1,185,900', '$1,186,077', '$1,186,433', '$1,186,990', '$1,186,990+', '$1,187,000', '$1,187,753', '$1,187,888', '$1,187,923', '$1,187,990', '$1,187,990+', '$1,188,000', '$1,188,500', '$1,188,700', '$1,188,888', '$1,189,000', '$1,189,000+', '$1,189,136', '$1,189,296', '$1,189,888', '$1,189,900', '$1,190,000', '$1,190,000+', '$1,190,279', '$1,190,375', '$1,190,380', '$1,191,900', '$1,192,700', '$1,193,000', '$1,193,100+', '$1,193,995', '$1,194,000', '$1,194,500', '$1,194,888', '$1,194,934', '$1,194,990+', '$1,195,000', '$1,195,021', '$1,195,600', '$1,195,900', '$1,195,950', '$1,195,990', '$1,195/mo', '$1,196,000', '$1,196,616', '$1,196,900', '$1,196,955', '$1,196,990', '$1,197,000', '$1,197,125', '$1,197,500', '$1,197,868', '$1,197,888', '$1,197,900', '$1,198,000', '$1,198,000+', '$1,198,131', '$1,198,300', '$1,198,500', '$1,198,754', '$1,198,800', '$1,198,850', '$1,198,880', '$1,198,888', '$1,198,900', '$1,199,000', '$1,199,256', '$1,199,500', '$1,199,777', '$1,199,800', '$1,199,880', '$1,199,888', '$1,199,900', '$1,199,950', '$1,199,975', '$1,199,988', '$1,199,990', '$1,199,995', '$1,199,998', '$1,199,999', '$1,200', '$1,200,000', '$1,200,000+', '$1,200,500', '$1,200,856', '$1,200,900', '$1,200,999', '$1,200/mo', '$1,201,000', '$1,201,012', '$1,202,190', '$1,203,450', '$1,204,176', '$1,205,000', '$1,205,090+', '$1,205,600', '$1,206,000', '$1,206,175', '$1,207,760', '$1,208,888', '$1,209,489', '$1,209,795', '$1,210,000', '$1,211,316', '$1,212,079', '$1,213,457', '$1,215 - $1,437/mo', '$1,215,000', '$1,215,000+', '$1,215,081', '$1,215,260', '$1,215,260+', '$1,216,000', '$1,216,245', '$1,216,877', '$1,217,000', '$1,217,192', '$1,217,585', '$1,217,590+', '$1,217,621', '$1,217,950', '$1,218,000', '$1,218,067', '$1,218,500', '$1,218,600', '$1,218,749', '$1,218,850', '$1,219,000', '$1,219,298', '$1,219,500', '$1,219,888', '$1,219,900', '$1,219,990+', '$1,220,000', '$1,220,039', '$1,220,264', '$1,220,550', '$1,221,027', '$1,221,490', '$1,221,888', '$1,221,995', '$1,222,041', '$1,222,500', '$1,223,333', '$1,223,740', '$1,223,843', '$1,224,000', '$1,224,060', '$1,224,500', '$1,224,900', '$1,224,950', '$1,224,999', '$1,225,000', '$1,225,708', '$1,225,888', '$1,225,999', '$1,226,360', '$1,228,000', '$1,228,990+', '$1,229,000', '$1,229,888', '$1,229,900', '$1,229,995', '$1,230,000', '$1,230,211', '$1,230,460', '$1,230,729', '$1,231,990+', '$1,232,000', '$1,232,500', '$1,232,750', '$1,233,500', '$1,233,660', '$1,233,688', '$1,233,688+', '$1,233,750', '$1,234,000', '$1,234,861', '$1,234,917', '$1,234,990+', '$1,235,000', '$1,235,147', '$1,235,500', '$1,235,702', '$1,235,850', '$1,235,900', '$1,235,999', '$1,236,000', '$1,236,780+', '$1,236,900+', '$1,236,995', '$1,236,995+', '$1,237,000', '$1,237,994', '$1,238,000', '$1,238,888', '$1,239,000', '$1,239,900', '$1,239,950', '$1,239,990', '$1,240,000', '$1,241,900', '$1,242,000', '$1,242,500', '$1,242,955', '$1,243,462', '$1,244,000+', '$1,244,500', '$1,244,900', '$1,244,990+', '$1,245,000', '$1,245,900', '$1,245/mo', '$1,246,000', '$1,246,050', '$1,246,641', '$1,247,000', '$1,247,872', '$1,247,995', '$1,248,000', '$1,248,291', '$1,248,291+', '$1,248,500', '$1,249,000', '$1,249,500', '$1,249,578', '$1,249,719', '$1,249,750', '$1,249,789', '$1,249,800', '$1,249,880', '$1,249,888', '$1,249,900', '$1,249,950', '$1,249,990', '$1,249,998', '$1,249,999', '$1,250', '$1,250,000', '$1,250,044', '$1,250,555', '$1,250,941', '$1,250/mo', '$1,252,000', '$1,252,298', '$1,253,525', '$1,254,000', '$1,254,364', '$1,254,642', '$1,254,800', '$1,254,990', '$1,254,999', '$1,255,000', '$1,255,245', '$1,255,400', '$1,255,623', '$1,256,000', '$1,257,000', '$1,257,768', '$1,258,000', '$1,258,361', '$1,258,750', '$1,258,888', '$1,258,995', '$1,258,995+', '$1,259,000', '$1,259,900', '$1,259,950', '$1,259,990', '$1,260,000', '$1,260,008', '$1,260,350', '$1,260,630', '$1,261,000', '$1,261,075', '$1,261,271', '$1,261,350', '$1,261,700', '$1,261,792', '$1,263,182', '$1,263,511', '$1,264,000', '$1,264,430', '$1,264,500', '$1,264,684', '$1,264,900', '$1,264,990', '$1,265,000', '$1,265,888', '$1,266,057', '$1,266,331', '$1,266,732', '$1,266,990', '$1,266,990+', '$1,267,500', '$1,268,000', '$1,268,740', '$1,268,880', '$1,268,888', '$1,269,000', '$1,269,265', '$1,269,304', '$1,269,888', '$1,269,950', '$1,269,990+', '$1,270,000', '$1,270,000+', '$1,270,162', '$1,270,888', '$1,271,002', '$1,271,598', '$1,272,000+', '$1,272,209', '$1,272,500', '$1,272,810', '$1,273,339', '$1,273,995', '$1,273,995+', '$1,274,000', '$1,274,242', '$1,274,500', '$1,274,900', '$1,274,999', '$1,275,000', '$1,275,363', '$1,275,800', '$1,275,950', '$1,275,955', '$1,276,321', '$1,276,446', '$1,276,900', '$1,277,000', '$1,277,729', '$1,277,900', '$1,278,000', '$1,278,250', '$1,278,500', '$1,278,513', '$1,278,700', '$1,278,847', '$1,278,900+', '$1,279,000', '$1,279,200', '$1,279,700', '$1,279,895', '$1,279,900', '$1,279,950', '$1,279,990', '$1,279,995', '$1,280,000', '$1,280,174', '$1,280,474', '$1,280,888', '$1,281,500', '$1,281,950+', '$1,282,000', '$1,282,628', '$1,282,697', '$1,282,759', '$1,283,000', '$1,283,067', '$1,283,282', '$1,284,643', '$1,285,000', '$1,285,198', '$1,285,212', '$1,285,361', '$1,285,888', '$1,286,000', '$1,286,990', '$1,286,990+', '$1,287,500', '$1,287,819', '$1,288,000', '$1,288,674', '$1,288,800', '$1,288,888', '$1,288,890', '$1,288,900', '$1,289,000', '$1,289,046', '$1,289,500', '$1,289,799', '$1,289,900', '$1,289,950', '$1,290,000', '$1,290,442', '$1,291,000', '$1,291,771', '$1,291,995', '$1,291,995+', '$1,292,000', '$1,292,650', '$1,292,809', '$1,292,995', '$1,292,995+', '$1,293,000', '$1,293,975', '$1,293,988', '$1,294,000', '$1,294,900', '$1,294,935', '$1,294,990', '$1,295', '$1,295,000', '$1,295,900', '$1,295,990', '$1,295/mo', '$1,296,000', '$1,296,589', '$1,296,940', '$1,297,000', '$1,297,720', '$1,297,990', '$1,297,990+', '$1,298,000', '$1,298,500', '$1,298,777', '$1,298,880', '$1,298,888', '$1,298,999', '$1,299', '$1,299,000', '$1,299,000+', '$1,299,063', '$1,299,079', '$1,299,250', '$1,299,500', '$1,299,729+', '$1,299,800', '$1,299,850', '$1,299,876', '$1,299,888', '$1,299,900', '$1,299,950', '$1,299,988', '$1,299,990', '$1,299,995', '$1,299,998', '$1,299,999', '$1,300', '$1,300,000', '$1,300,000+', '$1,300,506', '$1,300,695', '$1,300,990', '$1,300/mo', '$1,303,238', '$1,303,888', '$1,304,045', '$1,304,995', '$1,305,000', '$1,305,587', '$1,305,595', '$1,306,800', '$1,307,000', '$1,307,900+', '$1,308,305', '$1,309,000', '$1,309,950', '$1,309,990', '$1,310,000', '$1,310,500', '$1,311,100', '$1,313,000', '$1,313,990', '$1,315,000', '$1,315,332', '$1,315,900', '$1,316,489', '$1,316,493', '$1,316,556+', '$1,317,100', '$1,317,211', '$1,317,347', '$1,317,377', '$1,318,000', '$1,319,000', '$1,319,085', '$1,319,133', '$1,319,242', '$1,319,500', '$1,319,950', '$1,319,950+', '$1,320,000', '$1,320,900', '$1,320,900+', '$1,321,220', '$1,322,100', '$1,322,889', '$1,322,950+', '$1,323,000', '$1,324,000', '$1,324,000+', '$1,324,900', '$1,325', '$1,325,000', '$1,328,000', '$1,328,400', '$1,328,760', '$1,328,800', '$1,329,000', '$1,329,251', '$1,329,500', '$1,329,900', '$1,329,950', '$1,329,995', '$1,329,999', '$1,330,000', '$1,330,400', '$1,330,694', '$1,330,839', '$1,331,000', '$1,331,420', '$1,332,587', '$1,332,605', '$1,333,000', '$1,333,180', '$1,333,990', '$1,333,990+', '$1,334,000', '$1,334,162', '$1,334,400', '$1,334,619', '$1,334,950', '$1,334,990', '$1,334,999', '$1,335,000', '$1,335,900', '$1,336,900', '$1,337,500', '$1,337,605', '$1,338,000', '$1,338,153', '$1,338,800', '$1,338,900', '$1,339,000', '$1,339,739', '$1,339,800', '$1,339,888', '$1,340,000', '$1,340,900', '$1,341,259', '$1,343,000', '$1,344,000', '$1,344,995+', '$1,345,000', '$1,345,900', '$1,346,642', '$1,346,900', '$1,347,000', '$1,347,010', '$1,347,450', '$1,347,450+', '$1,347,750', '$1,348,000', '$1,348,431', '$1,348,999', '$1,349,000', '$1,349,499', '$1,349,800', '$1,349,888', '$1,349,900', '$1,349,950', '$1,349,990', '$1,349,995', '$1,349,999', '$1,350', '$1,350,000', '$1,350,888', '$1,350,900', '$1,350/mo', '$1,351,990', '$1,352,000', '$1,352,520', '$1,353,990', '$1,354,292', '$1,354,467', '$1,355,000', '$1,355,785', '$1,355,900', '$1,356,868', '$1,357,000', '$1,357,280', '$1,357,950', '$1,358,000', '$1,358,531', '$1,358,688', '$1,358,888', '$1,359,000', '$1,359,900', '$1,359,990', '$1,359,990+', '$1,360,000', '$1,360,000+', '$1,360,797', '$1,361,445', '$1,361,910', '$1,362,181', '$1,362,400', '$1,363,600', '$1,364,651+', '$1,364,824', '$1,364,990+', '$1,364,995+', '$1,365,000', '$1,366,100', '$1,366,403', '$1,367,093', '$1,367,700', '$1,368,000', '$1,368,888', '$1,369,000', '$1,370,000', '$1,370,400', '$1,370,648', '$1,370,995', '$1,371,081', '$1,371,134', '$1,372,140', '$1,373,000', '$1,374,400', '$1,374,888', '$1,374,900', '$1,374,990', '$1,374,990+', '$1,374,995+', '$1,374,999', '$1,375,000', '$1,375,000+', '$1,375,500', '$1,375,562', '$1,375,993', '$1,376,674', '$1,377,000', '$1,377,911', '$1,378,000', '$1,378,267', '$1,378,267+', '$1,378,938', '$1,379,000', '$1,379,500', '$1,379,800+', '$1,380,000', '$1,381,039', '$1,381,270', '$1,381,995', '$1,382,000', '$1,382,602', '$1,382,990+', '$1,383,469', '$1,384,000', '$1,384,518', '$1,384,990', '$1,385,000', '$1,385,868', '$1,386,000', '$1,388,000', '$1,388,450+', '$1,388,800', '$1,388,888', '$1,389,000', '$1,389,888', '$1,389,950', '$1,390,000', '$1,390,260', '$1,390,350', '$1,390,368', '$1,390,600', '$1,390,818', '$1,391,000', '$1,392,000', '$1,393,000', '$1,394,000', '$1,394,990', '$1,395,000', '$1,395,950', '$1,395/mo', '$1,397,000', '$1,397,500', '$1,398,000', '$1,398,500', '$1,398,888', '$1,399,000', '$1,399,483', '$1,399,500', '$1,399,700', '$1,399,737', '$1,399,800', '$1,399,888', '$1,399,900', '$1,399,950', '$1,399,990', '$1,399,995', '$1,399,998', '$1,399,999', '$1,400', '$1,400,000', '$1,400,935', '$1,400/mo', '$1,401,123', '$1,401,452', '$1,401,607', '$1,402,600', '$1,403,197', '$1,403,839', '$1,404,995+', '$1,405,000', '$1,405,800', '$1,406,000', '$1,407,993', '$1,409,990', '$1,410,000', '$1,410,178', '$1,411,354', '$1,411,550+', '$1,412,393', '$1,413,990', '$1,414,000', '$1,415,000', '$1,416,000', '$1,416,287', '$1,417,000', '$1,417,611', '$1,418,000', '$1,419,000', '$1,419,999', '$1,420,000', '$1,422,469', '$1,423,000', '$1,424,000', '$1,424,900', '$1,424,990+', '$1,424,995+', '$1,425', '$1,425,000', '$1,425,000+', '$1,425,548', '$1,425,888', '$1,425,950', '$1,427,000', '$1,427,283', '$1,428,000', '$1,428,130', '$1,428,674', '$1,428,956', '$1,429,000', '$1,429,900', '$1,429,990', '$1,429,995', '$1,429,995+', '$1,429,999', '$1,430,000', '$1,433,738', '$1,433,738+', '$1,434,000', '$1,434,900', '$1,435,000', '$1,435,816', '$1,437,000', '$1,437,254', '$1,438,000', '$1,438,436', '$1,439,000', '$1,439,900', '$1,439,990', '$1,440,000', '$1,440,990', '$1,442,740', '$1,445,000', '$1,445,319', '$1,446,000', '$1,446,422', '$1,447,000', '$1,447,477', '$1,448,000', '$1,448,500', '$1,448,701', '$1,448,888', '$1,449,000', '$1,449,500', '$1,449,700', '$1,449,888', '$1,449,900', '$1,449,950', '$1,450', '$1,450,000', '$1,450,150', '$1,450/mo', '$1,451,629', '$1,452,709', '$1,453,990', '$1,454,000', '$1,455,000', '$1,456,000', '$1,456,900+', '$1,456,990', '$1,457,000', '$1,457,816', '$1,458,435', '$1,459,000', '$1,459,900', '$1,459,966', '$1,459,990', '$1,459,990+', '$1,460,000', '$1,460,328', '$1,460,990', '$1,461,198', '$1,461,876', '$1,462,000', '$1,464,000', '$1,464,900', '$1,464,990+', '$1,464,995+', '$1,465,000', '$1,467,000', '$1,467,134', '$1,468,000', '$1,468,156', '$1,468,888', '$1,469,000', '$1,469,990', '$1,469,990+', '$1,469,998', '$1,470,000', '$1,470,399', '$1,470,522', '$1,471,260', '$1,472,000', '$1,473,000', '$1,473,539', '$1,473,990', '$1,473,990+', '$1,474,000', '$1,474,500', '$1,474,900', '$1,474,990', '$1,475,000', '$1,475,900', '$1,476,166', '$1,477,061+', '$1,477,980', '$1,478,000', '$1,478,426', '$1,478,888', '$1,479,000', '$1,479,000+', '$1,479,242', '$1,479,365', '$1,479,500', '$1,479,800', '$1,480,000', '$1,480,500', '$1,483,000', '$1,484,990', '$1,485,000', '$1,487,000', '$1,488,000', '$1,488,110', '$1,488,661', '$1,488,730', '$1,488,800', '$1,488,880', '$1,488,888', '$1,489,000', '$1,489,900', '$1,489,950', '$1,490,000', '$1,490,856', '$1,490,900', '$1,492,670+', '$1,493,000', '$1,494,000', '$1,494,681', '$1,494,900', '$1,495,000', '$1,495,093', '$1,495,750', '$1,495,995', '$1,495,995+', '$1,495/mo', '$1,496,160', '$1,496,799', '$1,497,000', '$1,497,500', '$1,497,847', '$1,498,000', '$1,498,000+', '$1,498,888', '$1,498,950', '$1,498,999', '$1,499,000', '$1,499,000+', '$1,499,479', '$1,499,500', '$1,499,700', '$1,499,800', '$1,499,850', '$1,499,888', '$1,499,900', '$1,499,920', '$1,499,922', '$1,499,950', '$1,499,989', '$1,499,990', '$1,499,995', '$1,499,999', '$1,500', '$1,500,000', '$1,500,900', '$1,500/mo', '$1,501,400', '$1,501,466', '$1,501,645', '$1,505,000', '$1,506,117', '$1,507,500', '$1,509,000+', '$1,509,995+', '$1,510,000', '$1,510,310', '$1,513,995', '$1,514,990', '$1,514,995+', '$1,515,000', '$1,515,109', '$1,515,190', '$1,517,000', '$1,517,843', '$1,519,000', '$1,519,766', '$1,519,995', '$1,520,000', '$1,520,000+', '$1,521,867', '$1,523,992', '$1,524,000', '$1,524,900', '$1,525,000', '$1,525,888', '$1,526,198', '$1,526,995', '$1,527,427', '$1,527,985', '$1,528,000', '$1,528,166', '$1,528,900', '$1,529,000', '$1,529,066', '$1,529,966', '$1,530,000', '$1,531,400', '$1,533,282', '$1,533,995', '$1,534,236', '$1,534,753', '$1,535,000', '$1,535,616', '$1,536,954', '$1,537,000', '$1,538,000', '$1,539,000', '$1,539,000+', '$1,539,995+', '$1,540,000', '$1,541,500', '$1,542,354', '$1,543,840', '$1,544,000', '$1,544,338', '$1,545', '$1,545,000', '$1,546,995', '$1,546,995+', '$1,547,000', '$1,548,000', '$1,548,880', '$1,549,000', '$1,549,500', '$1,549,850', '$1,549,900', '$1,549,990', '$1,550,000', '$1,550,000+', '$1,550/mo', '$1,551,000', '$1,552,813', '$1,554,004', '$1,554,900', '$1,555,000', '$1,555,197', '$1,555,800', '$1,556,000', '$1,557,000', '$1,558,000', '$1,559,000', '$1,559,087+', '$1,559,950', '$1,560,000', '$1,561,000', '$1,562,000', '$1,564,638', '$1,564,817', '$1,565,000', '$1,565,052', '$1,565,413', '$1,565,550', '$1,565,888', '$1,566,870', '$1,566,895', '$1,567,520', '$1,568,000', '$1,568,160', '$1,568,850', '$1,568,995', '$1,569,000', '$1,569,000+', '$1,569,540', '$1,569,990+', '$1,570,000', '$1,570,800', '$1,570,888', '$1,570,995', '$1,573,000', '$1,573,386', '$1,574,000', '$1,574,900', '$1,574,995+', '$1,574,999', '$1,575,000', '$1,575,000+', '$1,575/mo', '$1,576,706', '$1,577,000', '$1,578,000', '$1,578,206+', '$1,578,888', '$1,579,000', '$1,579,900', '$1,579,900+', '$1,579,990+', '$1,580,000', '$1,580,990+', '$1,581,032', '$1,583,000', '$1,583,401', '$1,584,000', '$1,584,990', '$1,585,000', '$1,585,514', '$1,585,720', '$1,586,455', '$1,586,649', '$1,586,929', '$1,587,200', '$1,588,000', '$1,588,226', '$1,588,250', '$1,588,766', '$1,588,800', '$1,588,880', '$1,588,888', '$1,589,000', '$1,590,000', '$1,590,541', '$1,590,990', '$1,592,000', '$1,592,500', '$1,593,000', '$1,593,381+', '$1,594,000', '$1,594,900', '$1,594,990', '$1,595,000', '$1,595,000+', '$1,595,250', '$1,595,900', '$1,595,995', '$1,595/mo', '$1,596,000', '$1,596,141', '$1,597,000', '$1,597,300', '$1,597,350', '$1,597,815', '$1,598,000', '$1,598,500', '$1,598,802', '$1,598,888', '$1,598,990', '$1,598,998', '$1,599,000', '$1,599,000+', '$1,599,064', '$1,599,295', '$1,599,500', '$1,599,800', '$1,599,888', '$1,599,900', '$1,599,950', '$1,599,990', '$1,599,995', '$1,599,999', '$1,599/mo', '$1,600,000', '$1,600,000+', '$1,600,320', '$1,600,445', '$1,600/mo', '$1,601,404', '$1,604,000', '$1,604,000+', '$1,605,000', '$1,605,690+', '$1,607,960', '$1,608,000', '$1,609,990+', '$1,610,000', '$1,612,069', '$1,614,900', '$1,615,000', '$1,615,689', '$1,615,800', '$1,618,000', '$1,618,004', '$1,619,000', '$1,619,990', '$1,620,000', '$1,622,162', '$1,622,425', '$1,623,950', '$1,624,000', '$1,624,800', '$1,624,900', '$1,624,990', '$1,624,999', '$1,625,000', '$1,625,700', '$1,625,888', '$1,625/mo', '$1,626,490', '$1,626,544', '$1,627,500', '$1,628,000', '$1,628,990', '$1,629,000', '$1,629,900', '$1,630,000', '$1,630,000+', '$1,630,717', '$1,633,000', '$1,633,000+', '$1,633,456', '$1,635,000', '$1,635,500', '$1,636,895', '$1,637,500', '$1,637,672+', '$1,638,000', '$1,638,990', '$1,639,000', '$1,639,900', '$1,640,000', '$1,641,118', '$1,641,287', '$1,641,910+', '$1,642,081', '$1,642,544', '$1,644,500', '$1,644,750', '$1,644,900', '$1,645,000', '$1,645,500', '$1,645/mo', '$1,647,000', '$1,647,500', '$1,647,888', '$1,648,000', '$1,648,800', '$1,648,888', '$1,649,000', '$1,649,150', '$1,649,500', '$1,649,850', '$1,649,900', '$1,649,944', '$1,649,950', '$1,649,990', '$1,649,990+', '$1,649,999', '$1,650', '$1,650,000', '$1,650,025', '$1,650,576', '$1,650/mo', '$1,652,500', '$1,652,625', '$1,652,850', '$1,652,990', '$1,652,990+', '$1,655,000', '$1,657,900+', '$1,657,950', '$1,658,000', '$1,659,000', '$1,659,150', '$1,659,647', '$1,660,000', '$1,660,854', '$1,662,000', '$1,662,000+', '$1,663,000', '$1,663,000+', '$1,664,096', '$1,665,000', '$1,665,431', '$1,665,990', '$1,668,000', '$1,669,000', '$1,670,000', '$1,670,880+', '$1,670,990', '$1,672,000', '$1,672,649', '$1,673,000', '$1,673,139', '$1,673,990', '$1,674,000', '$1,674,500', '$1,674,900', '$1,675,000', '$1,676,776', '$1,676,900', '$1,676,900+', '$1,677,060', '$1,678,000', '$1,678,888', '$1,679,000', '$1,679,900', '$1,680,000', '$1,680,078', '$1,680,874', '$1,680,900', '$1,680,900+', '$1,682,000', '$1,684,356', '$1,684,990', '$1,685,000', '$1,685,995', '$1,687,000', '$1,687,500', '$1,687,888', '$1,688,000', '$1,688,037', '$1,688,070', '$1,688,500', '$1,688,800', '$1,688,888', '$1,688,900', '$1,688,907', '$1,689,000', '$1,690,000', '$1,690,200', '$1,690,408', '$1,690,810', '$1,692,000', '$1,692,000+', '$1,692,805', '$1,694,800', '$1,695', '$1,695,000', '$1,695,950', '$1,695,990', '$1,695,995', '$1,695/mo', '$1,696,000', '$1,697,000', '$1,697,500', '$1,698,000', '$1,698,500', '$1,698,840', '$1,698,888', '$1,698,900', '$1,699,000', '$1,699,500', '$1,699,800', '$1,699,900', '$1,699,950', '$1,699,990', '$1,699,995', '$1,699,999', '$1,700', '$1,700,000', '$1,700/mo', '$1,701,250', '$1,704,000', '$1,705,000', '$1,707,750', '$1,708,575', '$1,709,990', '$1,709,990+', '$1,710,000', '$1,710,300', '$1,711,000', '$1,712,500', '$1,712,610', '$1,713,000', '$1,714,037', '$1,714,995+', '$1,715,000', '$1,715,880', '$1,715,880+', '$1,715,905', '$1,719,000', '$1,720,000', '$1,721,450', '$1,722,500', '$1,723,432', '$1,724,000', '$1,724,900', '$1,724,950', '$1,724,976', '$1,725,000', '$1,725,001', '$1,725/mo', '$1,728,000', '$1,728,000+', '$1,729,000', '$1,729,990', '$1,730,000', '$1,732,500', '$1,733,025', '$1,733,500', '$1,734,294', '$1,734,533', '$1,735,000', '$1,736,000', '$1,737,000', '$1,738,000', '$1,739,000', '$1,740,000', '$1,742,349', '$1,742,900', '$1,744,000', '$1,745,000', '$1,745,500', '$1,746,250', '$1,747,000', '$1,748,500', '$1,749,000', '$1,749,500', '$1,749,800', '$1,749,888', '$1,749,900', '$1,749,950', '$1,749,999', '$1,750', '$1,750,000', '$1,750/mo', '$1,753,900+', '$1,754,075', '$1,755,000', '$1,755,600', '$1,755,604', '$1,756,000', '$1,758,000', '$1,759,995+', '$1,760,000', '$1,761,597', '$1,764,000', '$1,764,945', '$1,765,000', '$1,765,500', '$1,765,744', '$1,766,407', '$1,768,000', '$1,768,888', '$1,769,000', '$1,769,990+', '$1,770,000', '$1,770,770', '$1,771,000', '$1,773,000', '$1,773,162', '$1,774,990', '$1,774,990+', '$1,775,000', '$1,775,120', '$1,775/mo', '$1,776,000', '$1,776,250', '$1,777,000', '$1,777,486', '$1,778,588', '$1,779,000', '$1,780,000', '$1,780,650', '$1,780,650+', '$1,782,000', '$1,783,000', '$1,784,000', '$1,784,250', '$1,784,800', '$1,784,950', '$1,785,000', '$1,785,002', '$1,785,900', '$1,786,000', '$1,787,000', '$1,787,500', '$1,788,000', '$1,788,800', '$1,788,888', '$1,789,000', '$1,789,938', '$1,790,000', '$1,790/mo', '$1,794,000', '$1,795,000', '$1,795/mo', '$1,797,000', '$1,797,266+', '$1,798,000', '$1,798,888', '$1,799,000', '$1,799,219', '$1,799,500', '$1,799,900', '$1,799,950', '$1,799,988', '$1,799,990', '$1,799,991', '$1,799,995', '$1,799,999', '$1,799/mo', '$1,800', '$1,800,000', '$1,800/mo', '$1,804,900', '$1,805,750', '$1,806,000', '$1,807,176', '$1,809,301', '$1,809,918', '$1,810,000', '$1,814,000', '$1,814,120', '$1,814,900', '$1,815,000', '$1,816,056+', '$1,817,376', '$1,818,000', '$1,818,529', '$1,819,900', '$1,820,000', '$1,820,470', '$1,820,628', '$1,824,610', '$1,824,893', '$1,824,999', '$1,825', '$1,825,000', '$1,825,470+', '$1,825/mo', '$1,828,570', '$1,829,000', '$1,829,520', '$1,830,000', '$1,830,532', '$1,830,900', '$1,831,698', '$1,833,000', '$1,834,995+', '$1,835,000', '$1,835,600', '$1,837,521', '$1,838,500', '$1,839,000', '$1,840,000', '$1,840,401', '$1,841,954', '$1,843,000', '$1,845,000', '$1,845,755', '$1,847,300', '$1,847,692', '$1,848,000', '$1,848,888', '$1,849,000', '$1,849,388', '$1,849,900', '$1,849,950', '$1,849,959', '$1,849,995', '$1,850', '$1,850,000', '$1,850,000+', '$1,850,428', '$1,850/mo', '$1,855,000', '$1,855,900', '$1,858,000', '$1,858,500', '$1,858,900', '$1,859,000', '$1,859,950', '$1,860,000', '$1,861,217', '$1,862,000', '$1,862,190', '$1,863,500', '$1,864,610', '$1,865,000', '$1,865,900', '$1,866,000', '$1,866,196', '$1,866,576', '$1,866,600', '$1,867,340', '$1,867,991', '$1,868,000', '$1,868,016+', '$1,869,000', '$1,870,000', '$1,872,761', '$1,872,898', '$1,873,080', '$1,874,900', '$1,874,990', '$1,874,990+', '$1,874,995+', '$1,875,000', '$1,875,695', '$1,875,900', '$1,875/mo', '$1,876,000', '$1,877,400', '$1,877,929', '$1,878,000', '$1,878,176', '$1,878,990', '$1,879,000', '$1,879,172', '$1,879,750', '$1,880,000', '$1,881,932', '$1,884,800', '$1,885', '$1,885,000', '$1,885,900', '$1,885,990', '$1,885,990+', '$1,887,666', '$1,887,965', '$1,888,000', '$1,888,800', '$1,888,888', '$1,888,889', '$1,889,000', '$1,889,900', '$1,889,998', '$1,890,000', '$1,890,000+', '$1,891,600', '$1,892,000', '$1,892,403', '$1,894,000', '$1,895,000', '$1,895,700', '$1,895,900', '$1,895/mo', '$1,896,000', '$1,897,000', '$1,897,500', '$1,897,588', '$1,898,000', '$1,898,800', '$1,898,885', '$1,898,888', '$1,898,984', '$1,899,000', '$1,899,500', '$1,899,900', '$1,899,950', '$1,899,990', '$1,899,995', '$1,899,999', '$1,900', '$1,900,000', '$1,900/mo', '$1,901,000', '$1,904,000', '$1,905,000', '$1,906,410', '$1,909,670', '$1,909,995+', '$1,910,000', '$1,911,000', '$1,912,187', '$1,912,591', '$1,913,000', '$1,913,000+', '$1,918,000', '$1,918,554', '$1,919,000', '$1,919,877', '$1,920,000', '$1,920,691', '$1,924,690', '$1,924,900', '$1,925,000', '$1,925,000+', '$1,927,000', '$1,927,590', '$1,930,000', '$1,930,000+', '$1,930,500', '$1,934,425', '$1,934,529', '$1,935,000', '$1,935,090+', '$1,936,000', '$1,936,950', '$1,937,048', '$1,938,000', '$1,938,000+', '$1,939,000', '$1,939,995', '$1,940,000', '$1,941,000', '$1,944,675', '$1,944,900+', '$1,945,000', '$1,948,000', '$1,948,700', '$1,949,000', '$1,949,500', '$1,949,800', '$1,949,900', '$1,949,950', '$1,949,999', '$1,950', '$1,950,000', '$1,950,990', '$1,950/mo', '$1,952,000', '$1,952,370', '$1,952,715', '$1,953', '$1,955,000', '$1,955,720', '$1,955,990', '$1,955,990+', '$1,956,490', '$1,958,000', '$1,959,000', '$1,959,995+', '$1,960,000', '$1,960,950', '$1,962,627', '$1,965,000', '$1,968,000+', '$1,968,900', '$1,970,000', '$1,971,092', '$1,971,105', '$1,973,000', '$1,974,900', '$1,974,999', '$1,975,000', '$1,975,990', '$1,976,612', '$1,976,900', '$1,978,000', '$1,979,000', '$1,979,612+', '$1,979,900', '$1,980,000', '$1,980,900', '$1,981,900+', '$1,983,067', '$1,984,995+', '$1,985,000', '$1,985,500', '$1,986,689', '$1,987,500', '$1,987,995', '$1,988,000', '$1,989,000', '$1,989,360', '$1,989,800', '$1,990,000', '$1,990,900', '$1,990,975', '$1,992,000', '$1,993,600', '$1,994,000', '$1,995', '$1,995,000', '$1,995,000+', '$1,995/mo', '$1,996,995', '$1,997,000', '$1,997,500', '$1,998,000', '$1,998,500', '$1,998,700', '$1,998,800', '$1,998,888', '$1,999,000', '$1,999,111', '$1,999,420', '$1,999,500', '$1,999,800', '$1,999,880', '$1,999,888', '$1,999,899', '$1,999,900', '$1,999,900+', '$1,999,950', '$1,999,980', '$1,999,990', '$1,999,995', '$1,999,995+', '$1,999,998', '$1,999,998+', '$1,999,999', '$10,000', '$10,000,000', '$10,000,000+', '$10,000/mo', '$10,001', '$10,150,000', '$10,200', '$10,200,000', '$10,250', '$10,250,000', '$10,255,777', '$10,300', '$10,300,000', '$10,321', '$10,350', '$10,355', '$10,400', '$10,400,000', '$10,429', '$10,450', '$10,450,000', '$10,495,000', '$10,500', '$10,500,000', '$10,500/mo', '$10,560,000', '$10,584,000', '$10,600,000', '$10,650,000', '$10,654', '$10,670', '$10,695,000', '$10,700', '$10,700,000', '$10,750', '$10,750,000', '$10,762,200', '$10,770,000', '$10,795,000', '$10,800', '$10,800,000', '$10,848', '$10,850,000', '$10,860,000', '$10,880', '$10,890', '$10,890,000', '$10,900', '$10,900,000', '$10,950,000', '$10,980,000', '$10,990', '$10,990,000', '$10,995', '$10,995,000', '$10,998,000', '$10,999', '$10,999,000', '$10,999,999', '$100,000', '$100,050', '$100,159', '$100,230', '$100,237', '$100,249', '$100,296', '$100,331', '$100,411', '$100,412', '$100,419', '$100,500', '$100,501', '$100,507', '$100,512', '$100,529', '$100,553', '$100,587', '$100,600', '$100,606', '$100,655', '$100,700', '$100,703', '$100,716', '$100,833', '$100,867', '$100,900', '$100,927', '$100,963', '$100,995', '$100,999', '$101,000', '$101,018', '$101,074', '$101,100', '$101,140', '$101,160', '$101,188', '$101,218', '$101,226', '$101,227', '$101,234', '$101,250', '$101,254', '$101,269', '$101,300', '$101,328', '$101,350', '$101,360', '$101,364', '$101,370', '$101,374', '$101,393', '$101,415', '$101,422', '$101,500', '$101,515', '$101,545', '$101,593', '$101,595', '$101,597', '$101,604', '$101,650', '$101,783', '$101,888', '$101,893', '$101,900', '$101,939', '$101,995', '$101,999', '$102,000', '$102,054', '$102,063', '$102,084', '$102,097', '$102,124', '$102,144', '$102,169', '$102,221', '$102,302', '$102,313', '$102,324', '$102,350', '$102,386', '$102,392', '$102,400', '$102,433', '$102,500', '$102,504', '$102,538', '$102,545', '$102,555', '$102,615', '$102,642', '$102,666', '$102,688', '$102,704', '$102,719', '$102,750', '$102,753', '$102,771', '$102,781', '$102,789', '$102,791', '$102,800', '$102,815', '$102,828', '$102,842', '$102,861', '$102,900', '$102,996', '$102,999', '$103,000', '$103,001', '$103,021', '$103,040', '$103,084', '$103,100', '$103,131', '$103,135', '$103,149', '$103,162', '$103,175', '$103,190', '$103,231', '$103,333', '$103,348', '$103,362', '$103,400', '$103,452', '$103,500', '$103,511', '$103,584', '$103,593', '$103,600', '$103,630', '$103,679', '$103,699', '$103,700', '$103,720', '$103,723', '$103,733', '$103,763', '$103,784', '$103,792', '$103,799', '$103,807', '$103,816', '$103,838', '$103,850', '$103,880', '$103,881', '$103,900', '$104,000', '$104,044', '$104,050', '$104,141', '$104,236', '$104,306', '$104,313', '$104,400', '$104,416', '$104,431', '$104,500', '$104,520', '$104,541', '$104,604', '$104,700', '$104,770', '$104,800', '$104,810', '$104,865', '$104,880', '$104,893', '$104,900', '$104,913', '$104,933', '$104,946', '$104,949', '$104,950', '$104,979', '$104,990', '$104,991', '$104,999', '$105,000', '$105,020', '$105,071', '$105,076', '$105,088', '$105,100', '$105,126', '$105,128', '$105,150', '$105,202', '$105,218', '$105,234', '$105,242', '$105,292', '$105,400', '$105,436', '$105,474', '$105,500', '$105,546', '$105,550', '$105,562', '$105,646', '$105,650', '$105,683', '$105,700', '$105,746', '$105,750', '$105,759', '$105,763', '$105,790', '$105,800', '$105,871', '$105,878', '$105,888', '$105,900', '$105,915', '$105,950', '$105,999', '$106,000', '$106,029', '$106,031', '$106,059', '$106,067', '$106,078', '$106,094', '$106,100', '$106,103', '$106,117', '$106,140', '$106,172', '$106,187', '$106,200', '$106,250', '$106,281', '$106,283', '$106,324', '$106,383', '$106,423', '$106,429', '$106,466', '$106,470', '$106,480', '$106,500', '$106,535', '$106,558', '$106,560', '$106,569', '$106,593', '$106,626', '$106,636', '$106,642', '$106,670', '$106,689', '$106,690', '$106,695', '$106,769', '$106,800', '$106,900', '$106,927', '$106,959', '$107,000', '$107,021', '$107,060', '$107,196', '$107,197', '$107,199', '$107,215', '$107,259', '$107,291', '$107,300', '$107,328', '$107,350', '$107,362', '$107,400', '$107,420', '$107,425', '$107,440', '$107,480', '$107,500', '$107,519', '$107,520', '$107,583', '$107,599', '$107,600', '$107,611', '$107,700', '$107,768', '$107,774', '$107,828', '$107,900', '$107,950', '$107,952', '$107,983', '$107,995', '$107,995+', '$107,999', '$108,000', '$108,005', '$108,039', '$108,048', '$108,053', '$108,056', '$108,091', '$108,099', '$108,101', '$108,105', '$108,198', '$108,261', '$108,300', '$108,345', '$108,365', '$108,461', '$108,490', '$108,500', '$108,532', '$108,548', '$108,550', '$108,580', '$108,600', '$108,601', '$108,625', '$108,700', '$108,706', '$108,709', '$108,750', '$108,783', '$108,800', '$108,852', '$108,859', '$108,900', '$108,903', '$108,987', '$108,999', '$109,000', '$109,063', '$109,081', '$109,090', '$109,100', '$109,150', '$109,200', '$109,207', '$109,227', '$109,236', '$109,250', '$109,260', '$109,312', '$109,350', '$109,400', '$109,402', '$109,447', '$109,450', '$109,500', '$109,502', '$109,511', '$109,516', '$109,567', '$109,586', '$109,595', '$109,691', '$109,700', '$109,719', '$109,750', '$109,777', '$109,799', '$109,800', '$109,801', '$109,869', '$109,899', '$109,900', '$109,900+', '$109,936', '$109,950', '$109,953', '$109,975', '$109,981', '$109,990', '$109,998', '$109,999', '$11,000', '$11,000,000', '$11,011', '$11,040', '$11,086,540', '$11,100', '$11,100,000', '$11,150', '$11,160,000', '$11,200,000', '$11,250', '$11,250,000', '$11,264,789', '$11,400', '$11,400,000', '$11,416', '$11,450,000', '$11,495,000', '$11,495,000+', '$11,499', '$11,500', '$11,500,000', '$11,573,000', '$11,589,000', '$11,600,000', '$11,700', '$11,700,000', '$11,745', '$11,750', '$11,750,000', '$11,775,000', '$11,800', '$11,800,000', '$11,850,000', '$11,875', '$11,880', '$11,888,000', '$11,900', '$11,900+', '$11,900,000', '$11,950', '$11,950,000', '$11,970,000', '$11,990', '$11,995', '$11,995,000', '$11,999', '$11,999,000', '$110,000', '$110,000,000', '$110,048', '$110,056', '$110,083', '$110,156', '$110,157', '$110,200', '$110,230', '$110,250', '$110,254', '$110,340', '$110,364', '$110,406', '$110,457', '$110,490', '$110,500', '$110,588', '$110,636', '$110,652', '$110,670', '$110,673', '$110,678', '$110,697', '$110,707', '$110,709', '$110,713', '$110,749', '$110,758', '$110,781', '$110,800', '$110,820', '$110,888', '$110,894', '$110,895', '$110,898', '$110,900', '$110,909', '$110,915', '$110,932', '$110,956', '$110,964', '$110,970', '$110,975', '$110,989', '$110,999', '$111,000', '$111,115', '$111,116', '$111,129', '$111,139', '$111,196', '$111,221', '$111,240', '$111,300', '$111,309', '$111,360', '$111,396', '$111,405', '$111,469', '$111,500', '$111,506', '$111,556', '$111,575', '$111,579', '$111,592', '$111,601', '$111,618', '$111,619', '$111,624', '$111,687', '$111,697', '$111,710', '$111,800', '$111,802', '$111,807', '$111,825', '$111,833', '$111,840', '$111,850', '$111,875', '$111,885', '$111,900', '$111,923', '$111,939', '$111,990', '$111,995', '$111,999', '$112,000', '$112,057', '$112,079', '$112,096', '$112,106', '$112,110', '$112,134', '$112,161', '$112,194', '$112,220', '$112,230', '$112,263', '$112,279', '$112,280', '$112,400', '$112,475', '$112,500', '$112,531', '$112,660', '$112,700', '$112,706', '$112,712', '$112,740', '$112,742', '$112,750', '$112,771', '$112,785', '$112,793', '$112,800', '$112,810', '$112,897', '$112,900', '$112,900+', '$112,950', '$112,990', '$112,995', '$112,996', '$112,999', '$113,000', '$113,023', '$113,081', '$113,100', '$113,142', '$113,145', '$113,150', '$113,237', '$113,258', '$113,312', '$113,320', '$113,341', '$113,350', '$113,396', '$113,400', '$113,401', '$113,417', '$113,422', '$113,428', '$113,452', '$113,462', '$113,500', '$113,529', '$113,568', '$113,580', '$113,600', '$113,608', '$113,640', '$113,693', '$113,698', '$113,700', '$113,706', '$113,712', '$113,718', '$113,734', '$113,750', '$113,777', '$113,800', '$113,812', '$113,875', '$113,900', '$113,905', '$113,937', '$113,982', '$113,995', '$113,995+', '$113,997', '$113,999', '$114,000', '$114,102', '$114,331', '$114,345', '$114,347', '$114,356', '$114,358', '$114,400', '$114,405', '$114,408', '$114,425', '$114,432', '$114,447', '$114,499', '$114,500', '$114,504', '$114,506', '$114,555', '$114,576', '$114,618', '$114,622', '$114,627', '$114,650', '$114,651', '$114,667', '$114,696', '$114,697', '$114,698', '$114,700', '$114,705', '$114,723', '$114,750', '$114,756', '$114,777', '$114,778', '$114,780', '$114,790', '$114,800', '$114,809', '$114,871', '$114,885', '$114,893', '$114,895', '$114,896', '$114,900', '$114,900+', '$114,944', '$114,950', '$114,953', '$114,981', '$114,990', '$114,995', '$114,999', '$115,000', '$115,000+', '$115,000,000', '$115,077', '$115,131', '$115,150', '$115,153', '$115,171', '$115,200', '$115,204', '$115,280', '$115,291', '$115,300', '$115,308', '$115,312', '$115,313', '$115,350', '$115,395', '$115,400', '$115,425', '$115,443', '$115,500', '$115,506', '$115,541', '$115,600', '$115,617', '$115,619', '$115,636', '$115,637', '$115,707', '$115,710', '$115,748', '$115,784', '$115,800', '$115,819', '$115,875', '$115,893', '$115,900', '$115,910', '$115,950', '$115,968', '$115,987', '$115,990', '$115,995', '$116,000', '$116,005', '$116,014', '$116,066', '$116,126', '$116,163', '$116,224', '$116,375', '$116,395', '$116,400', '$116,429', '$116,455', '$116,457', '$116,473', '$116,500', '$116,547', '$116,550', '$116,571', '$116,600', '$116,632', '$116,655', '$116,658', '$116,684', '$116,725', '$116,742', '$116,750', '$116,777', '$116,778', '$116,800', '$116,858', '$116,871', '$116,885', '$116,888', '$116,898', '$116,900', '$116,934', '$116,950', '$116,995', '$116,998', '$116,999', '$117,000', '$117,045', '$117,075', '$117,087', '$117,100', '$117,126', '$117,146', '$117,200', '$117,250', '$117,258', '$117,291', '$117,316', '$117,350', '$117,353', '$117,359', '$117,377', '$117,400', '$117,419', '$117,422', '$117,443', '$117,450', '$117,465', '$117,490', '$117,500', '$117,524', '$117,553', '$117,600', '$117,670', '$117,675', '$117,777', '$117,800', '$117,815', '$117,818', '$117,900', '$117,939', '$117,961', '$117,999', '$118,000', '$118,013', '$118,024', '$118,036', '$118,051', '$118,160', '$118,175', '$118,190', '$118,200', '$118,242', '$118,300', '$118,327', '$118,364', '$118,407', '$118,443', '$118,470', '$118,500', '$118,526', '$118,541', '$118,656', '$118,672', '$118,690', '$118,708', '$118,718', '$118,720', '$118,741', '$118,750', '$118,759', '$118,770', '$118,776', '$118,777', '$118,782', '$118,784', '$118,800', '$118,809', '$118,838', '$118,871', '$118,883', '$118,900', '$118,900+', '$118,950', '$118,963', '$118,979', '$118,990', '$118,993', '$118,995', '$118,999', '$119,000', '$119,002', '$119,058', '$119,059', '$119,064', '$119,089', '$119,090', '$119,092', '$119,119', '$119,120', '$119,147', '$119,167', '$119,190', '$119,210', '$119,245', '$119,250', '$119,255', '$119,289', '$119,300', '$119,305', '$119,313', '$119,329', '$119,338', '$119,340', '$119,375', '$119,379', '$119,388', '$119,400', '$119,413', '$119,414', '$119,495', '$119,497', '$119,500', '$119,521', '$119,533', '$119,600', '$119,619', '$119,667', '$119,700', '$119,707', '$119,722', '$119,745', '$119,750', '$119,770', '$119,775', '$119,800', '$119,835', '$119,847', '$119,850', '$119,876', '$119,880', '$119,899', '$119,900', '$119,900+', '$119,914', '$119,917', '$119,950', '$119,990', '$119,992', '$119,995', '$119,995+', '$119,999', '$12,000', '$12,000,000', '$12,000/mo', '$12,014', '$12,100', '$12,151,000', '$12,199,000', '$12,200', '$12,238', '$12,250', '$12,250,000', '$12,285,000', '$12,289', '$12,300,000', '$12,350', '$12,350,000', '$12,369', '$12,375', '$12,400', '$12,400,000', '$12,450', '$12,450,000', '$12,462', '$12,468', '$12,495', '$12,495,000', '$12,499', '$12,500', '$12,500,000', '$12,500/mo', '$12,511', '$12,525,000', '$12,575,000+', '$12,576', '$12,580', '$12,600', '$12,680', '$12,695,000', '$12,700', '$12,700,000', '$12,750', '$12,750,000', '$12,750/mo', '$12,795,000', '$12,800', '$12,800,000', '$12,850,000', '$12,880,000', '$12,888', '$12,888,000', '$12,900', '$12,900,000', '$12,950', '$12,950,000', '$12,980,000', '$12,985,990', '$12,988,000', '$12,990', '$12,990,000', '$12,995', '$12,995,000', '$12,999', '$12,999,000', '$120,000', '$120,000+', '$120,010', '$120,016', '$120,096', '$120,100', '$120,142', '$120,161', '$120,215', '$120,250', '$120,255', '$120,400', '$120,410', '$120,440', '$120,450', '$120,460', '$120,461', '$120,467', '$120,472', '$120,499', '$120,500', '$120,536', '$120,578', '$120,582', '$120,605', '$120,629', '$120,648', '$120,652', '$120,700', '$120,732', '$120,770', '$120,780', '$120,786', '$120,788', '$120,853', '$120,860', '$120,882', '$120,900', '$120,962', '$120,999', '$121,000', '$121,026', '$121,053', '$121,133', '$121,169', '$121,182', '$121,190', '$121,200', '$121,207', '$121,215', '$121,222', '$121,297', '$121,305', '$121,313', '$121,323', '$121,386', '$121,396', '$121,399', '$121,462', '$121,500', '$121,511', '$121,519', '$121,539', '$121,578', '$121,599', '$121,627', '$121,642', '$121,650', '$121,653', '$121,677', '$121,700', '$121,762', '$121,764', '$121,777', '$121,779', '$121,800', '$121,853', '$121,882', '$121,883', '$121,900', '$121,900+', '$121,907', '$121,990', '$121,999', '$122,000', '$122,017', '$122,023', '$122,133', '$122,147', '$122,188', '$122,205', '$122,215', '$122,236', '$122,290', '$122,295', '$122,300', '$122,321', '$122,355', '$122,400', '$122,444', '$122,495', '$122,500', '$122,538', '$122,553', '$122,563', '$122,598', '$122,600', '$122,602', '$122,623', '$122,642', '$122,647', '$122,650', '$122,656', '$122,683', '$122,750', '$122,770', '$122,807', '$122,848', '$122,854', '$122,857', '$122,859', '$122,864', '$122,872', '$122,888', '$122,900', '$122,922', '$122,935', '$122,951', '$122,995', '$122,999', '$123,000', '$123,019', '$123,100', '$123,121', '$123,186', '$123,200', '$123,245', '$123,251', '$123,292', '$123,301', '$123,302', '$123,304', '$123,312', '$123,338', '$123,350', '$123,400', '$123,427', '$123,441', '$123,450', '$123,500', '$123,540', '$123,573', '$123,600', '$123,602', '$123,617', '$123,650', '$123,700', '$123,750', '$123,760', '$123,766', '$123,780', '$123,807', '$123,811', '$123,850', '$123,852', '$123,866', '$123,900', '$123,950', '$123,975', '$123,986', '$123,990', '$123,999', '$124,000', '$124,017', '$124,042', '$124,079', '$124,083', '$124,093', '$124,147', '$124,200', '$124,235', '$124,270', '$124,305', '$124,337', '$124,349', '$124,362', '$124,394', '$124,400', '$124,420', '$124,422', '$124,430', '$124,450', '$124,479', '$124,480', '$124,486', '$124,490', '$124,500', '$124,518', '$124,525', '$124,576', '$124,599', '$124,600', '$124,611', '$124,624', '$124,668', '$124,674', '$124,700', '$124,720', '$124,750', '$124,755', '$124,760', '$124,763', '$124,777', '$124,793', '$124,800', '$124,802', '$124,805', '$124,810', '$124,858', '$124,871', '$124,875', '$124,888', '$124,898', '$124,899', '$124,900', '$124,900+', '$124,909', '$124,916', '$124,938', '$124,947', '$124,950', '$124,955', '$124,966', '$124,970', '$124,976', '$124,989', '$124,990', '$124,991', '$124,992', '$124,995', '$124,998', '$124,999', '$125,000', '$125,005', '$125,030', '$125,084', '$125,140', '$125,176', '$125,200', '$125,217', '$125,223', '$125,234', '$125,250', '$125,269', '$125,300', '$125,310', '$125,417', '$125,419', '$125,424', '$125,471', '$125,486', '$125,488', '$125,500', '$125,523', '$125,541', '$125,548', '$125,558', '$125,567', '$125,590', '$125,600', '$125,614', '$125,618', '$125,624', '$125,629', '$125,631', '$125,645', '$125,647', '$125,698', '$125,700', '$125,719', '$125,721', '$125,733', '$125,745', '$125,751', '$125,800', '$125,820', '$125,842', '$125,847', '$125,900', '$125,902', '$125,972', '$125,985', '$125,995', '$125,998', '$125,999', '$125,999+', '$126,000', '$126,010', '$126,052', '$126,077', '$126,086', '$126,100', '$126,118', '$126,123', '$126,139', '$126,150', '$126,192', '$126,284', '$126,310', '$126,400', '$126,484', '$126,500', '$126,519', '$126,547', '$126,548', '$126,550', '$126,570', '$126,585', '$126,591', '$126,600', '$126,614', '$126,617', '$126,621', '$126,649', '$126,671', '$126,723', '$126,750', '$126,775', '$126,781', '$126,790', '$126,823', '$126,839', '$126,852', '$126,855', '$126,869', '$126,884', '$126,900', '$126,911', '$126,934', '$126,945', '$126,947', '$126,950', '$126,989', '$126,990', '$126,995', '$126,997', '$126,999', '$127,000', '$127,047', '$127,053', '$127,097', '$127,112', '$127,180', '$127,200', '$127,214', '$127,217', '$127,277', '$127,336', '$127,397', '$127,400', '$127,425', '$127,478', '$127,490', '$127,491', '$127,499', '$127,500', '$127,532', '$127,546', '$127,553', '$127,579', '$127,586', '$127,593', '$127,660', '$127,687', '$127,689', '$127,700', '$127,740', '$127,746', '$127,750', '$127,769', '$127,770', '$127,775', '$127,800', '$127,841', '$127,890', '$127,900', '$127,948', '$127,950', '$127,983', '$127,988', '$127,990', '$127,999', '$128,000', '$128,005', '$128,031', '$128,048', '$128,103', '$128,139', '$128,144', '$128,146', '$128,159', '$128,197', '$128,200', '$128,225', '$128,260', '$128,321', '$128,354', '$128,394', '$128,401', '$128,407', '$128,410', '$128,427', '$128,461', '$128,488', '$128,491', '$128,492', '$128,494', '$128,500', '$128,515', '$128,521', '$128,555', '$128,564', '$128,654', '$128,685', '$128,696', '$128,700', '$128,719', '$128,747', '$128,750', '$128,758', '$128,763', '$128,773', '$128,777', '$128,799', '$128,800', '$128,817', '$128,829', '$128,838', '$128,862', '$128,876', '$128,888', '$128,900', '$128,911', '$128,943', '$128,987', '$128,990', '$128,994', '$128,999', '$128,999+', '$129,000', '$129,000,000', '$129,007', '$129,016', '$129,038', '$129,058', '$129,069', '$129,081', '$129,136', '$129,142', '$129,143', '$129,152', '$129,178', '$129,194', '$129,201', '$129,205', '$129,249', '$129,267', '$129,300', '$129,356', '$129,358', '$129,375', '$129,415', '$129,450', '$129,457', '$129,480', '$129,481', '$129,499', '$129,500', '$129,503', '$129,504', '$129,517', '$129,524', '$129,578', '$129,597', '$129,600', '$129,605', '$129,613', '$129,658', '$129,670', '$129,671', '$129,700', '$129,707', '$129,750', '$129,770', '$129,777', '$129,790', '$129,797', '$129,799', '$129,800', '$129,824', '$129,847', '$129,850', '$129,880', '$129,888', '$129,891', '$129,900', '$129,900+', '$129,917', '$129,922', '$129,941', '$129,950', '$129,962', '$129,976', '$129,981', '$129,987', '$129,988', '$129,990', '$129,991', '$129,995', '$129,997', '$129,999', '$129,999+', '$13,000', '$13,000,000', '$13,001', '$13,250,000', '$13,252,500', '$13,300', '$13,333', '$13,400', '$13,400,000', '$13,407', '$13,499', '$13,500', '$13,500,000', '$13,559,000', '$13,600', '$13,600,000', '$13,700', '$13,721,400', '$13,730,000', '$13,750', '$13,750,000', '$13,800', '$13,800,000', '$13,800/mo', '$13,850', '$13,850,000', '$13,866,000', '$13,875', '$13,900', '$13,900,000', '$13,949,000', '$13,950', '$13,950,000', '$13,975,000', '$13,990', '$13,995', '$13,995,000', '$13,998,000', '$13,999', '$13,999,000', '$130,000', '$130,010', '$130,024', '$130,043', '$130,049', '$130,080', '$130,108', '$130,128', '$130,141', '$130,142', '$130,250', '$130,380', '$130,484', '$130,500', '$130,559', '$130,571', '$130,627', '$130,689', '$130,733', '$130,738', '$130,788', '$130,809', '$130,838', '$130,872', '$130,900', '$130,902', '$130,910', '$130,912', '$130,924', '$130,937', '$130,950', '$130,990', '$130,997', '$130,999', '$131,000', '$131,017', '$131,061', '$131,064', '$131,082', '$131,087', '$131,088', '$131,100', '$131,159', '$131,224', '$131,230', '$131,246', '$131,250', '$131,256', '$131,300', '$131,305', '$131,340', '$131,343', '$131,348', '$131,367', '$131,372', '$131,375', '$131,400', '$131,402', '$131,427', '$131,435', '$131,500', '$131,513', '$131,516', '$131,538', '$131,557', '$131,560', '$131,590', '$131,600', '$131,656', '$131,680', '$131,700', '$131,705', '$131,715', '$131,716', '$131,726', '$131,770', '$131,800', '$131,801', '$131,873', '$131,878', '$131,883', '$131,884', '$131,900', '$131,900+', '$131,920', '$131,950', '$131,990', '$132,000', '$132,008', '$132,040', '$132,051', '$132,056', '$132,100', '$132,126', '$132,150', '$132,196', '$132,235', '$132,291', '$132,300', '$132,324', '$132,363', '$132,368', '$132,407', '$132,409', '$132,448', '$132,460', '$132,477', '$132,497', '$132,498', '$132,499', '$132,500', '$132,509', '$132,513', '$132,514', '$132,532', '$132,585', '$132,617', '$132,623', '$132,674', '$132,702', '$132,759', '$132,769', '$132,788', '$132,810', '$132,855', '$132,900', '$132,925', '$132,941', '$132,950', '$132,951', '$132,997', '$132,998', '$132,999', '$133,000', '$133,003', '$133,016', '$133,018', '$133,027', '$133,034', '$133,040', '$133,091', '$133,100', '$133,106', '$133,147', '$133,176', '$133,236', '$133,259', '$133,265', '$133,290', '$133,294', '$133,297', '$133,300', '$133,304', '$133,310', '$133,323', '$133,338', '$133,359', '$133,376', '$133,387', '$133,400', '$133,418', '$133,450', '$133,494', '$133,499', '$133,500', '$133,507', '$133,510', '$133,520', '$133,523', '$133,540', '$133,541', '$133,577', '$133,600', '$133,620', '$133,625', '$133,637', '$133,700', '$133,707', '$133,711', '$133,729', '$133,739', '$133,781', '$133,784', '$133,800', '$133,802', '$133,806', '$133,844', '$133,852', '$133,888', '$133,900', '$133,966', '$133,990', '$133,994', '$133,999', '$133,999+', '$134,000', '$134,041', '$134,050', '$134,083', '$134,089', '$134,097', '$134,145', '$134,176', '$134,208', '$134,217', '$134,238', '$134,250', '$134,276', '$134,295', '$134,300', '$134,344', '$134,400', '$134,444', '$134,469', '$134,500', '$134,509', '$134,515', '$134,539', '$134,600', '$134,608', '$134,620', '$134,673', '$134,700', '$134,728', '$134,750', '$134,774', '$134,797', '$134,800', '$134,818', '$134,850', '$134,872', '$134,876', '$134,900', '$134,905', '$134,945', '$134,950', '$134,990', '$134,995', '$134,997', '$134,999', '$135,000', '$135,013', '$135,017', '$135,027', '$135,042', '$135,086', '$135,099', '$135,103', '$135,109', '$135,121', '$135,133', '$135,139', '$135,155', '$135,162', '$135,172', '$135,185', '$135,189', '$135,200', '$135,224', '$135,236', '$135,250', '$135,276', '$135,352', '$135,395', '$135,400', '$135,430', '$135,435', '$135,456', '$135,495', '$135,497', '$135,500', '$135,517', '$135,524', '$135,532', '$135,582', '$135,598', '$135,607', '$135,620', '$135,642', '$135,700', '$135,800', '$135,814', '$135,896', '$135,900', '$135,900+', '$135,928', '$135,946', '$135,950', '$135,951', '$135,990', '$135,993', '$135,995', '$135,997', '$135,999', '$136,000', '$136,070', '$136,088', '$136,099', '$136,118', '$136,145', '$136,200', '$136,241', '$136,275', '$136,282', '$136,296', '$136,300', '$136,305', '$136,307', '$136,327', '$136,364', '$136,400', '$136,408', '$136,417', '$136,452', '$136,453', '$136,458', '$136,466', '$136,490', '$136,497', '$136,499+', '$136,500', '$136,529', '$136,547', '$136,550', '$136,564', '$136,566', '$136,570', '$136,590', '$136,620', '$136,647', '$136,678', '$136,698', '$136,732', '$136,738', '$136,741', '$136,768', '$136,799', '$136,800', '$136,808', '$136,813', '$136,880', '$136,900', '$136,950', '$136,990', '$137,000', '$137,018', '$137,023', '$137,036', '$137,045', '$137,048', '$137,119', '$137,126', '$137,193', '$137,215', '$137,250', '$137,263', '$137,275', '$137,289', '$137,350', '$137,352', '$137,368', '$137,400', '$137,442', '$137,460', '$137,476', '$137,499+', '$137,500', '$137,506', '$137,537', '$137,556', '$137,638', '$137,646', '$137,665', '$137,700', '$137,703', '$137,713', '$137,715', '$137,750', '$137,777', '$137,800', '$137,839', '$137,888', '$137,900', '$137,900+', '$137,925', '$137,936', '$137,946', '$137,947', '$137,950', '$137,990', '$137,999', '$138,000', '$138,056', '$138,120', '$138,132', '$138,150', '$138,250', '$138,357', '$138,390', '$138,400', '$138,449', '$138,499', '$138,499+', '$138,500', '$138,547', '$138,607', '$138,648', '$138,652', '$138,671', '$138,698', '$138,700', '$138,715', '$138,737', '$138,763', '$138,800', '$138,806', '$138,853', '$138,859', '$138,866', '$138,888', '$138,900', '$138,922', '$138,968', '$138,990', '$138,996', '$138,999', '$138,999+', '$139,000', '$139,014', '$139,036', '$139,043', '$139,065', '$139,073', '$139,097', '$139,106', '$139,137', '$139,176', '$139,199', '$139,200', '$139,205', '$139,222', '$139,250', '$139,257', '$139,258', '$139,300', '$139,320', '$139,343', '$139,400', '$139,411', '$139,416', '$139,422', '$139,446', '$139,471', '$139,481', '$139,499', '$139,500', '$139,518', '$139,520', '$139,561', '$139,572', '$139,600', '$139,642', '$139,643', '$139,682', '$139,697', '$139,700', '$139,710', '$139,725', '$139,770', '$139,777', '$139,800', '$139,824', '$139,831', '$139,850', '$139,870', '$139,890', '$139,899', '$139,900', '$139,900+', '$139,902', '$139,939', '$139,950', '$139,965', '$139,975', '$139,976', '$139,980', '$139,983', '$139,990', '$139,990+', '$139,995', '$139,999', '$139,999+', '$14,000', '$14,000,000', '$14,000/mo', '$14,100,000', '$14,200', '$14,200,000', '$14,250', '$14,250,000', '$14,400', '$14,495,000', '$14,499', '$14,500', '$14,500,000', '$14,500/mo', '$14,515', '$14,528,000', '$14,600', '$14,620', '$14,650,000', '$14,700', '$14,700,000', '$14,750', '$14,750,000', '$14,777', '$14,796', '$14,800', '$14,800,000', '$14,819', '$14,850', '$14,850,000', '$14,888,000', '$14,900', '$14,900,000', '$14,911', '$14,930', '$14,950', '$14,950,000', '$14,955', '$14,975,000', '$14,990', '$14,995', '$14,995,000', '$14,999', '$14,999,000', '$140,000', '$140,000+', '$140,025', '$140,062', '$140,064', '$140,083', '$140,095', '$140,101', '$140,108', '$140,130', '$140,137', '$140,140', '$140,148', '$140,151', '$140,182', '$140,191', '$140,200', '$140,215', '$140,220', '$140,222', '$140,289', '$140,300', '$140,310', '$140,329', '$140,331', '$140,332', '$140,400', '$140,401', '$140,403', '$140,444', '$140,472', '$140,500', '$140,654', '$140,663', '$140,665', '$140,671', '$140,691', '$140,693', '$140,728', '$140,748', '$140,772', '$140,815', '$140,824', '$140,857', '$140,887', '$140,893', '$140,899', '$140,900', '$140,913', '$140,915', '$140,947', '$140,950', '$140,958', '$140,968', '$140,981', '$140,990', '$140,999', '$141,000', '$141,011', '$141,033', '$141,050', '$141,076', '$141,198', '$141,225', '$141,229', '$141,250', '$141,271', '$141,288', '$141,291', '$141,440', '$141,443', '$141,464', '$141,470', '$141,492', '$141,496', '$141,500', '$141,512', '$141,521', '$141,534', '$141,543', '$141,545', '$141,576', '$141,629', '$141,638', '$141,661', '$141,669', '$141,696', '$141,700', '$141,718', '$141,740', '$141,767', '$141,769', '$141,800', '$141,861', '$141,900', '$141,910', '$141,937', '$141,950', '$141,959', '$141,999', '$141,999+', '$142,000', '$142,023', '$142,029', '$142,040', '$142,146', '$142,162', '$142,197', '$142,199', '$142,250', '$142,346', '$142,366', '$142,386', '$142,400', '$142,438', '$142,491', '$142,499', '$142,500', '$142,531', '$142,546', '$142,553', '$142,600', '$142,603', '$142,662', '$142,692', '$142,700', '$142,701', '$142,707', '$142,714', '$142,718', '$142,723', '$142,725', '$142,745', '$142,750', '$142,769', '$142,793', '$142,799', '$142,800', '$142,869', '$142,894', '$142,900', '$142,920', '$142,946', '$142,990', '$142,995', '$142,995+', '$142,999', '$143,000', '$143,039', '$143,097', '$143,113', '$143,129', '$143,138', '$143,152', '$143,170', '$143,250', '$143,279', '$143,280', '$143,329', '$143,331', '$143,333', '$143,334', '$143,342', '$143,348', '$143,363', '$143,378', '$143,389', '$143,400', '$143,449', '$143,450', '$143,478', '$143,497', '$143,499+', '$143,500', '$143,550', '$143,561', '$143,576', '$143,589', '$143,673', '$143,700', '$143,710', '$143,800', '$143,824', '$143,833', '$143,836', '$143,847', '$143,865', '$143,877', '$143,885', '$143,900', '$143,921', '$143,922', '$143,936', '$143,944', '$143,950', '$143,958', '$143,972', '$143,975', '$143,994', '$143,995', '$143,999', '$144,000', '$144,064', '$144,072', '$144,079', '$144,080', '$144,090', '$144,130', '$144,158', '$144,162', '$144,180', '$144,250', '$144,270', '$144,275', '$144,291', '$144,300', '$144,323', '$144,355', '$144,383', '$144,400', '$144,403', '$144,404', '$144,437', '$144,482', '$144,499', '$144,500', '$144,533', '$144,550', '$144,578', '$144,593', '$144,616', '$144,628', '$144,630', '$144,634', '$144,682', '$144,698', '$144,700', '$144,711', '$144,724', '$144,750', '$144,758', '$144,781', '$144,800', '$144,806', '$144,810', '$144,872', '$144,890', '$144,900', '$144,900+', '$144,930', '$144,941', '$144,950', '$144,959', '$144,984', '$144,988', '$144,990', '$144,995', '$144,997', '$144,998', '$144,999', '$145,000', '$145,008', '$145,010', '$145,080', '$145,082', '$145,100', '$145,108', '$145,129', '$145,156', '$145,184', '$145,200', '$145,300', '$145,309', '$145,325', '$145,386', '$145,397', '$145,459', '$145,499', '$145,500', '$145,501', '$145,505', '$145,528', '$145,540', '$145,566', '$145,568', '$145,595', '$145,600', '$145,605', '$145,692', '$145,693', '$145,700', '$145,707', '$145,726', '$145,750', '$145,773', '$145,788', '$145,800', '$145,811', '$145,850', '$145,891', '$145,900', '$145,999', '$146,000', '$146,014', '$146,051', '$146,073', '$146,089', '$146,103', '$146,136', '$146,200', '$146,231', '$146,237', '$146,244', '$146,264', '$146,303', '$146,307', '$146,334', '$146,355', '$146,384', '$146,400', '$146,413', '$146,435', '$146,469', '$146,499+', '$146,500', '$146,525', '$146,534', '$146,538', '$146,549', '$146,559', '$146,584', '$146,596', '$146,599', '$146,600', '$146,613', '$146,629', '$146,632', '$146,660', '$146,666', '$146,718', '$146,721', '$146,750', '$146,790', '$146,813', '$146,850', '$146,851', '$146,853', '$146,900', '$146,909', '$146,950', '$146,960', '$146,965', '$146,969', '$146,990', '$146,990+', '$146,993', '$146,999', '$147,000', '$147,001', '$147,008', '$147,032', '$147,041', '$147,044', '$147,052', '$147,087', '$147,100', '$147,122', '$147,128', '$147,129', '$147,131', '$147,193', '$147,197', '$147,200', '$147,208', '$147,240', '$147,250', '$147,275', '$147,284', '$147,304', '$147,321', '$147,361', '$147,400', '$147,425', '$147,441', '$147,445', '$147,469', '$147,471', '$147,500', '$147,540', '$147,544', '$147,545', '$147,550', '$147,597', '$147,600', '$147,613', '$147,700', '$147,705', '$147,716', '$147,800', '$147,826', '$147,871', '$147,889', '$147,900', '$147,914', '$147,950', '$147,953', '$147,990', '$147,995', '$147,995+', '$147,999', '$148,000', '$148,077', '$148,088', '$148,097', '$148,100', '$148,112', '$148,118', '$148,191', '$148,195', '$148,210', '$148,223', '$148,258', '$148,261', '$148,276', '$148,280', '$148,304', '$148,311', '$148,400', '$148,434', '$148,438', '$148,449', '$148,466', '$148,478', '$148,495', '$148,500', '$148,543', '$148,564', '$148,620', '$148,626', '$148,638', '$148,676', '$148,679', '$148,700', '$148,719', '$148,750', '$148,755', '$148,788', '$148,800', '$148,848', '$148,850', '$148,858', '$148,880', '$148,888', '$148,891', '$148,899', '$148,900', '$148,900+', '$148,920', '$148,950', '$148,954', '$148,973', '$148,980', '$148,990', '$148,995', '$148,999', '$148,999+', '$149,000', '$149,021', '$149,023', '$149,037', '$149,042', '$149,044', '$149,091', '$149,121', '$149,125', '$149,138', '$149,168', '$149,200', '$149,242', '$149,250', '$149,299', '$149,307', '$149,314', '$149,333', '$149,337', '$149,360', '$149,365', '$149,372', '$149,380', '$149,392', '$149,399', '$149,400', '$149,420', '$149,440', '$149,450', '$149,500', '$149,536', '$149,537', '$149,596', '$149,600', '$149,609', '$149,645', '$149,688', '$149,695', '$149,700', '$149,719', '$149,750', '$149,755', '$149,777', '$149,782', '$149,800', '$149,802', '$149,812', '$149,850', '$149,879', '$149,888', '$149,896', '$149,899', '$149,900', '$149,900+', '$149,909', '$149,927', '$149,950', '$149,970', '$149,974', '$149,975', '$149,986', '$149,988', '$149,990', '$149,995', '$149,999', '$149,999+', '$15,000', '$15,000,000', '$15,000/mo', '$15,100,000', '$15,174,000', '$15,199', '$15,200', '$15,225', '$15,250', '$15,250,000', '$15,300', '$15,300,000', '$15,328', '$15,350,000', '$15,400', '$15,400,000', '$15,476', '$15,490,000', '$15,495,000', '$15,500', '$15,500,000', '$15,521,322', '$15,600', '$15,680', '$15,695', '$15,700', '$15,750', '$15,750,000', '$15,775,000', '$15,790', '$15,800', '$15,815', '$15,850', '$15,878', '$15,885,000', '$15,900', '$15,900,000', '$15,911', '$15,950,000', '$15,975,000', '$15,980', '$15,990', '$15,995', '$15,998,000', '$15,999', '$15,999,000', '$150,000', '$150,000,000', '$150,062', '$150,068', '$150,086', '$150,100', '$150,103', '$150,177', '$150,200', '$150,207', '$150,210', '$150,211', '$150,231', '$150,260', '$150,275', '$150,294', '$150,335', '$150,365', '$150,368', '$150,404', '$150,407', '$150,466', '$150,479', '$150,480', '$150,488', '$150,499', '$150,499+', '$150,500', '$150,520', '$150,527', '$150,545', '$150,565', '$150,569', '$150,596', '$150,600', '$150,600+', '$150,619', '$150,638', '$150,643', '$150,696', '$150,734', '$150,750', '$150,755', '$150,768', '$150,800', '$150,828', '$150,900', '$150,900+', '$150,921', '$150,950', '$150,973', '$150,974', '$150,988', '$150,990', '$150,999', '$150,999+', '$151,000', '$151,011', '$151,043', '$151,051', '$151,204', '$151,216', '$151,240', '$151,254', '$151,257', '$151,270', '$151,289', '$151,295', '$151,325', '$151,327', '$151,426', '$151,499', '$151,500', '$151,520', '$151,580', '$151,592', '$151,618', '$151,627', '$151,640', '$151,649', '$151,700', '$151,723', '$151,730', '$151,775', '$151,780', '$151,786', '$151,800', '$151,888', '$151,900', '$151,905', '$151,920', '$151,939', '$151,950', '$151,959', '$151,964', '$151,993', '$151,997', '$151,999', '$152,000', '$152,012', '$152,038', '$152,042', '$152,050', '$152,067', '$152,082', '$152,100', '$152,104', '$152,108', '$152,109', '$152,128', '$152,135', '$152,145', '$152,158', '$152,178', '$152,200', '$152,224', '$152,230', '$152,250', '$152,253', '$152,277', '$152,284', '$152,322', '$152,323', '$152,381', '$152,395', '$152,400', '$152,421', '$152,462', '$152,490', '$152,499', '$152,499+', '$152,500', '$152,584', '$152,587', '$152,603', '$152,624', '$152,642', '$152,650', '$152,705', '$152,721', '$152,733', '$152,736', '$152,767', '$152,800', '$152,818', '$152,827', '$152,831', '$152,867', '$152,892', '$152,900', '$152,950', '$152,969', '$152,990', '$152,995', '$152,999', '$153,000', '$153,027', '$153,087', '$153,101', '$153,133', '$153,173', '$153,200', '$153,250', '$153,251', '$153,321', '$153,326', '$153,382', '$153,418', '$153,430', '$153,433', '$153,450', '$153,499', '$153,500', '$153,500+', '$153,532', '$153,555', '$153,560', '$153,567', '$153,608', '$153,611', '$153,650', '$153,652', '$153,663', '$153,691', '$153,700', '$153,718', '$153,730', '$153,750', '$153,774', '$153,783', '$153,800', '$153,802', '$153,816', '$153,888', '$153,900', '$153,950', '$153,954', '$153,990', '$153,999', '$154,000', '$154,020', '$154,025', '$154,040', '$154,063', '$154,080', '$154,124', '$154,136', '$154,160', '$154,172', '$154,225', '$154,240', '$154,290', '$154,300', '$154,325', '$154,376', '$154,400', '$154,420', '$154,441', '$154,444', '$154,460', '$154,498', '$154,499', '$154,500', '$154,528', '$154,546', '$154,559', '$154,565', '$154,624', '$154,666', '$154,669', '$154,700', '$154,715', '$154,749', '$154,750', '$154,760', '$154,777', '$154,795', '$154,800', '$154,825', '$154,826', '$154,888', '$154,899', '$154,900', '$154,900+', '$154,909', '$154,913', '$154,935', '$154,939', '$154,944', '$154,950', '$154,960', '$154,967', '$154,978', '$154,990', '$154,990+', '$154,992', '$154,995', '$154,997', '$154,999', '$155,000', '$155,009', '$155,061', '$155,116', '$155,130', '$155,140', '$155,174', '$155,184', '$155,200', '$155,205', '$155,225', '$155,250', '$155,268', '$155,269', '$155,282', '$155,315', '$155,357', '$155,400', '$155,409', '$155,419', '$155,500', '$155,539', '$155,548', '$155,555', '$155,574', '$155,607', '$155,625', '$155,657', '$155,663', '$155,681', '$155,700', '$155,724', '$155,733', '$155,750', '$155,758', '$155,760', '$155,770', '$155,795', '$155,800', '$155,824', '$155,858', '$155,873', '$155,900', '$155,900+', '$155,950', '$155,965', '$155,985', '$155,990', '$155,992', '$155,999', '$156,000', '$156,000+', '$156,050', '$156,119', '$156,146', '$156,163', '$156,218', '$156,243', '$156,279', '$156,299', '$156,300', '$156,335', '$156,360', '$156,366', '$156,400', '$156,427', '$156,467', '$156,482', '$156,490', '$156,497', '$156,500', '$156,555', '$156,561', '$156,590', '$156,591', '$156,612', '$156,638', '$156,692', '$156,700', '$156,750', '$156,763', '$156,784', '$156,787', '$156,792', '$156,794', '$156,797', '$156,800', '$156,828', '$156,859', '$156,880', '$156,888', '$156,898', '$156,900', '$156,900+', '$156,940', '$156,945', '$156,950', '$156,968', '$156,990', '$156,990+', '$156,995', '$156,999', '$157,000', '$157,074', '$157,138', '$157,142', '$157,150', '$157,151', '$157,200', '$157,209', '$157,218', '$157,220', '$157,284', '$157,300', '$157,369', '$157,370', '$157,385', '$157,398', '$157,400', '$157,429', '$157,449', '$157,477', '$157,482', '$157,490', '$157,493', '$157,499+', '$157,500', '$157,504', '$157,509', '$157,525', '$157,548', '$157,575', '$157,579', '$157,583', '$157,590', '$157,592', '$157,600', '$157,607', '$157,672', '$157,700', '$157,700+', '$157,744', '$157,764', '$157,769', '$157,800', '$157,815', '$157,816', '$157,850', '$157,899', '$157,900', '$157,920', '$157,950', '$157,969', '$157,990', '$157,995', '$157,999', '$158,000', '$158,000+', '$158,024', '$158,100', '$158,153', '$158,168', '$158,197', '$158,220', '$158,225', '$158,256', '$158,261', '$158,300', '$158,365', '$158,378', '$158,380', '$158,391', '$158,400', '$158,421', '$158,424', '$158,434', '$158,437', '$158,480', '$158,498', '$158,500', '$158,520', '$158,529', '$158,533', '$158,600', '$158,627', '$158,628', '$158,659', '$158,662', '$158,700', '$158,747', '$158,750', '$158,760', '$158,777', '$158,782', '$158,785', '$158,800', '$158,819', '$158,841', '$158,850', '$158,853', '$158,875', '$158,888', '$158,900', '$158,900+', '$158,909', '$158,916', '$158,920', '$158,921', '$158,950', '$158,950+', '$158,958', '$158,999', '$158,999+', '$159,000', '$159,065', '$159,112', '$159,114', '$159,120', '$159,142', '$159,180', '$159,212', '$159,229', '$159,231', '$159,262', '$159,275', '$159,300', '$159,316', '$159,337', '$159,355', '$159,387', '$159,400', '$159,412', '$159,430', '$159,441', '$159,467', '$159,490', '$159,499', '$159,499+', '$159,500', '$159,500+', '$159,508', '$159,538', '$159,546', '$159,547', '$159,594', '$159,595', '$159,600', '$159,616', '$159,688', '$159,700', '$159,702', '$159,724', '$159,750', '$159,782', '$159,799', '$159,800', '$159,834', '$159,856', '$159,865', '$159,877', '$159,880', '$159,888', '$159,890', '$159,898', '$159,899', '$159,900', '$159,900+', '$159,907', '$159,922', '$159,924', '$159,925', '$159,946', '$159,950', '$159,950+', '$159,975', '$159,989', '$159,990', '$159,995', '$159,997', '$159,999', '$159,999+', '$16,000', '$16,000,000', '$16,017', '$16,125', '$16,150', '$16,200', '$16,245', '$16,250', '$16,250,000', '$16,300,000', '$16,310', '$16,329', '$16,357', '$16,400', '$16,400,000', '$16,480', '$16,490,000', '$16,500', '$16,500,000', '$16,543', '$16,599', '$16,700', '$16,700,000', '$16,720', '$16,750', '$16,750,000', '$16,800,000', '$16,850,000', '$16,900', '$16,900,000', '$16,925', '$16,950', '$16,950,000', '$16,977', '$16,990', '$16,995', '$16,995,000', '$16,996', '$16,999', '$16,999,000', '$160,000', '$160,000+', '$160,004', '$160,039', '$160,049', '$160,095', '$160,105', '$160,131', '$160,157', '$160,200', '$160,211', '$160,238', '$160,239', '$160,240', '$160,245', '$160,257', '$160,273', '$160,285', '$160,300', '$160,320', '$160,345', '$160,351', '$160,370', '$160,428', '$160,437', '$160,490+', '$160,498', '$160,500', '$160,503', '$160,504', '$160,560', '$160,577', '$160,579', '$160,595', '$160,599', '$160,600', '$160,615', '$160,632', '$160,650', '$160,660', '$160,680', '$160,750', '$160,793', '$160,805', '$160,815', '$160,866', '$160,900', '$160,911', '$160,950', '$160,950+', '$160,990', '$160,990+', '$160,995', '$160,999', '$160,999+', '$161,000', '$161,000+', '$161,002', '$161,044', '$161,088', '$161,121', '$161,161', '$161,163', '$161,165', '$161,179', '$161,190', '$161,208', '$161,211', '$161,213', '$161,215', '$161,223', '$161,246', '$161,262', '$161,300', '$161,316', '$161,327', '$161,339', '$161,372', '$161,380', '$161,384', '$161,395', '$161,415', '$161,434', '$161,450', '$161,466', '$161,468', '$161,471', '$161,499', '$161,499+', '$161,500', '$161,504', '$161,515', '$161,584', '$161,643', '$161,660', '$161,661', '$161,686', '$161,696', '$161,700', '$161,742', '$161,760', '$161,770', '$161,777', '$161,832', '$161,838', '$161,844', '$161,866', '$161,875', '$161,883', '$161,897', '$161,900', '$161,919', '$161,947', '$161,950', '$161,954', '$161,969', '$161,984', '$161,990', '$161,990+', '$161,994', '$161,995', '$161,999', '$161,999+', '$162,000', '$162,050', '$162,068', '$162,082', '$162,095', '$162,100', '$162,105', '$162,134', '$162,146', '$162,168', '$162,170', '$162,197', '$162,225', '$162,276', '$162,277', '$162,294', '$162,300', '$162,347', '$162,358', '$162,360', '$162,388', '$162,395', '$162,400', '$162,417', '$162,439', '$162,450', '$162,479', '$162,481', '$162,499', '$162,499+', '$162,500', '$162,505', '$162,522', '$162,542', '$162,552', '$162,567', '$162,568', '$162,571', '$162,586', '$162,591', '$162,595', '$162,600', '$162,665', '$162,700', '$162,706', '$162,709', '$162,746', '$162,750', '$162,763', '$162,834', '$162,848', '$162,854', '$162,877', '$162,900', '$162,928', '$162,950', '$162,950+', '$162,960', '$162,990', '$162,998', '$162,999', '$162,999+', '$163,000', '$163,013', '$163,092', '$163,140', '$163,200', '$163,206', '$163,240', '$163,298', '$163,300', '$163,346', '$163,390', '$163,400', '$163,413', '$163,431', '$163,463', '$163,477', '$163,490', '$163,499', '$163,499+', '$163,500', '$163,500+', '$163,509', '$163,524', '$163,527', '$163,534', '$163,566', '$163,590', '$163,593', '$163,608', '$163,629', '$163,649', '$163,685', '$163,690', '$163,704', '$163,724', '$163,741', '$163,750', '$163,758', '$163,769', '$163,777', '$163,800', '$163,802', '$163,827', '$163,878', '$163,883', '$163,885', '$163,888', '$163,889', '$163,899', '$163,900', '$163,910', '$163,921', '$163,927', '$163,938', '$163,950', '$163,950+', '$163,970', '$163,977', '$163,990', '$163,998', '$163,999', '$163,999+', '$164,000', '$164,000+', '$164,010', '$164,063', '$164,100+', '$164,150', '$164,162', '$164,200', '$164,220', '$164,262', '$164,281', '$164,288', '$164,300', '$164,382', '$164,400', '$164,406', '$164,420', '$164,422', '$164,436', '$164,445', '$164,450', '$164,491', '$164,499', '$164,499+', '$164,500', '$164,548', '$164,561', '$164,584', '$164,600', '$164,610', '$164,618', '$164,653', '$164,658', '$164,660', '$164,700', '$164,702', '$164,770', '$164,777', '$164,800', '$164,819', '$164,842', '$164,850', '$164,862', '$164,868', '$164,880', '$164,888', '$164,890', '$164,895', '$164,900', '$164,900+', '$164,916', '$164,936', '$164,937', '$164,950', '$164,950+', '$164,977', '$164,990', '$164,995', '$164,998', '$164,999', '$164,999+', '$165,000', '$165,000,000', '$165,009', '$165,078', '$165,094', '$165,095', '$165,100', '$165,119', '$165,150', '$165,212', '$165,280', '$165,289', '$165,300', '$165,302', '$165,311', '$165,327', '$165,359', '$165,376', '$165,394', '$165,400', '$165,442', '$165,500', '$165,505', '$165,510', '$165,531', '$165,540', '$165,554', '$165,558', '$165,568', '$165,572', '$165,629', '$165,641', '$165,642', '$165,650', '$165,655', '$165,670', '$165,679', '$165,689', '$165,700', '$165,704', '$165,705', '$165,713', '$165,743', '$165,774', '$165,794', '$165,800', '$165,802', '$165,856', '$165,875', '$165,880', '$165,882', '$165,900', '$165,909', '$165,922', '$165,936', '$165,950', '$165,966', '$165,985', '$165,990', '$165,990+', '$165,995', '$165,999', '$165,999+', '$166,000', '$166,000+', '$166,050', '$166,074', '$166,123', '$166,128', '$166,163', '$166,210', '$166,212', '$166,216', '$166,218', '$166,250', '$166,264', '$166,285', '$166,300', '$166,348', '$166,359', '$166,360', '$166,362', '$166,386', '$166,419', '$166,430', '$166,435', '$166,450', '$166,459', '$166,480', '$166,481', '$166,499', '$166,500', '$166,500+', '$166,516', '$166,519', '$166,543', '$166,571', '$166,606', '$166,607', '$166,612', '$166,615', '$166,618', '$166,625+', '$166,628', '$166,642', '$166,650', '$166,700+', '$166,709', '$166,753', '$166,757', '$166,789', '$166,794', '$166,841', '$166,849', '$166,899', '$166,900', '$166,900+', '$166,950', '$166,950+', '$166,963', '$166,975', '$166,982', '$166,990', '$166,990+', '$166,999', '$166,999+', '$167,000', '$167,006', '$167,021', '$167,035', '$167,050', '$167,088', '$167,100', '$167,103', '$167,128', '$167,134', '$167,140', '$167,154', '$167,200', '$167,202', '$167,227', '$167,230', '$167,231', '$167,239', '$167,250', '$167,310', '$167,315', '$167,320', '$167,323', '$167,326', '$167,327', '$167,339', '$167,359', '$167,376', '$167,379', '$167,400', '$167,450', '$167,451', '$167,467', '$167,484', '$167,488', '$167,499', '$167,500', '$167,529', '$167,561', '$167,577', '$167,600', '$167,626', '$167,673', '$167,700', '$167,704', '$167,715', '$167,721', '$167,768', '$167,812', '$167,821', '$167,840', '$167,865', '$167,870', '$167,872', '$167,879', '$167,888', '$167,890', '$167,899', '$167,900', '$167,900+', '$167,914', '$167,922', '$167,923', '$167,925', '$167,940', '$167,950', '$167,990', '$167,990+', '$167,999', '$167,999+', '$168,000', '$168,018', '$168,022', '$168,031', '$168,044', '$168,050', '$168,097', '$168,103', '$168,124', '$168,140', '$168,175', '$168,217', '$168,230', '$168,250', '$168,289', '$168,300', '$168,318', '$168,351', '$168,360', '$168,400', '$168,417', '$168,430', '$168,450', '$168,484', '$168,490', '$168,499', '$168,500', '$168,575', '$168,580', '$168,606', '$168,616', '$168,617', '$168,640', '$168,688', '$168,700', '$168,740', '$168,750', '$168,767', '$168,775', '$168,800', '$168,808', '$168,861', '$168,863', '$168,870', '$168,871', '$168,888', '$168,900', '$168,900+', '$168,935', '$168,950', '$168,963', '$168,974', '$168,975', '$168,985', '$168,990', '$168,990+', '$168,999', '$169,000', '$169,000+', '$169,018', '$169,029', '$169,076', '$169,100', '$169,104', '$169,107', '$169,133', '$169,136', '$169,173', '$169,189', '$169,200', '$169,252', '$169,260', '$169,291', '$169,300', '$169,308', '$169,320', '$169,325', '$169,333', '$169,388', '$169,400', '$169,412', '$169,429', '$169,448', '$169,450', '$169,499', '$169,500', '$169,540', '$169,550', '$169,582', '$169,600', '$169,628', '$169,646', '$169,649', '$169,661', '$169,676', '$169,689', '$169,694', '$169,695', '$169,700', '$169,720', '$169,745', '$169,750', '$169,766', '$169,780', '$169,800', '$169,822', '$169,831', '$169,847', '$169,856', '$169,861', '$169,865', '$169,869', '$169,884', '$169,888', '$169,896', '$169,899', '$169,900', '$169,900+', '$169,917', '$169,930', '$169,944', '$169,948', '$169,950', '$169,950+', '$169,975', '$169,984', '$169,990', '$169,995', '$169,997', '$169,999', '$169,999+', '$17,000', '$17,000,000', '$17,000/mo', '$17,100', '$17,105', '$17,156,850', '$17,250', '$17,294,370', '$17,300', '$17,300,000', '$17,320', '$17,341', '$17,400', '$17,490,000', '$17,495,000', '$17,500', '$17,500,000', '$17,550,000', '$17,600', '$17,692', '$17,695,000', '$17,700', '$17,700,000', '$17,780', '$17,795', '$17,800', '$17,810', '$17,850,000', '$17,888,000', '$17,900', '$17,900+', '$17,900,000', '$17,950,000', '$17,971', '$17,987', '$17,990', '$17,993', '$17,995', '$17,995,000', '$17,999', '$17,999,000', '$170,000', '$170,000+', '$170,025', '$170,042', '$170,062', '$170,070', '$170,073', '$170,100', '$170,132', '$170,140', '$170,161', '$170,190', '$170,199', '$170,201', '$170,210', '$170,230', '$170,245', '$170,261', '$170,263', '$170,292', '$170,300', '$170,339', '$170,362', '$170,363', '$170,375', '$170,400', '$170,418', '$170,434', '$170,450', '$170,465', '$170,487', '$170,490', '$170,490+', '$170,499+', '$170,500', '$170,525', '$170,548', '$170,551', '$170,591', '$170,612', '$170,628+', '$170,694', '$170,700', '$170,760', '$170,850', '$170,890', '$170,892', '$170,899', '$170,900', '$170,900+', '$170,905', '$170,917', '$170,933', '$170,990', '$170,990+', '$170,993', '$170,999', '$170,999+', '$171,000', '$171,000+', '$171,056', '$171,059', '$171,080', '$171,106', '$171,140', '$171,181', '$171,190', '$171,200', '$171,250', '$171,262', '$171,277', '$171,306', '$171,320', '$171,353', '$171,354', '$171,382', '$171,400', '$171,408', '$171,418', '$171,450', '$171,475', '$171,490', '$171,495', '$171,496', '$171,500', '$171,500+', '$171,501', '$171,539', '$171,583', '$171,600', '$171,609', '$171,617', '$171,700', '$171,708', '$171,725', '$171,740', '$171,782', '$171,782+', '$171,790', '$171,794', '$171,863', '$171,873', '$171,894', '$171,896', '$171,898', '$171,900', '$171,900+', '$171,936', '$171,950', '$171,963', '$171,990', '$171,990+', '$171,995', '$171,999', '$171,999+', '$172,000', '$172,000+', '$172,076', '$172,114', '$172,143', '$172,200', '$172,200+', '$172,208', '$172,212', '$172,221', '$172,375', '$172,385', '$172,422', '$172,443', '$172,466', '$172,480', '$172,481', '$172,490', '$172,490+', '$172,499', '$172,500', '$172,524', '$172,549', '$172,590', '$172,639', '$172,654', '$172,694', '$172,700', '$172,750', '$172,755', '$172,758', '$172,760', '$172,765', '$172,780', '$172,783', '$172,787', '$172,796', '$172,800', '$172,831', '$172,844', '$172,850', '$172,887', '$172,899', '$172,900', '$172,900+', '$172,942', '$172,950', '$172,950+', '$172,959', '$172,961', '$172,963', '$172,980', '$172,990', '$172,990+', '$172,994', '$172,999', '$172,999+', '$173,000', '$173,000+', '$173,037', '$173,051', '$173,060', '$173,106', '$173,106+', '$173,137', '$173,166', '$173,179', '$173,188', '$173,200', '$173,212', '$173,230', '$173,245', '$173,257', '$173,260', '$173,264', '$173,295', '$173,300', '$173,306', '$173,324', '$173,360', '$173,372', '$173,374', '$173,400', '$173,402', '$173,419', '$173,469', '$173,490', '$173,499', '$173,499+', '$173,500', '$173,500+', '$173,516', '$173,530', '$173,535', '$173,577', '$173,590', '$173,598', '$173,683', '$173,689', '$173,700', '$173,704', '$173,717', '$173,740', '$173,752', '$173,800', '$173,824', '$173,853', '$173,875', '$173,880', '$173,888', '$173,897', '$173,900', '$173,900+', '$173,914', '$173,950', '$173,955', '$173,964', '$173,981', '$173,990', '$173,995', '$173,998', '$173,999', '$173,999+', '$174,000', '$174,000+', '$174,019', '$174,023', '$174,050', '$174,063', '$174,082', '$174,100', '$174,128', '$174,144', '$174,155', '$174,157', '$174,215', '$174,252', '$174,268', '$174,290', '$174,298', '$174,299', '$174,300', '$174,350', '$174,378', '$174,395', '$174,400', '$174,431', '$174,437', '$174,450', '$174,480', '$174,484', '$174,490', '$174,494', '$174,497', '$174,499', '$174,499+', '$174,500', '$174,532', '$174,542', '$174,600', '$174,605', '$174,633', '$174,639', '$174,640', '$174,659', '$174,673', '$174,699', '$174,700', '$174,731', '$174,740', '$174,750', '$174,772', '$174,784', '$174,800', '$174,807', '$174,817', '$174,849', '$174,850', '$174,869', '$174,871', '$174,888', '$174,892', '$174,898', '$174,899', '$174,900', '$174,900+', '$174,901', '$174,903', '$174,945', '$174,948', '$174,950', '$174,979', '$174,980', '$174,981', '$174,982', '$174,990', '$174,990+', '$174,995', '$174,997', '$174,999', '$175,000', '$175,000+', '$175,041', '$175,060', '$175,100+', '$175,173', '$175,174', '$175,198', '$175,200', '$175,206', '$175,225', '$175,230', '$175,247', '$175,263', '$175,300', '$175,355', '$175,359', '$175,363', '$175,384', '$175,400', '$175,450', '$175,457', '$175,474', '$175,499', '$175,499+', '$175,500', '$175,520', '$175,544', '$175,566', '$175,579', '$175,598', '$175,600', '$175,619', '$175,636', '$175,652', '$175,662', '$175,669', '$175,680', '$175,689', '$175,697', '$175,700+', '$175,758', '$175,762', '$175,800', '$175,804', '$175,814', '$175,834', '$175,836', '$175,869', '$175,900', '$175,900+', '$175,915', '$175,920', '$175,950', '$175,950+', '$175,960', '$175,962', '$175,967', '$175,987', '$175,988', '$175,990', '$175,990+', '$175,992', '$175,995', '$175,997', '$175,999', '$176,000', '$176,000+', '$176,011', '$176,059', '$176,062', '$176,073', '$176,102', '$176,139', '$176,144', '$176,200+', '$176,206', '$176,228', '$176,240', '$176,296', '$176,339', '$176,342', '$176,355', '$176,359', '$176,400', '$176,449', '$176,450', '$176,457', '$176,484', '$176,490', '$176,499', '$176,499+', '$176,500', '$176,545', '$176,546', '$176,556', '$176,590', '$176,591', '$176,600', '$176,642', '$176,673', '$176,700', '$176,700+', '$176,710', '$176,715', '$176,718', '$176,723', '$176,800', '$176,860', '$176,875', '$176,900', '$176,934', '$176,950', '$176,972', '$176,977', '$176,988', '$176,990', '$176,999', '$176,999+', '$177,000', '$177,005', '$177,007', '$177,012', '$177,026', '$177,030', '$177,055', '$177,060', '$177,076', '$177,089', '$177,111', '$177,123', '$177,147', '$177,171', '$177,175', '$177,221', '$177,253', '$177,273', '$177,299', '$177,300', '$177,308', '$177,330', '$177,365', '$177,400', '$177,450', '$177,489', '$177,499', '$177,500', '$177,500+', '$177,515', '$177,524', '$177,527', '$177,547', '$177,580', '$177,590', '$177,604', '$177,636', '$177,665', '$177,687', '$177,697', '$177,700', '$177,713', '$177,736', '$177,750', '$177,772', '$177,800', '$177,819', '$177,842', '$177,878', '$177,891', '$177,900', '$177,900+', '$177,918', '$177,919', '$177,946', '$177,950', '$177,950+', '$177,990', '$177,990+', '$177,999', '$177,999+', '$178,000', '$178,000+', '$178,001', '$178,025', '$178,043', '$178,047', '$178,052', '$178,080', '$178,090', '$178,100', '$178,105', '$178,140', '$178,143', '$178,149', '$178,172', '$178,188', '$178,200', '$178,231', '$178,300', '$178,301', '$178,306', '$178,322', '$178,334', '$178,374', '$178,400', '$178,415', '$178,424', '$178,425', '$178,440', '$178,448', '$178,461', '$178,467', '$178,483', '$178,489', '$178,490', '$178,495', '$178,499', '$178,500', '$178,500+', '$178,517', '$178,548', '$178,565', '$178,587', '$178,600', '$178,601', '$178,615', '$178,637', '$178,660', '$178,685', '$178,692', '$178,699', '$178,700', '$178,740', '$178,740+', '$178,747', '$178,754', '$178,760', '$178,780', '$178,790', '$178,791', '$178,800', '$178,835', '$178,840', '$178,855', '$178,888', '$178,890', '$178,891', '$178,899', '$178,900', '$178,900+', '$178,950', '$178,953', '$178,980', '$178,988', '$178,990', '$178,990+', '$178,995', '$178,998', '$178,999', '$178,999+', '$179,000', '$179,000+', '$179,009', '$179,031', '$179,066', '$179,100', '$179,159', '$179,200', '$179,202', '$179,208', '$179,300', '$179,328', '$179,330', '$179,332', '$179,336', '$179,338', '$179,369', '$179,378', '$179,399', '$179,400', '$179,410', '$179,430', '$179,441', '$179,445', '$179,448', '$179,450', '$179,452', '$179,483', '$179,490', '$179,499', '$179,500', '$179,500+', '$179,592', '$179,600', '$179,630', '$179,640', '$179,655', '$179,689', '$179,700', '$179,708', '$179,718', '$179,740', '$179,748', '$179,799', '$179,800', '$179,827', '$179,849', '$179,851', '$179,879', '$179,883', '$179,888', '$179,899', '$179,900', '$179,900+', '$179,919', '$179,940', '$179,950', '$179,960', '$179,971', '$179,975', '$179,980', '$179,987', '$179,990', '$179,995', '$179,997', '$179,998', '$179,999', '$179,999+', '$18,000', '$18,000,000', '$18,100', '$18,250', '$18,250,000', '$18,262,000', '$18,300', '$18,330', '$18,350,000', '$18,388', '$18,400', '$18,400,000', '$18,450', '$18,480', '$18,495', '$18,500', '$18,500,000', '$18,523', '$18,616,551', '$18,650,000', '$18,700', '$18,743,000', '$18,750,000', '$18,800', '$18,800,000', '$18,807,000', '$18,815', '$18,888,000', '$18,895,000', '$18,899', '$18,900', '$18,900,000', '$18,930', '$18,950,000', '$18,990', '$18,995', '$18,995,000', '$18,999', '$18,999,000', '$180,000', '$180,000+', '$180,002', '$180,078', '$180,100', '$180,104', '$180,150', '$180,171', '$180,180', '$180,200', '$180,226', '$180,345', '$180,367', '$180,463', '$180,477', '$180,496', '$180,499', '$180,500', '$180,513', '$180,554', '$180,558', '$180,600', '$180,600+', '$180,627', '$180,632', '$180,634', '$180,662', '$180,689', '$180,695', '$180,703', '$180,780', '$180,788', '$180,809', '$180,850', '$180,899', '$180,900', '$180,900+', '$180,906', '$180,930', '$180,950', '$180,960', '$180,972', '$180,990', '$180,990+', '$180,993', '$180,995+', '$180,999', '$180,999+', '$181,000', '$181,000+', '$181,005', '$181,023', '$181,035', '$181,047', '$181,059', '$181,066', '$181,105', '$181,127', '$181,158', '$181,166', '$181,172', '$181,204', '$181,216', '$181,218', '$181,220', '$181,240', '$181,251', '$181,270', '$181,280', '$181,300', '$181,314', '$181,318', '$181,385', '$181,391', '$181,398', '$181,400', '$181,446', '$181,450', '$181,462', '$181,490', '$181,499', '$181,499+', '$181,500', '$181,532', '$181,537', '$181,586', '$181,600', '$181,627', '$181,662', '$181,682', '$181,696', '$181,740', '$181,780', '$181,800', '$181,807', '$181,838', '$181,872', '$181,900', '$181,900+', '$181,920', '$181,925', '$181,930', '$181,950', '$181,960', '$181,980', '$181,990', '$181,990+', '$181,999', '$182,000', '$182,000+', '$182,035', '$182,041', '$182,092', '$182,109', '$182,117', '$182,125', '$182,126', '$182,160', '$182,175', '$182,192', '$182,193', '$182,194', '$182,195', '$182,199', '$182,223', '$182,227', '$182,240', '$182,243', '$182,250', '$182,255', '$182,270', '$182,288', '$182,300', '$182,305', '$182,313', '$182,399', '$182,400', '$182,416', '$182,432', '$182,435', '$182,440', '$182,442', '$182,450', '$182,470', '$182,471', '$182,490', '$182,490+', '$182,499', '$182,499+', '$182,500', '$182,500+', '$182,512', '$182,518', '$182,527', '$182,582', '$182,594', '$182,615', '$182,637', '$182,653', '$182,663', '$182,690', '$182,700', '$182,750', '$182,777', '$182,785', '$182,800+', '$182,810', '$182,819', '$182,820', '$182,855', '$182,862', '$182,899', '$182,900', '$182,900+', '$182,904', '$182,950', '$182,960', '$182,990', '$182,990+', '$182,999', '$182,999+', '$183,000', '$183,000+', '$183,060', '$183,091', '$183,100+', '$183,112', '$183,162', '$183,164', '$183,170', '$183,196', '$183,200', '$183,245', '$183,300+', '$183,343', '$183,393', '$183,399', '$183,400', '$183,409', '$183,437', '$183,450', '$183,456', '$183,490', '$183,490+', '$183,491', '$183,498', '$183,499', '$183,499+', '$183,500', '$183,520', '$183,543', '$183,565', '$183,595', '$183,640', '$183,657', '$183,659', '$183,666', '$183,700', '$183,709', '$183,713', '$183,739', '$183,740', '$183,740+', '$183,771', '$183,777', '$183,800', '$183,815', '$183,820', '$183,861', '$183,900', '$183,925', '$183,930', '$183,950', '$183,967', '$183,974', '$183,975', '$183,990', '$183,990+', '$183,999', '$184,000', '$184,017', '$184,018', '$184,029', '$184,082', '$184,100', '$184,100+', '$184,128', '$184,130', '$184,150', '$184,160', '$184,186', '$184,200', '$184,207', '$184,229', '$184,230', '$184,253', '$184,300', '$184,319', '$184,399', '$184,400+', '$184,423', '$184,450', '$184,453', '$184,455', '$184,490', '$184,499', '$184,500', '$184,524', '$184,539', '$184,546', '$184,550', '$184,569', '$184,600', '$184,625', '$184,627', '$184,650', '$184,664', '$184,669', '$184,688', '$184,700', '$184,706', '$184,737', '$184,740', '$184,755', '$184,758', '$184,770', '$184,780', '$184,800', '$184,800+', '$184,804', '$184,850', '$184,898', '$184,899', '$184,900', '$184,900+', '$184,902', '$184,904', '$184,910', '$184,936', '$184,947', '$184,950', '$184,975', '$184,980', '$184,982', '$184,989', '$184,990', '$184,990+', '$184,993', '$184,995', '$184,995+', '$184,998', '$184,999', '$184,999+', '$185,000', '$185,000+', '$185,042', '$185,080', '$185,121', '$185,195', '$185,200', '$185,215', '$185,250', '$185,300', '$185,321', '$185,340', '$185,342', '$185,356', '$185,357', '$185,383', '$185,390', '$185,399', '$185,400', '$185,402', '$185,450', '$185,460', '$185,475+', '$185,490', '$185,499', '$185,499+', '$185,500', '$185,500+', '$185,554', '$185,597', '$185,614', '$185,620', '$185,639', '$185,645', '$185,680', '$185,734', '$185,750', '$185,777', '$185,793', '$185,800', '$185,808', '$185,817', '$185,853', '$185,888', '$185,900', '$185,900+', '$185,950', '$185,952', '$185,985', '$185,990', '$185,990+', '$185,999', '$185,999+', '$186,000', '$186,000+', '$186,010', '$186,022', '$186,052', '$186,060', '$186,093', '$186,100', '$186,105', '$186,165', '$186,184', '$186,200', '$186,215', '$186,240', '$186,276', '$186,300', '$186,308', '$186,309', '$186,386', '$186,399', '$186,420', '$186,437', '$186,450', '$186,462', '$186,499', '$186,499+', '$186,500', '$186,500+', '$186,505', '$186,507', '$186,511', '$186,577', '$186,581', '$186,600', '$186,605', '$186,700', '$186,734', '$186,800', '$186,873', '$186,894', '$186,900', '$186,900+', '$186,912', '$186,950', '$186,950+', '$186,956', '$186,958', '$186,990', '$186,990+', '$186,995+', '$186,999', '$187,000', '$187,000+', '$187,019', '$187,026', '$187,148', '$187,150', '$187,160', '$187,206', '$187,222', '$187,269', '$187,270', '$187,282', '$187,295', '$187,300', '$187,304', '$187,353', '$187,354', '$187,395', '$187,398', '$187,400', '$187,450', '$187,486', '$187,490', '$187,490+', '$187,499', '$187,499+', '$187,500', '$187,514', '$187,520', '$187,534', '$187,552', '$187,570', '$187,585', '$187,600', '$187,602', '$187,669', '$187,680', '$187,700', '$187,700+', '$187,740', '$187,743', '$187,760', '$187,775', '$187,777', '$187,789', '$187,819', '$187,823', '$187,857', '$187,899', '$187,900', '$187,900+', '$187,908', '$187,950', '$187,950+', '$187,975', '$187,990', '$187,990+', '$187,995', '$187,999', '$187,999+', '$188,000', '$188,000+', '$188,002', '$188,065', '$188,066', '$188,078', '$188,081', '$188,154', '$188,175', '$188,179', '$188,180', '$188,252', '$188,259', '$188,300', '$188,310', '$188,315', '$188,316', '$188,337', '$188,363', '$188,364', '$188,437', '$188,445', '$188,450', '$188,461', '$188,490', '$188,499', '$188,500', '$188,542', '$188,574', '$188,665+', '$188,680', '$188,683', '$188,700', '$188,724', '$188,750', '$188,758', '$188,793', '$188,794', '$188,800', '$188,888', '$188,900', '$188,900+', '$188,902', '$188,950', '$188,959', '$188,973', '$188,990', '$188,990+', '$188,994', '$188,995', '$188,995+', '$188,999', '$188,999+', '$189,000', '$189,000+', '$189,017', '$189,030', '$189,050', '$189,155', '$189,191', '$189,197', '$189,200', '$189,214', '$189,230', '$189,232', '$189,240', '$189,246', '$189,250', '$189,258', '$189,259', '$189,268', '$189,300', '$189,310', '$189,338', '$189,361', '$189,387', '$189,400', '$189,414', '$189,440', '$189,450', '$189,490', '$189,492', '$189,499', '$189,500', '$189,500+', '$189,525', '$189,557', '$189,570', '$189,584', '$189,600', '$189,619', '$189,650', '$189,657', '$189,666', '$189,700', '$189,715', '$189,740', '$189,750', '$189,751', '$189,777', '$189,790', '$189,800', '$189,810', '$189,815', '$189,817', '$189,850', '$189,862', '$189,870', '$189,880', '$189,885', '$189,888', '$189,899', '$189,900', '$189,900+', '$189,924', '$189,934', '$189,946', '$189,950', '$189,950+', '$189,955', '$189,969', '$189,974', '$189,987', '$189,990', '$189,990+', '$189,995', '$189,998', '$189,999', '$19,000', '$19,000,000', '$19,025,000', '$19,100', '$19,120', '$19,167', '$19,200', '$19,250', '$19,277', '$19,300', '$19,350', '$19,400', '$19,403', '$19,480', '$19,500', '$19,500,000', '$19,550', '$19,600', '$19,695,000', '$19,700', '$19,727', '$19,728', '$19,750', '$19,750,000', '$19,750/mo', '$19,800', '$19,800,000', '$19,850', '$19,855', '$19,889,000', '$19,900', '$19,900+', '$19,900,000', '$19,909', '$19,925', '$19,942,500', '$19,950', '$19,950,000', '$19,959', '$19,975,000', '$19,990', '$19,995', '$19,995,000', '$19,999', '$190,000', '$190,000+', '$190,028', '$190,035', '$190,058', '$190,070', '$190,076', '$190,077', '$190,091', '$190,099', '$190,100', '$190,110', '$190,135', '$190,160', '$190,162', '$190,188', '$190,225', '$190,232', '$190,255', '$190,258', '$190,283', '$190,290', '$190,300', '$190,304', '$190,307', '$190,310', '$190,322', '$190,341', '$190,364', '$190,394', '$190,400', '$190,414', '$190,450', '$190,455', '$190,459', '$190,497', '$190,499', '$190,499+', '$190,500', '$190,503', '$190,534', '$190,560', '$190,565', '$190,567', '$190,602', '$190,650', '$190,701', '$190,717', '$190,740', '$190,742', '$190,747', '$190,750', '$190,760', '$190,784', '$190,854', '$190,860', '$190,866', '$190,900', '$190,900+', '$190,947', '$190,950', '$190,955', '$190,990', '$190,990+', '$190,999', '$190,999+', '$191,000', '$191,000+', '$191,023', '$191,031', '$191,039', '$191,067', '$191,077', '$191,100', '$191,140', '$191,152', '$191,190', '$191,199', '$191,200', '$191,281', '$191,312', '$191,388', '$191,400', '$191,411', '$191,424', '$191,470', '$191,490', '$191,499', '$191,499+', '$191,500', '$191,500+', '$191,501', '$191,560', '$191,600', '$191,615', '$191,644', '$191,650', '$191,659', '$191,708', '$191,714', '$191,715', '$191,766', '$191,772', '$191,778', '$191,800', '$191,806', '$191,855', '$191,882', '$191,885', '$191,897', '$191,900', '$191,900+', '$191,902', '$191,946', '$191,950', '$191,952', '$191,980', '$191,983', '$191,990', '$191,990+', '$191,992', '$191,995', '$191,995+', '$191,999', '$191,999+', '$192,000', '$192,000+', '$192,013', '$192,050', '$192,054', '$192,100', '$192,130', '$192,167', '$192,175', '$192,198', '$192,201', '$192,202', '$192,211', '$192,250', '$192,289', '$192,300', '$192,335', '$192,341', '$192,363', '$192,399', '$192,400', '$192,410', '$192,420', '$192,437', '$192,448', '$192,450', '$192,475', '$192,490', '$192,499+', '$192,500', '$192,500+', '$192,540', '$192,550', '$192,558', '$192,588', '$192,603', '$192,608', '$192,625', '$192,627', '$192,643', '$192,676', '$192,700', '$192,700+', '$192,728', '$192,750', '$192,768', '$192,780', '$192,800', '$192,803', '$192,868', '$192,900', '$192,900+', '$192,930', '$192,950', '$192,979', '$192,990', '$192,990+', '$192,995', '$192,995+', '$192,998', '$192,999', '$193,000', '$193,000+', '$193,035', '$193,050', '$193,074', '$193,105', '$193,111', '$193,120', '$193,143', '$193,148', '$193,150', '$193,180', '$193,200', '$193,204', '$193,295', '$193,343', '$193,350', '$193,353', '$193,358', '$193,364', '$193,370', '$193,374', '$193,381', '$193,400', '$193,405', '$193,411', '$193,415', '$193,421', '$193,422', '$193,440', '$193,450', '$193,490', '$193,490+', '$193,499', '$193,499+', '$193,500', '$193,510', '$193,540', '$193,547', '$193,549', '$193,595', '$193,625', '$193,658', '$193,688', '$193,700', '$193,750', '$193,755', '$193,800', '$193,828', '$193,850', '$193,900', '$193,944', '$193,950', '$193,980', '$193,990', '$193,990+', '$193,991', '$193,994', '$193,999', '$194,000', '$194,000+', '$194,037', '$194,060', '$194,073', '$194,075', '$194,095', '$194,100', '$194,125', '$194,153', '$194,167', '$194,211', '$194,223', '$194,288', '$194,290', '$194,294', '$194,300', '$194,304', '$194,311', '$194,358', '$194,396', '$194,400', '$194,440', '$194,450', '$194,457', '$194,490', '$194,499', '$194,499+', '$194,500', '$194,511', '$194,523', '$194,530', '$194,537', '$194,600', '$194,619', '$194,650', '$194,687', '$194,689', '$194,690', '$194,700', '$194,731', '$194,745', '$194,750', '$194,770', '$194,800', '$194,871', '$194,877', '$194,886', '$194,888', '$194,899', '$194,900', '$194,900+', '$194,904', '$194,950', '$194,955', '$194,970', '$194,982', '$194,990', '$194,990+', '$194,995', '$194,998', '$194,999', '$194,999+', '$195,000', '$195,000,000', '$195,004', '$195,050', '$195,070', '$195,075', '$195,078', '$195,094', '$195,137', '$195,144', '$195,188', '$195,200', '$195,200+', '$195,210', '$195,214', '$195,230', '$195,272', '$195,286', '$195,290', '$195,296', '$195,311', '$195,356', '$195,386', '$195,410', '$195,425', '$195,439', '$195,490', '$195,499', '$195,500', '$195,504', '$195,534', '$195,547', '$195,550', '$195,555', '$195,574', '$195,600', '$195,605', '$195,627', '$195,665', '$195,684', '$195,700', '$195,709', '$195,714', '$195,733', '$195,755', '$195,765', '$195,775', '$195,786', '$195,793', '$195,860', '$195,861', '$195,875', '$195,888', '$195,893', '$195,900', '$195,900+', '$195,930', '$195,950', '$195,966', '$195,973', '$195,979', '$195,980', '$195,990', '$195,990+', '$195,995', '$195,999', '$195,999+', '$196,000', '$196,000+', '$196,022', '$196,050', '$196,062', '$196,078', '$196,098', '$196,100', '$196,122', '$196,126', '$196,144', '$196,149', '$196,190', '$196,200', '$196,242', '$196,251', '$196,300', '$196,300+', '$196,302', '$196,303', '$196,326', '$196,335', '$196,350', '$196,375', '$196,400+', '$196,422', '$196,458', '$196,459', '$196,490', '$196,499', '$196,500', '$196,533', '$196,570', '$196,581', '$196,600', '$196,603', '$196,615', '$196,629', '$196,711', '$196,725', '$196,740', '$196,757', '$196,769', '$196,779', '$196,800', '$196,835', '$196,842', '$196,850', '$196,869', '$196,890', '$196,897', '$196,900', '$196,900+', '$196,912', '$196,941', '$196,950', '$196,970', '$196,980', '$196,990', '$196,990+', '$196,995', '$196,995+', '$196,999', '$196,999+', '$197,000', '$197,000+', '$197,003', '$197,005', '$197,044', '$197,054', '$197,094', '$197,095', '$197,104', '$197,110', '$197,125', '$197,139', '$197,146', '$197,178', '$197,183', '$197,239', '$197,250', '$197,300', '$197,313', '$197,337', '$197,355', '$197,371', '$197,375', '$197,388', '$197,418', '$197,427', '$197,455', '$197,495', '$197,497', '$197,499', '$197,500', '$197,500+', '$197,524', '$197,525', '$197,530', '$197,560', '$197,598', '$197,600', '$197,629', '$197,637', '$197,640', '$197,650', '$197,653', '$197,654', '$197,688', '$197,700', '$197,717', '$197,735', '$197,740', '$197,750', '$197,769', '$197,778', '$197,786', '$197,790', '$197,800', '$197,840', '$197,850', '$197,860', '$197,869', '$197,879', '$197,880', '$197,881', '$197,888', '$197,896', '$197,899', '$197,900', '$197,900+', '$197,904', '$197,950', '$197,960', '$197,964', '$197,989', '$197,990', '$197,990+', '$197,999', '$197,999+', '$198,000', '$198,000+', '$198,070', '$198,099', '$198,100+', '$198,180', '$198,200', '$198,206', '$198,220', '$198,233', '$198,240', '$198,265', '$198,300', '$198,302', '$198,309', '$198,343', '$198,351', '$198,360', '$198,366', '$198,385', '$198,389', '$198,392', '$198,395', '$198,400', '$198,414', '$198,450', '$198,452', '$198,453', '$198,461', '$198,487', '$198,490', '$198,490+', '$198,499', '$198,499+', '$198,500', '$198,503', '$198,516', '$198,560', '$198,595', '$198,600', '$198,629', '$198,640', '$198,647', '$198,662', '$198,671', '$198,677', '$198,692', '$198,700', '$198,750', '$198,784', '$198,786', '$198,790', '$198,793', '$198,800', '$198,802', '$198,826', '$198,834', '$198,835', '$198,850', '$198,881', '$198,882', '$198,888', '$198,900', '$198,900+', '$198,905', '$198,908', '$198,912', '$198,939', '$198,950', '$198,958', '$198,989', '$198,990', '$198,990+', '$198,995', '$198,999', '$199,000', '$199,000+', '$199,008', '$199,029', '$199,040', '$199,074', '$199,075', '$199,095', '$199,099', '$199,100', '$199,135', '$199,139', '$199,140', '$199,150', '$199,152', '$199,157', '$199,165', '$199,235', '$199,241', '$199,260', '$199,288', '$199,299', '$199,300', '$199,315', '$199,316', '$199,316+', '$199,340', '$199,350', '$199,385', '$199,387', '$199,400', '$199,416', '$199,441', '$199,447', '$199,450', '$199,455', '$199,470', '$199,475', '$199,477', '$199,478', '$199,480', '$199,487', '$199,490', '$199,490+', '$199,495', '$199,499', '$199,500', '$199,500+', '$199,550', '$199,551', '$199,567', '$199,600', '$199,600+', '$199,605', '$199,613', '$199,626', '$199,630', '$199,679', '$199,690', '$199,697', '$199,700', '$199,714', '$199,744', '$199,750', '$199,758', '$199,760', '$199,777', '$199,780', '$199,794', '$199,797', '$199,800', '$199,833', '$199,850', '$199,860', '$199,864', '$199,875', '$199,882', '$199,888', '$199,892', '$199,899', '$199,900', '$199,900+', '$199,902', '$199,910', '$199,925', '$199,930', '$199,937', '$199,950', '$199,955', '$199,968', '$199,970', '$199,975', '$199,978', '$199,980', '$199,984', '$199,987', '$199,989', '$199,990', '$199,990+', '$199,995', '$199,997', '$199,998', '$199,999', '$199,999+', '$2,000', '$2,000,000', '$2,000/mo', '$2,003,400', '$2,003,637', '$2,010,000', '$2,011,020', '$2,015,000', '$2,017,917', '$2,018,364', '$2,020,000', '$2,023,200', '$2,025,000', '$2,025,471', '$2,025,540', '$2,027,927', '$2,029,995+', '$2,030,000', '$2,031,679', '$2,035,000', '$2,036,050', '$2,037,435', '$2,038,000', '$2,039,200', '$2,040,000', '$2,040,140', '$2,042,572', '$2,045,000', '$2,049,000', '$2,049,698', '$2,049,900', '$2,049,998', '$2,049,998+', '$2,049,999', '$2,050,000', '$2,051,742', '$2,052,000', '$2,056,000', '$2,057,850', '$2,058,533', '$2,059,000', '$2,059,844', '$2,064,000', '$2,065,000', '$2,065,770', '$2,067,202', '$2,068,000', '$2,068,000+', '$2,069,000', '$2,071,000', '$2,072,900', '$2,074,613', '$2,075,000', '$2,077,000', '$2,077,670', '$2,078,000', '$2,078,634', '$2,078,695', '$2,080,000', '$2,082,500', '$2,084,900', '$2,085,000', '$2,085,888', '$2,087,000', '$2,088,000', '$2,088,501', '$2,088,888', '$2,089,000', '$2,089,808', '$2,089,990', '$2,090,000', '$2,094,000', '$2,094,649', '$2,095', '$2,095,000', '$2,097,000', '$2,097,700', '$2,098,000', '$2,098,600', '$2,098,888', '$2,099,000', '$2,099,800', '$2,099,900', '$2,099,988', '$2,099,988+', '$2,099,999', '$2,100', '$2,100,000', '$2,100,000+', '$2,100/mo', '$2,101,995', '$2,106,196', '$2,106,589', '$2,106,686', '$2,107,485', '$2,110,000', '$2,115,000', '$2,118,000', '$2,118,899', '$2,119,217', '$2,120,000', '$2,124,000', '$2,124,500', '$2,125,000', '$2,126,500', '$2,128,000', '$2,128,687', '$2,129,000', '$2,129,972', '$2,129,995', '$2,130,000', '$2,131,995', '$2,132,382', '$2,132,830', '$2,135,000', '$2,135,600', '$2,136,355', '$2,137,000', '$2,138,000', '$2,139,000', '$2,140,000', '$2,145,000', '$2,147,073', '$2,148,000', '$2,149,000', '$2,149,500', '$2,149,888', '$2,149,988', '$2,149,988+', '$2,149,990', '$2,149,990+', '$2,149,999', '$2,150', '$2,150,000', '$2,150/mo', '$2,155,000', '$2,158,289', '$2,159,000', '$2,159,809', '$2,159,817', '$2,159,900', '$2,160,000', '$2,160,900', '$2,163,060', '$2,165,000', '$2,165,950', '$2,167,000', '$2,169,900+', '$2,170,000', '$2,171,992', '$2,172,000', '$2,172,787', '$2,174,000', '$2,174,340', '$2,175,000', '$2,175,680', '$2,177,000', '$2,177,516', '$2,178,800', '$2,179,400', '$2,179,950', '$2,179,995', '$2,179,995+', '$2,180,000', '$2,181,995', '$2,182,084', '$2,184,000', '$2,185,000', '$2,188,000', '$2,188,111', '$2,188,888', '$2,189,000', '$2,190,000', '$2,190,150', '$2,190,777', '$2,192,995', '$2,194,000', '$2,194,900+', '$2,195,000', '$2,195,876', '$2,195/mo', '$2,196,942', '$2,197,000', '$2,198,000', '$2,199,000', '$2,199,888', '$2,199,900', '$2,199,950', '$2,199,990+', '$2,199,995', '$2,199,995+', '$2,199,999', '$2,200', '$2,200,000', '$2,200,900', '$2,200/mo', '$2,202,440', '$2,204,000', '$2,204,813', '$2,208,999', '$2,210,000', '$2,210,812', '$2,214,900', '$2,215,476', '$2,216,455', '$2,218,000', '$2,219,000', '$2,220,000', '$2,222,000', '$2,222,222', '$2,223,000', '$2,224,681', '$2,224,950', '$2,225,000', '$2,228,000', '$2,229,000', '$2,229,380', '$2,229,900', '$2,230,000', '$2,232,068', '$2,233,600', '$2,235,000', '$2,238,000', '$2,239,000', '$2,239,950', '$2,240,000', '$2,242,690', '$2,243,995+', '$2,245,000', '$2,248,000', '$2,248,900', '$2,249,000', '$2,249,900', '$2,250', '$2,250,000', '$2,250/mo', '$2,252,800', '$2,253,245', '$2,254,950', '$2,255,000', '$2,257,500', '$2,258,000', '$2,259,185', '$2,259,900+', '$2,260,000', '$2,265,000', '$2,268,000', '$2,269,995+', '$2,270,000', '$2,273,400', '$2,274,000', '$2,275', '$2,275,000', '$2,275,312', '$2,277,000', '$2,277,999', '$2,278,000', '$2,279,000', '$2,279,025', '$2,280,000', '$2,281,000', '$2,281,575', '$2,284,000', '$2,285,000', '$2,286,000', '$2,288,000', '$2,288,000+', '$2,288,888', '$2,289,000', '$2,290,000', '$2,291,900', '$2,295', '$2,295,000', '$2,295,750', '$2,295/mo', '$2,296,000', '$2,297,000', '$2,297,175', '$2,297,500', '$2,297,747', '$2,298,000', '$2,299,000', '$2,299,500', '$2,299,888', '$2,299,900', '$2,299,995', '$2,299,999', '$2,300', '$2,300,000', '$2,300,990', '$2,300/mo', '$2,301,995', '$2,307,808', '$2,310,000', '$2,311,114', '$2,312,823', '$2,312,847', '$2,313,000', '$2,316,675', '$2,318,000', '$2,319,000', '$2,320,000', '$2,323,547', '$2,324,000', '$2,325,000', '$2,325/mo', '$2,327,900', '$2,328,000', '$2,328,000+', '$2,330,000', '$2,335,600', '$2,336,000', '$2,336,500', '$2,340,000', '$2,340,900+', '$2,345,000', '$2,347,000', '$2,348,000', '$2,349,000', '$2,349,900', '$2,350', '$2,350,000', '$2,350,900', '$2,350,990', '$2,350/mo', '$2,352,717', '$2,355,000', '$2,359,000', '$2,359,777', '$2,367,000', '$2,368,000', '$2,369,000', '$2,370,000', '$2,374,900', '$2,375,000', '$2,375,000+', '$2,375,888', '$2,377,040', '$2,377,505', '$2,378,000', '$2,378,078', '$2,379,000', '$2,379,900', '$2,380', '$2,380,000', '$2,381,208', '$2,382,000', '$2,385,000', '$2,388', '$2,388,000', '$2,388,000+', '$2,388,800', '$2,389,000', '$2,389,888', '$2,390,000', '$2,391,000', '$2,392,410', '$2,393,900', '$2,394,900', '$2,395,000', '$2,395,536', '$2,395,950', '$2,395/mo', '$2,397,000', '$2,397,500', '$2,397,747', '$2,398,000', '$2,399,000', '$2,399,100', '$2,399,621', '$2,399,900', '$2,399,950', '$2,399,999', '$2,400', '$2,400,000', '$2,400,990', '$2,400/mo', '$2,403,184', '$2,410,000', '$2,415,000', '$2,419,650', '$2,420,000', '$2,420,460', '$2,425,000', '$2,429,995+', '$2,430,000', '$2,431,124', '$2,432,000', '$2,432,360', '$2,432,365', '$2,443,075', '$2,444,900', '$2,445,000', '$2,446,000', '$2,448,000', '$2,449,000', '$2,449,047', '$2,449,888', '$2,450', '$2,450,000', '$2,450/mo', '$2,452,000', '$2,455,000', '$2,456,000', '$2,456,012', '$2,459,000', '$2,460,000', '$2,461,900+', '$2,463,495', '$2,464,000', '$2,464,063', '$2,465,000', '$2,467,244', '$2,469,000', '$2,470,000', '$2,473,000', '$2,475,000', '$2,477,000', '$2,477,693', '$2,478,000', '$2,479,000', '$2,480,000', '$2,483,790', '$2,484,167', '$2,485,000', '$2,486,000', '$2,488,000', '$2,488,179', '$2,488,888', '$2,489,000', '$2,489,800', '$2,490,000', '$2,490/mo', '$2,494,500', '$2,495', '$2,495,000', '$2,495,000+', '$2,495,900', '$2,496,000', '$2,497,500', '$2,497,747', '$2,497,770', '$2,497,995', '$2,498,000', '$2,498,888', '$2,498,950', '$2,499', '$2,499,000', '$2,499,500', '$2,499,888', '$2,499,900', '$2,499,950', '$2,499,990', '$2,499,995', '$2,499,999', '$2,500', '$2,500,000', '$2,500/mo', '$2,510,000', '$2,512,800', '$2,520,000', '$2,521,593', '$2,525,000', '$2,527,445', '$2,528,888', '$2,529,701', '$2,530,000', '$2,530,530', '$2,533,705', '$2,537,000', '$2,538,000', '$2,538,880', '$2,540,888', '$2,542,000', '$2,545,000', '$2,545,900', '$2,548,593', '$2,548,800', '$2,549,000', '$2,549,990', '$2,549,990+', '$2,550,000', '$2,550/mo', '$2,553,000', '$2,555,000', '$2,558,000', '$2,559,000', '$2,559,990+', '$2,560,000', '$2,565,000', '$2,570,000', '$2,575,000', '$2,575,888', '$2,576,000', '$2,577,600', '$2,578,000', '$2,579,000', '$2,580,000', '$2,585,000', '$2,587,000', '$2,587,400', '$2,588,000', '$2,589,000', '$2,589,115', '$2,590,000', '$2,595', '$2,595,000', '$2,597,000', '$2,597,377', '$2,598,000', '$2,598,000+', '$2,599,000', '$2,599,451', '$2,599,800', '$2,599,880', '$2,599,888', '$2,599,900', '$2,599,950', '$2,599,999', '$2,600', '$2,600,000', '$2,600,990', '$2,600/mo', '$2,604,191', '$2,607,260', '$2,607,275', '$2,613,600', '$2,614,995', '$2,615,000', '$2,620,000', '$2,620,512+', '$2,625,000', '$2,629,000', '$2,630,000', '$2,635,000', '$2,639,000', '$2,640,000', '$2,643,600', '$2,644,700', '$2,645,000', '$2,648,000', '$2,649,000', '$2,649,950', '$2,649,990', '$2,649,995', '$2,649,999', '$2,650', '$2,650,000', '$2,650,900', '$2,650/mo', '$2,653,301', '$2,655,000', '$2,658,000', '$2,659,999', '$2,660,628', '$2,662,906', '$2,665,000', '$2,665,800', '$2,668,000', '$2,669,000', '$2,670,000', '$2,674,980', '$2,675,000', '$2,675,900', '$2,677,000', '$2,679,000', '$2,680,000', '$2,681,315', '$2,684,262', '$2,685,000', '$2,688,000', '$2,688,888', '$2,689,500', '$2,689,900', '$2,690,000', '$2,694,500', '$2,695,000', '$2,695,950', '$2,696,000', '$2,697,000', '$2,698,000', '$2,698,416', '$2,698,888', '$2,699,000', '$2,699,500', '$2,699,900', '$2,699,950', '$2,699,999', '$2,699/mo', '$2,700', '$2,700,000', '$2,700,000+', '$2,700/mo', '$2,705,000', '$2,717,000', '$2,719,900', '$2,720', '$2,720,000', '$2,722,930', '$2,723,000', '$2,724,000', '$2,725,000', '$2,730,000', '$2,738,000', '$2,739,000', '$2,739,900', '$2,740,000', '$2,742,900', '$2,745,000', '$2,745,500', '$2,747,852', '$2,748,000', '$2,748,294', '$2,749,000', '$2,749,800', '$2,749,880', '$2,749,900', '$2,749,999', '$2,750,000', '$2,750,250', '$2,750,990', '$2,750/mo', '$2,758', '$2,760,000', '$2,762,118', '$2,763,000', '$2,765,000', '$2,769,000', '$2,770,000', '$2,775,000', '$2,777,000', '$2,778,050', '$2,780,000', '$2,785,000', '$2,788,000', '$2,788,880', '$2,789,000', '$2,790,000', '$2,790/mo', '$2,791,700', '$2,795,000', '$2,797,000', '$2,797,772', '$2,798,000', '$2,798,800', '$2,799,000', '$2,799,500', '$2,799,900', '$2,799,995', '$2,799,999', '$2,800', '$2,800,000', '$2,800/mo', '$2,808,000', '$2,810,000', '$2,810,674', '$2,812,400', '$2,820,950', '$2,821,000', '$2,825,000', '$2,828,000', '$2,829,000', '$2,830,000', '$2,834,000', '$2,835,000', '$2,840,000', '$2,842,550', '$2,843,406', '$2,843,897', '$2,845,000', '$2,846,000', '$2,847,000', '$2,848,900', '$2,849,000', '$2,850', '$2,850,000', '$2,850/mo', '$2,859,999', '$2,860,000', '$2,865,000', '$2,866,000', '$2,870,000', '$2,870/mo', '$2,873,686', '$2,875,000', '$2,879,000', '$2,880,000', '$2,883', '$2,884,344', '$2,885,000', '$2,887,414', '$2,888,000', '$2,888,888', '$2,890,000', '$2,892,000', '$2,895,000', '$2,895,000+', '$2,897,050', '$2,898,000', '$2,899,000', '$2,899,900', '$2,899,950', '$2,899,999', '$2,900,000', '$2,900,000+', '$2,900/mo', '$2,905,000', '$2,906,857', '$2,907,184', '$2,908,184', '$2,913,635', '$2,916,342', '$2,919,496', '$2,920,000', '$2,922,000', '$2,925,000', '$2,926,000', '$2,927,500', '$2,935,000', '$2,940,000', '$2,942,000', '$2,943,000', '$2,945,000', '$2,947,000', '$2,948,000', '$2,949,000', '$2,950', '$2,950,000', '$2,950/mo', '$2,953,000', '$2,960,000', '$2,960,214', '$2,962,900', '$2,965,000', '$2,966,120', '$2,968,000+', '$2,969,000', '$2,970,000', '$2,970,900', '$2,974,000', '$2,974,890', '$2,975,000', '$2,978,000', '$2,979,000', '$2,980,000', '$2,985,000', '$2,985,500', '$2,985,990', '$2,986,125', '$2,988,000', '$2,988,888', '$2,990,000', '$2,993,500', '$2,995', '$2,995,000', '$2,995,000+', '$2,995,900', '$2,997,000', '$2,998,000', '$2,998,800', '$2,998,888', '$2,999,000', '$2,999,500', '$2,999,600', '$2,999,600+', '$2,999,800', '$2,999,888', '$2,999,900', '$2,999,950', '$2,999,990', '$2,999,995', '$2,999,998', '$2,999,999', '$20,000', '$20,000,000', '$20,250', '$20,260,000', '$20,350', '$20,500', '$20,500,000', '$20,514', '$20,600', '$20,685', '$20,700', '$20,750', '$20,800', '$20,900', '$20,950,000', '$20,995,000', '$20,999', '$200,000', '$200,000+', '$200,001', '$200,009', '$200,023', '$200,045', '$200,050', '$200,100', '$200,135', '$200,140', '$200,143', '$200,145', '$200,150', '$200,165', '$200,191', '$200,211', '$200,215', '$200,232', '$200,240', '$200,314', '$200,330', '$200,339', '$200,340', '$200,355', '$200,402', '$200,413', '$200,420+', '$200,433', '$200,450', '$200,463', '$200,481', '$200,490', '$200,490+', '$200,493', '$200,499', '$200,500+', '$200,548', '$200,564', '$200,580', '$200,593', '$200,600', '$200,600+', '$200,638', '$200,655', '$200,684', '$200,710', '$200,729', '$200,735', '$200,790', '$200,832', '$200,840', '$200,849', '$200,855', '$200,866', '$200,888', '$200,900', '$200,900+', '$200,946', '$200,950', '$200,952', '$200,955', '$200,990', '$200,990+', '$200,995', '$200,995+', '$200,999', '$200,999+', '$201,000', '$201,000+', '$201,004', '$201,049', '$201,062', '$201,071', '$201,079', '$201,089', '$201,130', '$201,139', '$201,140', '$201,144', '$201,147', '$201,200', '$201,230', '$201,240', '$201,280', '$201,287', '$201,300', '$201,342', '$201,350', '$201,366', '$201,380', '$201,388', '$201,400', '$201,408', '$201,410', '$201,438', '$201,450', '$201,459', '$201,473', '$201,480', '$201,489', '$201,490', '$201,499', '$201,499+', '$201,500', '$201,503', '$201,525', '$201,528', '$201,550', '$201,600', '$201,665', '$201,669', '$201,700', '$201,727', '$201,749', '$201,779', '$201,792', '$201,811', '$201,826', '$201,833', '$201,875', '$201,899', '$201,900', '$201,916', '$201,938', '$201,950', '$201,954', '$201,990', '$201,990+', '$201,995', '$201,995+', '$201,999', '$201,999+', '$202,000', '$202,000+', '$202,013', '$202,019', '$202,060', '$202,085+', '$202,088', '$202,100', '$202,112', '$202,149', '$202,151', '$202,163', '$202,171', '$202,200', '$202,211', '$202,212', '$202,236', '$202,255', '$202,282', '$202,290', '$202,316', '$202,355', '$202,365', '$202,406', '$202,414', '$202,443', '$202,450', '$202,485', '$202,490', '$202,490+', '$202,499', '$202,500', '$202,530', '$202,547', '$202,589', '$202,620', '$202,630', '$202,648', '$202,680', '$202,697', '$202,700', '$202,716', '$202,718', '$202,729', '$202,745', '$202,765', '$202,770', '$202,775', '$202,805', '$202,807', '$202,840', '$202,882', '$202,900', '$202,900+', '$202,915', '$202,930', '$202,936', '$202,950', '$202,977', '$202,988', '$202,990', '$202,990+', '$202,995', '$202,999', '$202,999+', '$203,000', '$203,000+', '$203,001', '$203,020', '$203,047', '$203,050', '$203,058', '$203,058+', '$203,092', '$203,094', '$203,125', '$203,133', '$203,138', '$203,157', '$203,163', '$203,166', '$203,200', '$203,216', '$203,239', '$203,244', '$203,247', '$203,255', '$203,265', '$203,282', '$203,289', '$203,307', '$203,334', '$203,387', '$203,400', '$203,409', '$203,432', '$203,490', '$203,495', '$203,495+', '$203,499', '$203,500', '$203,520', '$203,545', '$203,560', '$203,584', '$203,603', '$203,625', '$203,644', '$203,685', '$203,690', '$203,691', '$203,715', '$203,721', '$203,744', '$203,750', '$203,765', '$203,801', '$203,815', '$203,862', '$203,900', '$203,900+', '$203,940', '$203,950', '$203,950+', '$203,990', '$203,990+', '$203,995+', '$203,999', '$204,000', '$204,000+', '$204,040', '$204,051', '$204,073', '$204,090', '$204,100', '$204,101', '$204,120', '$204,140', '$204,151', '$204,166', '$204,190', '$204,196', '$204,200', '$204,223', '$204,237', '$204,240', '$204,250', '$204,350', '$204,374', '$204,375+', '$204,389', '$204,400', '$204,440', '$204,450', '$204,490', '$204,493', '$204,499', '$204,500', '$204,527', '$204,537', '$204,546', '$204,555', '$204,580', '$204,590', '$204,631', '$204,669', '$204,672', '$204,681', '$204,700', '$204,709', '$204,724', '$204,730', '$204,740', '$204,744', '$204,750', '$204,766', '$204,775', '$204,782', '$204,790', '$204,800', '$204,805', '$204,850', '$204,854', '$204,899', '$204,900', '$204,900+', '$204,907', '$204,936', '$204,941', '$204,950', '$204,950+', '$204,985', '$204,986', '$204,990', '$204,990+', '$204,995', '$204,996', '$204,997', '$204,999', '$205,000', '$205,000+', '$205,015', '$205,026', '$205,040', '$205,042', '$205,056', '$205,059', '$205,061', '$205,077', '$205,100', '$205,155', '$205,161', '$205,163', '$205,181', '$205,189', '$205,204', '$205,275', '$205,277', '$205,287', '$205,311', '$205,314', '$205,327', '$205,380', '$205,396', '$205,400+', '$205,402', '$205,404', '$205,409', '$205,426', '$205,433', '$205,456', '$205,490+', '$205,499', '$205,499+', '$205,500', '$205,561', '$205,574', '$205,587', '$205,597', '$205,600', '$205,600+', '$205,606', '$205,648', '$205,652', '$205,658', '$205,693', '$205,700', '$205,740', '$205,750', '$205,755', '$205,779', '$205,780', '$205,790', '$205,796', '$205,798', '$205,800', '$205,809', '$205,826', '$205,866', '$205,885', '$205,900', '$205,900+', '$205,936', '$205,946', '$205,950', '$205,989', '$205,990', '$205,990+', '$205,995', '$205,999', '$205,999+', '$206,000', '$206,000+', '$206,013', '$206,035', '$206,140', '$206,150', '$206,190', '$206,197', '$206,215', '$206,218', '$206,230', '$206,231', '$206,234', '$206,237', '$206,255', '$206,277', '$206,284', '$206,300', '$206,350', '$206,397', '$206,400', '$206,422', '$206,448', '$206,450', '$206,460', '$206,470', '$206,488', '$206,495', '$206,499', '$206,500', '$206,500+', '$206,507', '$206,517', '$206,600', '$206,641', '$206,649', '$206,698', '$206,700', '$206,704', '$206,747', '$206,750', '$206,754', '$206,829', '$206,870', '$206,900', '$206,900+', '$206,911', '$206,920', '$206,930', '$206,954', '$206,978', '$206,985', '$206,990', '$206,990+', '$206,995', '$206,999', '$206,999+', '$207,000', '$207,010', '$207,060', '$207,100', '$207,105', '$207,126', '$207,131', '$207,150', '$207,189', '$207,194', '$207,200', '$207,250', '$207,264', '$207,268', '$207,279', '$207,300', '$207,316', '$207,347', '$207,370', '$207,386', '$207,389', '$207,400', '$207,409', '$207,420', '$207,449', '$207,481', '$207,490', '$207,499', '$207,500', '$207,500+', '$207,520', '$207,557', '$207,575', '$207,580', '$207,600', '$207,611', '$207,623', '$207,689', '$207,700', '$207,732', '$207,748', '$207,755', '$207,777', '$207,800', '$207,815', '$207,869', '$207,873', '$207,900', '$207,900+', '$207,942', '$207,950', '$207,957', '$207,963', '$207,989', '$207,990', '$207,990+', '$207,995', '$207,996', '$207,999', '$207,999+', '$208,000', '$208,000+', '$208,008', '$208,037', '$208,076', '$208,091', '$208,121', '$208,129', '$208,184', '$208,185', '$208,198', '$208,199', '$208,208', '$208,223', '$208,235', '$208,237', '$208,240', '$208,258', '$208,261', '$208,291', '$208,300', '$208,318', '$208,368', '$208,398', '$208,440', '$208,444', '$208,448', '$208,460', '$208,490', '$208,490+', '$208,499', '$208,500', '$208,506', '$208,517', '$208,524', '$208,528', '$208,553', '$208,568', '$208,610', '$208,632', '$208,640', '$208,648', '$208,654', '$208,690', '$208,714', '$208,716', '$208,750', '$208,767', '$208,798', '$208,800', '$208,820', '$208,851', '$208,856', '$208,857', '$208,900', '$208,900+', '$208,943', '$208,950', '$208,968', '$208,990', '$208,990+', '$208,995', '$208,995+', '$208,996', '$208,999', '$208,999+', '$209,000', '$209,000+', '$209,074', '$209,090', '$209,110', '$209,150', '$209,180', '$209,212', '$209,221', '$209,250', '$209,278', '$209,283', '$209,292', '$209,310', '$209,324', '$209,340', '$209,355', '$209,393', '$209,399', '$209,402', '$209,417', '$209,440', '$209,450', '$209,483', '$209,499', '$209,500', '$209,500+', '$209,504', '$209,527', '$209,576', '$209,583', '$209,596', '$209,657', '$209,659', '$209,667', '$209,675', '$209,695', '$209,700', '$209,730', '$209,735', '$209,743', '$209,750', '$209,752', '$209,763', '$209,770', '$209,790', '$209,800', '$209,844', '$209,850', '$209,862', '$209,867', '$209,875', '$209,888', '$209,899', '$209,900', '$209,900+', '$209,905', '$209,918', '$209,925', '$209,935', '$209,950', '$209,951', '$209,963', '$209,974', '$209,988', '$209,990', '$209,990+', '$209,995', '$209,996', '$209,999', '$21,000', '$21,000,000', '$21,006', '$21,150', '$21,200', '$21,246', '$21,250', '$21,300', '$21,400', '$21,434', '$21,450', '$21,450,000', '$21,500', '$21,500,000', '$21,504', '$21,516', '$21,526', '$21,578', '$21,650', '$21,700', '$21,718', '$21,750', '$21,800', '$21,800,000', '$21,836', '$21,900', '$21,900+', '$21,900,000', '$21,950,000', '$21,970', '$21,995', '$21,995,000', '$21,999', '$210,000', '$210,000+', '$210,008', '$210,010', '$210,025', '$210,030', '$210,040+', '$210,069', '$210,072', '$210,090', '$210,105', '$210,190', '$210,192', '$210,194', '$210,214', '$210,233', '$210,236', '$210,300', '$210,331', '$210,350', '$210,367', '$210,380', '$210,420', '$210,440', '$210,450', '$210,457', '$210,494', '$210,495', '$210,500', '$210,500+', '$210,530', '$210,558', '$210,578', '$210,580', '$210,583', '$210,663', '$210,680', '$210,691', '$210,700', '$210,713', '$210,741', '$210,750', '$210,762', '$210,793', '$210,806', '$210,809', '$210,810', '$210,816', '$210,836', '$210,878', '$210,888', '$210,900', '$210,900+', '$210,908', '$210,913', '$210,937', '$210,950', '$210,972', '$210,990', '$210,990+', '$210,995', '$210,995+', '$210,999', '$210,999+', '$211,000', '$211,000+', '$211,010', '$211,062', '$211,066', '$211,069', '$211,073', '$211,120', '$211,126', '$211,190', '$211,200', '$211,253', '$211,256', '$211,294', '$211,298', '$211,300', '$211,332', '$211,362', '$211,368', '$211,372', '$211,390', '$211,392', '$211,395', '$211,400', '$211,400+', '$211,425', '$211,485', '$211,490', '$211,490+', '$211,499', '$211,500', '$211,500+', '$211,520', '$211,540', '$211,546', '$211,556', '$211,592', '$211,600', '$211,605', '$211,653', '$211,690', '$211,697', '$211,698', '$211,700', '$211,701', '$211,714', '$211,728', '$211,750', '$211,830', '$211,851', '$211,864', '$211,881', '$211,896', '$211,900', '$211,900+', '$211,916', '$211,950', '$211,990', '$211,990+', '$211,995', '$211,995+', '$211,997', '$211,998', '$211,999', '$211,999+', '$212,000', '$212,024', '$212,040', '$212,086', '$212,095', '$212,100', '$212,115', '$212,121', '$212,161', '$212,190', '$212,212', '$212,230', '$212,245', '$212,250', '$212,297', '$212,300', '$212,305', '$212,325+', '$212,326', '$212,330', '$212,345', '$212,350', '$212,355', '$212,371', '$212,379', '$212,388', '$212,389', '$212,400', '$212,440', '$212,450', '$212,490', '$212,490+', '$212,496', '$212,499+', '$212,500', '$212,526', '$212,562', '$212,574', '$212,577', '$212,581', '$212,590', '$212,600', '$212,650', '$212,665', '$212,674', '$212,678', '$212,700', '$212,707', '$212,711', '$212,721', '$212,722', '$212,739', '$212,740', '$212,750', '$212,785', '$212,788', '$212,790', '$212,791', '$212,800', '$212,854', '$212,899', '$212,900', '$212,900+', '$212,914', '$212,924', '$212,945', '$212,950', '$212,952', '$212,956', '$212,990', '$212,990+', '$212,995+', '$212,999', '$213,000', '$213,000+', '$213,043', '$213,046', '$213,050', '$213,066', '$213,088', '$213,106', '$213,142', '$213,158', '$213,189', '$213,190', '$213,215', '$213,241', '$213,315', '$213,324', '$213,334', '$213,360', '$213,361', '$213,385', '$213,400', '$213,436', '$213,463', '$213,481', '$213,490', '$213,490+', '$213,499', '$213,499+', '$213,500', '$213,500+', '$213,512', '$213,583', '$213,590', '$213,600', '$213,610', '$213,640', '$213,640+', '$213,642', '$213,643', '$213,650', '$213,666', '$213,689', '$213,700', '$213,715', '$213,724', '$213,750', '$213,755', '$213,777', '$213,790', '$213,800', '$213,826', '$213,844', '$213,850', '$213,877', '$213,885', '$213,888', '$213,890', '$213,900', '$213,910', '$213,939', '$213,950', '$213,985', '$213,990', '$213,990+', '$213,995', '$213,995+', '$213,999', '$213,999+', '$214,000', '$214,077', '$214,100', '$214,108', '$214,116', '$214,127', '$214,142', '$214,178', '$214,207', '$214,222', '$214,223', '$214,236', '$214,240', '$214,255', '$214,268', '$214,300', '$214,318', '$214,350', '$214,395', '$214,400', '$214,413', '$214,420', '$214,424', '$214,433', '$214,450', '$214,464', '$214,479', '$214,490', '$214,499', '$214,500', '$214,500+', '$214,509', '$214,533', '$214,625', '$214,634', '$214,658', '$214,700', '$214,706', '$214,711', '$214,713', '$214,716', '$214,750', '$214,755', '$214,760', '$214,770', '$214,800', '$214,828', '$214,830', '$214,844', '$214,850', '$214,888', '$214,890', '$214,896', '$214,900', '$214,900+', '$214,905', '$214,908', '$214,920', '$214,923', '$214,928', '$214,929', '$214,941', '$214,950', '$214,950+', '$214,957', '$214,975', '$214,978', '$214,985', '$214,990', '$214,990+', '$214,998', '$214,999', '$214,999+', '$215,000', '$215,000+', '$215,001', '$215,003', '$215,010', '$215,013', '$215,035', '$215,040', '$215,070', '$215,087', '$215,095', '$215,113', '$215,130', '$215,131', '$215,217', '$215,218', '$215,234', '$215,248', '$215,258', '$215,265', '$215,284', '$215,293', '$215,295', '$215,300', '$215,313', '$215,325', '$215,336', '$215,350', '$215,355', '$215,361', '$215,373', '$215,411', '$215,415', '$215,442', '$215,447', '$215,465', '$215,491', '$215,500', '$215,511', '$215,535', '$215,594', '$215,680', '$215,683', '$215,692', '$215,700', '$215,721', '$215,740', '$215,754', '$215,759', '$215,778', '$215,800', '$215,810', '$215,832', '$215,860', '$215,880', '$215,900', '$215,900+', '$215,902', '$215,916', '$215,920', '$215,940', '$215,950', '$215,952', '$215,988', '$215,990', '$215,990+', '$215,995', '$215,999', '$215,999+', '$216,000', '$216,005', '$216,005+', '$216,008', '$216,010', '$216,054', '$216,059', '$216,065', '$216,068', '$216,095', '$216,100', '$216,114', '$216,125', '$216,127', '$216,135', '$216,184', '$216,200', '$216,241', '$216,294', '$216,296', '$216,300', '$216,323', '$216,349', '$216,350', '$216,383', '$216,405', '$216,416', '$216,440', '$216,464', '$216,485', '$216,490', '$216,490+', '$216,495', '$216,499+', '$216,500', '$216,500+', '$216,600', '$216,649', '$216,682', '$216,690', '$216,698', '$216,700', '$216,713', '$216,725', '$216,750', '$216,752', '$216,777', '$216,800', '$216,819', '$216,822', '$216,887', '$216,888', '$216,897', '$216,900', '$216,900+', '$216,901', '$216,905', '$216,907', '$216,910', '$216,913', '$216,932', '$216,950', '$216,990', '$216,990+', '$216,995', '$216,995+', '$216,999', '$217,000', '$217,000+', '$217,015', '$217,030', '$217,035', '$217,085', '$217,100', '$217,100+', '$217,109', '$217,115', '$217,160', '$217,167', '$217,175', '$217,208', '$217,221', '$217,225', '$217,240', '$217,240+', '$217,262', '$217,280', '$217,300', '$217,360', '$217,371', '$217,396', '$217,400', '$217,414', '$217,432', '$217,437', '$217,450', '$217,475', '$217,490', '$217,490+', '$217,495', '$217,495+', '$217,500', '$217,500+', '$217,520', '$217,525', '$217,570', '$217,577', '$217,580', '$217,600', '$217,632', '$217,680', '$217,691', '$217,700', '$217,750', '$217,800', '$217,814', '$217,887', '$217,893', '$217,899', '$217,900', '$217,900+', '$217,926', '$217,943', '$217,978', '$217,987', '$217,990', '$217,990+', '$217,995', '$217,995+', '$217,999', '$217,999+', '$218,000', '$218,076', '$218,086', '$218,095', '$218,100', '$218,103', '$218,110', '$218,111', '$218,197', '$218,212', '$218,217', '$218,237', '$218,248', '$218,258', '$218,262', '$218,274', '$218,300', '$218,300+', '$218,308', '$218,310', '$218,330', '$218,331', '$218,350', '$218,365', '$218,382', '$218,400', '$218,421', '$218,423', '$218,424', '$218,490', '$218,495', '$218,499', '$218,500', '$218,523', '$218,530', '$218,560', '$218,577', '$218,585', '$218,599', '$218,615', '$218,623', '$218,644', '$218,650', '$218,678', '$218,679', '$218,689', '$218,700', '$218,740+', '$218,750', '$218,770', '$218,775', '$218,788', '$218,793', '$218,799', '$218,800', '$218,820', '$218,860', '$218,870', '$218,888', '$218,900', '$218,900+', '$218,909', '$218,910', '$218,920', '$218,932', '$218,950', '$218,967', '$218,970', '$218,990', '$218,990+', '$218,995', '$218,998', '$218,999', '$219,000', '$219,000+', '$219,022', '$219,032', '$219,069', '$219,090', '$219,092', '$219,108', '$219,120', '$219,125', '$219,146', '$219,175', '$219,180', '$219,210', '$219,300', '$219,301', '$219,340', '$219,348', '$219,351', '$219,373', '$219,400', '$219,411', '$219,422', '$219,447', '$219,468', '$219,469', '$219,480', '$219,490+', '$219,493', '$219,495', '$219,499', '$219,500', '$219,543', '$219,545', '$219,553', '$219,567', '$219,577', '$219,590', '$219,600', '$219,600+', '$219,625', '$219,635', '$219,645', '$219,680', '$219,700', '$219,705', '$219,705+', '$219,719', '$219,731', '$219,750', '$219,755', '$219,771', '$219,777', '$219,795', '$219,800', '$219,802', '$219,849', '$219,850', '$219,854', '$219,856', '$219,862', '$219,875', '$219,881', '$219,888', '$219,890', '$219,900', '$219,900+', '$219,910', '$219,911', '$219,931', '$219,935', '$219,950', '$219,960', '$219,974', '$219,977', '$219,987', '$219,988', '$219,990', '$219,990+', '$219,991', '$219,995', '$219,996', '$219,999', '$219,999+', '$22,000', '$22,000,000', '$22,046', '$22,122', '$22,171', '$22,210', '$22,371', '$22,400', '$22,495,000', '$22,499', '$22,500', '$22,500,000', '$22,517', '$22,677', '$22,700', '$22,746', '$22,750', '$22,800', '$22,900', '$22,900+', '$22,900,000', '$22,944', '$22,950', '$22,950,000', '$22,980,000', '$22,990', '$22,999', '$220,000', '$220,000+', '$220,010', '$220,013', '$220,020', '$220,085', '$220,094', '$220,100', '$220,115', '$220,150', '$220,152', '$220,164', '$220,170', '$220,180', '$220,183', '$220,203', '$220,205', '$220,240', '$220,267', '$220,269', '$220,275', '$220,276', '$220,296', '$220,305', '$220,318', '$220,338', '$220,372', '$220,412', '$220,434', '$220,448', '$220,450', '$220,481', '$220,490', '$220,495', '$220,499', '$220,499+', '$220,500', '$220,500+', '$220,525', '$220,528', '$220,530', '$220,565', '$220,584', '$220,588', '$220,650', '$220,653', '$220,656', '$220,663', '$220,677', '$220,690', '$220,700', '$220,720', '$220,730', '$220,769', '$220,799', '$220,833', '$220,850', '$220,869', '$220,877', '$220,900', '$220,900+', '$220,905', '$220,915', '$220,921', '$220,932', '$220,950', '$220,990', '$220,990+', '$220,994', '$220,995', '$220,995+', '$220,998', '$220,999', '$220,999+', '$221,000', '$221,000+', '$221,020', '$221,067', '$221,069', '$221,087', '$221,165', '$221,180', '$221,187', '$221,243', '$221,298', '$221,319', '$221,331', '$221,343', '$221,350', '$221,366', '$221,381', '$221,384', '$221,392', '$221,400', '$221,449', '$221,461', '$221,465', '$221,495', '$221,495+', '$221,499', '$221,500', '$221,514', '$221,523', '$221,533', '$221,554', '$221,575', '$221,617', '$221,624', '$221,627', '$221,686', '$221,700', '$221,723', '$221,728', '$221,760', '$221,769', '$221,770', '$221,800', '$221,856', '$221,859', '$221,900', '$221,900+', '$221,913', '$221,950', '$221,975', '$221,978', '$221,990', '$221,990+', '$221,995', '$221,995+', '$221,999', '$221,999+', '$222,000', '$222,004', '$222,010', '$222,012', '$222,035', '$222,037', '$222,057', '$222,072', '$222,078', '$222,100', '$222,119', '$222,140', '$222,176', '$222,200', '$222,202', '$222,206', '$222,207', '$222,296', '$222,331', '$222,345', '$222,355', '$222,365', '$222,370', '$222,399', '$222,400', '$222,403', '$222,405', '$222,420', '$222,442', '$222,454', '$222,495+', '$222,499', '$222,499+', '$222,500', '$222,545', '$222,600', '$222,601', '$222,602', '$222,610', '$222,614', '$222,640', '$222,648', '$222,662', '$222,712', '$222,722', '$222,729', '$222,740', '$222,742', '$222,746', '$222,750', '$222,755', '$222,769', '$222,774', '$222,777', '$222,778', '$222,788', '$222,796', '$222,800', '$222,805', '$222,811', '$222,850', '$222,872', '$222,888', '$222,893', '$222,900', '$222,900+', '$222,916', '$222,950', '$222,965', '$222,968', '$222,975', '$222,990', '$222,990+', '$222,999', '$222,999+', '$223,000', '$223,000+', '$223,010', '$223,028', '$223,040', '$223,077', '$223,080', '$223,082', '$223,100', '$223,120', '$223,136', '$223,155', '$223,165', '$223,180', '$223,200', '$223,203', '$223,220', '$223,243', '$223,250', '$223,253', '$223,256', '$223,286', '$223,297', '$223,300', '$223,322', '$223,363', '$223,373', '$223,383', '$223,400', '$223,400+', '$223,407', '$223,409', '$223,415', '$223,416', '$223,450', '$223,457', '$223,463', '$223,490', '$223,490+', '$223,499', '$223,500', '$223,500+', '$223,517', '$223,524', '$223,525', '$223,536', '$223,537', '$223,543', '$223,572', '$223,575', '$223,576', '$223,587', '$223,589', '$223,600', '$223,607', '$223,608', '$223,618', '$223,629', '$223,681', '$223,690', '$223,700', '$223,720+', '$223,731', '$223,734', '$223,737', '$223,748', '$223,755', '$223,785', '$223,800', '$223,828', '$223,850', '$223,853', '$223,888', '$223,894', '$223,900', '$223,900+', '$223,914', '$223,918', '$223,950', '$223,956', '$223,965', '$223,970', '$223,975', '$223,984', '$223,990', '$223,990+', '$223,993', '$223,995', '$223,995+', '$223,999', '$223,999+', '$224,000', '$224,000+', '$224,035', '$224,041', '$224,050', '$224,052', '$224,100', '$224,103', '$224,114', '$224,127', '$224,171', '$224,175', '$224,200', '$224,220', '$224,242', '$224,250', '$224,272', '$224,300', '$224,305', '$224,327', '$224,330', '$224,399', '$224,400', '$224,422', '$224,425', '$224,445', '$224,450', '$224,452', '$224,470', '$224,490', '$224,490+', '$224,495', '$224,499', '$224,500', '$224,500+', '$224,524', '$224,536', '$224,568', '$224,590', '$224,600', '$224,611', '$224,640', '$224,676', '$224,685', '$224,694', '$224,697', '$224,700', '$224,750', '$224,774', '$224,777', '$224,779', '$224,800', '$224,821', '$224,850', '$224,855', '$224,870', '$224,880', '$224,888', '$224,890', '$224,900', '$224,900+', '$224,910', '$224,912', '$224,924', '$224,931', '$224,935', '$224,938', '$224,950', '$224,953', '$224,976', '$224,977', '$224,980', '$224,986', '$224,987', '$224,990', '$224,990+', '$224,994', '$224,995', '$224,995+', '$224,996', '$224,997', '$224,999', '$224,999+', '$225,000', '$225,000+', '$225,025', '$225,026', '$225,040', '$225,050', '$225,091', '$225,125', '$225,150', '$225,164', '$225,165', '$225,191', '$225,200+', '$225,208', '$225,224', '$225,250', '$225,262', '$225,275', '$225,290', '$225,295', '$225,305', '$225,341', '$225,350', '$225,400', '$225,413', '$225,444', '$225,450', '$225,462', '$225,470', '$225,474', '$225,479', '$225,490', '$225,495', '$225,499+', '$225,500', '$225,515', '$225,557', '$225,579', '$225,600', '$225,637', '$225,660', '$225,680', '$225,700', '$225,704', '$225,713', '$225,721', '$225,731', '$225,741', '$225,750', '$225,755', '$225,757', '$225,775', '$225,792', '$225,800', '$225,804', '$225,815', '$225,843', '$225,895', '$225,900', '$225,900+', '$225,914', '$225,930', '$225,940', '$225,950', '$225,969', '$225,990', '$225,990+', '$225,995', '$225,995+', '$225,999', '$226,000', '$226,000+', '$226,003', '$226,008', '$226,014', '$226,025', '$226,103', '$226,116', '$226,132', '$226,140', '$226,163', '$226,175', '$226,178', '$226,190', '$226,195', '$226,200', '$226,230', '$226,232', '$226,249', '$226,262', '$226,325', '$226,348', '$226,350', '$226,366', '$226,371', '$226,400', '$226,405', '$226,411', '$226,450', '$226,462', '$226,465', '$226,482', '$226,490', '$226,492', '$226,499', '$226,499+', '$226,500', '$226,506', '$226,514', '$226,533', '$226,550', '$226,600', '$226,615', '$226,668', '$226,685', '$226,699', '$226,700', '$226,738', '$226,766', '$226,770', '$226,790', '$226,792', '$226,802', '$226,816', '$226,875', '$226,888', '$226,900', '$226,900+', '$226,920', '$226,926', '$226,935', '$226,939', '$226,950', '$226,990', '$226,990+', '$226,995', '$226,995+', '$227,000', '$227,000+', '$227,005', '$227,015', '$227,020+', '$227,050', '$227,065', '$227,095', '$227,100', '$227,103', '$227,112', '$227,132', '$227,138', '$227,140', '$227,195', '$227,200', '$227,250', '$227,261', '$227,280', '$227,292', '$227,307', '$227,350', '$227,384', '$227,396', '$227,400', '$227,425', '$227,438', '$227,450', '$227,475', '$227,490', '$227,490+', '$227,499', '$227,499+', '$227,500', '$227,504', '$227,521', '$227,550', '$227,600', '$227,611', '$227,635', '$227,645', '$227,677', '$227,685', '$227,690', '$227,700', '$227,760', '$227,769', '$227,800', '$227,809', '$227,811', '$227,816', '$227,827', '$227,846', '$227,872', '$227,879', '$227,884', '$227,888', '$227,900', '$227,900+', '$227,905', '$227,912', '$227,914', '$227,928', '$227,945', '$227,950', '$227,980', '$227,987', '$227,990', '$227,990+', '$227,997', '$227,999', '$228,000', '$228,000+', '$228,039', '$228,040', '$228,055', '$228,056', '$228,066', '$228,075', '$228,085', '$228,104', '$228,112', '$228,126', '$228,140', '$228,145', '$228,185+', '$228,216', '$228,228', '$228,245', '$228,252', '$228,295', '$228,300', '$228,313', '$228,325', '$228,330', '$228,358', '$228,400', '$228,400+', '$228,434', '$228,462', '$228,499', '$228,499+', '$228,500', '$228,500+', '$228,507', '$228,550', '$228,569', '$228,591', '$228,635', '$228,667', '$228,682', '$228,700', '$228,735', '$228,750', '$228,758', '$228,786', '$228,800', '$228,816', '$228,821', '$228,850', '$228,851', '$228,868', '$228,888', '$228,899', '$228,900', '$228,900+', '$228,915', '$228,920', '$228,940', '$228,940+', '$228,944', '$228,947', '$228,950', '$228,970', '$228,973', '$228,987', '$228,990', '$228,990+', '$228,995', '$228,995+', '$228,999', '$228,999+', '$229,000', '$229,000+', '$229,003', '$229,005', '$229,030', '$229,051', '$229,075', '$229,095', '$229,100', '$229,110', '$229,117', '$229,163', '$229,173', '$229,200', '$229,222', '$229,249', '$229,300', '$229,310', '$229,336', '$229,370+', '$229,400', '$229,400+', '$229,408', '$229,430', '$229,440', '$229,449', '$229,450', '$229,472', '$229,475', '$229,480', '$229,490', '$229,490+', '$229,499', '$229,499+', '$229,500', '$229,513', '$229,524', '$229,527', '$229,542', '$229,559', '$229,573', '$229,600', '$229,610', '$229,625', '$229,630', '$229,682', '$229,700', '$229,718', '$229,736', '$229,750', '$229,770', '$229,777', '$229,784', '$229,788', '$229,790', '$229,799', '$229,800', '$229,823', '$229,825', '$229,849', '$229,850', '$229,875', '$229,880', '$229,888', '$229,890', '$229,898', '$229,899', '$229,900', '$229,900+', '$229,931', '$229,932', '$229,950', '$229,950+', '$229,970', '$229,980', '$229,987', '$229,990', '$229,990+', '$229,995', '$229,998', '$229,999', '$229,999+', '$23,000', '$23,000,000', '$23,221', '$23,300', '$23,323', '$23,364', '$23,400', '$23,450', '$23,500', '$23,500,000', '$23,580', '$23,700', '$23,750', '$23,750,000', '$23,777', '$23,800', '$23,897', '$23,899', '$23,900', '$23,900+', '$23,900,000', '$23,938', '$23,940', '$23,950', '$23,990,000', '$230,000', '$230,014', '$230,015', '$230,050', '$230,110', '$230,111', '$230,114', '$230,155', '$230,165', '$230,185', '$230,195', '$230,198', '$230,200', '$230,203+', '$230,205', '$230,210', '$230,217', '$230,225', '$230,253', '$230,266', '$230,271', '$230,277', '$230,284', '$230,297', '$230,298', '$230,300', '$230,342', '$230,351', '$230,389', '$230,400', '$230,400+', '$230,406', '$230,424', '$230,434', '$230,448', '$230,490', '$230,494', '$230,499', '$230,499+', '$230,500', '$230,500+', '$230,525', '$230,530', '$230,571', '$230,582', '$230,589', '$230,610', '$230,660', '$230,664', '$230,699', '$230,747', '$230,749', '$230,756', '$230,782', '$230,799', '$230,840', '$230,840+', '$230,843', '$230,850', '$230,857', '$230,860', '$230,899', '$230,900', '$230,900+', '$230,925', '$230,950', '$230,952', '$230,955', '$230,965', '$230,974', '$230,977', '$230,990', '$230,990+', '$230,995', '$230,995+', '$230,999', '$231,000', '$231,000+', '$231,038', '$231,065', '$231,093', '$231,100', '$231,100+', '$231,115', '$231,120', '$231,123', '$231,125', '$231,130', '$231,190', '$231,196', '$231,200', '$231,201', '$231,237', '$231,250', '$231,269', '$231,275', '$231,300', '$231,365', '$231,371', '$231,389', '$231,393', '$231,400+', '$231,408', '$231,410+', '$231,461', '$231,485', '$231,490', '$231,490+', '$231,493', '$231,499', '$231,500', '$231,514', '$231,550', '$231,583', '$231,635', '$231,693', '$231,700', '$231,710', '$231,728', '$231,741', '$231,744', '$231,750', '$231,775', '$231,778', '$231,810', '$231,885', '$231,895', '$231,900', '$231,900+', '$231,915', '$231,940', '$231,949', '$231,950', '$231,960', '$231,990', '$231,990+', '$231,995', '$231,995+', '$231,999', '$231,999+', '$232,000', '$232,000+', '$232,017', '$232,018', '$232,042', '$232,061', '$232,100', '$232,141', '$232,149', '$232,156', '$232,168', '$232,197', '$232,200', '$232,218', '$232,220', '$232,234', '$232,253', '$232,255', '$232,256', '$232,270', '$232,321', '$232,326', '$232,330', '$232,336', '$232,340', '$232,350', '$232,357', '$232,364', '$232,375', '$232,380', '$232,397', '$232,400', '$232,434', '$232,439', '$232,455', '$232,459', '$232,462', '$232,465', '$232,476', '$232,490+', '$232,499', '$232,499+', '$232,500', '$232,500+', '$232,545', '$232,566', '$232,569', '$232,588', '$232,600', '$232,615', '$232,637', '$232,650', '$232,675', '$232,680', '$232,683', '$232,695', '$232,713', '$232,716', '$232,725', '$232,740', '$232,776', '$232,777', '$232,800', '$232,804', '$232,815', '$232,840+', '$232,860', '$232,864', '$232,874', '$232,875', '$232,880', '$232,900', '$232,900+', '$232,923', '$232,955', '$232,966', '$232,972', '$232,990', '$232,990+', '$232,996', '$232,999', '$233,000', '$233,000+', '$233,008', '$233,009', '$233,058', '$233,076', '$233,103', '$233,134', '$233,140', '$233,144', '$233,150', '$233,195', '$233,198', '$233,200', '$233,207', '$233,250', '$233,266', '$233,288', '$233,289', '$233,340', '$233,353', '$233,378', '$233,398', '$233,400', '$233,407', '$233,416', '$233,458', '$233,460', '$233,464', '$233,467', '$233,490', '$233,490+', '$233,495+', '$233,499', '$233,499+', '$233,500', '$233,500+', '$233,503', '$233,570', '$233,576', '$233,587', '$233,600', '$233,602', '$233,606', '$233,614', '$233,634', '$233,640', '$233,650', '$233,660', '$233,682', '$233,688', '$233,693', '$233,700', '$233,705', '$233,750', '$233,759', '$233,765', '$233,773', '$233,790', '$233,793', '$233,796', '$233,800', '$233,801', '$233,835', '$233,839', '$233,846', '$233,849', '$233,850', '$233,888', '$233,900', '$233,915', '$233,922', '$233,950', '$233,963', '$233,965', '$233,986', '$233,990', '$233,990+', '$233,995', '$233,999', '$233,999+', '$234,000', '$234,000+', '$234,001', '$234,004', '$234,021', '$234,023', '$234,085', '$234,090', '$234,115', '$234,119', '$234,141', '$234,154', '$234,177', '$234,180', '$234,207', '$234,223', '$234,230', '$234,266', '$234,286', '$234,291', '$234,297', '$234,300', '$234,317', '$234,326', '$234,336', '$234,391', '$234,400', '$234,418', '$234,445', '$234,475', '$234,490', '$234,490+', '$234,497', '$234,499', '$234,499+', '$234,500', '$234,500+', '$234,520', '$234,558', '$234,563', '$234,567', '$234,586', '$234,598', '$234,617', '$234,630', '$234,650', '$234,690', '$234,700', '$234,707', '$234,735', '$234,750', '$234,777', '$234,786', '$234,792', '$234,800', '$234,827', '$234,839', '$234,880', '$234,885', '$234,890', '$234,895', '$234,897', '$234,900', '$234,900+', '$234,918', '$234,921', '$234,929', '$234,935', '$234,950', '$234,950+', '$234,960', '$234,968', '$234,990', '$234,990+', '$234,995', '$234,999', '$234,999+', '$235,000', '$235,000+', '$235,015', '$235,017', '$235,035', '$235,040', '$235,067', '$235,083', '$235,099', '$235,100', '$235,103', '$235,105', '$235,107', '$235,125', '$235,131', '$235,143', '$235,145', '$235,170', '$235,200', '$235,200+', '$235,231', '$235,249', '$235,271', '$235,303', '$235,306', '$235,356', '$235,370', '$235,390', '$235,400', '$235,445', '$235,450', '$235,455', '$235,476', '$235,490', '$235,495', '$235,499', '$235,499+', '$235,500', '$235,500+', '$235,550', '$235,551', '$235,590', '$235,593', '$235,600', '$235,626', '$235,650', '$235,655', '$235,657', '$235,665', '$235,696', '$235,700', '$235,707', '$235,731', '$235,750', '$235,793', '$235,800', '$235,816', '$235,836', '$235,837', '$235,880', '$235,882', '$235,900', '$235,905', '$235,950', '$235,965', '$235,969', '$235,985', '$235,990', '$235,990+', '$235,999', '$236,000', '$236,000+', '$236,015', '$236,038', '$236,064', '$236,070', '$236,074', '$236,090', '$236,109', '$236,157', '$236,180', '$236,185', '$236,188', '$236,200', '$236,201', '$236,243', '$236,255', '$236,297', '$236,300', '$236,377', '$236,390', '$236,400', '$236,400+', '$236,415', '$236,420', '$236,422', '$236,441', '$236,444', '$236,453', '$236,462', '$236,480', '$236,488', '$236,490', '$236,490+', '$236,492', '$236,498', '$236,500', '$236,500+', '$236,530', '$236,540', '$236,546', '$236,570', '$236,605', '$236,637', '$236,670', '$236,675', '$236,685', '$236,700', '$236,721', '$236,725', '$236,740', '$236,776', '$236,778', '$236,790', '$236,800', '$236,835', '$236,846', '$236,888', '$236,900', '$236,900+', '$236,950', '$236,985', '$236,990', '$236,990+', '$236,991', '$236,995', '$236,995+', '$236,999', '$237,000', '$237,000+', '$237,046', '$237,065', '$237,074', '$237,100', '$237,145', '$237,160', '$237,164', '$237,165', '$237,181', '$237,188', '$237,200', '$237,201', '$237,202', '$237,209', '$237,235', '$237,244', '$237,249', '$237,258', '$237,264', '$237,265', '$237,300', '$237,320', '$237,322', '$237,326', '$237,328', '$237,331', '$237,355', '$237,367', '$237,369', '$237,379', '$237,390', '$237,400', '$237,400+', '$237,406', '$237,411', '$237,421', '$237,425', '$237,437', '$237,452', '$237,453', '$237,490', '$237,494', '$237,498', '$237,499', '$237,499+', '$237,500', '$237,500+', '$237,514', '$237,524', '$237,525', '$237,533', '$237,578', '$237,582', '$237,621', '$237,667', '$237,675', '$237,698', '$237,700', '$237,711', '$237,740', '$237,744', '$237,750', '$237,760', '$237,785', '$237,800', '$237,852', '$237,900', '$237,900+', '$237,925', '$237,950', '$237,981', '$237,985', '$237,990', '$237,990+', '$237,995', '$237,999', '$238,000', '$238,000+', '$238,070', '$238,084', '$238,100', '$238,125', '$238,130', '$238,136', '$238,150', '$238,160', '$238,196', '$238,197', '$238,200', '$238,204', '$238,215', '$238,217', '$238,226', '$238,250', '$238,267', '$238,333', '$238,346', '$238,354', '$238,360', '$238,377', '$238,381', '$238,390', '$238,399', '$238,405', '$238,408', '$238,453', '$238,462', '$238,490', '$238,490+', '$238,495', '$238,498', '$238,499', '$238,500', '$238,500+', '$238,507', '$238,532', '$238,534', '$238,560', '$238,563', '$238,584', '$238,600', '$238,620', '$238,625', '$238,650', '$238,674', '$238,684', '$238,700', '$238,744', '$238,750', '$238,764', '$238,777', '$238,800', '$238,824', '$238,875', '$238,888', '$238,890', '$238,899', '$238,900', '$238,900+', '$238,904', '$238,905', '$238,935', '$238,950', '$238,983', '$238,988', '$238,990', '$238,990+', '$238,991', '$238,995', '$238,995+', '$238,999', '$239,000', '$239,000+', '$239,050', '$239,060', '$239,073', '$239,096', '$239,100', '$239,111', '$239,132', '$239,134', '$239,145', '$239,150', '$239,169', '$239,184', '$239,194', '$239,199', '$239,200', '$239,205', '$239,250', '$239,253', '$239,260', '$239,270', '$239,282', '$239,289', '$239,300', '$239,302', '$239,312', '$239,315', '$239,327', '$239,332', '$239,339', '$239,390', '$239,400', '$239,423', '$239,424', '$239,443', '$239,470', '$239,485', '$239,490', '$239,490+', '$239,492', '$239,499+', '$239,500', '$239,555', '$239,557', '$239,588', '$239,609', '$239,611', '$239,628', '$239,646', '$239,650', '$239,670', '$239,675', '$239,682', '$239,690', '$239,700', '$239,711', '$239,720', '$239,730', '$239,740', '$239,750', '$239,760', '$239,790', '$239,793', '$239,800', '$239,801', '$239,806', '$239,813', '$239,825', '$239,850', '$239,873', '$239,888', '$239,893', '$239,899', '$239,900', '$239,900+', '$239,931', '$239,932', '$239,933', '$239,950', '$239,950+', '$239,962', '$239,985', '$239,988', '$239,990', '$239,990+', '$239,995', '$239,995+', '$239,996', '$239,997', '$239,999', '$239,999+', '$24,000', '$24,000,000', '$24,041', '$24,199', '$24,225', '$24,234', '$24,320', '$24,350', '$24,375,000', '$24,400', '$24,489', '$24,498', '$24,500', '$24,500,000', '$24,542', '$24,600', '$24,650', '$24,679', '$24,690', '$24,693', '$24,700', '$24,750', '$24,750,000', '$24,792', '$24,800', '$24,899', '$24,900', '$24,900+', '$24,900,000', '$24,922', '$24,946', '$24,950', '$24,950,000', '$24,975,000', '$24,990', '$24,990,000', '$24,995,000', '$24,999', '$240,000', '$240,000+', '$240,012', '$240,037', '$240,040', '$240,049', '$240,085', '$240,086', '$240,098', '$240,100', '$240,100+', '$240,125', '$240,130', '$240,147', '$240,150', '$240,155', '$240,188', '$240,190', '$240,280', '$240,282', '$240,283', '$240,288', '$240,290', '$240,290+', '$240,299', '$240,305', '$240,312', '$240,315', '$240,332', '$240,350', '$240,356', '$240,400', '$240,407', '$240,409', '$240,425', '$240,450', '$240,455', '$240,465', '$240,479', '$240,490', '$240,490+', '$240,499', '$240,499+', '$240,500', '$240,500+', '$240,514', '$240,531', '$240,560', '$240,564', '$240,600', '$240,605', '$240,616', '$240,625', '$240,630', '$240,645', '$240,650', '$240,695', '$240,696', '$240,705', '$240,755', '$240,775', '$240,784', '$240,805', '$240,810', '$240,835', '$240,850', '$240,863', '$240,868', '$240,869', '$240,877', '$240,888', '$240,892', '$240,900', '$240,900+', '$240,909', '$240,916', '$240,950', '$240,990', '$240,990+', '$240,995+', '$240,998', '$240,999', '$241,000', '$241,000+', '$241,004', '$241,039', '$241,069', '$241,090', '$241,107', '$241,130', '$241,135', '$241,142', '$241,150', '$241,170', '$241,172', '$241,175', '$241,185', '$241,200', '$241,236', '$241,240', '$241,250', '$241,296', '$241,300', '$241,380', '$241,400', '$241,442', '$241,470', '$241,473', '$241,498', '$241,499', '$241,500', '$241,514', '$241,545', '$241,586', '$241,600', '$241,611', '$241,668', '$241,670', '$241,688', '$241,694', '$241,697', '$241,700', '$241,715', '$241,740', '$241,749', '$241,750', '$241,753', '$241,770', '$241,778', '$241,785', '$241,800', '$241,807', '$241,815', '$241,865', '$241,870', '$241,874', '$241,899', '$241,900', '$241,900+', '$241,940', '$241,950', '$241,963', '$241,990', '$241,990+', '$241,991', '$241,995+', '$241,999', '$242,000', '$242,000+', '$242,007', '$242,015', '$242,034', '$242,044', '$242,070', '$242,080', '$242,100', '$242,100+', '$242,106', '$242,131', '$242,148', '$242,150', '$242,160', '$242,167', '$242,188', '$242,200', '$242,225', '$242,249', '$242,250', '$242,260', '$242,264', '$242,272', '$242,278', '$242,282', '$242,300', '$242,322', '$242,325', '$242,337', '$242,342', '$242,346', '$242,381', '$242,400', '$242,400+', '$242,417', '$242,450', '$242,453', '$242,475', '$242,484', '$242,490', '$242,490+', '$242,499', '$242,500', '$242,531', '$242,543', '$242,547', '$242,575', '$242,584', '$242,632', '$242,634', '$242,650', '$242,670', '$242,675', '$242,680', '$242,696', '$242,698', '$242,700', '$242,712', '$242,740', '$242,750', '$242,761', '$242,780', '$242,800', '$242,822', '$242,829', '$242,843', '$242,873', '$242,876', '$242,889', '$242,900', '$242,900+', '$242,945', '$242,950', '$242,987', '$242,990', '$242,990+', '$242,995', '$242,995+', '$242,999', '$243,000', '$243,023', '$243,035', '$243,048', '$243,056', '$243,085', '$243,095', '$243,103', '$243,112', '$243,119', '$243,132', '$243,150', '$243,189', '$243,191', '$243,194', '$243,197', '$243,200', '$243,204', '$243,219', '$243,224', '$243,225', '$243,240', '$243,257', '$243,270', '$243,289', '$243,300', '$243,304', '$243,322', '$243,325', '$243,350', '$243,353', '$243,354', '$243,362', '$243,375', '$243,385', '$243,387', '$243,395', '$243,400', '$243,405', '$243,423', '$243,424', '$243,430', '$243,436', '$243,450', '$243,464', '$243,470', '$243,479', '$243,486', '$243,499', '$243,499+', '$243,500', '$243,500+', '$243,530', '$243,552', '$243,557', '$243,566', '$243,600', '$243,600+', '$243,621', '$243,633', '$243,635', '$243,684', '$243,690', '$243,691', '$243,709', '$243,725', '$243,741', '$243,750', '$243,754', '$243,800', '$243,840', '$243,851', '$243,891', '$243,893', '$243,900', '$243,900+', '$243,917', '$243,925', '$243,945', '$243,950', '$243,985', '$243,990', '$243,990+', '$243,995', '$243,999', '$243,999+', '$244,000', '$244,009', '$244,015', '$244,034', '$244,035', '$244,050', '$244,072', '$244,096', '$244,116', '$244,123', '$244,126', '$244,134', '$244,164', '$244,165', '$244,172', '$244,179', '$244,180', '$244,195', '$244,200', '$244,200+', '$244,245', '$244,250', '$244,258', '$244,269', '$244,282', '$244,296', '$244,300', '$244,305', '$244,327', '$244,349', '$244,350', '$244,367', '$244,376', '$244,381', '$244,400', '$244,448', '$244,449', '$244,450', '$244,451', '$244,463', '$244,490+', '$244,499', '$244,500', '$244,510', '$244,521', '$244,556', '$244,600', '$244,613', '$244,640', '$244,654', '$244,685', '$244,686', '$244,700', '$244,705', '$244,707', '$244,711', '$244,720', '$244,725', '$244,730', '$244,750', '$244,766', '$244,771', '$244,774', '$244,788', '$244,791', '$244,799', '$244,800', '$244,800+', '$244,815', '$244,822', '$244,823', '$244,850', '$244,888', '$244,895', '$244,900', '$244,900+', '$244,906', '$244,914', '$244,947', '$244,950', '$244,950+', '$244,952', '$244,955', '$244,975', '$244,980', '$244,984', '$244,990', '$244,990+', '$244,991', '$244,995', '$244,995+', '$244,999', '$244,999+', '$245,000', '$245,000+', '$245,021', '$245,034', '$245,040', '$245,073', '$245,077', '$245,091', '$245,095', '$245,119', '$245,120', '$245,130', '$245,140', '$245,149', '$245,150', '$245,180', '$245,182', '$245,190', '$245,200', '$245,265', '$245,267', '$245,269', '$245,278', '$245,319', '$245,338', '$245,340', '$245,350', '$245,400', '$245,430', '$245,490', '$245,490+', '$245,499', '$245,499+', '$245,500', '$245,500+', '$245,507', '$245,520', '$245,550', '$245,557', '$245,590', '$245,600', '$245,614', '$245,629', '$245,632', '$245,638', '$245,680', '$245,700', '$245,705', '$245,719', '$245,720', '$245,740', '$245,749', '$245,750', '$245,763', '$245,769', '$245,770', '$245,793', '$245,800', '$245,816', '$245,850', '$245,866', '$245,899', '$245,900', '$245,900+', '$245,909', '$245,912', '$245,915', '$245,920', '$245,950', '$245,956', '$245,975', '$245,985', '$245,990', '$245,990+', '$245,991', '$245,995+', '$245,999', '$245,999+', '$246,000', '$246,000+', '$246,022', '$246,031', '$246,044', '$246,075', '$246,078', '$246,083', '$246,085', '$246,100', '$246,103', '$246,112', '$246,147', '$246,184', '$246,204', '$246,255', '$246,270', '$246,287', '$246,296', '$246,311', '$246,313', '$246,323', '$246,333', '$246,345', '$246,349', '$246,358', '$246,400', '$246,420', '$246,450', '$246,455', '$246,487', '$246,490', '$246,490+', '$246,499', '$246,499+', '$246,500', '$246,534', '$246,545', '$246,558', '$246,559', '$246,585', '$246,597', '$246,629', '$246,640', '$246,646', '$246,658', '$246,684', '$246,705', '$246,709', '$246,721', '$246,740', '$246,750', '$246,769', '$246,788', '$246,800', '$246,810', '$246,823', '$246,824', '$246,865', '$246,877', '$246,885', '$246,890', '$246,891', '$246,894', '$246,900', '$246,900+', '$246,905', '$246,931', '$246,941', '$246,950', '$246,967', '$246,968', '$246,985', '$246,990', '$246,990+', '$246,995', '$246,999', '$246,999+', '$247,000', '$247,003', '$247,009', '$247,020', '$247,066', '$247,094', '$247,120', '$247,125', '$247,156', '$247,177', '$247,200', '$247,217', '$247,222', '$247,260', '$247,263', '$247,284', '$247,297', '$247,300', '$247,304', '$247,315', '$247,327', '$247,355', '$247,365', '$247,390', '$247,400', '$247,400+', '$247,414', '$247,424', '$247,426', '$247,429', '$247,430', '$247,451', '$247,470', '$247,490', '$247,495', '$247,495+', '$247,499', '$247,499+', '$247,500', '$247,500+', '$247,531', '$247,557', '$247,568', '$247,633', '$247,667', '$247,670', '$247,700', '$247,708', '$247,720', '$247,730', '$247,748', '$247,764', '$247,777', '$247,784', '$247,800', '$247,819', '$247,820', '$247,837', '$247,846', '$247,850', '$247,855', '$247,888', '$247,900', '$247,900+', '$247,913', '$247,917', '$247,950', '$247,950+', '$247,956', '$247,975', '$247,980', '$247,990', '$247,990+', '$247,995', '$247,995+', '$247,999', '$248,000', '$248,000+', '$248,016', '$248,035', '$248,045', '$248,050', '$248,075', '$248,085', '$248,088', '$248,095', '$248,117', '$248,123', '$248,130', '$248,149', '$248,150', '$248,152', '$248,165', '$248,180', '$248,200', '$248,246', '$248,247', '$248,250', '$248,254', '$248,255', '$248,256', '$248,286', '$248,290', '$248,314', '$248,318', '$248,319', '$248,325', '$248,345', '$248,433', '$248,435', '$248,488', '$248,490+', '$248,495', '$248,499', '$248,499+', '$248,500', '$248,520', '$248,525', '$248,540', '$248,541', '$248,554', '$248,582', '$248,588', '$248,598', '$248,600', '$248,646', '$248,650', '$248,652', '$248,655', '$248,681', '$248,699', '$248,715', '$248,736', '$248,737', '$248,738', '$248,741', '$248,747', '$248,750', '$248,775', '$248,785', '$248,800', '$248,806', '$248,807', '$248,850', '$248,888', '$248,899', '$248,900', '$248,900+', '$248,915', '$248,927', '$248,950', '$248,951', '$248,990', '$248,990+', '$248,995', '$248,999', '$249,000', '$249,000+', '$249,030', '$249,032', '$249,035', '$249,040', '$249,080', '$249,097', '$249,099', '$249,100', '$249,104', '$249,106', '$249,140', '$249,175', '$249,183', '$249,200', '$249,210', '$249,219', '$249,223', '$249,225', '$249,235', '$249,255', '$249,261', '$249,269', '$249,272', '$249,274', '$249,281', '$249,290', '$249,300', '$249,340', '$249,362', '$249,375', '$249,385', '$249,400', '$249,440', '$249,450', '$249,460', '$249,475', '$249,497', '$249,499', '$249,499+', '$249,500', '$249,502', '$249,520', '$249,533', '$249,546', '$249,562', '$249,570', '$249,599', '$249,600', '$249,605', '$249,650', '$249,653', '$249,675', '$249,680', '$249,684', '$249,700', '$249,720', '$249,733', '$249,740', '$249,750', '$249,755', '$249,777', '$249,780', '$249,784', '$249,794', '$249,800', '$249,812', '$249,815', '$249,825', '$249,850', '$249,869', '$249,870', '$249,873', '$249,875', '$249,885', '$249,888', '$249,899', '$249,900', '$249,900+', '$249,903', '$249,907', '$249,917', '$249,924', '$249,927', '$249,935', '$249,942', '$249,949', '$249,950', '$249,960', '$249,962', '$249,975', '$249,980', '$249,981', '$249,985', '$249,988', '$249,990', '$249,990+', '$249,991', '$249,993', '$249,995', '$249,995+', '$249,996', '$249,997', '$249,999', '$249,999+', '$25,000', '$25,000,000', '$25,031', '$25,042', '$25,224', '$25,250', '$25,300', '$25,354', '$25,365', '$25,400', '$25,495', '$25,500', '$25,500,000', '$25,568', '$25,600', '$25,750', '$25,777', '$25,780', '$25,800', '$25,840', '$25,900', '$25,900,000', '$25,950,000', '$25,990', '$25,999', '$250', '$250,000', '$250,000+', '$250,002', '$250,005', '$250,040', '$250,049', '$250,055', '$250,070', '$250,075', '$250,090', '$250,115', '$250,142', '$250,160', '$250,177', '$250,185', '$250,225', '$250,238', '$250,240', '$250,245', '$250,264', '$250,275', '$250,281', '$250,323', '$250,336', '$250,339', '$250,340', '$250,340+', '$250,350', '$250,359', '$250,390', '$250,400', '$250,400+', '$250,403', '$250,450', '$250,490', '$250,490+', '$250,499+', '$250,500', '$250,503', '$250,510', '$250,514', '$250,515', '$250,539', '$250,560', '$250,564', '$250,600', '$250,613+', '$250,615', '$250,616', '$250,617', '$250,625', '$250,632', '$250,669', '$250,685', '$250,690', '$250,698', '$250,700+', '$250,725', '$250,726', '$250,755', '$250,764', '$250,778', '$250,781', '$250,782', '$250,799', '$250,810', '$250,812', '$250,900', '$250,900+', '$250,922', '$250,945', '$250,950', '$250,960', '$250,975', '$250,985', '$250,990', '$250,990+', '$250,999', '$250,999+', '$251,000', '$251,000+', '$251,010', '$251,016', '$251,040', '$251,052', '$251,069', '$251,089', '$251,152', '$251,160+', '$251,172', '$251,179', '$251,181', '$251,200', '$251,200+', '$251,249', '$251,254', '$251,340', '$251,343', '$251,345', '$251,392', '$251,400', '$251,412', '$251,413', '$251,430', '$251,480', '$251,485', '$251,499', '$251,499+', '$251,500', '$251,510', '$251,520', '$251,581', '$251,600', '$251,601', '$251,616', '$251,621', '$251,694', '$251,697', '$251,700+', '$251,715', '$251,758', '$251,790', '$251,800', '$251,809', '$251,815', '$251,817', '$251,892', '$251,900', '$251,900+', '$251,917', '$251,925', '$251,927', '$251,950', '$251,962', '$251,990', '$251,990+', '$251,995', '$251,999', '$252,000', '$252,000+', '$252,028', '$252,061', '$252,070', '$252,073', '$252,100', '$252,118', '$252,120', '$252,157', '$252,200', '$252,210', '$252,219', '$252,230', '$252,245', '$252,263', '$252,291', '$252,297', '$252,299', '$252,304', '$252,309', '$252,310', '$252,318', '$252,320', '$252,324', '$252,352', '$252,356', '$252,399', '$252,400', '$252,400+', '$252,418', '$252,439', '$252,473', '$252,490', '$252,495', '$252,499', '$252,500', '$252,500+', '$252,526', '$252,550', '$252,555', '$252,573', '$252,600', '$252,615', '$252,633', '$252,635', '$252,650', '$252,682', '$252,702', '$252,703', '$252,740', '$252,741', '$252,746', '$252,777', '$252,791', '$252,825', '$252,827', '$252,838', '$252,840', '$252,876', '$252,894', '$252,900', '$252,900+', '$252,905', '$252,950', '$252,957', '$252,985', '$252,990', '$252,990+', '$252,995', '$252,995+', '$252,999', '$252,999+', '$253,000', '$253,000+', '$253,052', '$253,064', '$253,089', '$253,100', '$253,126', '$253,145', '$253,150', '$253,160', '$253,175', '$253,189', '$253,195', '$253,200', '$253,217', '$253,287', '$253,289', '$253,305', '$253,310', '$253,341', '$253,356', '$253,436', '$253,449', '$253,450', '$253,466', '$253,478', '$253,499', '$253,499+', '$253,500', '$253,500+', '$253,515', '$253,522', '$253,539', '$253,566', '$253,575', '$253,600', '$253,617', '$253,620', '$253,640', '$253,648', '$253,650', '$253,730', '$253,754', '$253,775+', '$253,776', '$253,777', '$253,790', '$253,800', '$253,821', '$253,850', '$253,865', '$253,885', '$253,897', '$253,900', '$253,900+', '$253,918', '$253,940', '$253,945', '$253,950', '$253,990', '$253,990+', '$253,995', '$253,995+', '$253,999', '$254,000', '$254,000+', '$254,005', '$254,015', '$254,072', '$254,089', '$254,090', '$254,123', '$254,150', '$254,162', '$254,221', '$254,225', '$254,238', '$254,249', '$254,300', '$254,307', '$254,308', '$254,319', '$254,328', '$254,350', '$254,384', '$254,400', '$254,429', '$254,444', '$254,478', '$254,485', '$254,490', '$254,490+', '$254,495', '$254,500', '$254,534', '$254,545', '$254,555', '$254,565', '$254,580', '$254,587', '$254,588', '$254,590', '$254,600', '$254,630', '$254,635', '$254,650', '$254,700', '$254,713', '$254,750', '$254,776', '$254,781', '$254,783', '$254,800', '$254,807', '$254,810', '$254,815', '$254,824', '$254,826', '$254,840', '$254,877', '$254,879', '$254,880', '$254,888', '$254,900', '$254,900+', '$254,912', '$254,920', '$254,945', '$254,949', '$254,950', '$254,950+', '$254,964', '$254,977', '$254,980', '$254,988', '$254,990', '$254,990+', '$254,991', '$254,993', '$254,995', '$254,997', '$254,998', '$254,999', '$254,999+', '$255,000', '$255,000+', '$255,015', '$255,035', '$255,078', '$255,096', '$255,099', '$255,119', '$255,190', '$255,210', '$255,219', '$255,258', '$255,269', '$255,302', '$255,307', '$255,325', '$255,357', '$255,400', '$255,408', '$255,437', '$255,439', '$255,444', '$255,452', '$255,467', '$255,469', '$255,484', '$255,485', '$255,490', '$255,490+', '$255,494', '$255,499+', '$255,500', '$255,503', '$255,507', '$255,529', '$255,537', '$255,539', '$255,550', '$255,555', '$255,559', '$255,560', '$255,570', '$255,582', '$255,600', '$255,615', '$255,623', '$255,637', '$255,644', '$255,672', '$255,683', '$255,688', '$255,689', '$255,749', '$255,750', '$255,781', '$255,785', '$255,796', '$255,799', '$255,800', '$255,808', '$255,830', '$255,888', '$255,891', '$255,895', '$255,897', '$255,900', '$255,900+', '$255,905', '$255,915', '$255,950', '$255,990', '$255,990+', '$255,994', '$255,995', '$255,995+', '$255,999', '$255,999+', '$256,000', '$256,000+', '$256,020', '$256,071', '$256,085', '$256,091', '$256,100', '$256,110', '$256,116', '$256,124+', '$256,164', '$256,200', '$256,204', '$256,224', '$256,238', '$256,250', '$256,260', '$256,283', '$256,302', '$256,310', '$256,323', '$256,333', '$256,340', '$256,349', '$256,400', '$256,410', '$256,420', '$256,432', '$256,465', '$256,479', '$256,485', '$256,490', '$256,499+', '$256,500', '$256,505', '$256,557', '$256,565', '$256,575', '$256,590', '$256,600', '$256,619', '$256,620', '$256,628', '$256,650', '$256,740', '$256,749', '$256,750', '$256,756', '$256,777', '$256,799', '$256,810', '$256,879', '$256,888', '$256,896', '$256,900', '$256,900+', '$256,918', '$256,920', '$256,956', '$256,960', '$256,980', '$256,990', '$256,990+', '$256,995', '$256,998', '$256,999', '$257,000', '$257,021', '$257,025', '$257,035', '$257,040', '$257,050', '$257,083', '$257,096', '$257,104', '$257,105', '$257,144', '$257,150', '$257,155', '$257,183', '$257,186', '$257,200', '$257,213', '$257,220', '$257,231', '$257,260', '$257,262', '$257,300', '$257,347', '$257,367', '$257,400', '$257,400+', '$257,455', '$257,490', '$257,490+', '$257,498', '$257,499', '$257,500', '$257,500+', '$257,505', '$257,524', '$257,540', '$257,575', '$257,580', '$257,582', '$257,600', '$257,615', '$257,649', '$257,650', '$257,660', '$257,700', '$257,735', '$257,740', '$257,743', '$257,749', '$257,750', '$257,752', '$257,765', '$257,800', '$257,829', '$257,867', '$257,887', '$257,900', '$257,900+', '$257,905', '$257,907', '$257,950', '$257,990', '$257,990+', '$257,995', '$257,995+', '$257,999', '$257,999+', '$258,000', '$258,000+', '$258,007', '$258,025', '$258,057', '$258,133', '$258,161', '$258,197', '$258,200+', '$258,219', '$258,240', '$258,250', '$258,256', '$258,264', '$258,300', '$258,325', '$258,339', '$258,360', '$258,400', '$258,403', '$258,404', '$258,410', '$258,442', '$258,446', '$258,450', '$258,469', '$258,490', '$258,490+', '$258,499+', '$258,500', '$258,520', '$258,525', '$258,555', '$258,563', '$258,565', '$258,602', '$258,609', '$258,640', '$258,651', '$258,685', '$258,700', '$258,724', '$258,750', '$258,768', '$258,780', '$258,800', '$258,813', '$258,820', '$258,855', '$258,865', '$258,870', '$258,888', '$258,900', '$258,900+', '$258,935', '$258,950', '$258,975', '$258,990', '$258,990+', '$258,995', '$258,995+', '$258,998', '$258,999', '$259,000', '$259,000+', '$259,048', '$259,061', '$259,099', '$259,107', '$259,150', '$259,215', '$259,235', '$259,245', '$259,250', '$259,264', '$259,329', '$259,346', '$259,350', '$259,386', '$259,388', '$259,395', '$259,400', '$259,403', '$259,421', '$259,431', '$259,468', '$259,476', '$259,490', '$259,490+', '$259,499', '$259,499+', '$259,500', '$259,500+', '$259,510', '$259,512', '$259,550', '$259,563', '$259,572', '$259,577', '$259,590', '$259,605', '$259,625', '$259,650', '$259,654', '$259,658', '$259,687', '$259,688', '$259,697', '$259,699', '$259,700', '$259,705', '$259,706', '$259,707', '$259,730', '$259,731', '$259,732', '$259,740', '$259,750', '$259,777', '$259,790', '$259,794', '$259,796', '$259,800', '$259,831', '$259,835', '$259,842', '$259,849', '$259,850', '$259,860', '$259,873', '$259,880', '$259,888', '$259,897', '$259,900', '$259,900+', '$259,909', '$259,913', '$259,917', '$259,921', '$259,930', '$259,950', '$259,952', '$259,955', '$259,965', '$259,966', '$259,975', '$259,985', '$259,987', '$259,990', '$259,990+', '$259,992', '$259,995', '$259,996', '$259,997', '$259,998', '$259,999', '$259,999+', '$26,000', '$26,000,000', '$26,010', '$26,100', '$26,200', '$26,300', '$26,400', '$26,499', '$26,500', '$26,500,000', '$26,612', '$26,666', '$26,670', '$26,700', '$26,750', '$26,800', '$26,800,000', '$26,900', '$26,900,000', '$26,950', '$26,960,000', '$26,999', '$260,000', '$260,000+', '$260,026', '$260,036', '$260,051', '$260,053', '$260,065', '$260,071', '$260,085', '$260,095', '$260,142', '$260,150', '$260,151', '$260,169', '$260,190', '$260,200', '$260,263', '$260,273', '$260,277', '$260,374', '$260,377', '$260,400', '$260,400+', '$260,401', '$260,414', '$260,437', '$260,454', '$260,479', '$260,490', '$260,499', '$260,499+', '$260,500', '$260,525', '$260,546', '$260,560', '$260,589', '$260,657', '$260,680', '$260,684', '$260,692', '$260,710', '$260,749', '$260,760', '$260,802', '$260,847', '$260,849', '$260,900', '$260,900+', '$260,937', '$260,939', '$260,950', '$260,961', '$260,985', '$260,990', '$260,990+', '$260,992', '$260,999', '$260,999+', '$261,000', '$261,000+', '$261,028', '$261,055', '$261,060', '$261,077', '$261,080', '$261,084', '$261,090', '$261,143', '$261,163', '$261,174', '$261,185', '$261,192', '$261,200', '$261,204', '$261,228', '$261,250', '$261,255', '$261,278', '$261,300', '$261,312', '$261,340', '$261,400', '$261,429', '$261,437', '$261,443', '$261,470', '$261,488', '$261,490', '$261,490+', '$261,499', '$261,500', '$261,501', '$261,522', '$261,527', '$261,562', '$261,586', '$261,599', '$261,600', '$261,600+', '$261,615', '$261,624', '$261,647', '$261,660', '$261,687', '$261,697', '$261,709', '$261,725', '$261,750', '$261,755', '$261,775', '$261,778', '$261,785', '$261,809', '$261,843', '$261,843+', '$261,900', '$261,900+', '$261,901', '$261,923', '$261,950', '$261,980', '$261,990', '$261,990+', '$261,995', '$261,995+', '$262,000', '$262,000+', '$262,012', '$262,054', '$262,090', '$262,095', '$262,140', '$262,152', '$262,162', '$262,168', '$262,188', '$262,225', '$262,230', '$262,250', '$262,261', '$262,287', '$262,350', '$262,389', '$262,400', '$262,400+', '$262,443', '$262,447', '$262,490', '$262,490+', '$262,499', '$262,500', '$262,500+', '$262,503', '$262,507', '$262,526', '$262,532', '$262,544', '$262,547', '$262,575', '$262,580', '$262,581', '$262,596', '$262,600', '$262,626', '$262,630', '$262,635', '$262,637', '$262,638', '$262,640', '$262,662', '$262,663', '$262,670', '$262,673', '$262,690', '$262,717', '$262,730', '$262,746', '$262,772', '$262,777', '$262,800', '$262,802', '$262,804', '$262,892', '$262,897', '$262,899', '$262,900', '$262,900+', '$262,950', '$262,960', '$262,990', '$262,990+', '$262,995', '$262,995+', '$263,000', '$263,000+', '$263,011', '$263,100', '$263,113', '$263,117', '$263,133', '$263,154', '$263,180', '$263,184', '$263,185', '$263,190', '$263,225', '$263,232', '$263,239', '$263,241', '$263,274', '$263,281', '$263,337', '$263,350', '$263,361', '$263,375', '$263,389', '$263,400', '$263,400+', '$263,409', '$263,415', '$263,425', '$263,448', '$263,450', '$263,453', '$263,490', '$263,490+', '$263,499+', '$263,500', '$263,500+', '$263,511', '$263,516', '$263,529', '$263,545', '$263,557', '$263,565', '$263,600', '$263,600+', '$263,610', '$263,637', '$263,658', '$263,669', '$263,700', '$263,701', '$263,741', '$263,755', '$263,759', '$263,790', '$263,800', '$263,806', '$263,844', '$263,875', '$263,890', '$263,891', '$263,897', '$263,900', '$263,900+', '$263,925', '$263,938', '$263,939', '$263,945', '$263,950', '$263,958', '$263,960', '$263,965', '$263,990', '$263,990+', '$263,995', '$263,995+', '$263,998', '$263,999', '$264,000', '$264,000+', '$264,007', '$264,010', '$264,038', '$264,062', '$264,090', '$264,099', '$264,115', '$264,126', '$264,136', '$264,162', '$264,190', '$264,230', '$264,240', '$264,256', '$264,264', '$264,283', '$264,293', '$264,328', '$264,334', '$264,350', '$264,381', '$264,390', '$264,400+', '$264,409', '$264,426', '$264,445', '$264,474', '$264,475', '$264,485', '$264,490+', '$264,491', '$264,499', '$264,500', '$264,514+', '$264,520', '$264,561', '$264,572', '$264,580', '$264,600', '$264,605', '$264,636', '$264,650', '$264,700', '$264,700+', '$264,701', '$264,705', '$264,706', '$264,711', '$264,728', '$264,729', '$264,800', '$264,820', '$264,822', '$264,837', '$264,844', '$264,874', '$264,875', '$264,888', '$264,890', '$264,891', '$264,898', '$264,900', '$264,900+', '$264,913', '$264,914', '$264,915', '$264,929', '$264,933', '$264,939', '$264,950', '$264,980', '$264,982', '$264,983', '$264,990', '$264,990+', '$264,995', '$264,998', '$264,999', '$264,999+', '$265,000', '$265,000+', '$265,014', '$265,021', '$265,028', '$265,032+', '$265,055', '$265,081', '$265,094', '$265,100', '$265,105', '$265,119', '$265,150', '$265,185', '$265,190', '$265,200', '$265,205', '$265,212', '$265,230', '$265,285', '$265,290', '$265,316', '$265,339', '$265,367', '$265,392', '$265,397', '$265,400', '$265,400+', '$265,408', '$265,436', '$265,453', '$265,455', '$265,473', '$265,478', '$265,490', '$265,490+', '$265,491', '$265,496', '$265,497', '$265,499', '$265,499+', '$265,500', '$265,500+', '$265,535', '$265,540+', '$265,550', '$265,555', '$265,599', '$265,630', '$265,636', '$265,639', '$265,650', '$265,673', '$265,682', '$265,691', '$265,700', '$265,704', '$265,710', '$265,727', '$265,771', '$265,775', '$265,790', '$265,804', '$265,835', '$265,853', '$265,857', '$265,871', '$265,888', '$265,895', '$265,900', '$265,900+', '$265,950', '$265,959', '$265,960', '$265,990', '$265,990+', '$265,999', '$266,000', '$266,000+', '$266,046', '$266,059', '$266,060', '$266,076', '$266,108', '$266,110', '$266,119', '$266,152', '$266,164', '$266,190', '$266,200', '$266,208', '$266,214', '$266,223', '$266,261', '$266,272', '$266,290', '$266,296', '$266,300', '$266,334+', '$266,337', '$266,400', '$266,417', '$266,430', '$266,450', '$266,459', '$266,469', '$266,477', '$266,485', '$266,486', '$266,490', '$266,499', '$266,499+', '$266,500', '$266,508', '$266,513', '$266,520', '$266,540', '$266,597', '$266,603', '$266,750', '$266,765', '$266,767', '$266,788', '$266,810', '$266,888', '$266,890', '$266,900', '$266,900+', '$266,920', '$266,926', '$266,950', '$266,985', '$266,990', '$266,990+', '$266,999', '$266,999+', '$267,000', '$267,000+', '$267,016', '$267,022', '$267,024', '$267,028', '$267,030', '$267,064', '$267,079', '$267,100', '$267,150', '$267,170', '$267,181', '$267,208', '$267,214+', '$267,222', '$267,257', '$267,283', '$267,285', '$267,305', '$267,400', '$267,440', '$267,444', '$267,475', '$267,482', '$267,490', '$267,490+', '$267,499', '$267,499+', '$267,500', '$267,500+', '$267,508', '$267,509', '$267,542', '$267,577', '$267,600', '$267,609', '$267,611', '$267,623', '$267,650', '$267,700', '$267,710', '$267,718', '$267,769', '$267,790', '$267,799', '$267,800', '$267,840', '$267,845', '$267,865', '$267,890', '$267,900', '$267,900+', '$267,903', '$267,920', '$267,935', '$267,939', '$267,949', '$267,950', '$267,990', '$267,990+', '$267,995', '$267,997', '$267,999', '$267,999+', '$268,000', '$268,000+', '$268,041', '$268,052', '$268,064', '$268,094', '$268,095', '$268,100', '$268,101', '$268,143', '$268,191', '$268,209', '$268,237', '$268,260', '$268,300', '$268,301', '$268,315', '$268,326', '$268,348', '$268,350', '$268,351', '$268,353', '$268,370', '$268,374', '$268,400', '$268,429', '$268,443', '$268,445', '$268,450', '$268,480', '$268,490', '$268,495', '$268,499', '$268,499+', '$268,500', '$268,500+', '$268,506', '$268,508', '$268,540', '$268,548', '$268,573', '$268,575', '$268,615', '$268,630', '$268,650', '$268,688', '$268,691', '$268,700', '$268,725', '$268,737', '$268,750', '$268,755', '$268,756', '$268,765+', '$268,794', '$268,800', '$268,804', '$268,808', '$268,810', '$268,835', '$268,850', '$268,883', '$268,885', '$268,888', '$268,900', '$268,906', '$268,912', '$268,917', '$268,919', '$268,950', '$268,975', '$268,990', '$268,990+', '$268,995', '$268,995+', '$268,999', '$269,000', '$269,000+', '$269,029', '$269,044', '$269,047', '$269,050', '$269,056', '$269,057', '$269,077', '$269,081', '$269,105', '$269,155', '$269,178', '$269,179', '$269,192', '$269,215', '$269,221', '$269,241', '$269,244', '$269,247', '$269,261', '$269,280', '$269,294', '$269,300', '$269,318', '$269,319', '$269,320', '$269,325', '$269,326', '$269,388', '$269,400', '$269,427', '$269,434', '$269,438+', '$269,450', '$269,470', '$269,490', '$269,490+', '$269,492', '$269,499', '$269,499+', '$269,500', '$269,517', '$269,530', '$269,538', '$269,545', '$269,549', '$269,550', '$269,557', '$269,560', '$269,572', '$269,590', '$269,600', '$269,609', '$269,627', '$269,631', '$269,633', '$269,645', '$269,660', '$269,673', '$269,675', '$269,690', '$269,700', '$269,734', '$269,750', '$269,754', '$269,761', '$269,764', '$269,776', '$269,777', '$269,778', '$269,799', '$269,800', '$269,805', '$269,815', '$269,825', '$269,840', '$269,850', '$269,876', '$269,888', '$269,900', '$269,900+', '$269,920', '$269,920+', '$269,922', '$269,940', '$269,950', '$269,950+', '$269,970', '$269,975', '$269,977', '$269,980', '$269,988', '$269,990', '$269,990+', '$269,995', '$269,997', '$269,998', '$269,999', '$269,999+', '$27,000', '$27,000,000', '$27,100,000', '$27,200', '$27,300', '$27,400', '$27,450', '$27,500', '$27,500,000', '$27,500/mo', '$27,515', '$27,560', '$27,700', '$27,750,000', '$27,800,000', '$27,837', '$27,900', '$27,900+', '$27,900,000', '$27,950,000', '$27,990', '$27,995,000', '$270,000', '$270,000+', '$270,017', '$270,028', '$270,032', '$270,080', '$270,097', '$270,099', '$270,110', '$270,116', '$270,117', '$270,119', '$270,130', '$270,140', '$270,144', '$270,149', '$270,151', '$270,162', '$270,165', '$270,183', '$270,224', '$270,234', '$270,236', '$270,245', '$270,253', '$270,269', '$270,300', '$270,329', '$270,356', '$270,382', '$270,400', '$270,408', '$270,415', '$270,421', '$270,425', '$270,436', '$270,443', '$270,490', '$270,491', '$270,499', '$270,500', '$270,520', '$270,525', '$270,553', '$270,681', '$270,700', '$270,730', '$270,732', '$270,736', '$270,741', '$270,750', '$270,765', '$270,766', '$270,785', '$270,790+', '$270,810', '$270,821', '$270,839+', '$270,869', '$270,878', '$270,888', '$270,890', '$270,890+', '$270,900', '$270,900+', '$270,921', '$270,950', '$270,990', '$270,990+', '$270,994', '$270,995', '$270,999', '$270,999+', '$271,000', '$271,015', '$271,043', '$271,046', '$271,050', '$271,053', '$271,093', '$271,095', '$271,120', '$271,147', '$271,204', '$271,250', '$271,254', '$271,259', '$271,273', '$271,329', '$271,332', '$271,345', '$271,347', '$271,373', '$271,395', '$271,400', '$271,400+', '$271,424', '$271,425', '$271,445', '$271,454', '$271,478', '$271,481', '$271,482', '$271,485', '$271,495', '$271,496', '$271,497', '$271,499+', '$271,500', '$271,506', '$271,642', '$271,648', '$271,680', '$271,705', '$271,784', '$271,785', '$271,796', '$271,800', '$271,802', '$271,811', '$271,834', '$271,840', '$271,845', '$271,849', '$271,883', '$271,892', '$271,900', '$271,900+', '$271,910', '$271,919', '$271,925', '$271,940', '$271,949', '$271,950', '$271,954', '$271,955', '$271,969', '$271,990', '$271,990+', '$271,995', '$271,995+', '$271,999', '$271,999+', '$272,000', '$272,000+', '$272,067', '$272,087', '$272,091', '$272,097', '$272,127', '$272,172', '$272,182', '$272,183', '$272,185', '$272,210', '$272,223', '$272,245', '$272,249', '$272,250', '$272,260', '$272,265', '$272,304', '$272,305', '$272,311', '$272,321', '$272,400', '$272,400+', '$272,440', '$272,450', '$272,468', '$272,487', '$272,490', '$272,490+', '$272,495', '$272,499', '$272,499+', '$272,500', '$272,507', '$272,516', '$272,539', '$272,563', '$272,564', '$272,588', '$272,600', '$272,645', '$272,668', '$272,685', '$272,690', '$272,692', '$272,700', '$272,740+', '$272,747', '$272,777', '$272,780', '$272,800', '$272,803', '$272,830', '$272,840', '$272,852', '$272,860', '$272,900', '$272,913', '$272,940', '$272,943', '$272,950', '$272,975', '$272,990', '$272,990+', '$272,999', '$273,000', '$273,000+', '$273,001', '$273,019', '$273,045', '$273,060', '$273,090', '$273,100', '$273,112', '$273,133', '$273,151', '$273,166', '$273,193', '$273,199', '$273,210', '$273,232', '$273,238', '$273,240', '$273,247', '$273,269', '$273,290', '$273,301', '$273,369', '$273,377', '$273,380', '$273,384', '$273,400+', '$273,418', '$273,422', '$273,430', '$273,450', '$273,478', '$273,480', '$273,490', '$273,490+', '$273,493', '$273,498', '$273,499', '$273,499+', '$273,500', '$273,535', '$273,551', '$273,570', '$273,579', '$273,625', '$273,700', '$273,718', '$273,730', '$273,750', '$273,753', '$273,800', '$273,840', '$273,848', '$273,850', '$273,860', '$273,870', '$273,900', '$273,900+', '$273,902', '$273,927', '$273,933', '$273,950', '$273,972', '$273,979', '$273,990', '$273,990+', '$273,995', '$273,997', '$273,998', '$273,999', '$273,999+', '$274,000', '$274,000+', '$274,002', '$274,048', '$274,080', '$274,081', '$274,088', '$274,091', '$274,099', '$274,131', '$274,144', '$274,145', '$274,153', '$274,190', '$274,200', '$274,218', '$274,245', '$274,284', '$274,300', '$274,313', '$274,317', '$274,318', '$274,324', '$274,332', '$274,340', '$274,359', '$274,378', '$274,390', '$274,390+', '$274,392', '$274,394', '$274,400', '$274,400+', '$274,408', '$274,411', '$274,419', '$274,426', '$274,450', '$274,461', '$274,476', '$274,490', '$274,495', '$274,499', '$274,499+', '$274,500', '$274,519', '$274,545', '$274,550', '$274,573', '$274,577', '$274,590', '$274,600', '$274,671', '$274,700', '$274,725', '$274,726', '$274,727', '$274,728', '$274,749', '$274,750', '$274,757', '$274,775', '$274,777', '$274,800', '$274,809', '$274,813', '$274,819', '$274,830', '$274,832', '$274,834', '$274,835', '$274,840', '$274,849', '$274,850', '$274,860', '$274,872', '$274,888', '$274,890', '$274,899', '$274,900', '$274,900+', '$274,925', '$274,935', '$274,945', '$274,948+', '$274,950', '$274,951', '$274,958', '$274,964', '$274,966', '$274,972', '$274,975', '$274,981', '$274,988', '$274,990', '$274,990+', '$274,994', '$274,995', '$274,997', '$274,998', '$274,999', '$274,999+', '$275,000', '$275,000+', '$275,007', '$275,010', '$275,085', '$275,099', '$275,120', '$275,134', '$275,136', '$275,150', '$275,157', '$275,168', '$275,169', '$275,184', '$275,200', '$275,205', '$275,209', '$275,219', '$275,259', '$275,260', '$275,261', '$275,269', '$275,274', '$275,277', '$275,288', '$275,330', '$275,355', '$275,368', '$275,396', '$275,400', '$275,416', '$275,450', '$275,480', '$275,490', '$275,490+', '$275,499', '$275,500', '$275,511', '$275,526', '$275,532', '$275,540', '$275,555', '$275,609', '$275,670', '$275,676', '$275,684', '$275,700', '$275,716', '$275,723', '$275,730', '$275,755', '$275,758', '$275,777', '$275,788', '$275,800', '$275,810', '$275,830', '$275,860', '$275,869', '$275,879', '$275,900', '$275,900+', '$275,902', '$275,920', '$275,950', '$275,990', '$275,990+', '$275,995', '$275,999', '$275,999+', '$276,000', '$276,000+', '$276,024', '$276,034', '$276,045', '$276,100', '$276,101', '$276,106', '$276,113', '$276,116', '$276,121', '$276,140', '$276,148', '$276,150', '$276,155', '$276,161', '$276,165', '$276,170', '$276,189', '$276,190', '$276,226', '$276,263', '$276,279', '$276,287', '$276,316', '$276,350', '$276,355', '$276,395', '$276,400', '$276,402', '$276,442', '$276,445', '$276,447', '$276,448', '$276,450', '$276,454', '$276,479', '$276,482', '$276,485', '$276,490', '$276,490+', '$276,495+', '$276,499+', '$276,500', '$276,500+', '$276,517', '$276,520', '$276,534', '$276,560', '$276,664', '$276,689', '$276,696', '$276,707', '$276,709', '$276,735', '$276,750', '$276,754', '$276,765', '$276,766', '$276,768', '$276,779', '$276,800', '$276,805', '$276,813', '$276,830', '$276,850', '$276,856', '$276,881', '$276,884', '$276,890', '$276,900', '$276,900+', '$276,911', '$276,948', '$276,950', '$276,952', '$276,957', '$276,960', '$276,990', '$276,990+', '$276,995', '$276,995+', '$276,999', '$276,999+', '$277,000', '$277,020', '$277,031', '$277,034', '$277,037', '$277,040', '$277,045', '$277,049', '$277,085', '$277,125', '$277,129', '$277,133', '$277,172', '$277,184', '$277,194', '$277,200', '$277,236', '$277,255', '$277,265', '$277,281', '$277,303', '$277,331', '$277,350', '$277,383', '$277,387', '$277,390', '$277,400', '$277,415', '$277,424', '$277,450', '$277,490', '$277,500', '$277,500+', '$277,503', '$277,506', '$277,547', '$277,593', '$277,615', '$277,630', '$277,632', '$277,650', '$277,668', '$277,694', '$277,700', '$277,734', '$277,750', '$277,763', '$277,777', '$277,800', '$277,882', '$277,899', '$277,900', '$277,900+', '$277,940', '$277,955', '$277,990', '$277,990+', '$277,995', '$277,999', '$278,000', '$278,000+', '$278,006', '$278,019', '$278,021', '$278,040', '$278,044', '$278,049', '$278,083', '$278,093', '$278,096', '$278,100', '$278,116', '$278,120', '$278,153', '$278,180', '$278,185', '$278,200', '$278,207', '$278,212', '$278,305', '$278,315', '$278,329', '$278,390', '$278,398', '$278,400', '$278,420', '$278,422', '$278,429', '$278,433', '$278,455', '$278,460', '$278,490', '$278,490+', '$278,500', '$278,500+', '$278,501', '$278,502', '$278,530', '$278,541', '$278,573', '$278,591', '$278,600', '$278,618', '$278,649', '$278,655', '$278,665', '$278,684', '$278,700', '$278,720', '$278,780', '$278,800', '$278,804', '$278,823', '$278,826', '$278,828', '$278,847', '$278,877', '$278,880', '$278,890', '$278,900', '$278,900+', '$278,941', '$278,950', '$278,954', '$278,958', '$278,961', '$278,990', '$278,990+', '$278,995', '$278,998', '$278,999', '$279,000', '$279,000+', '$279,006', '$279,025', '$279,062', '$279,095', '$279,116', '$279,125', '$279,136', '$279,150', '$279,157', '$279,200', '$279,260', '$279,266', '$279,271', '$279,292', '$279,310', '$279,314', '$279,320', '$279,326', '$279,339', '$279,340', '$279,367', '$279,400', '$279,444', '$279,450', '$279,452', '$279,457', '$279,490', '$279,497', '$279,500', '$279,500+', '$279,503', '$279,535', '$279,570', '$279,596', '$279,600', '$279,606', '$279,634', '$279,642', '$279,653', '$279,665', '$279,670', '$279,700', '$279,700+', '$279,759', '$279,761', '$279,777', '$279,780', '$279,790', '$279,800', '$279,803', '$279,813', '$279,834', '$279,844', '$279,850', '$279,853', '$279,880', '$279,888', '$279,890', '$279,899', '$279,900', '$279,900+', '$279,926', '$279,940', '$279,950', '$279,950+', '$279,951', '$279,955', '$279,964', '$279,974', '$279,977', '$279,980', '$279,987', '$279,988', '$279,989', '$279,990', '$279,990+', '$279,995', '$279,995+', '$279,997', '$279,999', '$28,000', '$28,000,000', '$28,054', '$28,157', '$28,272', '$28,300', '$28,400', '$28,500', '$28,500,000', '$28,598', '$28,600', '$28,652', '$28,700', '$28,712', '$28,742', '$28,750', '$28,750,000', '$28,800', '$28,888', '$28,900', '$28,900,000', '$28,995', '$28,999', '$280,000', '$280,000+', '$280,003', '$280,045', '$280,050', '$280,085', '$280,095', '$280,119', '$280,124', '$280,141', '$280,143', '$280,152', '$280,156', '$280,170', '$280,190', '$280,242', '$280,250', '$280,259', '$280,281', '$280,290', '$280,319', '$280,321', '$280,325', '$280,390', '$280,410', '$280,450', '$280,460', '$280,469', '$280,475', '$280,477', '$280,485', '$280,490', '$280,499', '$280,499+', '$280,500', '$280,500+', '$280,603', '$280,612', '$280,624', '$280,649', '$280,654', '$280,655', '$280,696', '$280,723', '$280,740', '$280,790', '$280,819', '$280,844', '$280,848', '$280,850', '$280,866+', '$280,884', '$280,900', '$280,900+', '$280,926', '$280,950', '$280,990', '$280,990+', '$280,995', '$280,995+', '$281,000', '$281,025', '$281,056', '$281,152', '$281,160', '$281,188', '$281,200', '$281,201', '$281,203', '$281,215', '$281,244', '$281,296', '$281,300', '$281,311', '$281,319', '$281,332', '$281,338', '$281,349', '$281,365', '$281,400', '$281,400+', '$281,490+', '$281,493', '$281,499+', '$281,500', '$281,513', '$281,517', '$281,527', '$281,534', '$281,550', '$281,568', '$281,591', '$281,637', '$281,650', '$281,670', '$281,681', '$281,700', '$281,720', '$281,724', '$281,750', '$281,768', '$281,780', '$281,786', '$281,793', '$281,819', '$281,877', '$281,883', '$281,887', '$281,900', '$281,900+', '$281,913', '$281,916', '$281,928', '$281,950', '$281,961', '$281,989', '$281,990', '$281,990+', '$281,995', '$281,999', '$282,000', '$282,034', '$282,057', '$282,067', '$282,085', '$282,090', '$282,102', '$282,157', '$282,164', '$282,173', '$282,200', '$282,209', '$282,238', '$282,242', '$282,250', '$282,262', '$282,294', '$282,300', '$282,306', '$282,332', '$282,336', '$282,379', '$282,380', '$282,400', '$282,414', '$282,420', '$282,424', '$282,427', '$282,447', '$282,450', '$282,478', '$282,485', '$282,489', '$282,490', '$282,490+', '$282,499', '$282,500', '$282,522', '$282,529', '$282,537', '$282,552', '$282,562', '$282,599', '$282,600+', '$282,615', '$282,632', '$282,638', '$282,669', '$282,690', '$282,700', '$282,728', '$282,735', '$282,737', '$282,791', '$282,792', '$282,795', '$282,802', '$282,803', '$282,820', '$282,882', '$282,900', '$282,900+', '$282,944', '$282,945', '$282,950', '$282,990', '$282,990+', '$282,995', '$282,999', '$282,999+', '$283,000', '$283,000+', '$283,027', '$283,065', '$283,069', '$283,073', '$283,105', '$283,134', '$283,147', '$283,190', '$283,255', '$283,270', '$283,300', '$283,353', '$283,354', '$283,360', '$283,384', '$283,391', '$283,400', '$283,422', '$283,466', '$283,490', '$283,495+', '$283,499+', '$283,500', '$283,500+', '$283,505', '$283,518', '$283,546', '$283,582', '$283,603', '$283,606', '$283,615', '$283,640', '$283,651', '$283,660', '$283,661', '$283,669', '$283,673', '$283,721', '$283,751', '$283,758', '$283,800', '$283,825', '$283,832', '$283,840', '$283,845', '$283,848', '$283,854', '$283,868', '$283,890', '$283,900', '$283,900+', '$283,904', '$283,924', '$283,930', '$283,950', '$283,951', '$283,975', '$283,990', '$283,990+', '$283,995', '$283,995+', '$283,998', '$283,999', '$284,000', '$284,000+', '$284,001', '$284,005', '$284,074', '$284,112', '$284,139', '$284,143', '$284,147', '$284,162', '$284,181', '$284,220', '$284,230', '$284,242', '$284,269', '$284,294', '$284,322', '$284,325', '$284,346', '$284,355', '$284,390', '$284,400', '$284,438', '$284,445', '$284,450', '$284,451', '$284,460', '$284,470', '$284,480', '$284,482', '$284,490+', '$284,498', '$284,499', '$284,499+', '$284,500', '$284,526', '$284,574', '$284,600', '$284,615', '$284,620', '$284,656', '$284,670', '$284,690', '$284,700', '$284,711', '$284,740', '$284,771', '$284,777', '$284,788', '$284,797', '$284,800', '$284,803', '$284,813', '$284,822', '$284,837', '$284,844', '$284,850', '$284,871', '$284,881', '$284,888', '$284,893', '$284,900', '$284,900+', '$284,901', '$284,918', '$284,925', '$284,950', '$284,969', '$284,980', '$284,983', '$284,984', '$284,990', '$284,990+', '$284,994', '$284,995', '$284,996', '$284,997', '$284,999', '$285,000', '$285,000+', '$285,026', '$285,079', '$285,100', '$285,154', '$285,156', '$285,161', '$285,170', '$285,200', '$285,230', '$285,269', '$285,290', '$285,299', '$285,300', '$285,300+', '$285,370', '$285,378', '$285,390', '$285,430', '$285,440', '$285,449', '$285,450', '$285,476', '$285,480', '$285,490', '$285,500', '$285,500+', '$285,520', '$285,553', '$285,571', '$285,600', '$285,668', '$285,698', '$285,700', '$285,725', '$285,730', '$285,737', '$285,744', '$285,773', '$285,774', '$285,800', '$285,820', '$285,880', '$285,888', '$285,900', '$285,900+', '$285,921', '$285,925', '$285,930', '$285,932', '$285,950', '$285,986', '$285,988', '$285,990', '$285,990+', '$285,999', '$286,000', '$286,000+', '$286,005', '$286,062', '$286,077', '$286,090', '$286,110', '$286,138', '$286,158', '$286,200', '$286,217', '$286,222', '$286,228', '$286,250', '$286,257', '$286,283', '$286,331', '$286,392', '$286,397', '$286,400', '$286,425', '$286,441', '$286,472', '$286,476', '$286,490', '$286,490+', '$286,499', '$286,499+', '$286,500', '$286,520', '$286,521', '$286,554', '$286,563', '$286,650', '$286,682', '$286,700', '$286,707', '$286,710', '$286,736', '$286,740', '$286,744', '$286,750', '$286,785', '$286,789', '$286,800', '$286,821', '$286,827', '$286,830', '$286,844', '$286,859', '$286,869', '$286,875', '$286,900', '$286,900+', '$286,901', '$286,917', '$286,935', '$286,941', '$286,950', '$286,950+', '$286,976', '$286,989', '$286,990', '$286,990+', '$286,995', '$286,999', '$286,999+', '$287,000', '$287,000+', '$287,030', '$287,034', '$287,042', '$287,062', '$287,070', '$287,082', '$287,100', '$287,121', '$287,130', '$287,149', '$287,184', '$287,240', '$287,250', '$287,259', '$287,274', '$287,290', '$287,300', '$287,333', '$287,356', '$287,391', '$287,400', '$287,422', '$287,424', '$287,430', '$287,438', '$287,450', '$287,457', '$287,490', '$287,499', '$287,499+', '$287,500', '$287,510', '$287,517', '$287,527', '$287,530', '$287,542', '$287,557', '$287,579', '$287,580', '$287,581', '$287,590', '$287,600', '$287,605', '$287,607', '$287,645', '$287,650', '$287,735', '$287,737', '$287,750', '$287,769', '$287,775', '$287,800', '$287,800+', '$287,813', '$287,835', '$287,850', '$287,900', '$287,900+', '$287,926', '$287,932', '$287,945', '$287,946', '$287,948', '$287,950', '$287,951', '$287,990', '$287,990+', '$287,995', '$287,998', '$287,999', '$287,999+', '$288,000', '$288,000+', '$288,005', '$288,014', '$288,020+', '$288,022', '$288,087', '$288,090', '$288,150', '$288,168', '$288,175', '$288,200', '$288,296', '$288,297', '$288,303', '$288,313', '$288,333', '$288,335', '$288,350', '$288,400', '$288,403', '$288,447', '$288,451', '$288,459', '$288,461', '$288,490', '$288,499', '$288,500', '$288,525', '$288,549', '$288,571', '$288,572', '$288,600', '$288,605', '$288,620', '$288,628', '$288,644', '$288,650', '$288,684', '$288,690', '$288,697', '$288,698', '$288,700', '$288,744', '$288,750', '$288,762', '$288,777', '$288,800', '$288,805', '$288,810', '$288,820', '$288,842', '$288,854', '$288,860', '$288,877', '$288,888', '$288,892', '$288,900', '$288,900+', '$288,932', '$288,950', '$288,951', '$288,970', '$288,990', '$288,990+', '$288,995', '$288,995+', '$288,999', '$288,999+', '$289,000', '$289,000+', '$289,017', '$289,021', '$289,027', '$289,050', '$289,065', '$289,073', '$289,087', '$289,093', '$289,100', '$289,116', '$289,200', '$289,224', '$289,250', '$289,255', '$289,262', '$289,270', '$289,315', '$289,320', '$289,321', '$289,346', '$289,351', '$289,364', '$289,369', '$289,375', '$289,378', '$289,381', '$289,400', '$289,417', '$289,428', '$289,430', '$289,449', '$289,450', '$289,470', '$289,490', '$289,495', '$289,498', '$289,499', '$289,500', '$289,507', '$289,530', '$289,550', '$289,557', '$289,570', '$289,581', '$289,589', '$289,600', '$289,605', '$289,640', '$289,650', '$289,694', '$289,695', '$289,700', '$289,700+', '$289,737', '$289,740', '$289,750', '$289,762', '$289,763', '$289,777', '$289,800', '$289,835', '$289,845', '$289,850', '$289,865', '$289,888', '$289,895', '$289,897', '$289,900', '$289,900+', '$289,925', '$289,926', '$289,950', '$289,950+', '$289,955', '$289,962', '$289,980', '$289,982', '$289,987', '$289,990', '$289,990+', '$289,995', '$289,995+', '$289,998', '$289,999', '$289,999+', '$29,000', '$29,000,000', '$29,040', '$29,100', '$29,200', '$29,246', '$29,250,000', '$29,303', '$29,463', '$29,480', '$29,500', '$29,500,000', '$29,527', '$29,533', '$29,600', '$29,664', '$29,680', '$29,700', '$29,750', '$29,750,000', '$29,800', '$29,800,000', '$29,850,000', '$29,890', '$29,900', '$29,902', '$29,943', '$29,950,000', '$29,970', '$29,975', '$29,985', '$29,990', '$29,995', '$29,995,000', '$29,997', '$29,999', '$290,000', '$290,000+', '$290,036', '$290,080', '$290,086', '$290,090', '$290,093', '$290,095', '$290,119', '$290,142', '$290,156', '$290,159', '$290,174', '$290,182', '$290,185', '$290,186', '$290,188', '$290,205', '$290,270', '$290,311', '$290,371', '$290,400', '$290,404', '$290,418', '$290,430', '$290,445', '$290,452', '$290,490', '$290,490+', '$290,499+', '$290,500', '$290,500+', '$290,524', '$290,548', '$290,568', '$290,577', '$290,592', '$290,600', '$290,600+', '$290,623', '$290,648', '$290,652', '$290,682', '$290,683', '$290,700', '$290,705', '$290,718', '$290,729', '$290,749', '$290,761', '$290,781', '$290,804', '$290,895', '$290,900', '$290,900+', '$290,923', '$290,924', '$290,931', '$290,936', '$290,945', '$290,950', '$290,955', '$290,990', '$290,990+', '$290,995', '$290,999', '$291,000', '$291,015', '$291,016', '$291,026', '$291,055', '$291,131', '$291,132', '$291,140', '$291,160', '$291,165', '$291,220', '$291,250', '$291,262', '$291,274', '$291,310', '$291,330', '$291,367', '$291,370', '$291,388', '$291,400', '$291,420', '$291,429', '$291,490', '$291,490+', '$291,494', '$291,499', '$291,500', '$291,575', '$291,592', '$291,600', '$291,610', '$291,615', '$291,626', '$291,669', '$291,700', '$291,720', '$291,746', '$291,770', '$291,800', '$291,829', '$291,858', '$291,862', '$291,873', '$291,900', '$291,900+', '$291,950', '$291,965', '$291,990', '$291,990+', '$291,993', '$291,995', '$292,000', '$292,001', '$292,011', '$292,018', '$292,029', '$292,050', '$292,054', '$292,058', '$292,098', '$292,112', '$292,115', '$292,126', '$292,141', '$292,148', '$292,150', '$292,161', '$292,164', '$292,178', '$292,238', '$292,250', '$292,270', '$292,275', '$292,300', '$292,316', '$292,370', '$292,376', '$292,383', '$292,387', '$292,400', '$292,410', '$292,412', '$292,425', '$292,462', '$292,490', '$292,499', '$292,499+', '$292,500', '$292,600', '$292,607', '$292,625', '$292,661', '$292,670', '$292,685', '$292,689', '$292,696', '$292,720', '$292,744', '$292,745', '$292,750', '$292,777', '$292,778', '$292,800', '$292,815', '$292,835', '$292,850', '$292,857', '$292,862', '$292,888', '$292,895', '$292,900', '$292,900+', '$292,931', '$292,934', '$292,940', '$292,950', '$292,977', '$292,990', '$292,990+', '$292,999', '$292,999+', '$293,000', '$293,000+', '$293,017', '$293,043', '$293,090', '$293,100', '$293,120', '$293,122', '$293,154', '$293,156', '$293,215', '$293,223', '$293,246', '$293,259', '$293,300', '$293,304', '$293,337', '$293,385', '$293,392', '$293,395', '$293,420', '$293,439', '$293,460', '$293,462', '$293,490', '$293,490+', '$293,492', '$293,495', '$293,500', '$293,500+', '$293,567', '$293,586', '$293,600', '$293,630', '$293,666', '$293,700', '$293,710', '$293,720', '$293,750', '$293,775', '$293,797', '$293,809', '$293,815', '$293,840', '$293,853', '$293,859', '$293,900', '$293,900+', '$293,909', '$293,920', '$293,950', '$293,955', '$293,969', '$293,990', '$293,990+', '$293,999', '$294,000', '$294,000+', '$294,002', '$294,010', '$294,023', '$294,030', '$294,062', '$294,075', '$294,126', '$294,145', '$294,160', '$294,200', '$294,264', '$294,353', '$294,364', '$294,374', '$294,375', '$294,399', '$294,400', '$294,409', '$294,423', '$294,432', '$294,440', '$294,450', '$294,459', '$294,465', '$294,471', '$294,493', '$294,499', '$294,499+', '$294,500', '$294,502', '$294,565', '$294,590', '$294,600', '$294,604', '$294,610', '$294,611', '$294,616', '$294,645', '$294,655', '$294,668', '$294,695', '$294,700', '$294,706', '$294,710', '$294,755', '$294,791', '$294,800', '$294,827', '$294,851', '$294,858', '$294,870', '$294,880', '$294,888', '$294,900', '$294,900+', '$294,904', '$294,943', '$294,950', '$294,953', '$294,970', '$294,980', '$294,990', '$294,990+', '$294,994', '$294,995', '$294,999', '$294,999+', '$295,000', '$295,000+', '$295,001', '$295,012', '$295,030', '$295,069', '$295,076', '$295,084', '$295,090', '$295,093', '$295,099', '$295,100', '$295,124', '$295,134', '$295,144', '$295,145', '$295,260', '$295,280', '$295,285', '$295,290', '$295,310', '$295,333', '$295,340', '$295,367', '$295,378', '$295,386', '$295,400', '$295,410', '$295,445', '$295,446', '$295,475', '$295,490', '$295,492', '$295,499', '$295,499+', '$295,500', '$295,507', '$295,519', '$295,525', '$295,528', '$295,546', '$295,555', '$295,565', '$295,581', '$295,589', '$295,600', '$295,621', '$295,641', '$295,656', '$295,666', '$295,692', '$295,698', '$295,708', '$295,722', '$295,731', '$295,750', '$295,777', '$295,791', '$295,800', '$295,843', '$295,900', '$295,900+', '$295,930', '$295,950', '$295,950+', '$295,990', '$295,990+', '$295,992', '$295,999', '$295,999+', '$296,000', '$296,000+', '$296,050', '$296,060', '$296,070', '$296,091', '$296,150', '$296,266', '$296,272', '$296,275', '$296,291', '$296,356', '$296,375', '$296,400', '$296,408', '$296,440', '$296,473', '$296,490', '$296,490+', '$296,499', '$296,500', '$296,527', '$296,530', '$296,538', '$296,540', '$296,699', '$296,740', '$296,750', '$296,779', '$296,789', '$296,800', '$296,805', '$296,851', '$296,852', '$296,900', '$296,900+', '$296,925', '$296,941', '$296,950', '$296,986', '$296,990', '$296,990+', '$296,994', '$296,995', '$296,999', '$297,000', '$297,000+', '$297,015', '$297,150', '$297,200', '$297,222', '$297,238', '$297,250', '$297,256', '$297,295', '$297,300', '$297,302', '$297,330', '$297,350', '$297,370', '$297,385', '$297,400', '$297,400+', '$297,433', '$297,450', '$297,490', '$297,490+', '$297,499+', '$297,500', '$297,511', '$297,530', '$297,549', '$297,558', '$297,597', '$297,600', '$297,624', '$297,645', '$297,650', '$297,686', '$297,705', '$297,721', '$297,750', '$297,777', '$297,791', '$297,800', '$297,841', '$297,850', '$297,867', '$297,888', '$297,895', '$297,900', '$297,900+', '$297,912', '$297,930', '$297,936', '$297,950', '$297,950+', '$297,990', '$297,990+', '$297,995', '$297,995+', '$297,999', '$297,999+', '$298,000', '$298,000+', '$298,033', '$298,065', '$298,076', '$298,080', '$298,089', '$298,094', '$298,095', '$298,136', '$298,201', '$298,215', '$298,249', '$298,260', '$298,300', '$298,321', '$298,337', '$298,400', '$298,412', '$298,416', '$298,436', '$298,471', '$298,490', '$298,490+', '$298,499+', '$298,500', '$298,567', '$298,590', '$298,593', '$298,599', '$298,600', '$298,653', '$298,654', '$298,658', '$298,674', '$298,681', '$298,692', '$298,695', '$298,700', '$298,725', '$298,750', '$298,765', '$298,790', '$298,800', '$298,835', '$298,888', '$298,900', '$298,900+', '$298,933', '$298,950', '$298,951', '$298,960', '$298,987', '$298,990', '$298,990+', '$298,992', '$298,993', '$298,995', '$298,999', '$298,999+', '$299,000', '$299,000+', '$299,005', '$299,011', '$299,018', '$299,065', '$299,083', '$299,090', '$299,106', '$299,122', '$299,130', '$299,154', '$299,155', '$299,160', '$299,168', '$299,184', '$299,185', '$299,200', '$299,201', '$299,243', '$299,250', '$299,263', '$299,296', '$299,345', '$299,366', '$299,374', '$299,384', '$299,400', '$299,429', '$299,455', '$299,460', '$299,481', '$299,495', '$299,499', '$299,500', '$299,530', '$299,540', '$299,587', '$299,595', '$299,640', '$299,660', '$299,675', '$299,678', '$299,686', '$299,687', '$299,692', '$299,694', '$299,700', '$299,700+', '$299,707', '$299,750', '$299,759', '$299,760', '$299,766', '$299,786', '$299,799', '$299,800', '$299,805', '$299,815', '$299,828', '$299,840', '$299,848', '$299,850', '$299,876', '$299,880', '$299,888', '$299,890', '$299,897', '$299,898', '$299,900', '$299,900+', '$299,925', '$299,930', '$299,935', '$299,950', '$299,969', '$299,977', '$299,981', '$299,988', '$299,990', '$299,990+', '$299,992', '$299,995', '$299,995+', '$299,996', '$299,997', '$299,998', '$299,999', '$299,999+', '$3,000', '$3,000,000', '$3,000,000+', '$3,000/mo', '$3,020,000', '$3,025,000', '$3,030,000', '$3,032,951', '$3,033,900', '$3,039,500', '$3,039,900', '$3,048,000', '$3,048,617', '$3,049,500', '$3,050,000', '$3,050,000+', '$3,050/mo', '$3,057,912', '$3,070,000', '$3,072,990', '$3,074,999', '$3,075,000', '$3,076,796', '$3,079,000', '$3,085,000', '$3,088,000', '$3,088,880', '$3,090,000', '$3,095', '$3,095,000', '$3,096,730', '$3,099,000', '$3,099,500', '$3,099,900', '$3,100', '$3,100,000', '$3,100,000+', '$3,100/mo', '$3,104,956', '$3,107,885', '$3,112,678', '$3,120,000', '$3,125,000', '$3,129,500', '$3,130,000', '$3,132,400', '$3,135,000', '$3,149', '$3,150,000', '$3,150/mo', '$3,155,000', '$3,155,000+', '$3,155,990', '$3,160,000', '$3,169,000', '$3,170,000', '$3,175,000', '$3,177,000', '$3,179,000', '$3,180,000', '$3,188,000', '$3,188,888', '$3,190,000', '$3,191,000', '$3,192,000', '$3,195', '$3,195,000', '$3,197,747', '$3,198,000', '$3,199,000', '$3,199,900', '$3,199,990', '$3,199,999', '$3,199/mo', '$3,200', '$3,200,000', '$3,200/mo', '$3,202,966', '$3,213,000', '$3,216,000', '$3,217,800', '$3,218,000', '$3,218,000+', '$3,225,000', '$3,238,000', '$3,240,000', '$3,241,000', '$3,245,000', '$3,246,000', '$3,249,000', '$3,249,500', '$3,250', '$3,250,000', '$3,250/mo', '$3,255,000', '$3,260,000', '$3,267,500', '$3,269,000', '$3,270,000', '$3,275,000', '$3,277,733', '$3,280,000', '$3,284,900', '$3,285,000', '$3,288,000', '$3,288,888', '$3,289,000', '$3,290,000', '$3,295,000', '$3,295,005', '$3,295/mo', '$3,298,000', '$3,299,000', '$3,299,500', '$3,299,900', '$3,300', '$3,300,000', '$3,300/mo', '$3,307,500', '$3,309,000', '$3,320,000', '$3,325,000', '$3,329,000', '$3,330,000', '$3,332,152', '$3,345,000', '$3,347,200', '$3,348,000', '$3,349,000', '$3,349,442', '$3,350,000', '$3,350,141', '$3,351,888', '$3,356,250', '$3,357,460', '$3,360,000', '$3,369,000', '$3,369,325', '$3,370,000', '$3,375,000', '$3,379,000', '$3,380,000', '$3,385,000', '$3,388,000', '$3,390,000', '$3,392,000', '$3,395,000', '$3,396,000', '$3,397,680', '$3,398,000', '$3,399,000', '$3,399,900', '$3,399,999', '$3,400', '$3,400,000', '$3,400/mo', '$3,410,000', '$3,415,937', '$3,420,000', '$3,425,000', '$3,429,900', '$3,430,000', '$3,434,000', '$3,434,270', '$3,445,000', '$3,446,000', '$3,447,000', '$3,449,000', '$3,449,500', '$3,450,000', '$3,450/mo', '$3,455,000', '$3,460,000', '$3,465,750', '$3,470,000', '$3,475,000', '$3,478', '$3,479,000', '$3,480,000', '$3,485,000', '$3,486,000', '$3,487,000', '$3,488,000', '$3,490', '$3,490,000', '$3,495', '$3,495,000', '$3,495,995', '$3,497,000', '$3,498,000', '$3,499,000', '$3,499,900', '$3,499,990', '$3,499,999', '$3,500', '$3,500,000', '$3,500/mo', '$3,504,900', '$3,524,950', '$3,524,999', '$3,525,000', '$3,533,580', '$3,535,626', '$3,547,000', '$3,548,000', '$3,549,000', '$3,550,000', '$3,555,000', '$3,560,000', '$3,563,550', '$3,575,000', '$3,578,750', '$3,579,360', '$3,580,000', '$3,582,500', '$3,588,000', '$3,590,000', '$3,595', '$3,595,000', '$3,595,000+', '$3,595,990', '$3,595,999', '$3,596,000', '$3,598,000', '$3,598,292', '$3,599,000', '$3,599,998', '$3,600', '$3,600,000', '$3,600/mo', '$3,602,090', '$3,603,140', '$3,609,704', '$3,611,584', '$3,615,890', '$3,621,000', '$3,623,700', '$3,625', '$3,625,000', '$3,630,000', '$3,634,900', '$3,635,000', '$3,646,766', '$3,649,000', '$3,650', '$3,650,000', '$3,655,275', '$3,659,040', '$3,665,000', '$3,672,000', '$3,675,000', '$3,675,000+', '$3,677,567', '$3,679,475', '$3,680,000', '$3,685,000', '$3,688,000', '$3,690,000', '$3,695,000', '$3,695,000+', '$3,697,747', '$3,698,000', '$3,699,000', '$3,699,900', '$3,699,990', '$3,699,999', '$3,700', '$3,700,000', '$3,700,000+', '$3,714,719', '$3,715,000+', '$3,717,846', '$3,720,000', '$3,725,000', '$3,730,000', '$3,735,000', '$3,748,000', '$3,748,888', '$3,749,000', '$3,750', '$3,750,000', '$3,765,000', '$3,768,000', '$3,770,000', '$3,775,000', '$3,780,000', '$3,785,000', '$3,788,000', '$3,790,000', '$3,793,000', '$3,794,672', '$3,794,947', '$3,795,000', '$3,798,000', '$3,798,400', '$3,799,000', '$3,800', '$3,800,000', '$3,800/mo', '$3,802,000', '$3,820,000', '$3,821,226', '$3,829,800', '$3,830,000', '$3,840', '$3,840,000', '$3,849,000', '$3,849,900', '$3,850', '$3,850,000', '$3,855,000', '$3,859,900', '$3,865,000', '$3,875,000', '$3,878,000', '$3,880,000', '$3,890,000', '$3,895,000', '$3,898,000', '$3,899', '$3,899,000', '$3,899,900', '$3,900', '$3,900,000', '$3,900/mo', '$3,904,800', '$3,914,168', '$3,920,000', '$3,925,000', '$3,928', '$3,930,000', '$3,933,000', '$3,945,000', '$3,949,000', '$3,950', '$3,950,000', '$3,950,000+', '$3,950/mo', '$3,958,000', '$3,960,000', '$3,962,700', '$3,973,200', '$3,975', '$3,975,000', '$3,978,000', '$3,979,000', '$3,980,000', '$3,985,000', '$3,986,700', '$3,987,000', '$3,988,000', '$3,988,888', '$3,989,000', '$3,990', '$3,990,000', '$3,995', '$3,995,000', '$3,995/mo', '$3,997,000', '$3,998,000', '$3,998,800', '$3,999', '$3,999,000', '$3,999,500', '$3,999,900', '$3,999,950', '$3,999,990', '$3,999,999', '$3,999/mo', '$30,000', '$30,000,000', '$30,070', '$30,206', '$30,250', '$30,309', '$30,351', '$30,493', '$30,500', '$30,562', '$30,679', '$30,709', '$30,800', '$30,900', '$30,990', '$30,999', '$300,000', '$300,025', '$300,090', '$300,115', '$300,135', '$300,150', '$300,163', '$300,166', '$300,169', '$300,213', '$300,250', '$300,269', '$300,310', '$300,311', '$300,312', '$300,321', '$300,391', '$300,395', '$300,399', '$300,400', '$300,401', '$300,447', '$300,458', '$300,480', '$300,490', '$300,490+', '$300,499+', '$300,507', '$300,513', '$300,514', '$300,525', '$300,547', '$300,618', '$300,624', '$300,632', '$300,649', '$300,670', '$300,700', '$300,705', '$300,740', '$300,750', '$300,891', '$300,916', '$300,923', '$300,938', '$300,948', '$300,955', '$300,959', '$300,990', '$300,990+', '$300,995', '$300,999', '$300,999+', '$301,000', '$301,000+', '$301,019', '$301,040', '$301,047', '$301,070', '$301,074', '$301,077', '$301,090', '$301,098', '$301,100', '$301,111', '$301,125', '$301,144', '$301,147', '$301,154', '$301,171+', '$301,208', '$301,210', '$301,220', '$301,225', '$301,280', '$301,289', '$301,300', '$301,387+', '$301,400', '$301,486', '$301,499+', '$301,500', '$301,531', '$301,540', '$301,575', '$301,581', '$301,584', '$301,590', '$301,598', '$301,599', '$301,606', '$301,643', '$301,644', '$301,650', '$301,656', '$301,660', '$301,675', '$301,681', '$301,700', '$301,725', '$301,807', '$301,824', '$301,838', '$301,891', '$301,900', '$301,900+', '$301,903', '$301,912', '$301,925', '$301,950', '$301,959', '$301,977', '$301,990', '$301,990+', '$301,995', '$301,995+', '$301,999', '$302,000', '$302,042', '$302,049', '$302,075', '$302,089', '$302,095', '$302,100', '$302,129', '$302,146', '$302,150', '$302,155', '$302,158', '$302,182', '$302,194', '$302,210', '$302,225+', '$302,231', '$302,246', '$302,250', '$302,276', '$302,300+', '$302,330', '$302,334', '$302,342', '$302,375', '$302,405', '$302,450', '$302,490', '$302,490+', '$302,499+', '$302,500', '$302,500+', '$302,533', '$302,570', '$302,572', '$302,593', '$302,594', '$302,601', '$302,608', '$302,617', '$302,627', '$302,635', '$302,650', '$302,664', '$302,668', '$302,682', '$302,691', '$302,704', '$302,740', '$302,741', '$302,743', '$302,749', '$302,750', '$302,759', '$302,837', '$302,844', '$302,846', '$302,900', '$302,900+', '$302,911', '$302,970', '$302,979', '$302,990', '$302,990+', '$302,995', '$302,999', '$303,000', '$303,010', '$303,017', '$303,022', '$303,060', '$303,084', '$303,090', '$303,125', '$303,147', '$303,150', '$303,157', '$303,167', '$303,190', '$303,228', '$303,232', '$303,240', '$303,249', '$303,249+', '$303,310', '$303,350', '$303,352', '$303,360', '$303,372', '$303,390', '$303,400', '$303,406', '$303,410', '$303,424', '$303,426', '$303,440', '$303,450', '$303,472', '$303,484', '$303,490', '$303,500', '$303,523', '$303,549', '$303,560', '$303,561', '$303,575', '$303,580', '$303,609', '$303,646', '$303,650', '$303,673', '$303,680', '$303,684', '$303,700', '$303,712', '$303,727', '$303,729', '$303,739', '$303,750', '$303,777', '$303,800', '$303,845', '$303,847', '$303,850', '$303,859', '$303,888', '$303,900', '$303,900+', '$303,925', '$303,950+', '$303,990', '$303,990+', '$303,995', '$303,999', '$303,999+', '$304,000', '$304,000+', '$304,055', '$304,081', '$304,090', '$304,099', '$304,121', '$304,129', '$304,163', '$304,171', '$304,178', '$304,208', '$304,215', '$304,219', '$304,239', '$304,285', '$304,310', '$304,336', '$304,375', '$304,387', '$304,391', '$304,400', '$304,411', '$304,416', '$304,421', '$304,490', '$304,490+', '$304,495', '$304,499', '$304,500', '$304,516', '$304,518', '$304,527', '$304,553', '$304,581', '$304,588', '$304,592', '$304,632', '$304,640', '$304,649', '$304,674', '$304,678', '$304,682', '$304,690', '$304,716', '$304,735', '$304,750', '$304,776', '$304,777', '$304,787', '$304,800', '$304,806', '$304,836', '$304,843', '$304,844', '$304,888', '$304,890', '$304,900', '$304,900+', '$304,942', '$304,943', '$304,950', '$304,964', '$304,969', '$304,983', '$304,990', '$304,990+', '$304,995', '$304,995+', '$304,999', '$304,999+', '$305,000', '$305,000+', '$305,012', '$305,050', '$305,073', '$305,093', '$305,095', '$305,099', '$305,100', '$305,113', '$305,159', '$305,192', '$305,219', '$305,239', '$305,240', '$305,250', '$305,256', '$305,292', '$305,325', '$305,400', '$305,440', '$305,450', '$305,485', '$305,490', '$305,490+', '$305,499', '$305,499+', '$305,503', '$305,516', '$305,555', '$305,560', '$305,586', '$305,623', '$305,693', '$305,693+', '$305,707', '$305,709', '$305,722', '$305,754', '$305,771', '$305,800', '$305,835', '$305,844', '$305,851', '$305,875', '$305,877', '$305,879', '$305,900', '$305,900+', '$305,917', '$305,947', '$305,950', '$305,959', '$305,960', '$305,976', '$305,990', '$305,990+', '$305,995', '$305,999', '$305,999+', '$306,000', '$306,000+', '$306,013', '$306,028', '$306,030', '$306,035', '$306,037', '$306,042', '$306,090', '$306,108', '$306,124', '$306,156', '$306,200', '$306,250', '$306,281', '$306,300', '$306,316', '$306,319', '$306,377', '$306,398', '$306,405', '$306,409', '$306,438', '$306,447', '$306,461', '$306,481', '$306,490', '$306,490+', '$306,498', '$306,500', '$306,588', '$306,603', '$306,638', '$306,653', '$306,665', '$306,692', '$306,733', '$306,740', '$306,785', '$306,800', '$306,849', '$306,895', '$306,897', '$306,900', '$306,900+', '$306,903', '$306,930', '$306,950', '$306,950+', '$306,975', '$306,990', '$306,990+', '$306,999', '$306,999+', '$307,000', '$307,000+', '$307,066', '$307,069', '$307,080', '$307,151', '$307,157+', '$307,205', '$307,234', '$307,242', '$307,249', '$307,251', '$307,265', '$307,269', '$307,275', '$307,282', '$307,283', '$307,320', '$307,327', '$307,342', '$307,355', '$307,362', '$307,400', '$307,450', '$307,489', '$307,500', '$307,500+', '$307,506', '$307,518', '$307,580', '$307,609', '$307,627', '$307,629', '$307,700', '$307,750', '$307,768', '$307,780', '$307,800', '$307,813', '$307,823', '$307,824', '$307,831', '$307,838', '$307,850', '$307,875', '$307,879', '$307,880', '$307,900', '$307,900+', '$307,950', '$307,950+', '$307,955', '$307,956', '$307,990', '$307,990+', '$307,994', '$307,995', '$307,998', '$307,999', '$307,999+', '$308,000', '$308,009', '$308,055', '$308,064', '$308,074', '$308,100', '$308,107', '$308,123', '$308,141', '$308,150', '$308,163', '$308,200', '$308,250', '$308,300', '$308,355', '$308,365', '$308,366', '$308,374', '$308,396', '$308,400', '$308,400+', '$308,412', '$308,416', '$308,425', '$308,429', '$308,446', '$308,473', '$308,475', '$308,485', '$308,490', '$308,495', '$308,499+', '$308,500', '$308,515', '$308,527', '$308,539+', '$308,545', '$308,550', '$308,595', '$308,606', '$308,638', '$308,700', '$308,702', '$308,726', '$308,775', '$308,789', '$308,800', '$308,820', '$308,843', '$308,843+', '$308,875', '$308,888', '$308,900', '$308,900+', '$308,908', '$308,950', '$308,951', '$308,990', '$308,990+', '$308,993', '$308,998', '$308,999', '$308,999+', '$309,000', '$309,000+', '$309,039', '$309,053', '$309,071', '$309,110', '$309,190', '$309,193', '$309,235', '$309,237', '$309,280', '$309,295', '$309,350', '$309,379', '$309,400', '$309,425', '$309,445', '$309,474', '$309,475', '$309,490+', '$309,495', '$309,499', '$309,500', '$309,520', '$309,528', '$309,530', '$309,591', '$309,599', '$309,600', '$309,623', '$309,628', '$309,650', '$309,654', '$309,660', '$309,671', '$309,685', '$309,695', '$309,697', '$309,699', '$309,700', '$309,700+', '$309,702', '$309,730', '$309,742', '$309,745', '$309,766', '$309,800', '$309,840', '$309,881', '$309,888', '$309,900', '$309,900+', '$309,902', '$309,915', '$309,930', '$309,940', '$309,950', '$309,960', '$309,985', '$309,990', '$309,990+', '$309,995', '$309,995+', '$309,998', '$309,999', '$31,000', '$31,000,000', '$31,118', '$31,136', '$31,180', '$31,200', '$31,250', '$31,306', '$31,332', '$31,400', '$31,434', '$31,450', '$31,462', '$31,491', '$31,500', '$31,518', '$31,598', '$31,700', '$31,715', '$31,750', '$31,776', '$31,794', '$31,800', '$31,802', '$31,886', '$31,894', '$31,900', '$31,956', '$31,995', '$31,999', '$310,000', '$310,000+', '$310,007', '$310,011', '$310,063', '$310,073', '$310,083', '$310,104', '$310,130', '$310,176', '$310,200', '$310,214', '$310,226', '$310,235', '$310,245', '$310,277', '$310,330', '$310,349', '$310,386', '$310,401', '$310,402', '$310,430', '$310,450', '$310,470', '$310,490', '$310,498', '$310,499', '$310,500', '$310,507', '$310,510', '$310,529', '$310,541', '$310,557', '$310,567', '$310,600', '$310,604', '$310,639', '$310,683', '$310,685', '$310,730', '$310,733', '$310,750', '$310,765', '$310,769', '$310,811', '$310,833', '$310,845', '$310,870', '$310,873', '$310,878', '$310,900', '$310,900+', '$310,907', '$310,930', '$310,950', '$310,965', '$310,990', '$310,990+', '$310,995', '$310,999', '$311,000', '$311,022', '$311,197', '$311,200', '$311,206', '$311,244', '$311,246', '$311,287', '$311,288', '$311,298', '$311,300', '$311,300+', '$311,333', '$311,362', '$311,365', '$311,380', '$311,394', '$311,405', '$311,440', '$311,475', '$311,484', '$311,487', '$311,490', '$311,500', '$311,505', '$311,549', '$311,575', '$311,585', '$311,620', '$311,660', '$311,661', '$311,678', '$311,770', '$311,788', '$311,789', '$311,817', '$311,839', '$311,894', '$311,900', '$311,900+', '$311,925', '$311,950', '$311,950+', '$311,957', '$311,980', '$311,982', '$311,990', '$311,990+', '$311,994', '$311,995', '$311,995+', '$311,999', '$311,999+', '$312,000', '$312,023', '$312,045', '$312,140', '$312,150', '$312,173', '$312,322', '$312,400', '$312,400+', '$312,462', '$312,475', '$312,485', '$312,490', '$312,499', '$312,499+', '$312,500', '$312,500+', '$312,538', '$312,551', '$312,600', '$312,637', '$312,650', '$312,659', '$312,670', '$312,700', '$312,717', '$312,726', '$312,776', '$312,781', '$312,786', '$312,787', '$312,800', '$312,803', '$312,844', '$312,845', '$312,889', '$312,900', '$312,900+', '$312,950', '$312,990', '$312,990+', '$312,994', '$312,995', '$312,999', '$312,999+', '$313,000', '$313,017', '$313,026', '$313,048', '$313,063', '$313,088', '$313,090', '$313,102', '$313,118', '$313,120', '$313,129', '$313,139', '$313,166', '$313,175', '$313,240', '$313,244', '$313,256', '$313,260', '$313,345', '$313,370', '$313,384', '$313,400', '$313,400+', '$313,405', '$313,406', '$313,410', '$313,470', '$313,490', '$313,490+', '$313,499', '$313,499+', '$313,500', '$313,535', '$313,560', '$313,585', '$313,590', '$313,595', '$313,615', '$313,619', '$313,639', '$313,640', '$313,650', '$313,659', '$313,687', '$313,800', '$313,827', '$313,830', '$313,838', '$313,860', '$313,873', '$313,879', '$313,888', '$313,900', '$313,900+', '$313,929', '$313,932', '$313,950', '$313,990', '$313,990+', '$313,995', '$313,999', '$313,999+', '$314,000', '$314,000+', '$314,005', '$314,031', '$314,048', '$314,081', '$314,099', '$314,100', '$314,155', '$314,183', '$314,264', '$314,271', '$314,300', '$314,308', '$314,370', '$314,400', '$314,447', '$314,450', '$314,456', '$314,472', '$314,484', '$314,485', '$314,488', '$314,490', '$314,490+', '$314,494', '$314,499', '$314,499+', '$314,500', '$314,503', '$314,510', '$314,544', '$314,555', '$314,559', '$314,570', '$314,575', '$314,584', '$314,600', '$314,601', '$314,656', '$314,696', '$314,700', '$314,750', '$314,761', '$314,787', '$314,800', '$314,807', '$314,820', '$314,843', '$314,858', '$314,864', '$314,868', '$314,880+', '$314,898', '$314,900', '$314,900+', '$314,949', '$314,950', '$314,975', '$314,983', '$314,990', '$314,990+', '$314,995', '$314,997', '$314,999', '$314,999+', '$315,000', '$315,000+', '$315,014', '$315,018', '$315,094', '$315,100', '$315,108', '$315,131', '$315,170', '$315,197', '$315,203', '$315,222', '$315,234', '$315,245', '$315,275', '$315,300', '$315,314', '$315,319', '$315,332', '$315,360', '$315,395', '$315,396', '$315,400', '$315,405', '$315,437', '$315,448', '$315,479', '$315,481', '$315,490', '$315,490+', '$315,496', '$315,499', '$315,499+', '$315,500', '$315,529', '$315,542', '$315,567', '$315,590', '$315,614', '$315,645', '$315,682', '$315,690', '$315,700', '$315,704', '$315,711', '$315,725', '$315,743', '$315,750', '$315,750+', '$315,770', '$315,774', '$315,823', '$315,840', '$315,854', '$315,865', '$315,898', '$315,900', '$315,900+', '$315,940+', '$315,945', '$315,960', '$315,985', '$315,990', '$315,990+', '$315,991', '$315,995', '$315,995+', '$315,999', '$316,000', '$316,000+', '$316,029', '$316,070', '$316,088', '$316,093', '$316,200', '$316,240', '$316,254', '$316,270', '$316,273', '$316,300', '$316,334', '$316,390', '$316,400', '$316,400+', '$316,437', '$316,443', '$316,490', '$316,490+', '$316,494', '$316,499', '$316,500', '$316,500+', '$316,536', '$316,550', '$316,551', '$316,597', '$316,615', '$316,650', '$316,669', '$316,700', '$316,750', '$316,752', '$316,776', '$316,779', '$316,800', '$316,900', '$316,900+', '$316,913', '$316,920+', '$316,950', '$316,971', '$316,974', '$316,990', '$316,990+', '$316,995', '$316,999', '$317,000', '$317,000+', '$317,004', '$317,020', '$317,082', '$317,100', '$317,130', '$317,154', '$317,177', '$317,185', '$317,197', '$317,200', '$317,251', '$317,290', '$317,300', '$317,338', '$317,340', '$317,345', '$317,378', '$317,379', '$317,382', '$317,385', '$317,400', '$317,400+', '$317,404', '$317,450', '$317,483', '$317,499', '$317,500', '$317,513', '$317,521', '$317,525', '$317,562', '$317,604', '$317,615', '$317,661', '$317,679', '$317,699', '$317,700', '$317,725', '$317,745', '$317,750', '$317,770', '$317,800', '$317,821', '$317,881', '$317,900', '$317,900+', '$317,908', '$317,940', '$317,947', '$317,950', '$317,957', '$317,978', '$317,980', '$317,989', '$317,990', '$317,990+', '$317,995+', '$317,998', '$317,999', '$318,000', '$318,025', '$318,040', '$318,048', '$318,080', '$318,150', '$318,167', '$318,190', '$318,201', '$318,228', '$318,250', '$318,257', '$318,295', '$318,300', '$318,325', '$318,330', '$318,342', '$318,358', '$318,400', '$318,490', '$318,490+', '$318,499', '$318,499+', '$318,500', '$318,537', '$318,600', '$318,616', '$318,624', '$318,644', '$318,676', '$318,748', '$318,770', '$318,781', '$318,791', '$318,800', '$318,840', '$318,880', '$318,900', '$318,900+', '$318,902', '$318,909', '$318,910', '$318,950', '$318,961', '$318,990', '$318,990+', '$318,994', '$318,995', '$318,998', '$318,999', '$318,999+', '$319,000', '$319,000+', '$319,088', '$319,091', '$319,100', '$319,105+', '$319,125', '$319,127', '$319,150', '$319,160', '$319,200', '$319,224', '$319,243', '$319,245', '$319,250', '$319,255', '$319,288', '$319,290', '$319,375', '$319,424', '$319,429', '$319,435', '$319,438', '$319,457', '$319,480', '$319,497', '$319,500', '$319,550', '$319,568', '$319,574', '$319,580', '$319,591', '$319,600', '$319,603', '$319,609', '$319,614', '$319,640', '$319,677', '$319,700', '$319,702', '$319,750', '$319,777', '$319,800', '$319,840', '$319,850', '$319,853', '$319,859', '$319,876', '$319,887', '$319,888', '$319,900', '$319,900+', '$319,912', '$319,914', '$319,924', '$319,950', '$319,957', '$319,967', '$319,973', '$319,975', '$319,979', '$319,985', '$319,990', '$319,990+', '$319,995', '$319,995+', '$319,998', '$319,999', '$319,999+', '$32,000', '$32,000,000', '$32,007', '$32,053', '$32,197', '$32,216', '$32,250', '$32,274,000', '$32,375', '$32,475', '$32,488', '$32,499', '$32,500', '$32,500,000', '$32,500/mo', '$32,534', '$32,580', '$32,698', '$32,700', '$32,773', '$32,800', '$32,850', '$32,890', '$32,900', '$32,900+', '$32,900,000', '$32,959', '$32,990', '$32,995', '$32,999', '$320,000', '$320,022', '$320,026', '$320,075', '$320,090', '$320,093', '$320,100', '$320,104', '$320,150', '$320,158', '$320,190', '$320,224', '$320,248', '$320,259', '$320,269', '$320,350', '$320,357', '$320,386', '$320,419', '$320,442', '$320,456', '$320,468', '$320,490', '$320,500', '$320,533', '$320,556', '$320,560', '$320,578', '$320,586', '$320,590', '$320,605', '$320,607', '$320,652', '$320,664', '$320,669', '$320,703', '$320,744', '$320,746', '$320,792', '$320,805', '$320,806', '$320,844', '$320,859', '$320,860', '$320,900', '$320,900+', '$320,906', '$320,990', '$320,990+', '$320,995', '$320,998', '$320,999', '$320,999+', '$321,000', '$321,092', '$321,145', '$321,200', '$321,268', '$321,270', '$321,357', '$321,361', '$321,368', '$321,377', '$321,380', '$321,390', '$321,415', '$321,431', '$321,456', '$321,458', '$321,472', '$321,490', '$321,490+', '$321,499', '$321,500', '$321,538', '$321,539', '$321,542', '$321,575', '$321,590', '$321,618', '$321,623', '$321,642', '$321,700', '$321,784', '$321,800', '$321,820', '$321,876', '$321,900', '$321,900+', '$321,916', '$321,950', '$321,966', '$321,990', '$321,990+', '$321,995', '$321,999', '$322,000', '$322,056', '$322,074', '$322,112', '$322,114', '$322,123', '$322,146', '$322,156', '$322,164', '$322,200', '$322,242', '$322,245', '$322,261', '$322,265', '$322,285', '$322,300', '$322,300+', '$322,308', '$322,338', '$322,356', '$322,400', '$322,413', '$322,445', '$322,450', '$322,464', '$322,490', '$322,500', '$322,560', '$322,622', '$322,625', '$322,630', '$322,661', '$322,670', '$322,673', '$322,690', '$322,704', '$322,800', '$322,838', '$322,840', '$322,849', '$322,869', '$322,900', '$322,900+', '$322,950', '$322,961', '$322,969', '$322,990', '$322,990+', '$322,999', '$322,999+', '$323,000', '$323,000+', '$323,013', '$323,039', '$323,040', '$323,050', '$323,100', '$323,123', '$323,127', '$323,136', '$323,167', '$323,184', '$323,190+', '$323,220', '$323,233', '$323,249', '$323,249+', '$323,300', '$323,327', '$323,333', '$323,400', '$323,415', '$323,425', '$323,444', '$323,472', '$323,490+', '$323,494', '$323,499', '$323,499+', '$323,500', '$323,504', '$323,522', '$323,565', '$323,588', '$323,660', '$323,673', '$323,687', '$323,700', '$323,709', '$323,710', '$323,742', '$323,750', '$323,760', '$323,766', '$323,800', '$323,875', '$323,880+', '$323,897', '$323,900', '$323,900+', '$323,963', '$323,990', '$323,990+', '$323,995', '$323,995+', '$323,998', '$323,999+', '$324,000', '$324,051', '$324,056', '$324,068', '$324,096', '$324,100', '$324,118', '$324,119', '$324,128', '$324,143', '$324,145', '$324,175', '$324,178', '$324,190', '$324,195', '$324,223', '$324,250', '$324,251', '$324,276', '$324,294', '$324,300', '$324,300+', '$324,304', '$324,340', '$324,351', '$324,399', '$324,400', '$324,414', '$324,415', '$324,442', '$324,456', '$324,462', '$324,465', '$324,476', '$324,485', '$324,499', '$324,499+', '$324,500', '$324,500+', '$324,504', '$324,504+', '$324,533', '$324,565', '$324,590', '$324,595', '$324,600', '$324,603', '$324,661', '$324,670', '$324,700', '$324,702', '$324,737', '$324,750', '$324,769', '$324,777', '$324,796', '$324,798', '$324,800', '$324,815', '$324,850', '$324,854', '$324,880', '$324,888', '$324,895', '$324,900', '$324,900+', '$324,901', '$324,905', '$324,916', '$324,950', '$324,966', '$324,975', '$324,976', '$324,980', '$324,988', '$324,990', '$324,990+', '$324,995', '$324,998', '$324,999', '$324,999+', '$325,000', '$325,000+', '$325,002', '$325,040', '$325,048', '$325,050', '$325,054', '$325,056', '$325,075', '$325,100+', '$325,148', '$325,170', '$325,172', '$325,190', '$325,191', '$325,208', '$325,225', '$325,232', '$325,238', '$325,240', '$325,250', '$325,275', '$325,290', '$325,291', '$325,300', '$325,318', '$325,371', '$325,378', '$325,380', '$325,387', '$325,399', '$325,436', '$325,450', '$325,469', '$325,471', '$325,490+', '$325,499', '$325,499+', '$325,500', '$325,515', '$325,519', '$325,550', '$325,557', '$325,568+', '$325,570', '$325,581', '$325,584', '$325,590', '$325,600', '$325,600+', '$325,626', '$325,690', '$325,711', '$325,730', '$325,745', '$325,771', '$325,800', '$325,870', '$325,880', '$325,882', '$325,888', '$325,900', '$325,900+', '$325,921', '$325,990', '$325,990+', '$325,995+', '$325,999', '$326,000', '$326,054', '$326,099', '$326,118', '$326,159', '$326,185', '$326,195', '$326,201', '$326,225', '$326,256', '$326,259', '$326,302', '$326,352', '$326,444', '$326,460+', '$326,466', '$326,485', '$326,500', '$326,530', '$326,564', '$326,577', '$326,580', '$326,596', '$326,690', '$326,700', '$326,705', '$326,715', '$326,724', '$326,725', '$326,737', '$326,740', '$326,760', '$326,790', '$326,800', '$326,819', '$326,890', '$326,895', '$326,900', '$326,900+', '$326,921', '$326,940', '$326,955', '$326,958', '$326,990', '$326,990+', '$326,995', '$326,997', '$326,999', '$327,000', '$327,018', '$327,050', '$327,068+', '$327,092', '$327,130', '$327,200', '$327,255', '$327,256', '$327,300', '$327,311', '$327,326', '$327,400', '$327,425', '$327,447', '$327,450', '$327,460', '$327,474', '$327,490', '$327,490+', '$327,499', '$327,499+', '$327,500', '$327,535', '$327,537', '$327,568', '$327,572', '$327,591', '$327,600', '$327,655', '$327,699', '$327,700', '$327,706', '$327,719', '$327,772', '$327,777', '$327,793', '$327,795', '$327,800', '$327,840', '$327,867', '$327,900', '$327,900+', '$327,950', '$327,955', '$327,972', '$327,988', '$327,990', '$327,990+', '$327,995', '$327,999', '$328,000', '$328,000+', '$328,010', '$328,025', '$328,050', '$328,056', '$328,100', '$328,101', '$328,142', '$328,151', '$328,157', '$328,167', '$328,200', '$328,210', '$328,220', '$328,249+', '$328,282', '$328,350', '$328,360', '$328,381', '$328,382', '$328,388', '$328,392', '$328,400', '$328,400+', '$328,401', '$328,427', '$328,442', '$328,445', '$328,485', '$328,495+', '$328,499', '$328,499+', '$328,500', '$328,502', '$328,508', '$328,550', '$328,590', '$328,600', '$328,655', '$328,659', '$328,684', '$328,700', '$328,733', '$328,739', '$328,750', '$328,765', '$328,790', '$328,800', '$328,840', '$328,844', '$328,850', '$328,852', '$328,882', '$328,887', '$328,888', '$328,900', '$328,909', '$328,915', '$328,923', '$328,930', '$328,961', '$328,963', '$328,990', '$328,990+', '$328,999', '$329,000', '$329,000+', '$329,023', '$329,043', '$329,115', '$329,136', '$329,153', '$329,157', '$329,165', '$329,169', '$329,190', '$329,204', '$329,210', '$329,240', '$329,245', '$329,250', '$329,257', '$329,280', '$329,281', '$329,300', '$329,322', '$329,335', '$329,380', '$329,400', '$329,406', '$329,417', '$329,418', '$329,438+', '$329,439', '$329,452', '$329,499', '$329,499+', '$329,500', '$329,500+', '$329,518', '$329,525', '$329,599', '$329,600', '$329,620', '$329,660', '$329,665', '$329,700', '$329,734', '$329,738', '$329,750', '$329,765', '$329,768', '$329,777', '$329,794', '$329,799', '$329,800', '$329,808', '$329,810', '$329,823', '$329,823+', '$329,829', '$329,830', '$329,840', '$329,850', '$329,879', '$329,882', '$329,888', '$329,895', '$329,900', '$329,900+', '$329,927', '$329,950', '$329,950+', '$329,959', '$329,975', '$329,980', '$329,981', '$329,985', '$329,988', '$329,990', '$329,990+', '$329,995', '$329,998', '$329,999', '$329,999+', '$33,000', '$33,000,000', '$33,025', '$33,064', '$33,139', '$33,150', '$33,200', '$33,333', '$33,382,000', '$33,400', '$33,400,000', '$33,500', '$33,500,000', '$33,523', '$33,529', '$33,650', '$33,700', '$33,725', '$33,762', '$33,811', '$33,858', '$33,892', '$33,900', '$33,906', '$33,940', '$33,950', '$33,991', '$33,995', '$330,000', '$330,000+', '$330,005', '$330,015', '$330,038', '$330,052', '$330,054', '$330,099', '$330,124', '$330,249', '$330,269', '$330,300', '$330,307', '$330,310', '$330,400', '$330,410', '$330,486', '$330,499', '$330,499+', '$330,500', '$330,511', '$330,512', '$330,557', '$330,597', '$330,655', '$330,670', '$330,686', '$330,694', '$330,716', '$330,764', '$330,772', '$330,785', '$330,788', '$330,796', '$330,800', '$330,815', '$330,827', '$330,844', '$330,850', '$330,853', '$330,863', '$330,867', '$330,888', '$330,899', '$330,900', '$330,900+', '$330,962', '$330,971', '$330,984', '$330,990', '$330,990+', '$330,994', '$330,995', '$330,999', '$330,999+', '$331,000', '$331,000+', '$331,013', '$331,021', '$331,035', '$331,038', '$331,094', '$331,100', '$331,150', '$331,152', '$331,211', '$331,250', '$331,300', '$331,330', '$331,335', '$331,362', '$331,390', '$331,390+', '$331,410', '$331,426', '$331,487', '$331,490+', '$331,499', '$331,499+', '$331,500', '$331,509', '$331,520', '$331,545+', '$331,676', '$331,700', '$331,750', '$331,751', '$331,766', '$331,782', '$331,836', '$331,894', '$331,900', '$331,900+', '$331,961', '$331,965', '$331,990', '$331,990+', '$331,995', '$331,997', '$331,999', '$331,999+', '$332,000', '$332,000+', '$332,090', '$332,120', '$332,201', '$332,240', '$332,305', '$332,317', '$332,323', '$332,338', '$332,377', '$332,382', '$332,400+', '$332,429', '$332,449', '$332,450', '$332,496', '$332,499', '$332,499+', '$332,500', '$332,500+', '$332,532', '$332,533', '$332,555', '$332,578', '$332,582', '$332,587', '$332,590', '$332,591', '$332,650', '$332,683', '$332,699', '$332,740', '$332,761', '$332,777', '$332,800', '$332,821', '$332,840', '$332,852', '$332,873', '$332,888', '$332,899', '$332,900', '$332,900+', '$332,903', '$332,930', '$332,950', '$332,990', '$332,990+', '$332,994', '$332,995', '$332,998', '$332,999', '$332,999+', '$333,000', '$333,038', '$333,070', '$333,075', '$333,090', '$333,132', '$333,147', '$333,176', '$333,200', '$333,204', '$333,251', '$333,277', '$333,287', '$333,308', '$333,331', '$333,333', '$333,368', '$333,375', '$333,416', '$333,455', '$333,490', '$333,500', '$333,500+', '$333,543', '$333,564', '$333,590', '$333,637', '$333,645', '$333,663', '$333,675', '$333,700', '$333,771', '$333,888', '$333,890', '$333,898', '$333,900', '$333,900+', '$333,924', '$333,925', '$333,947', '$333,962', '$333,990', '$333,990+', '$333,995', '$334,000', '$334,002', '$334,062', '$334,116', '$334,123', '$334,127', '$334,138', '$334,156', '$334,175', '$334,179', '$334,200', '$334,220', '$334,234', '$334,250', '$334,264', '$334,265', '$334,300', '$334,361', '$334,366', '$334,375', '$334,400', '$334,433', '$334,440', '$334,448', '$334,490', '$334,499', '$334,500', '$334,561', '$334,576', '$334,613', '$334,621', '$334,647', '$334,667', '$334,696', '$334,700', '$334,705', '$334,732', '$334,750', '$334,777', '$334,800', '$334,844', '$334,888', '$334,895', '$334,899', '$334,900', '$334,900+', '$334,950', '$334,972', '$334,978', '$334,987', '$334,990', '$334,990+', '$334,995', '$334,995+', '$334,999', '$335,000', '$335,000+', '$335,017', '$335,025', '$335,050', '$335,080', '$335,085', '$335,120', '$335,171', '$335,182', '$335,188', '$335,200', '$335,241', '$335,250', '$335,254', '$335,256', '$335,266', '$335,292', '$335,315', '$335,333', '$335,368', '$335,390', '$335,400', '$335,402', '$335,408', '$335,415', '$335,450', '$335,460', '$335,463', '$335,475', '$335,489', '$335,490', '$335,490+', '$335,496', '$335,499', '$335,499+', '$335,500', '$335,537', '$335,561', '$335,627', '$335,631', '$335,660', '$335,666', '$335,672', '$335,691', '$335,695', '$335,707', '$335,757', '$335,800', '$335,800+', '$335,810', '$335,840', '$335,858', '$335,875', '$335,888', '$335,900', '$335,900+', '$335,950', '$335,950+', '$335,955', '$335,990', '$335,990+', '$335,994', '$335,995', '$336,000', '$336,000+', '$336,014', '$336,080', '$336,090', '$336,100', '$336,114', '$336,158', '$336,159', '$336,177', '$336,249', '$336,262', '$336,305', '$336,307', '$336,310', '$336,325', '$336,350', '$336,383', '$336,400', '$336,414', '$336,429', '$336,435', '$336,455', '$336,481', '$336,495', '$336,499', '$336,500', '$336,504', '$336,567', '$336,593', '$336,605', '$336,621', '$336,697', '$336,700', '$336,710', '$336,727', '$336,735', '$336,743', '$336,780', '$336,790+', '$336,809', '$336,888', '$336,895', '$336,900', '$336,900+', '$336,930', '$336,942', '$336,956', '$336,964', '$336,990', '$336,990+', '$336,991', '$336,995', '$336,999', '$337,000', '$337,000+', '$337,009', '$337,064', '$337,082', '$337,089', '$337,104', '$337,114', '$337,118', '$337,122', '$337,150', '$337,226', '$337,280', '$337,285', '$337,300', '$337,320', '$337,331', '$337,336', '$337,350', '$337,367', '$337,400', '$337,400+', '$337,413', '$337,417', '$337,426', '$337,499+', '$337,500', '$337,509', '$337,527', '$337,540', '$337,549', '$337,555', '$337,561', '$337,598', '$337,599', '$337,634', '$337,634+', '$337,675', '$337,697', '$337,705', '$337,708', '$337,720', '$337,750', '$337,750+', '$337,773', '$337,777', '$337,795', '$337,805', '$337,823', '$337,831', '$337,866', '$337,888', '$337,897', '$337,900', '$337,900+', '$337,913', '$337,950', '$337,965', '$337,990', '$337,990+', '$337,995', '$337,995+', '$337,999', '$337,999+', '$338,000', '$338,000+', '$338,020', '$338,050', '$338,097', '$338,100', '$338,101', '$338,106', '$338,169', '$338,200', '$338,207', '$338,219', '$338,225', '$338,294', '$338,400+', '$338,410', '$338,449', '$338,454', '$338,499', '$338,499+', '$338,500', '$338,600', '$338,625', '$338,682', '$338,700', '$338,707', '$338,719', '$338,774', '$338,800', '$338,870', '$338,888', '$338,900', '$338,900+', '$338,926', '$338,950', '$338,954', '$338,965', '$338,980', '$338,990', '$338,990+', '$338,995+', '$338,999', '$339,000', '$339,000+', '$339,005', '$339,019', '$339,050', '$339,090', '$339,100', '$339,117', '$339,120', '$339,125', '$339,137', '$339,200', '$339,217', '$339,219', '$339,223', '$339,224', '$339,250', '$339,276', '$339,300', '$339,300+', '$339,307', '$339,313', '$339,325', '$339,340', '$339,364', '$339,399', '$339,400', '$339,490', '$339,499', '$339,500', '$339,525', '$339,537', '$339,578', '$339,590', '$339,600', '$339,602', '$339,622', '$339,674', '$339,684', '$339,700', '$339,707', '$339,709', '$339,711', '$339,721', '$339,777', '$339,800', '$339,844', '$339,850+', '$339,860', '$339,867', '$339,870', '$339,874', '$339,881', '$339,884', '$339,888', '$339,899', '$339,900', '$339,900+', '$339,930', '$339,933', '$339,950', '$339,985', '$339,988', '$339,990', '$339,990+', '$339,995', '$339,995+', '$339,997', '$339,998', '$339,999', '$34,000', '$34,000,000', '$34,018', '$34,100', '$34,135', '$34,136', '$34,149', '$34,160', '$34,250', '$34,251', '$34,262', '$34,300', '$34,311', '$34,316', '$34,349', '$34,356', '$34,373', '$34,399', '$34,400', '$34,450', '$34,499', '$34,500', '$34,500,000', '$34,600', '$34,611,750', '$34,700', '$34,700,000', '$34,800', '$34,874', '$34,888', '$34,899', '$34,900', '$34,902', '$34,905', '$34,950', '$34,980', '$34,994', '$34,995', '$34,997', '$34,999', '$340,000', '$340,000+', '$340,025', '$340,049', '$340,059', '$340,061', '$340,065', '$340,075', '$340,086', '$340,153', '$340,169', '$340,199', '$340,251', '$340,257', '$340,269', '$340,356', '$340,399', '$340,400', '$340,416+', '$340,418', '$340,444', '$340,468+', '$340,470', '$340,490', '$340,499', '$340,499+', '$340,500', '$340,500+', '$340,506', '$340,540', '$340,551', '$340,555', '$340,560', '$340,574', '$340,600', '$340,644', '$340,664', '$340,668', '$340,676', '$340,696', '$340,745', '$340,750+', '$340,762', '$340,777', '$340,789', '$340,800', '$340,805', '$340,875', '$340,895', '$340,900', '$340,900+', '$340,914', '$340,990', '$340,990+', '$340,999', '$340,999+', '$341,000', '$341,000+', '$341,040', '$341,072', '$341,100', '$341,150', '$341,153', '$341,180', '$341,189', '$341,198', '$341,200', '$341,208', '$341,220', '$341,240', '$341,243', '$341,251', '$341,285', '$341,290', '$341,325', '$341,363', '$341,387', '$341,400', '$341,436', '$341,450', '$341,457', '$341,468', '$341,485', '$341,490+', '$341,499', '$341,500', '$341,531', '$341,595', '$341,600', '$341,620', '$341,632', '$341,700', '$341,702', '$341,718', '$341,750', '$341,754', '$341,766', '$341,786', '$341,787', '$341,800', '$341,802', '$341,813', '$341,838', '$341,880+', '$341,883', '$341,900', '$341,900+', '$341,917', '$341,950', '$341,955', '$341,957', '$341,963', '$341,980', '$341,984', '$341,990', '$341,990+', '$341,995', '$341,999', '$341,999+', '$342,000', '$342,004', '$342,025', '$342,046', '$342,055', '$342,072', '$342,114', '$342,124', '$342,142', '$342,158', '$342,200', '$342,227', '$342,250', '$342,306', '$342,400', '$342,403', '$342,490', '$342,490+', '$342,495', '$342,498', '$342,499', '$342,500', '$342,500+', '$342,553', '$342,648', '$342,649', '$342,700+', '$342,732', '$342,763', '$342,800', '$342,812', '$342,827', '$342,850', '$342,863', '$342,897', '$342,900', '$342,900+', '$342,903', '$342,921', '$342,931', '$342,941', '$342,950', '$342,950+', '$342,955', '$342,969', '$342,970', '$342,990', '$342,990+', '$342,995', '$342,998', '$342,999', '$342,999+', '$343,000', '$343,004', '$343,015', '$343,025', '$343,069', '$343,111', '$343,200', '$343,205', '$343,224', '$343,227', '$343,266', '$343,274', '$343,281', '$343,300', '$343,305', '$343,323', '$343,350', '$343,359', '$343,380', '$343,400', '$343,455', '$343,482', '$343,499', '$343,500', '$343,500+', '$343,508', '$343,516', '$343,525', '$343,535', '$343,551', '$343,575', '$343,580', '$343,600', '$343,700', '$343,700+', '$343,727', '$343,745', '$343,770', '$343,777', '$343,800', '$343,801', '$343,844', '$343,877', '$343,880', '$343,880+', '$343,890', '$343,900', '$343,900+', '$343,908', '$343,990', '$343,990+', '$343,995', '$343,995+', '$343,999', '$344,000', '$344,002', '$344,015', '$344,021', '$344,046', '$344,073', '$344,147', '$344,185', '$344,195', '$344,204', '$344,210', '$344,244', '$344,253', '$344,263', '$344,268', '$344,280', '$344,300+', '$344,323', '$344,325', '$344,331', '$344,363', '$344,367', '$344,384', '$344,400', '$344,445', '$344,463', '$344,490+', '$344,491', '$344,495', '$344,495+', '$344,499', '$344,500', '$344,500+', '$344,513', '$344,552', '$344,593', '$344,676', '$344,700', '$344,720', '$344,724', '$344,742', '$344,750', '$344,772', '$344,797', '$344,800', '$344,863', '$344,865', '$344,888', '$344,890', '$344,896', '$344,899', '$344,900', '$344,900+', '$344,904', '$344,910', '$344,912', '$344,934', '$344,940', '$344,943', '$344,950', '$344,960', '$344,976', '$344,981', '$344,987', '$344,990', '$344,990+', '$344,991', '$344,995', '$344,999', '$344,999+', '$345,000', '$345,000+', '$345,028', '$345,048', '$345,049', '$345,058', '$345,089', '$345,130', '$345,167', '$345,180', '$345,212', '$345,227', '$345,237', '$345,250', '$345,295', '$345,388', '$345,394', '$345,400', '$345,400+', '$345,440', '$345,453', '$345,463', '$345,500', '$345,500+', '$345,540', '$345,600', '$345,610', '$345,612', '$345,614', '$345,629', '$345,645', '$345,667', '$345,700', '$345,717', '$345,786', '$345,799', '$345,800', '$345,805', '$345,819', '$345,825', '$345,850', '$345,860', '$345,863', '$345,900', '$345,900+', '$345,937', '$345,950', '$345,955', '$345,990', '$345,990+', '$345,993', '$345,999', '$346,000', '$346,025', '$346,047', '$346,074', '$346,109', '$346,193', '$346,200', '$346,228', '$346,235', '$346,268', '$346,274', '$346,290', '$346,302', '$346,321', '$346,337', '$346,377', '$346,385', '$346,396', '$346,400', '$346,405', '$346,428', '$346,432', '$346,440', '$346,442', '$346,450', '$346,452', '$346,490', '$346,499', '$346,499+', '$346,500', '$346,500+', '$346,503', '$346,526', '$346,578', '$346,594', '$346,635', '$346,650', '$346,660', '$346,741', '$346,757', '$346,800', '$346,814', '$346,852', '$346,860', '$346,864', '$346,875', '$346,900', '$346,900+', '$346,950', '$346,990', '$346,990+', '$346,995', '$346,996', '$346,999', '$347,000', '$347,000+', '$347,009', '$347,047', '$347,059', '$347,095', '$347,106', '$347,109', '$347,119', '$347,129', '$347,184', '$347,237', '$347,250', '$347,251', '$347,300', '$347,307', '$347,351', '$347,367', '$347,391', '$347,400', '$347,400+', '$347,425', '$347,450', '$347,463', '$347,499', '$347,499+', '$347,500', '$347,500+', '$347,533', '$347,599', '$347,600', '$347,679', '$347,700', '$347,743', '$347,750', '$347,750+', '$347,776', '$347,777', '$347,790', '$347,792', '$347,800', '$347,825', '$347,887', '$347,888', '$347,900', '$347,900+', '$347,950', '$347,950+', '$347,967', '$347,976', '$347,990', '$347,990+', '$347,995', '$347,995+', '$347,999', '$347,999+', '$348,000', '$348,000+', '$348,019', '$348,074', '$348,080', '$348,100', '$348,125', '$348,127', '$348,179', '$348,192', '$348,223', '$348,224', '$348,250', '$348,262', '$348,330', '$348,400', '$348,443', '$348,490', '$348,499', '$348,499+', '$348,500', '$348,530', '$348,590', '$348,597', '$348,600+', '$348,638', '$348,682', '$348,700', '$348,700+', '$348,704', '$348,714', '$348,715', '$348,717', '$348,725', '$348,740', '$348,750', '$348,765', '$348,769', '$348,770', '$348,770+', '$348,787', '$348,800', '$348,834', '$348,888', '$348,900', '$348,900+', '$348,941', '$348,950', '$348,985', '$348,986', '$348,989', '$348,990', '$348,990+', '$348,995', '$348,998', '$348,999', '$348,999+', '$349,000', '$349,000+', '$349,001', '$349,005', '$349,013', '$349,020', '$349,021', '$349,039', '$349,043', '$349,064', '$349,069', '$349,100', '$349,110', '$349,112+', '$349,127', '$349,151', '$349,161', '$349,176', '$349,187', '$349,188', '$349,197', '$349,200', '$349,206', '$349,220', '$349,230', '$349,240', '$349,250', '$349,258', '$349,332', '$349,343', '$349,366', '$349,400', '$349,420', '$349,433', '$349,454', '$349,490+', '$349,498', '$349,500', '$349,500+', '$349,526', '$349,549', '$349,555', '$349,561', '$349,600', '$349,611', '$349,650', '$349,660', '$349,666', '$349,694', '$349,700', '$349,700+', '$349,715', '$349,737', '$349,750', '$349,760', '$349,763', '$349,774', '$349,777', '$349,788', '$349,800', '$349,850', '$349,854', '$349,876', '$349,880', '$349,882', '$349,888', '$349,890', '$349,900', '$349,900+', '$349,922', '$349,932', '$349,944', '$349,950', '$349,955', '$349,956', '$349,970', '$349,975', '$349,979', '$349,980', '$349,986', '$349,990', '$349,990+', '$349,994', '$349,995', '$349,995+', '$349,998', '$349,999', '$349,999+', '$35,000', '$35,000,000', '$35,000/mo', '$35,100', '$35,130', '$35,147', '$35,178', '$35,200', '$35,250', '$35,256', '$35,300', '$35,380', '$35,400', '$35,408', '$35,500', '$35,500,000', '$35,600', '$35,651', '$35,700', '$35,719', '$35,721', '$35,731', '$35,750', '$35,773', '$35,780', '$35,800', '$35,800,000', '$35,850', '$35,900', '$35,925', '$35,930', '$35,977', '$35,990', '$35,999', '$350,000', '$350,002', '$350,044', '$350,099', '$350,114', '$350,194', '$350,245', '$350,317', '$350,321', '$350,351', '$350,412', '$350,446', '$350,485', '$350,490', '$350,490+', '$350,500+', '$350,535', '$350,653', '$350,690', '$350,700', '$350,715', '$350,743', '$350,762', '$350,794', '$350,800', '$350,813', '$350,865', '$350,893', '$350,900', '$350,935', '$350,950', '$350,990', '$350,990+', '$350,995+', '$350,999', '$351,000', '$351,000+', '$351,014', '$351,022', '$351,027', '$351,044', '$351,114', '$351,132', '$351,142', '$351,159', '$351,196', '$351,200', '$351,210', '$351,238', '$351,288', '$351,306', '$351,325', '$351,335', '$351,360', '$351,366', '$351,390', '$351,423', '$351,450', '$351,463', '$351,468', '$351,476', '$351,499', '$351,500', '$351,500+', '$351,585', '$351,645', '$351,657', '$351,680', '$351,728', '$351,731', '$351,736', '$351,750', '$351,797', '$351,806', '$351,850', '$351,860', '$351,875', '$351,900', '$351,900+', '$351,950', '$351,970', '$351,990', '$351,990+', '$351,998', '$352,000', '$352,025', '$352,079', '$352,081', '$352,105', '$352,109', '$352,120', '$352,128', '$352,145', '$352,169', '$352,250', '$352,275', '$352,291', '$352,300', '$352,325', '$352,400', '$352,455', '$352,499+', '$352,500', '$352,500+', '$352,523', '$352,529', '$352,552', '$352,572', '$352,575', '$352,600', '$352,637', '$352,653', '$352,676', '$352,699', '$352,730', '$352,780', '$352,786', '$352,804', '$352,850', '$352,859', '$352,870', '$352,881', '$352,890', '$352,900', '$352,900+', '$352,937', '$352,950+', '$352,975', '$352,980', '$352,990', '$352,990+', '$352,995', '$352,999', '$353,000', '$353,070', '$353,099', '$353,115', '$353,116', '$353,125', '$353,154', '$353,200', '$353,253', '$353,257', '$353,324', '$353,400+', '$353,425', '$353,490', '$353,490+', '$353,495', '$353,499', '$353,499+', '$353,500', '$353,531', '$353,536', '$353,543', '$353,576', '$353,595', '$353,640', '$353,688', '$353,700', '$353,757', '$353,770', '$353,783', '$353,800', '$353,801', '$353,846', '$353,853', '$353,870', '$353,880', '$353,890', '$353,895', '$353,900', '$353,900+', '$353,918', '$353,921', '$353,945', '$353,949', '$353,950', '$353,970', '$353,990', '$353,990+', '$353,995', '$353,995+', '$353,999+', '$354,000', '$354,089', '$354,100', '$354,103', '$354,104', '$354,180', '$354,226', '$354,227', '$354,250', '$354,279', '$354,307', '$354,311', '$354,319', '$354,360', '$354,375', '$354,404', '$354,421', '$354,441', '$354,447', '$354,450', '$354,469', '$354,500', '$354,500+', '$354,520', '$354,521', '$354,600', '$354,608', '$354,613', '$354,627', '$354,658', '$354,700', '$354,706', '$354,720', '$354,734', '$354,736', '$354,750', '$354,751', '$354,777', '$354,800', '$354,800+', '$354,810', '$354,852', '$354,880+', '$354,881', '$354,888', '$354,900', '$354,900+', '$354,921', '$354,950', '$354,971', '$354,981', '$354,990', '$354,990+', '$354,995', '$354,999', '$354,999+', '$355,000', '$355,000+', '$355,017', '$355,065', '$355,100', '$355,125', '$355,135', '$355,200', '$355,210', '$355,238', '$355,331', '$355,350', '$355,400+', '$355,401', '$355,405', '$355,406', '$355,415', '$355,430', '$355,496', '$355,500', '$355,564', '$355,579', '$355,617', '$355,625', '$355,637', '$355,643', '$355,682', '$355,700', '$355,728', '$355,750', '$355,763', '$355,800', '$355,875', '$355,890', '$355,900', '$355,900+', '$355,902', '$355,946', '$355,990', '$355,990+', '$356,000', '$356,000+', '$356,028', '$356,045', '$356,070', '$356,078', '$356,079', '$356,099', '$356,116', '$356,130', '$356,190', '$356,250', '$356,269', '$356,279', '$356,334', '$356,342', '$356,364', '$356,370', '$356,380', '$356,400', '$356,409', '$356,414', '$356,425', '$356,457', '$356,471', '$356,480', '$356,482', '$356,499', '$356,500', '$356,500+', '$356,502', '$356,535', '$356,575', '$356,596', '$356,668', '$356,700', '$356,703+', '$356,776', '$356,830', '$356,900', '$356,900+', '$356,913', '$356,915', '$356,921', '$356,926', '$356,936', '$356,956', '$356,965', '$356,990', '$356,990+', '$356,995', '$356,995+', '$356,999', '$356,999+', '$357,000', '$357,018', '$357,030', '$357,073', '$357,095', '$357,119', '$357,200+', '$357,220', '$357,242', '$357,250', '$357,253', '$357,275', '$357,280', '$357,308', '$357,342', '$357,358', '$357,400', '$357,410', '$357,442', '$357,450', '$357,481', '$357,483', '$357,485', '$357,500', '$357,500+', '$357,547', '$357,580', '$357,610', '$357,640', '$357,656', '$357,669', '$357,675', '$357,740', '$357,741', '$357,750', '$357,752', '$357,770', '$357,777', '$357,800', '$357,809', '$357,812', '$357,900', '$357,900+', '$357,926', '$357,931', '$357,948', '$357,950', '$357,950+', '$357,960', '$357,990', '$357,990+', '$357,996', '$357,999', '$358,000', '$358,000+', '$358,006', '$358,055', '$358,100', '$358,107', '$358,129', '$358,200', '$358,265', '$358,292', '$358,307', '$358,355', '$358,383', '$358,384', '$358,396', '$358,400', '$358,430', '$358,450', '$358,499', '$358,500', '$358,503', '$358,505', '$358,523', '$358,538', '$358,639', '$358,660', '$358,681', '$358,700', '$358,723', '$358,743', '$358,750', '$358,771', '$358,777', '$358,800', '$358,805', '$358,844', '$358,882', '$358,888', '$358,890', '$358,890+', '$358,900', '$358,900+', '$358,901', '$358,910', '$358,927', '$358,950', '$358,990', '$358,990+', '$358,999', '$359,000', '$359,000+', '$359,037', '$359,039', '$359,047', '$359,049', '$359,110', '$359,125', '$359,175', '$359,210', '$359,250', '$359,273', '$359,300', '$359,334', '$359,347', '$359,349', '$359,400', '$359,405', '$359,409', '$359,417', '$359,418', '$359,422', '$359,425', '$359,440', '$359,450', '$359,470', '$359,483', '$359,495', '$359,495+', '$359,499', '$359,500', '$359,511', '$359,533', '$359,541', '$359,550', '$359,570', '$359,600', '$359,601', '$359,606', '$359,619', '$359,621', '$359,652', '$359,683', '$359,700', '$359,730', '$359,750', '$359,778', '$359,789', '$359,790', '$359,800', '$359,820', '$359,825', '$359,826', '$359,850', '$359,856', '$359,880', '$359,880+', '$359,886', '$359,888', '$359,899', '$359,900', '$359,900+', '$359,911', '$359,912', '$359,940', '$359,945', '$359,950', '$359,953', '$359,979', '$359,980', '$359,981', '$359,985', '$359,988', '$359,990', '$359,990+', '$359,992', '$359,995', '$359,995+', '$359,997', '$359,998', '$359,999', '$359,999+', '$36,000', '$36,000,000', '$36,013', '$36,040', '$36,107', '$36,125', '$36,143', '$36,150', '$36,191', '$36,192', '$36,200', '$36,225', '$36,226', '$36,273', '$36,300', '$36,379', '$36,500', '$36,577', '$36,600', '$36,644', '$36,700', '$36,770', '$36,774', '$36,800', '$36,827', '$36,843', '$36,900', '$36,949', '$36,980', '$36,995', '$36,999', '$360,000', '$360,051', '$360,054', '$360,059', '$360,078', '$360,108', '$360,109', '$360,115', '$360,124', '$360,129', '$360,177', '$360,221', '$360,229', '$360,230', '$360,294', '$360,300', '$360,400', '$360,418', '$360,480', '$360,500', '$360,509', '$360,510', '$360,512', '$360,540', '$360,565', '$360,640', '$360,647', '$360,650', '$360,660', '$360,684', '$360,685', '$360,789', '$360,801', '$360,878', '$360,882', '$360,900', '$360,900+', '$360,905', '$360,922', '$360,950', '$360,981', '$360,990', '$360,990+', '$361,000', '$361,000+', '$361,015', '$361,019', '$361,048', '$361,079', '$361,125', '$361,185', '$361,200', '$361,245', '$361,300', '$361,349', '$361,360', '$361,425', '$361,468', '$361,472', '$361,486', '$361,499', '$361,499+', '$361,500', '$361,506', '$361,512', '$361,557', '$361,585', '$361,602', '$361,613', '$361,690', '$361,737', '$361,750', '$361,777', '$361,788', '$361,888', '$361,893', '$361,900', '$361,900+', '$361,920', '$361,950', '$361,984', '$361,990', '$361,990+', '$361,995', '$361,999', '$362,000', '$362,000+', '$362,014', '$362,061', '$362,072', '$362,075', '$362,125', '$362,128', '$362,141', '$362,159', '$362,166', '$362,170', '$362,187', '$362,200', '$362,210', '$362,216', '$362,261', '$362,264', '$362,282', '$362,346', '$362,353', '$362,387', '$362,388', '$362,397', '$362,399', '$362,445', '$362,487', '$362,490', '$362,497', '$362,499', '$362,499+', '$362,500', '$362,500+', '$362,535', '$362,550', '$362,555', '$362,559', '$362,637', '$362,640', '$362,662', '$362,750', '$362,800', '$362,836', '$362,859', '$362,900', '$362,900+', '$362,917', '$362,930', '$362,950+', '$362,990', '$362,990+', '$362,999+', '$363,000', '$363,027', '$363,040', '$363,079', '$363,090', '$363,097', '$363,098', '$363,113', '$363,145', '$363,175', '$363,190', '$363,200', '$363,288', '$363,338', '$363,394', '$363,397', '$363,406', '$363,410', '$363,417', '$363,420', '$363,427', '$363,440', '$363,469', '$363,491', '$363,500', '$363,531', '$363,590', '$363,594', '$363,614', '$363,635', '$363,665', '$363,681', '$363,700', '$363,712', '$363,754', '$363,772', '$363,789', '$363,798', '$363,800', '$363,851', '$363,864', '$363,868', '$363,883', '$363,888', '$363,899', '$363,900', '$363,900+', '$363,950', '$363,976', '$363,990', '$363,990+', '$363,995', '$363,995+', '$363,999', '$364,000', '$364,000+', '$364,006', '$364,064', '$364,093', '$364,094', '$364,122', '$364,134', '$364,138', '$364,144', '$364,150', '$364,158', '$364,161', '$364,250', '$364,284', '$364,295', '$364,297', '$364,325', '$364,340', '$364,364', '$364,369', '$364,376', '$364,379', '$364,400', '$364,419', '$364,458', '$364,459', '$364,490', '$364,490+', '$364,500', '$364,500+', '$364,509', '$364,597', '$364,635', '$364,693', '$364,700', '$364,750', '$364,760', '$364,773', '$364,777', '$364,783', '$364,800', '$364,805', '$364,815', '$364,826', '$364,841', '$364,843', '$364,844', '$364,851', '$364,864', '$364,870', '$364,879', '$364,880', '$364,888', '$364,890', '$364,900', '$364,900+', '$364,917', '$364,921', '$364,924', '$364,930', '$364,931', '$364,948', '$364,950', '$364,950+', '$364,970', '$364,982', '$364,988', '$364,990', '$364,990+', '$364,995', '$364,999', '$365,000', '$365,000+', '$365,017', '$365,041', '$365,060', '$365,071', '$365,154', '$365,169', '$365,179', '$365,189', '$365,264', '$365,317', '$365,339', '$365,400', '$365,400+', '$365,441', '$365,469', '$365,499+', '$365,500', '$365,581', '$365,651', '$365,660', '$365,673', '$365,701', '$365,707', '$365,750', '$365,770', '$365,772', '$365,800', '$365,820', '$365,860', '$365,871', '$365,900', '$365,900+', '$365,902', '$365,910', '$365,917', '$365,920', '$365,923', '$365,950', '$365,990', '$365,990+', '$365,995+', '$365,999', '$365,999+', '$366,000', '$366,007', '$366,100', '$366,104', '$366,159', '$366,170', '$366,313', '$366,326', '$366,330', '$366,335', '$366,350', '$366,400', '$366,440', '$366,451', '$366,482', '$366,490', '$366,500', '$366,530', '$366,537', '$366,590', '$366,600', '$366,605', '$366,640', '$366,657', '$366,666', '$366,726', '$366,772', '$366,820', '$366,862', '$366,900', '$366,900+', '$366,929', '$366,975', '$366,987', '$366,990', '$366,990+', '$366,995', '$366,999', '$367,000', '$367,013', '$367,047', '$367,049', '$367,087', '$367,097', '$367,100', '$367,105', '$367,140', '$367,159', '$367,214', '$367,222', '$367,225', '$367,228', '$367,232', '$367,250', '$367,300', '$367,350+', '$367,355', '$367,374', '$367,400', '$367,433', '$367,456', '$367,466', '$367,477', '$367,499', '$367,499+', '$367,500', '$367,550', '$367,558', '$367,563', '$367,573', '$367,577', '$367,589', '$367,593', '$367,620', '$367,625', '$367,629', '$367,638', '$367,695', '$367,700', '$367,770', '$367,782', '$367,791', '$367,823', '$367,839', '$367,891', '$367,900', '$367,900+', '$367,931', '$367,943', '$367,950', '$367,950+', '$367,976', '$367,990', '$367,990+', '$367,999', '$368,000', '$368,065', '$368,116', '$368,133', '$368,188', '$368,204', '$368,225', '$368,262', '$368,369', '$368,376', '$368,381', '$368,394', '$368,400', '$368,400+', '$368,410', '$368,429', '$368,460', '$368,478', '$368,486', '$368,494', '$368,495', '$368,498', '$368,500', '$368,500+', '$368,530', '$368,558', '$368,560', '$368,578', '$368,588', '$368,600', '$368,611', '$368,630', '$368,642', '$368,669', '$368,682', '$368,687', '$368,689', '$368,700', '$368,715', '$368,717', '$368,730', '$368,750', '$368,750+', '$368,788', '$368,800', '$368,817', '$368,873', '$368,880', '$368,888', '$368,900', '$368,900+', '$368,912', '$368,931', '$368,950', '$368,960', '$368,975', '$368,979', '$368,980', '$368,990', '$368,990+', '$368,995', '$368,995+', '$368,999', '$369,000', '$369,000+', '$369,016', '$369,020', '$369,022', '$369,050', '$369,100+', '$369,104', '$369,130', '$369,192', '$369,200', '$369,230', '$369,231', '$369,250', '$369,270', '$369,300', '$369,301', '$369,313', '$369,351', '$369,360', '$369,393', '$369,421', '$369,441', '$369,450', '$369,462', '$369,490', '$369,490+', '$369,493', '$369,498', '$369,500', '$369,503', '$369,505', '$369,523', '$369,550', '$369,554', '$369,600', '$369,700', '$369,730', '$369,750', '$369,776', '$369,777', '$369,790', '$369,799', '$369,800', '$369,821', '$369,821+', '$369,835', '$369,876', '$369,879', '$369,888', '$369,898', '$369,899', '$369,900', '$369,900+', '$369,915', '$369,942', '$369,948', '$369,950', '$369,950+', '$369,958', '$369,960', '$369,966', '$369,970', '$369,975', '$369,976+', '$369,985', '$369,990', '$369,990+', '$369,995', '$369,998', '$369,999', '$37,000', '$37,004', '$37,024', '$37,100', '$37,200', '$37,205', '$37,250', '$37,400', '$37,406', '$37,410', '$37,438', '$37,460', '$37,496', '$37,500', '$37,560', '$37,600', '$37,600+', '$37,606', '$37,611', '$37,629', '$37,670', '$37,700', '$37,750', '$37,799', '$37,800', '$37,880', '$37,897', '$37,900', '$37,931', '$37,950', '$37,950,000', '$37,964', '$37,999', '$370,000', '$370,000+', '$370,035', '$370,060', '$370,062', '$370,078', '$370,090', '$370,093', '$370,120', '$370,198', '$370,199', '$370,244', '$370,257', '$370,290', '$370,300', '$370,306', '$370,315', '$370,348', '$370,360', '$370,380', '$370,381', '$370,390', '$370,438', '$370,493', '$370,561', '$370,574', '$370,595', '$370,600', '$370,629', '$370,635', '$370,700', '$370,717', '$370,748', '$370,780', '$370,899', '$370,900', '$370,900+', '$370,906', '$370,927', '$370,933', '$370,969', '$370,971', '$370,975', '$370,990', '$370,990+', '$370,995', '$370,999', '$370,999+', '$371,000', '$371,000+', '$371,012', '$371,022', '$371,036', '$371,039', '$371,054', '$371,070', '$371,080', '$371,087', '$371,090+', '$371,120', '$371,137', '$371,148', '$371,156', '$371,200', '$371,220', '$371,224', '$371,228', '$371,239', '$371,250', '$371,255', '$371,290', '$371,318', '$371,408', '$371,435', '$371,485', '$371,490', '$371,493', '$371,496', '$371,499', '$371,500', '$371,504', '$371,541', '$371,552', '$371,556', '$371,571', '$371,642', '$371,676', '$371,685', '$371,692', '$371,712', '$371,800', '$371,806', '$371,827', '$371,879', '$371,885', '$371,896', '$371,900', '$371,900+', '$371,907', '$371,926', '$371,985', '$371,988', '$371,990', '$371,990+', '$371,995', '$371,999+', '$372,000', '$372,019', '$372,078', '$372,120', '$372,148', '$372,155', '$372,189', '$372,191', '$372,249', '$372,263', '$372,270', '$372,273', '$372,290', '$372,293', '$372,299', '$372,370', '$372,381', '$372,401', '$372,406', '$372,439', '$372,450', '$372,456', '$372,464', '$372,471', '$372,490', '$372,490+', '$372,499+', '$372,500', '$372,500+', '$372,535', '$372,571', '$372,650', '$372,700', '$372,705', '$372,733', '$372,754', '$372,800', '$372,830', '$372,850', '$372,870', '$372,900', '$372,900+', '$372,906', '$372,946', '$372,950', '$372,990', '$372,990+', '$372,995', '$372,999', '$372,999+', '$373,000', '$373,000+', '$373,039', '$373,075', '$373,079', '$373,098', '$373,122', '$373,148', '$373,207', '$373,229', '$373,240', '$373,250', '$373,279', '$373,300', '$373,373', '$373,400', '$373,400+', '$373,474', '$373,480', '$373,482', '$373,499+', '$373,500', '$373,503', '$373,529', '$373,575', '$373,576', '$373,621', '$373,799', '$373,800', '$373,851', '$373,886', '$373,888', '$373,899', '$373,900', '$373,900+', '$373,905', '$373,907', '$373,990', '$373,990+', '$373,995', '$373,999', '$373,999+', '$374,000', '$374,003', '$374,056', '$374,065', '$374,113', '$374,169', '$374,246', '$374,250', '$374,320', '$374,342', '$374,375', '$374,400', '$374,445', '$374,468', '$374,473', '$374,480', '$374,490', '$374,499', '$374,500', '$374,500+', '$374,521', '$374,527', '$374,550', '$374,585', '$374,599', '$374,600', '$374,640', '$374,641', '$374,664', '$374,675', '$374,700', '$374,750', '$374,800', '$374,822', '$374,859', '$374,888', '$374,900', '$374,900+', '$374,933', '$374,936', '$374,950', '$374,961', '$374,973', '$374,985', '$374,988', '$374,989', '$374,990', '$374,990+', '$374,995', '$374,995+', '$374,996', '$374,999', '$375,000', '$375,000+', '$375,001', '$375,040', '$375,092', '$375,100', '$375,122', '$375,145', '$375,186', '$375,239', '$375,250', '$375,262', '$375,270', '$375,300', '$375,319', '$375,350', '$375,355', '$375,365', '$375,370', '$375,374', '$375,400+', '$375,427', '$375,436', '$375,453', '$375,459', '$375,471', '$375,490', '$375,496', '$375,499', '$375,499+', '$375,500', '$375,502', '$375,519', '$375,540', '$375,547', '$375,555', '$375,565', '$375,574', '$375,599', '$375,623', '$375,646', '$375,650', '$375,679', '$375,718', '$375,741', '$375,749', '$375,751', '$375,767', '$375,800', '$375,850', '$375,860', '$375,900', '$375,900+', '$375,990', '$375,990+', '$375,995', '$375,995+', '$375,999', '$376,000', '$376,000+', '$376,065', '$376,081', '$376,090', '$376,098', '$376,176', '$376,195', '$376,200', '$376,255', '$376,295', '$376,321', '$376,325', '$376,400', '$376,416', '$376,421', '$376,490', '$376,499+', '$376,500', '$376,524', '$376,578', '$376,600', '$376,610', '$376,621', '$376,700', '$376,754', '$376,770', '$376,800', '$376,808', '$376,810', '$376,884', '$376,900', '$376,900+', '$376,950', '$376,952', '$376,961', '$376,981', '$376,990', '$376,990+', '$376,999', '$377,000', '$377,017', '$377,100', '$377,113', '$377,134', '$377,164', '$377,200', '$377,239', '$377,250', '$377,253', '$377,257', '$377,300', '$377,306', '$377,309', '$377,312', '$377,335', '$377,365', '$377,400+', '$377,440', '$377,448', '$377,459', '$377,485', '$377,490+', '$377,500', '$377,511', '$377,535', '$377,537', '$377,550', '$377,583', '$377,610', '$377,617', '$377,640', '$377,648', '$377,658', '$377,668', '$377,700', '$377,700+', '$377,744', '$377,777', '$377,797', '$377,826', '$377,900', '$377,900+', '$377,945', '$377,959', '$377,963', '$377,990', '$377,990+', '$377,993', '$378,000', '$378,000+', '$378,031', '$378,038', '$378,062', '$378,080', '$378,100', '$378,110', '$378,199', '$378,210', '$378,230', '$378,265', '$378,310', '$378,400', '$378,483', '$378,490', '$378,490+', '$378,499', '$378,500', '$378,584', '$378,597', '$378,621', '$378,629', '$378,658', '$378,700', '$378,743', '$378,768', '$378,800', '$378,803+', '$378,805', '$378,835', '$378,850', '$378,895', '$378,898', '$378,900', '$378,900+', '$378,940', '$378,949', '$378,950', '$378,990', '$378,990+', '$378,995', '$378,997', '$378,999', '$378,999+', '$379,000', '$379,038', '$379,064', '$379,102', '$379,105', '$379,132', '$379,134', '$379,136', '$379,171', '$379,195', '$379,217', '$379,228', '$379,232', '$379,235', '$379,265', '$379,300', '$379,320', '$379,340', '$379,344', '$379,355', '$379,374', '$379,400', '$379,444', '$379,465', '$379,470', '$379,485', '$379,490', '$379,500', '$379,500+', '$379,511', '$379,514', '$379,555', '$379,556', '$379,592', '$379,614', '$379,650', '$379,652', '$379,659', '$379,690', '$379,700', '$379,718', '$379,747', '$379,750', '$379,777', '$379,780', '$379,800', '$379,810', '$379,815', '$379,828', '$379,832', '$379,857', '$379,870', '$379,880+', '$379,888', '$379,900', '$379,900+', '$379,910', '$379,950', '$379,969', '$379,970', '$379,972', '$379,973', '$379,975', '$379,980', '$379,987', '$379,990', '$379,990+', '$379,992', '$379,995', '$379,998', '$379,999', '$38,000', '$38,000,000', '$38,007', '$38,008', '$38,032', '$38,100', '$38,143', '$38,217', '$38,220', '$38,230', '$38,239', '$38,250', '$38,263', '$38,298', '$38,400', '$38,460', '$38,500', '$38,500,000', '$38,514', '$38,550', '$38,566', '$38,570', '$38,585', '$38,600', '$38,658', '$38,700', '$38,800', '$38,838', '$38,873', '$38,888', '$38,900', '$38,992', '$38,995', '$38,999', '$380,000', '$380,000+', '$380,011', '$380,024', '$380,038', '$380,132', '$380,225', '$380,237', '$380,256', '$380,283', '$380,284', '$380,306', '$380,313', '$380,334', '$380,340', '$380,380', '$380,400+', '$380,480', '$380,499', '$380,500', '$380,500+', '$380,539', '$380,567', '$380,574', '$380,622', '$380,677', '$380,699', '$380,700+', '$380,725', '$380,726', '$380,741', '$380,756', '$380,800', '$380,818', '$380,833', '$380,847', '$380,849', '$380,885', '$380,888', '$380,900', '$380,900+', '$380,970', '$380,990', '$380,990+', '$380,995', '$380,999', '$381,000', '$381,035', '$381,064', '$381,110', '$381,112', '$381,130', '$381,141', '$381,156', '$381,177', '$381,178', '$381,185', '$381,210', '$381,210+', '$381,211', '$381,213', '$381,237', '$381,265', '$381,275', '$381,352', '$381,412', '$381,470', '$381,495', '$381,495+', '$381,500', '$381,500+', '$381,516', '$381,520', '$381,542', '$381,633', '$381,700', '$381,723', '$381,730', '$381,734', '$381,748', '$381,777', '$381,845', '$381,847', '$381,850', '$381,883', '$381,900', '$381,900+', '$381,938', '$381,977', '$381,990', '$381,990+', '$381,995', '$381,995+', '$382,000', '$382,000+', '$382,011', '$382,055', '$382,125', '$382,155', '$382,169', '$382,190', '$382,200', '$382,214', '$382,241', '$382,263', '$382,290', '$382,295', '$382,315', '$382,344', '$382,359', '$382,400', '$382,412', '$382,479', '$382,500', '$382,500+', '$382,525', '$382,571', '$382,600', '$382,647', '$382,680', '$382,690', '$382,700', '$382,721', '$382,740', '$382,754', '$382,777', '$382,800', '$382,837', '$382,844', '$382,888', '$382,890', '$382,900', '$382,900+', '$382,916', '$382,925', '$382,990', '$382,990+', '$382,995+', '$382,999+', '$383,000', '$383,000+', '$383,021', '$383,065', '$383,072', '$383,121', '$383,157', '$383,200', '$383,236', '$383,251', '$383,351', '$383,370', '$383,390', '$383,400', '$383,427', '$383,484', '$383,500', '$383,599', '$383,677', '$383,680', '$383,685', '$383,790', '$383,799', '$383,800', '$383,808', '$383,828', '$383,838', '$383,849', '$383,888', '$383,892', '$383,893', '$383,900', '$383,900+', '$383,909', '$383,930', '$383,950', '$383,950+', '$383,990', '$383,990+', '$383,995', '$383,999', '$383,999+', '$384,000', '$384,000+', '$384,090', '$384,100', '$384,124', '$384,134', '$384,135', '$384,208', '$384,225', '$384,231', '$384,244', '$384,270', '$384,280', '$384,300+', '$384,304', '$384,342', '$384,375', '$384,400', '$384,403', '$384,431', '$384,474', '$384,490', '$384,490+', '$384,499', '$384,500', '$384,535', '$384,550', '$384,555', '$384,558', '$384,575', '$384,641', '$384,689', '$384,700', '$384,734', '$384,775', '$384,800', '$384,880', '$384,888', '$384,897', '$384,900', '$384,900+', '$384,913', '$384,943', '$384,949', '$384,950', '$384,987', '$384,988', '$384,990', '$384,990+', '$384,995', '$384,997', '$384,998', '$384,999', '$385,000', '$385,000+', '$385,001', '$385,060', '$385,074', '$385,084', '$385,109', '$385,113', '$385,164', '$385,166', '$385,200', '$385,200+', '$385,206', '$385,218', '$385,219', '$385,237', '$385,291', '$385,350', '$385,400', '$385,490', '$385,495', '$385,500', '$385,600', '$385,614', '$385,618', '$385,643', '$385,763', '$385,796', '$385,844', '$385,848', '$385,883', '$385,889', '$385,900', '$385,900+', '$385,990', '$385,990+', '$386,000', '$386,000+', '$386,019', '$386,023', '$386,039', '$386,125', '$386,161', '$386,204', '$386,223', '$386,249', '$386,288', '$386,300', '$386,400', '$386,409', '$386,440', '$386,459', '$386,500', '$386,505', '$386,553', '$386,563', '$386,600', '$386,616', '$386,640', '$386,686', '$386,726', '$386,762', '$386,800', '$386,808', '$386,844', '$386,860', '$386,862', '$386,870', '$386,900', '$386,900+', '$386,916', '$386,950', '$386,986', '$386,988', '$386,990', '$386,990+', '$386,991', '$386,995', '$386,995+', '$386,999', '$387,000', '$387,000+', '$387,013', '$387,058', '$387,110', '$387,113', '$387,126', '$387,152', '$387,178', '$387,211', '$387,285', '$387,300', '$387,325', '$387,335', '$387,380', '$387,400', '$387,403', '$387,450', '$387,455', '$387,475', '$387,480', '$387,490', '$387,490+', '$387,500', '$387,502', '$387,534', '$387,570', '$387,600', '$387,630', '$387,690', '$387,700', '$387,713', '$387,745', '$387,780', '$387,793', '$387,800', '$387,806', '$387,856', '$387,881', '$387,900', '$387,990', '$387,990+', '$387,995', '$388,000', '$388,000+', '$388,009', '$388,065', '$388,087', '$388,224', '$388,229', '$388,265', '$388,314', '$388,317', '$388,365', '$388,400', '$388,446', '$388,480', '$388,499', '$388,500', '$388,600', '$388,659', '$388,706', '$388,719', '$388,720', '$388,750', '$388,774', '$388,794', '$388,795', '$388,800', '$388,844', '$388,850', '$388,871', '$388,873', '$388,884', '$388,887', '$388,888', '$388,900', '$388,900+', '$388,915', '$388,939', '$388,950+', '$388,954', '$388,990', '$388,990+', '$388,999', '$389,000', '$389,000+', '$389,020', '$389,031', '$389,070', '$389,093', '$389,104', '$389,120', '$389,170', '$389,187', '$389,216', '$389,217', '$389,267', '$389,274', '$389,330', '$389,349', '$389,385', '$389,400', '$389,418', '$389,426', '$389,441', '$389,447', '$389,449', '$389,450', '$389,487', '$389,490+', '$389,495', '$389,495+', '$389,500', '$389,526', '$389,528', '$389,577', '$389,590', '$389,596', '$389,610', '$389,620', '$389,626', '$389,639', '$389,642', '$389,700', '$389,705', '$389,711', '$389,716', '$389,719', '$389,750', '$389,764', '$389,777', '$389,782', '$389,788', '$389,794', '$389,800', '$389,844', '$389,850', '$389,888', '$389,900', '$389,900+', '$389,909', '$389,921', '$389,927', '$389,950', '$389,952', '$389,981', '$389,983', '$389,990', '$389,990+', '$389,992', '$389,995', '$389,998', '$389,999', '$39,000', '$39,000,000', '$39,100', '$39,103', '$39,130', '$39,199', '$39,220', '$39,238', '$39,285', '$39,318', '$39,381,010', '$39,400', '$39,472', '$39,500', '$39,500,000', '$39,503', '$39,531', '$39,563', '$39,600', '$39,603', '$39,700', '$39,734', '$39,738', '$39,750,000', '$39,800', '$39,829', '$39,850', '$39,872', '$39,876', '$39,888', '$39,894', '$39,900', '$39,900+', '$39,900,000', '$39,932', '$39,950', '$39,950,000', '$39,959', '$39,964', '$39,970', '$39,975', '$39,988,000', '$39,990', '$39,995', '$39,995,000', '$39,997', '$39,998,000', '$39,999', '$390,000', '$390,000+', '$390,002', '$390,118', '$390,171', '$390,207', '$390,208', '$390,258', '$390,284', '$390,300', '$390,306', '$390,318', '$390,359', '$390,398', '$390,400', '$390,451', '$390,490', '$390,490+', '$390,500', '$390,571', '$390,574', '$390,580', '$390,646', '$390,675', '$390,694', '$390,714', '$390,719', '$390,729', '$390,755', '$390,773', '$390,800', '$390,806', '$390,855', '$390,900', '$390,900+', '$390,920', '$390,927', '$390,980', '$390,990', '$390,990+', '$390,999', '$391,000', '$391,004', '$391,022', '$391,050', '$391,085', '$391,159', '$391,165', '$391,200', '$391,222', '$391,298', '$391,350', '$391,357', '$391,386', '$391,400', '$391,446', '$391,460', '$391,499+', '$391,500', '$391,506', '$391,525', '$391,610', '$391,612', '$391,623', '$391,661', '$391,706', '$391,717', '$391,737', '$391,782', '$391,858', '$391,900', '$391,900+', '$391,913', '$391,925', '$391,950', '$391,956', '$391,990', '$391,990+', '$391,995', '$391,999', '$391,999+', '$392,000', '$392,000+', '$392,079', '$392,100', '$392,108', '$392,124', '$392,162', '$392,190', '$392,215', '$392,235', '$392,300', '$392,350', '$392,350+', '$392,355', '$392,455', '$392,490', '$392,500', '$392,546', '$392,558', '$392,564', '$392,600', '$392,614', '$392,618+', '$392,635', '$392,678', '$392,700', '$392,706', '$392,739', '$392,757', '$392,787', '$392,806', '$392,812', '$392,844', '$392,880', '$392,888', '$392,900', '$392,900+', '$392,990', '$392,990+', '$392,995', '$392,995+', '$392,999', '$393', '$393,000', '$393,033', '$393,100', '$393,142', '$393,184', '$393,200', '$393,213', '$393,228', '$393,250', '$393,263', '$393,307', '$393,395', '$393,400', '$393,441', '$393,474', '$393,475', '$393,485', '$393,489', '$393,495', '$393,600', '$393,610', '$393,726', '$393,750', '$393,765', '$393,789', '$393,830', '$393,840', '$393,900', '$393,900+', '$393,901', '$393,950', '$393,950+', '$393,990', '$393,990+', '$393,999', '$394,000', '$394,000+', '$394,090', '$394,098', '$394,125', '$394,176', '$394,257', '$394,299', '$394,344', '$394,362', '$394,395', '$394,490', '$394,499', '$394,500', '$394,500+', '$394,506', '$394,585', '$394,596', '$394,598', '$394,645', '$394,672', '$394,700', '$394,705', '$394,712', '$394,733', '$394,741', '$394,750', '$394,750+', '$394,800', '$394,806', '$394,845', '$394,850', '$394,880+', '$394,888', '$394,900', '$394,900+', '$394,950', '$394,978', '$394,979', '$394,984', '$394,985', '$394,990', '$394,990+', '$394,995', '$394,995+', '$394,999', '$395,000', '$395,000+', '$395,020', '$395,050', '$395,074', '$395,123', '$395,173', '$395,182', '$395,238', '$395,250', '$395,418', '$395,420', '$395,496', '$395,500', '$395,501', '$395,528', '$395,533', '$395,542', '$395,550', '$395,588', '$395,590', '$395,600', '$395,640', '$395,700', '$395,725', '$395,740', '$395,759', '$395,768', '$395,773', '$395,802', '$395,864', '$395,865', '$395,885', '$395,888', '$395,900', '$395,900+', '$395,912', '$395,929', '$395,946', '$395,947', '$395,990', '$395,990+', '$395,995', '$395,999', '$396,000', '$396,000+', '$396,060', '$396,093', '$396,126', '$396,149', '$396,168', '$396,215', '$396,217', '$396,235', '$396,256', '$396,275', '$396,289', '$396,300', '$396,324', '$396,373', '$396,388', '$396,398', '$396,400', '$396,401', '$396,413', '$396,432', '$396,465', '$396,473', '$396,500', '$396,565', '$396,569', '$396,570', '$396,574', '$396,596', '$396,653', '$396,678', '$396,694', '$396,700', '$396,721', '$396,733', '$396,739', '$396,750', '$396,750+', '$396,793', '$396,800', '$396,846', '$396,847', '$396,853', '$396,859', '$396,870', '$396,880', '$396,900', '$396,950', '$396,974', '$396,990', '$396,990+', '$397,000', '$397,020', '$397,021', '$397,027', '$397,060', '$397,082', '$397,125', '$397,138', '$397,173', '$397,200', '$397,248', '$397,273', '$397,285', '$397,340', '$397,365', '$397,400', '$397,421', '$397,441', '$397,450', '$397,495', '$397,499', '$397,500', '$397,550', '$397,569', '$397,600', '$397,630', '$397,646', '$397,655', '$397,688', '$397,693', '$397,700', '$397,707', '$397,749', '$397,750', '$397,760', '$397,777', '$397,800', '$397,810', '$397,890', '$397,900', '$397,935', '$397,990', '$397,990+', '$397,995', '$397,999', '$398,000', '$398,000+', '$398,015', '$398,041', '$398,044', '$398,050', '$398,080', '$398,104', '$398,124', '$398,149', '$398,268', '$398,291', '$398,300', '$398,367', '$398,374', '$398,395', '$398,400', '$398,452', '$398,460', '$398,486', '$398,490', '$398,500', '$398,502', '$398,554', '$398,581', '$398,600', '$398,601', '$398,675', '$398,698', '$398,700', '$398,750', '$398,750+', '$398,754', '$398,797', '$398,800', '$398,849', '$398,877', '$398,880', '$398,888', '$398,890', '$398,899', '$398,900', '$398,900+', '$398,912', '$398,934', '$398,950', '$398,990', '$398,990+', '$398,997', '$398,999', '$399,000', '$399,000+', '$399,007', '$399,010', '$399,019', '$399,052', '$399,094', '$399,100', '$399,125', '$399,195', '$399,200', '$399,203', '$399,205', '$399,205+', '$399,235', '$399,250', '$399,258', '$399,277', '$399,280', '$399,352', '$399,370', '$399,376', '$399,383', '$399,387', '$399,398', '$399,400', '$399,416', '$399,437', '$399,450', '$399,468', '$399,479', '$399,484', '$399,495+', '$399,497', '$399,500', '$399,500+', '$399,540', '$399,550', '$399,570', '$399,594', '$399,598', '$399,600', '$399,620', '$399,626', '$399,630', '$399,632', '$399,640', '$399,642', '$399,650', '$399,692', '$399,700', '$399,720', '$399,724', '$399,747', '$399,774', '$399,777', '$399,786', '$399,788', '$399,800', '$399,822', '$399,858', '$399,860', '$399,870', '$399,888', '$399,899', '$399,900', '$399,900+', '$399,909', '$399,910', '$399,947', '$399,950', '$399,951', '$399,975', '$399,978', '$399,980', '$399,987', '$399,988', '$399,989', '$399,990', '$399,990+', '$399,995', '$399,996', '$399,998', '$399,999', '$4,000', '$4,000,000', '$4,000/mo', '$4,001,695', '$4,038,360', '$4,040,632', '$4,049,412', '$4,050', '$4,050,000', '$4,050,900', '$4,065,000', '$4,074,990', '$4,075,000', '$4,088,888', '$4,090', '$4,095,000', '$4,099,000', '$4,100', '$4,100,000', '$4,100/mo', '$4,116,887', '$4,125,000', '$4,129,000', '$4,132,000', '$4,140,000', '$4,149,000', '$4,150', '$4,150,000', '$4,155,000', '$4,157,000', '$4,175,000', '$4,180,000', '$4,188,000', '$4,190,000', '$4,195,000', '$4,195,725', '$4,198,000', '$4,199,000', '$4,199,900', '$4,200', '$4,200,000', '$4,200/mo', '$4,213,909', '$4,220,000', '$4,224,000', '$4,225,000', '$4,225,000+', '$4,235,000', '$4,239,000', '$4,245,000', '$4,248,653', '$4,249,000', '$4,250', '$4,250,000', '$4,250/mo', '$4,252,000', '$4,255,000', '$4,259,000', '$4,260,000', '$4,270,000', '$4,274,000', '$4,275,000', '$4,280,000', '$4,288,000', '$4,288,888', '$4,290', '$4,290,000', '$4,295,000', '$4,295/mo', '$4,298,000', '$4,299,000', '$4,299,999', '$4,300', '$4,300,000', '$4,315,000', '$4,320,000', '$4,324,000', '$4,325,000', '$4,333,000', '$4,336,900+', '$4,342,000', '$4,345,000', '$4,349', '$4,349,000', '$4,350', '$4,350,000', '$4,357,000', '$4,370,000', '$4,375,000', '$4,388,000', '$4,388,888', '$4,390,000', '$4,395,000', '$4,398,000', '$4,399,000', '$4,400', '$4,400,000', '$4,400,000+', '$4,400,160', '$4,404,569', '$4,410,000', '$4,411,380', '$4,420,995', '$4,424,900', '$4,425,000', '$4,430,052', '$4,434,004', '$4,435,000', '$4,440,000', '$4,441,000', '$4,441,000+', '$4,447,000', '$4,449,000', '$4,450', '$4,450,000', '$4,455,000', '$4,465,000', '$4,475,000', '$4,479,000', '$4,480,000', '$4,485,000', '$4,489,000', '$4,490', '$4,490,000', '$4,495', '$4,495,000', '$4,498,000', '$4,499', '$4,499,000', '$4,499,800', '$4,499,950', '$4,500', '$4,500,000', '$4,500/mo', '$4,513,690', '$4,545,000', '$4,549,000', '$4,550,000', '$4,559,000', '$4,569,500', '$4,585,000', '$4,590,000', '$4,592,615', '$4,594,900', '$4,595,000', '$4,599', '$4,599,000', '$4,600', '$4,600,000', '$4,600/mo', '$4,618,601', '$4,625,000', '$4,640,120', '$4,644,500', '$4,645,000', '$4,649,000', '$4,650,000', '$4,650,995', '$4,670,000', '$4,675,000', '$4,679,000', '$4,680,000', '$4,685,000', '$4,688,000', '$4,690', '$4,690,000', '$4,695,000', '$4,698,000', '$4,699,000', '$4,700', '$4,700,000', '$4,700/mo', '$4,715,496', '$4,717,000', '$4,724,000', '$4,741,500', '$4,741,500+', '$4,744,990', '$4,748,000', '$4,750', '$4,750,000', '$4,750/mo', '$4,752,000', '$4,759,900', '$4,775,000', '$4,780,000', '$4,780,274', '$4,785,000', '$4,788,000', '$4,790,000', '$4,795,000', '$4,795/mo', '$4,799,000', '$4,799,999', '$4,800', '$4,800,000', '$4,806,375', '$4,818,900', '$4,824,999', '$4,825,000', '$4,850', '$4,850,000', '$4,850/mo', '$4,867,500', '$4,875', '$4,875,000', '$4,880,000', '$4,885,000', '$4,888', '$4,888,000', '$4,888,888', '$4,888,995', '$4,890', '$4,890,000', '$4,895,000', '$4,897,000', '$4,899,000', '$4,899,999', '$4,900', '$4,900,000', '$4,915,100', '$4,925,000', '$4,935,000', '$4,950', '$4,950,000', '$4,950,000+', '$4,950,500', '$4,960,000', '$4,969,107', '$4,975', '$4,975,000', '$4,975/mo', '$4,979,000', '$4,980,000', '$4,985,000', '$4,988,000', '$4,988,800', '$4,989,000', '$4,990', '$4,990,000', '$4,995', '$4,995,000', '$4,995,000+', '$4,995/mo', '$4,998,000', '$4,999', '$4,999,000', '$4,999,950', '$4,999,990', '$4,999,999', '$4,999/mo', '$40,000', '$40,000+', '$40,000,000', '$40,001', '$40,013', '$40,016', '$40,100', '$40,103', '$40,200', '$40,292', '$40,317', '$40,412', '$40,482', '$40,500', '$40,500,000', '$40,629', '$40,635', '$40,664', '$40,700', '$40,756', '$40,777', '$40,790', '$40,812', '$40,900', '$40,945', '$40,950', '$400', '$400,000', '$400,000+', '$400,087', '$400,090', '$400,140', '$400,153', '$400,166', '$400,200', '$400,206', '$400,350', '$400,364', '$400,397', '$400,400', '$400,432', '$400,456', '$400,500', '$400,520', '$400,554', '$400,576', '$400,602', '$400,610', '$400,642', '$400,690', '$400,699', '$400,708', '$400,750+', '$400,811', '$400,833', '$400,900', '$400,900+', '$400,924', '$400,932', '$400,940', '$400,940+', '$400,953', '$400,990', '$400,990+', '$400,999', '$400,999+', '$401,000', '$401,051', '$401,071', '$401,072', '$401,153', '$401,184', '$401,217', '$401,261', '$401,264', '$401,271', '$401,294', '$401,300', '$401,330', '$401,355', '$401,355+', '$401,369', '$401,381', '$401,439', '$401,442', '$401,460', '$401,495', '$401,500', '$401,500+', '$401,598', '$401,620', '$401,674', '$401,700', '$401,702', '$401,705', '$401,829', '$401,895', '$401,900', '$401,945', '$401,950', '$401,990', '$401,990+', '$401,994', '$401,995+', '$402,000', '$402,026', '$402,093', '$402,145', '$402,180', '$402,222', '$402,229', '$402,233', '$402,255', '$402,285', '$402,335', '$402,352', '$402,400+', '$402,500', '$402,570', '$402,589', '$402,590', '$402,600', '$402,643', '$402,702', '$402,771', '$402,800', '$402,839', '$402,880+', '$402,890', '$402,894', '$402,897', '$402,900', '$402,900+', '$402,910', '$402,916', '$402,930', '$402,942', '$402,950', '$402,955', '$402,990', '$402,990+', '$402,999', '$402,999+', '$403,000', '$403,013', '$403,017', '$403,078', '$403,100', '$403,117', '$403,178', '$403,190', '$403,229', '$403,250', '$403,280', '$403,286', '$403,287', '$403,425', '$403,440', '$403,462', '$403,500', '$403,560', '$403,582', '$403,600', '$403,645', '$403,732', '$403,747', '$403,750', '$403,836', '$403,865', '$403,888', '$403,892', '$403,900', '$403,900+', '$403,928', '$403,965', '$403,990', '$403,990+', '$404,000', '$404,056', '$404,063', '$404,077', '$404,083', '$404,097', '$404,121', '$404,131', '$404,151', '$404,158', '$404,187', '$404,232', '$404,246', '$404,250+', '$404,300', '$404,304', '$404,308', '$404,340', '$404,361', '$404,423', '$404,465', '$404,482', '$404,500', '$404,500+', '$404,532', '$404,540', '$404,561', '$404,593', '$404,696', '$404,722', '$404,750', '$404,795', '$404,839', '$404,854', '$404,858', '$404,880', '$404,900', '$404,900+', '$404,947', '$404,950', '$404,990', '$404,990+', '$404,992', '$404,995', '$404,999', '$405,000', '$405,022', '$405,158', '$405,174', '$405,194', '$405,238', '$405,249', '$405,257', '$405,297', '$405,300', '$405,321', '$405,328', '$405,409', '$405,418', '$405,495', '$405,498', '$405,500', '$405,516', '$405,521', '$405,532', '$405,550', '$405,590', '$405,600', '$405,707', '$405,744', '$405,769+', '$405,798', '$405,845', '$405,877', '$405,900', '$405,900+', '$405,907', '$405,911', '$405,925', '$405,950', '$405,990', '$405,990+', '$405,991', '$405,995+', '$406,000', '$406,000+', '$406,054', '$406,180', '$406,209', '$406,250', '$406,277', '$406,282', '$406,294', '$406,300', '$406,400', '$406,407', '$406,416', '$406,426', '$406,500', '$406,500+', '$406,600', '$406,620', '$406,713', '$406,718', '$406,720', '$406,764', '$406,793', '$406,802', '$406,822', '$406,881', '$406,900', '$406,900+', '$406,935', '$406,950', '$406,990', '$406,990+', '$406,994', '$406,995+', '$407,000', '$407,016', '$407,044', '$407,061', '$407,088', '$407,151', '$407,156', '$407,195', '$407,248', '$407,276', '$407,287', '$407,355', '$407,376', '$407,400', '$407,462', '$407,466', '$407,479', '$407,499', '$407,500', '$407,582', '$407,622', '$407,625', '$407,802', '$407,844', '$407,858', '$407,880+', '$407,887', '$407,900', '$407,900+', '$407,933', '$407,950', '$407,990', '$407,990+', '$407,995', '$408,000', '$408,000+', '$408,050', '$408,091', '$408,115', '$408,117', '$408,120', '$408,164', '$408,200', '$408,250', '$408,263', '$408,315', '$408,388', '$408,400', '$408,401', '$408,405', '$408,438', '$408,444', '$408,451', '$408,499', '$408,500', '$408,655', '$408,700', '$408,720', '$408,732', '$408,749', '$408,750', '$408,814', '$408,815', '$408,834', '$408,850', '$408,880', '$408,894', '$408,900', '$408,900+', '$408,928', '$408,950', '$408,975', '$408,990', '$408,990+', '$409,000', '$409,003', '$409,012', '$409,020', '$409,024', '$409,069', '$409,073', '$409,084', '$409,200', '$409,248', '$409,253', '$409,287', '$409,290', '$409,333', '$409,340', '$409,380', '$409,400', '$409,400+', '$409,405', '$409,406', '$409,425', '$409,429', '$409,467', '$409,500', '$409,536', '$409,651', '$409,667', '$409,680', '$409,690', '$409,706', '$409,800', '$409,841', '$409,874', '$409,875', '$409,888', '$409,900', '$409,900+', '$409,902', '$409,915', '$409,923', '$409,950', '$409,950+', '$409,951', '$409,970', '$409,978', '$409,988', '$409,990', '$409,990+', '$409,995', '$409,995+', '$409,996', '$409,996+', '$409,997', '$409,999', '$409,999+', '$41,000', '$41,050', '$41,100', '$41,102', '$41,151', '$41,173', '$41,185', '$41,200', '$41,300', '$41,323', '$41,331', '$41,472', '$41,500', '$41,555', '$41,578', '$41,600', '$41,632', '$41,674', '$41,700', '$41,761', '$41,800', '$41,872', '$41,882', '$41,900', '$41,928', '$41,962', '$41,987', '$41,997', '$41,999', '$410,000', '$410,000+', '$410,066', '$410,090', '$410,100', '$410,105', '$410,115', '$410,146', '$410,155', '$410,193', '$410,222', '$410,310', '$410,348', '$410,374', '$410,454', '$410,480', '$410,490+', '$410,527', '$410,607', '$410,622', '$410,650', '$410,698', '$410,761', '$410,764', '$410,777', '$410,812', '$410,840', '$410,861', '$410,900', '$410,900+', '$410,917', '$410,920', '$410,940+', '$410,990', '$410,990+', '$410,999', '$411,000', '$411,065', '$411,071+', '$411,110', '$411,130', '$411,138', '$411,140', '$411,181', '$411,192', '$411,231', '$411,270', '$411,341', '$411,348', '$411,393', '$411,400', '$411,490', '$411,490+', '$411,500', '$411,530', '$411,563', '$411,675', '$411,713', '$411,741', '$411,796', '$411,815', '$411,888', '$411,900', '$411,900+', '$411,950', '$411,963', '$411,990', '$411,990+', '$411,995', '$411,995+', '$412,000', '$412,057', '$412,065', '$412,145', '$412,160', '$412,171', '$412,215', '$412,275', '$412,340', '$412,360', '$412,397', '$412,400', '$412,490+', '$412,500', '$412,500+', '$412,516', '$412,525', '$412,540', '$412,578', '$412,580', '$412,600', '$412,650', '$412,651', '$412,719', '$412,726', '$412,741', '$412,799', '$412,800', '$412,810', '$412,850', '$412,900', '$412,900+', '$412,990', '$412,990+', '$412,999', '$412,999+', '$413,000', '$413,090', '$413,122', '$413,132', '$413,215', '$413,229', '$413,247', '$413,400', '$413,480', '$413,490', '$413,490+', '$413,500', '$413,513', '$413,580', '$413,667', '$413,750', '$413,755', '$413,832', '$413,862', '$413,888', '$413,899', '$413,900', '$413,900+', '$413,913', '$413,937', '$413,947', '$413,990', '$413,990+', '$413,998', '$414,000', '$414,000+', '$414,014', '$414,070', '$414,085', '$414,089', '$414,116', '$414,123', '$414,127+', '$414,136', '$414,140', '$414,146', '$414,173', '$414,210', '$414,247', '$414,308', '$414,340', '$414,350', '$414,368', '$414,429', '$414,447', '$414,461', '$414,485', '$414,494', '$414,500', '$414,504', '$414,522', '$414,523', '$414,535', '$414,553', '$414,576', '$414,579', '$414,628', '$414,630', '$414,700', '$414,720', '$414,724', '$414,745', '$414,756', '$414,765', '$414,777', '$414,799', '$414,800', '$414,805', '$414,821', '$414,850', '$414,880+', '$414,888', '$414,890', '$414,900', '$414,900+', '$414,919', '$414,925', '$414,950', '$414,963', '$414,990', '$414,990+', '$414,995', '$414,999', '$415,000', '$415,000+', '$415,098', '$415,202', '$415,210', '$415,254', '$415,275', '$415,400+', '$415,480', '$415,500', '$415,550', '$415,577', '$415,650', '$415,656', '$415,741', '$415,777', '$415,790', '$415,795', '$415,800+', '$415,822', '$415,866', '$415,867', '$415,889', '$415,891', '$415,900', '$415,900+', '$415,990', '$415,990+', '$415,995', '$415,999', '$416,000', '$416,002', '$416,005', '$416,023', '$416,040', '$416,045', '$416,050', '$416,060', '$416,072', '$416,077', '$416,100', '$416,147', '$416,155', '$416,180', '$416,325', '$416,390', '$416,404', '$416,421', '$416,464', '$416,476', '$416,490', '$416,490+', '$416,500', '$416,540', '$416,550', '$416,556', '$416,564', '$416,627', '$416,653', '$416,750', '$416,806', '$416,808', '$416,834', '$416,850', '$416,888', '$416,900', '$416,900+', '$416,925', '$416,941', '$416,945', '$416,990', '$416,990+', '$416,992', '$416,995', '$416,995+', '$417,000', '$417,006', '$417,140', '$417,180', '$417,265', '$417,300', '$417,400', '$417,421', '$417,478', '$417,480', '$417,499', '$417,500', '$417,500+', '$417,555', '$417,560', '$417,600', '$417,709', '$417,718', '$417,750', '$417,799', '$417,818', '$417,825', '$417,888', '$417,900', '$417,950+', '$417,956', '$417,990', '$417,990+', '$417,992', '$417,995', '$417,999', '$417,999+', '$418,000', '$418,025', '$418,100', '$418,173+', '$418,200', '$418,215', '$418,264', '$418,299', '$418,325', '$418,356', '$418,400', '$418,406', '$418,429', '$418,464', '$418,500', '$418,565', '$418,576', '$418,638', '$418,665', '$418,671', '$418,700', '$418,714', '$418,750', '$418,800', '$418,888', '$418,900', '$418,900+', '$418,915', '$418,923', '$418,933', '$418,942', '$418,950', '$418,950+', '$418,990', '$418,990+', '$418,999', '$419,000', '$419,000+', '$419,018', '$419,040', '$419,085', '$419,116', '$419,153', '$419,188', '$419,191', '$419,200', '$419,206', '$419,212', '$419,290', '$419,293', '$419,303', '$419,310', '$419,410', '$419,460', '$419,474', '$419,490+', '$419,496', '$419,499', '$419,500', '$419,509', '$419,584', '$419,600', '$419,657', '$419,659', '$419,665', '$419,678', '$419,680', '$419,695', '$419,700', '$419,750', '$419,799', '$419,800', '$419,803', '$419,805', '$419,876', '$419,880', '$419,888', '$419,900', '$419,900+', '$419,910', '$419,942', '$419,946', '$419,950', '$419,950+', '$419,977', '$419,984', '$419,985', '$419,988', '$419,990', '$419,990+', '$419,995', '$419,999', '$419,999+', '$42,000', '$42,065', '$42,131', '$42,250', '$42,317', '$42,338', '$42,353', '$42,400', '$42,406', '$42,464', '$42,468', '$42,500', '$42,500,000', '$42,519', '$42,548', '$42,549', '$42,600', '$42,604', '$42,750', '$42,759', '$42,800', '$42,845', '$42,900', '$42,940', '$420,000', '$420,000+', '$420,063', '$420,080', '$420,130', '$420,154', '$420,217', '$420,240', '$420,250', '$420,298', '$420,309', '$420,338', '$420,411', '$420,440', '$420,442', '$420,461', '$420,480', '$420,490', '$420,500', '$420,511', '$420,596', '$420,638', '$420,670', '$420,745', '$420,780', '$420,800', '$420,850', '$420,864', '$420,880+', '$420,890', '$420,900', '$420,900+', '$420,949', '$420,980', '$420,985', '$420,990', '$420,990+', '$420,999', '$421,000', '$421,056', '$421,121', '$421,135', '$421,182', '$421,234', '$421,240', '$421,285', '$421,305', '$421,319', '$421,398', '$421,417', '$421,422', '$421,438', '$421,470', '$421,471', '$421,478', '$421,490', '$421,519', '$421,530', '$421,536', '$421,614', '$421,619', '$421,660', '$421,700', '$421,736', '$421,768', '$421,794', '$421,810', '$421,840', '$421,866', '$421,900', '$421,900+', '$421,940', '$421,990', '$421,990+', '$421,992', '$421,995', '$422,000', '$422,000+', '$422,200', '$422,221', '$422,224', '$422,315', '$422,360', '$422,375', '$422,383', '$422,409', '$422,453', '$422,480', '$422,500', '$422,580', '$422,625', '$422,647', '$422,648', '$422,662', '$422,716', '$422,750', '$422,750+', '$422,767', '$422,779+', '$422,800', '$422,800+', '$422,810', '$422,872', '$422,900', '$422,900+', '$422,990', '$422,990+', '$423,000', '$423,112', '$423,116', '$423,146', '$423,167', '$423,168', '$423,226', '$423,254', '$423,334', '$423,356', '$423,400', '$423,415', '$423,439', '$423,480', '$423,500', '$423,517', '$423,592', '$423,705', '$423,706', '$423,719', '$423,750', '$423,800', '$423,853', '$423,900', '$423,900+', '$423,990', '$423,990+', '$424,000', '$424,001', '$424,057', '$424,068', '$424,079', '$424,091', '$424,095', '$424,181', '$424,200', '$424,220', '$424,250', '$424,281', '$424,322', '$424,330', '$424,351', '$424,450', '$424,500', '$424,550', '$424,600', '$424,621', '$424,639', '$424,700', '$424,737', '$424,750', '$424,800', '$424,803', '$424,857', '$424,860', '$424,888', '$424,890', '$424,900', '$424,900+', '$424,923', '$424,950', '$424,955', '$424,963', '$424,975', '$424,980', '$424,983', '$424,988', '$424,990', '$424,990+', '$424,993', '$424,995', '$424,995+', '$424,998', '$424,999', '$425,000', '$425,000+', '$425,002', '$425,060', '$425,143', '$425,186', '$425,200', '$425,200+', '$425,222', '$425,225', '$425,285', '$425,354', '$425,380', '$425,400', '$425,413', '$425,500', '$425,555', '$425,600', '$425,614', '$425,619', '$425,675', '$425,705', '$425,713', '$425,750', '$425,750+', '$425,800', '$425,803', '$425,844', '$425,888', '$425,900', '$425,900+', '$425,940+', '$425,950+', '$425,990', '$425,990+', '$425,995', '$426,000', '$426,000+', '$426,006', '$426,082', '$426,177', '$426,182', '$426,195', '$426,220', '$426,227', '$426,250', '$426,285', '$426,290', '$426,402', '$426,411', '$426,478', '$426,500', '$426,510', '$426,530', '$426,600', '$426,607', '$426,642', '$426,750', '$426,760', '$426,899', '$426,900', '$426,900+', '$426,940+', '$426,945', '$426,948', '$426,950', '$426,990', '$426,990+', '$427,000', '$427,000+', '$427,077', '$427,154', '$427,200', '$427,240', '$427,276', '$427,285', '$427,377', '$427,400', '$427,421', '$427,450', '$427,461', '$427,488', '$427,499', '$427,500', '$427,503', '$427,554', '$427,565', '$427,601', '$427,681', '$427,696', '$427,698', '$427,716', '$427,726', '$427,729', '$427,762', '$427,775', '$427,854', '$427,863', '$427,877', '$427,900', '$427,900+', '$427,950', '$427,960', '$427,970', '$427,985', '$427,990', '$427,990+', '$427,999', '$428,000', '$428,100', '$428,125', '$428,164', '$428,175', '$428,178', '$428,181', '$428,267', '$428,270', '$428,288', '$428,337', '$428,390', '$428,404', '$428,430', '$428,471', '$428,489', '$428,500', '$428,500+', '$428,519', '$428,559', '$428,570', '$428,599', '$428,650', '$428,674', '$428,683', '$428,711', '$428,713', '$428,714', '$428,715', '$428,745', '$428,773', '$428,800', '$428,806', '$428,876', '$428,900', '$428,900+', '$428,950+', '$428,990', '$428,990+', '$429,000', '$429,000+', '$429,007', '$429,021', '$429,081', '$429,361', '$429,371', '$429,459', '$429,461', '$429,480', '$429,490', '$429,500', '$429,528', '$429,551', '$429,589', '$429,601', '$429,612', '$429,624', '$429,650', '$429,682', '$429,700', '$429,726', '$429,730', '$429,749', '$429,788', '$429,800', '$429,838', '$429,877', '$429,880', '$429,888', '$429,900', '$429,900+', '$429,919', '$429,925', '$429,935', '$429,941', '$429,950', '$429,950+', '$429,963', '$429,984', '$429,988', '$429,990', '$429,990+', '$429,995', '$429,995+', '$429,997', '$429,999', '$43,000', '$43,107', '$43,139', '$43,200', '$43,203', '$43,273', '$43,300', '$43,330', '$43,364', '$43,377', '$43,400', '$43,460', '$43,500', '$43,515', '$43,520', '$43,536', '$43,563', '$43,570', '$43,590', '$43,600', '$43,636', '$43,700', '$43,718', '$43,750', '$43,750,000', '$43,776', '$43,799', '$43,801', '$43,888', '$43,900', '$43,961', '$43,999', '$430,000', '$430,000+', '$430,040', '$430,108', '$430,110', '$430,240', '$430,243', '$430,246', '$430,295', '$430,373', '$430,374', '$430,400', '$430,418', '$430,533', '$430,574', '$430,580', '$430,581', '$430,590', '$430,603', '$430,650', '$430,670', '$430,699', '$430,700+', '$430,706', '$430,743', '$430,759', '$430,800+', '$430,836', '$430,882', '$430,900', '$430,900+', '$430,908', '$430,930', '$430,945', '$430,990', '$430,990+', '$431,000', '$431,040', '$431,045', '$431,066', '$431,077', '$431,129', '$431,161', '$431,190', '$431,198', '$431,277', '$431,282', '$431,295', '$431,322', '$431,348', '$431,400', '$431,411', '$431,523', '$431,667', '$431,690', '$431,706', '$431,750', '$431,762', '$431,804', '$431,846', '$431,900', '$431,900+', '$431,910', '$431,914', '$431,944', '$431,950', '$431,955', '$431,990', '$431,990+', '$431,995+', '$432,000', '$432,074', '$432,200', '$432,213', '$432,275', '$432,300', '$432,412', '$432,420', '$432,500', '$432,591', '$432,626', '$432,634', '$432,652', '$432,724', '$432,767', '$432,798', '$432,854', '$432,872+', '$432,900', '$432,900+', '$432,917', '$432,925', '$432,938', '$432,950', '$432,990', '$432,990+', '$432,995', '$433,000', '$433,042', '$433,090', '$433,095', '$433,100', '$433,112', '$433,163', '$433,285', '$433,300', '$433,475', '$433,490', '$433,500', '$433,500+', '$433,537', '$433,540', '$433,548', '$433,552', '$433,625', '$433,637', '$433,742', '$433,781', '$433,800', '$433,814', '$433,900', '$433,916', '$433,935', '$433,985', '$433,990', '$433,990+', '$433,995', '$433,995+', '$434,000', '$434,081', '$434,117', '$434,144', '$434,288', '$434,330', '$434,375', '$434,480', '$434,500', '$434,527', '$434,600', '$434,620', '$434,648', '$434,684', '$434,700', '$434,738', '$434,800', '$434,850', '$434,867', '$434,900', '$434,900+', '$434,950', '$434,950+', '$434,976', '$434,990', '$434,990+', '$434,995', '$434,997', '$434,999', '$435,000', '$435,000+', '$435,075', '$435,100', '$435,145', '$435,200', '$435,257', '$435,277', '$435,293', '$435,334', '$435,495', '$435,500', '$435,600', '$435,609', '$435,628', '$435,674', '$435,710', '$435,731', '$435,750', '$435,764', '$435,863', '$435,888', '$435,895', '$435,900', '$435,900+', '$435,920', '$435,950', '$435,960', '$435,985', '$435,990', '$435,990+', '$436,000', '$436,095', '$436,098', '$436,100', '$436,155', '$436,166', '$436,177', '$436,183', '$436,204', '$436,311', '$436,375', '$436,387', '$436,460', '$436,462', '$436,484', '$436,500', '$436,501', '$436,609', '$436,634', '$436,641', '$436,735', '$436,750', '$436,799', '$436,800', '$436,816', '$436,900', '$436,900+', '$436,902', '$436,932', '$436,990', '$436,990+', '$436,995', '$436,995+', '$437,000', '$437,000+', '$437,013', '$437,077', '$437,084', '$437,132', '$437,142', '$437,272', '$437,300', '$437,364', '$437,365', '$437,395', '$437,400', '$437,414', '$437,448', '$437,480', '$437,500', '$437,564', '$437,653', '$437,655', '$437,693', '$437,700+', '$437,750', '$437,788', '$437,888', '$437,899', '$437,900', '$437,900+', '$437,947+', '$437,950', '$437,990', '$437,990+', '$437,995', '$437,999', '$438,000', '$438,314', '$438,324', '$438,356', '$438,375', '$438,380', '$438,418', '$438,465', '$438,480', '$438,500', '$438,554', '$438,619', '$438,632', '$438,700', '$438,750', '$438,750+', '$438,800', '$438,845', '$438,867', '$438,878', '$438,888', '$438,895', '$438,900', '$438,900+', '$438,905', '$438,937', '$438,940+', '$438,950', '$438,968', '$438,990', '$438,990+', '$438,999', '$439,000', '$439,000+', '$439,100', '$439,150', '$439,200', '$439,223', '$439,259', '$439,313', '$439,344', '$439,365', '$439,400', '$439,452', '$439,465', '$439,490', '$439,500', '$439,500+', '$439,526', '$439,532', '$439,563', '$439,635', '$439,653', '$439,700', '$439,750', '$439,751', '$439,770', '$439,800', '$439,820', '$439,833', '$439,854', '$439,874', '$439,888', '$439,899', '$439,900', '$439,900+', '$439,950', '$439,950+', '$439,973', '$439,987', '$439,988', '$439,990', '$439,990+', '$439,991', '$439,993', '$439,995', '$439,995+', '$439,997', '$439,998', '$439,999', '$44,000', '$44,200', '$44,261', '$44,306', '$44,309', '$44,342', '$44,361', '$44,400', '$44,424', '$44,429', '$44,430', '$44,450', '$44,500', '$44,525', '$44,528', '$44,559', '$44,600', '$44,611', '$44,640', '$44,644', '$44,650', '$44,673', '$44,700', '$44,740', '$44,782', '$44,790', '$44,800', '$44,850', '$44,900', '$44,900+', '$44,910', '$44,950', '$44,990', '$44,992', '$44,995', '$44,999', '$440,000', '$440,000+', '$440,003', '$440,019', '$440,024', '$440,091', '$440,102', '$440,160', '$440,225', '$440,250', '$440,406', '$440,419', '$440,432', '$440,500', '$440,570', '$440,573', '$440,600', '$440,640', '$440,663', '$440,708', '$440,900', '$440,900+', '$440,970', '$440,990+', '$440,999', '$441,000', '$441,045', '$441,106', '$441,115', '$441,128', '$441,147', '$441,215', '$441,275', '$441,300', '$441,320', '$441,326+', '$441,450', '$441,486', '$441,500', '$441,560', '$441,608', '$441,668', '$441,703', '$441,710', '$441,833', '$441,888', '$441,900', '$441,918', '$441,948', '$441,985', '$441,990', '$441,990+', '$442,000', '$442,045', '$442,049', '$442,100', '$442,105', '$442,198', '$442,453', '$442,500', '$442,500+', '$442,555', '$442,573', '$442,625', '$442,647', '$442,692', '$442,693', '$442,778', '$442,800', '$442,801', '$442,808', '$442,882', '$442,890', '$442,900', '$442,900+', '$442,918', '$442,940+', '$442,990', '$442,990+', '$442,993', '$442,995', '$442,995+', '$442,999', '$443,000', '$443,000+', '$443,065', '$443,119', '$443,192', '$443,221', '$443,230', '$443,271', '$443,325', '$443,329', '$443,390', '$443,400', '$443,444', '$443,448', '$443,500', '$443,674', '$443,718', '$443,723', '$443,728', '$443,729', '$443,850', '$443,874', '$443,888', '$443,900', '$443,900+', '$443,950', '$443,990', '$443,990+', '$443,995', '$443,995+', '$444,000', '$444,000+', '$444,008', '$444,015', '$444,030', '$444,050', '$444,105', '$444,110', '$444,140', '$444,144', '$444,245', '$444,292', '$444,340', '$444,342', '$444,400', '$444,444', '$444,445', '$444,448', '$444,454', '$444,486', '$444,500', '$444,500+', '$444,564', '$444,646', '$444,648', '$444,675', '$444,686', '$444,700', '$444,744', '$444,777', '$444,786', '$444,800', '$444,808', '$444,858', '$444,880', '$444,888', '$444,900', '$444,900+', '$444,906', '$444,950', '$444,970', '$444,987', '$444,990', '$444,990+', '$444,995', '$444,999', '$445,000', '$445,000+', '$445,047', '$445,140', '$445,200', '$445,245', '$445,490+', '$445,500', '$445,580', '$445,608', '$445,636', '$445,645', '$445,700', '$445,712', '$445,730', '$445,774', '$445,791', '$445,795', '$445,800', '$445,887', '$445,888', '$445,900', '$445,900+', '$445,940+', '$445,950', '$445,973', '$445,981', '$445,990', '$445,990+', '$445,995+', '$446,000', '$446,098', '$446,181', '$446,205', '$446,295', '$446,300', '$446,332', '$446,390', '$446,400', '$446,418', '$446,436', '$446,441', '$446,500', '$446,650', '$446,718', '$446,733', '$446,762', '$446,800', '$446,860', '$446,880+', '$446,900', '$446,900+', '$446,918', '$446,953', '$446,983', '$446,986', '$446,990', '$446,990+', '$446,995', '$446,995+', '$447,000', '$447,034', '$447,065', '$447,100', '$447,120', '$447,159', '$447,169', '$447,177', '$447,186', '$447,263', '$447,300', '$447,425', '$447,480', '$447,485', '$447,500', '$447,500+', '$447,550', '$447,630', '$447,680', '$447,700', '$447,719', '$447,750', '$447,763', '$447,875', '$447,881', '$447,885', '$447,888', '$447,893', '$447,895', '$447,900', '$447,900+', '$447,950', '$447,951', '$447,990', '$447,990+', '$447,999', '$447,999+', '$448,000', '$448,009', '$448,044', '$448,050', '$448,070', '$448,086', '$448,100', '$448,142', '$448,225', '$448,360', '$448,363', '$448,454', '$448,490+', '$448,500', '$448,500+', '$448,582', '$448,595', '$448,630', '$448,650', '$448,685', '$448,685+', '$448,699', '$448,704', '$448,760+', '$448,800', '$448,843', '$448,887', '$448,888', '$448,890', '$448,900', '$448,900+', '$448,906', '$448,934', '$448,950+', '$448,990', '$448,990+', '$448,999', '$448,999+', '$449,000', '$449,000+', '$449,001', '$449,022', '$449,033', '$449,035', '$449,090', '$449,100', '$449,134', '$449,185', '$449,200', '$449,210', '$449,215', '$449,280', '$449,295', '$449,300', '$449,320', '$449,374', '$449,398', '$449,400', '$449,478', '$449,485', '$449,490', '$449,500', '$449,529', '$449,550', '$449,555', '$449,585', '$449,588', '$449,600', '$449,630', '$449,687', '$449,690', '$449,700', '$449,724', '$449,750', '$449,757', '$449,761', '$449,770', '$449,775', '$449,777', '$449,788', '$449,792+', '$449,796', '$449,800', '$449,805', '$449,833', '$449,850', '$449,875', '$449,879', '$449,880', '$449,888', '$449,890', '$449,900', '$449,900+', '$449,901', '$449,917', '$449,935', '$449,950', '$449,950+', '$449,960', '$449,964', '$449,969', '$449,971', '$449,973', '$449,987', '$449,988', '$449,989', '$449,990', '$449,990+', '$449,995', '$449,996', '$449,997', '$449,998', '$449,999', '$45,000', '$45,000,000', '$45,035', '$45,094', '$45,100', '$45,125', '$45,200', '$45,228', '$45,242', '$45,249', '$45,250', '$45,300', '$45,308', '$45,320', '$45,321', '$45,400', '$45,430', '$45,475', '$45,500', '$45,554', '$45,599', '$45,611', '$45,711', '$45,749', '$45,761', '$45,800', '$45,849', '$45,900', '$45,999', '$450,000', '$450,000+', '$450,020', '$450,044', '$450,045', '$450,050', '$450,099', '$450,130', '$450,134', '$450,190', '$450,206', '$450,225', '$450,245', '$450,280', '$450,312', '$450,315', '$450,329', '$450,375', '$450,419', '$450,500', '$450,528', '$450,574', '$450,624', '$450,761', '$450,772', '$450,800+', '$450,838', '$450,846', '$450,888', '$450,900', '$450,900+', '$450,901', '$450,930', '$450,970', '$450,990', '$450,990+', '$450,995', '$450,999', '$451,000', '$451,033', '$451,080', '$451,087', '$451,145', '$451,153', '$451,203', '$451,211', '$451,250', '$451,420', '$451,430', '$451,445', '$451,490+', '$451,500', '$451,505', '$451,507', '$451,563', '$451,609', '$451,650', '$451,673', '$451,750', '$451,800', '$451,835', '$451,850', '$451,864', '$451,885', '$451,900', '$451,900+', '$451,912', '$451,936', '$451,940', '$451,985', '$451,990', '$451,990+', '$451,995', '$451,997', '$451,999', '$452,000', '$452,142', '$452,205', '$452,210', '$452,250', '$452,265', '$452,310', '$452,448', '$452,469', '$452,480', '$452,500', '$452,535', '$452,553', '$452,557', '$452,600', '$452,610', '$452,900', '$452,900+', '$452,910', '$452,910+', '$452,917', '$452,930', '$452,980', '$452,990', '$452,990+', '$452,991', '$452,999', '$453,000', '$453,000+', '$453,085', '$453,196', '$453,200', '$453,275', '$453,281', '$453,320', '$453,407', '$453,438', '$453,500', '$453,500+', '$453,603', '$453,624', '$453,625', '$453,650', '$453,667', '$453,700', '$453,700+', '$453,750', '$453,762', '$453,770+', '$453,800', '$453,850', '$453,865', '$453,900', '$453,928', '$453,988', '$453,990', '$453,990+', '$454,000', '$454,100', '$454,135', '$454,149', '$454,206', '$454,208', '$454,310', '$454,332', '$454,355', '$454,385', '$454,420', '$454,490', '$454,500', '$454,525', '$454,645', '$454,658', '$454,687', '$454,767', '$454,800', '$454,850', '$454,890', '$454,900', '$454,900+', '$454,918', '$454,950', '$454,950+', '$454,990', '$454,990+', '$454,995', '$454,995+', '$454,999', '$455,000', '$455,000+', '$455,041', '$455,100', '$455,147', '$455,154', '$455,161', '$455,183', '$455,184', '$455,185', '$455,232', '$455,346', '$455,364', '$455,393', '$455,400+', '$455,402', '$455,436', '$455,450', '$455,450+', '$455,475', '$455,500', '$455,500+', '$455,546', '$455,550', '$455,555', '$455,563', '$455,597', '$455,691', '$455,740', '$455,779', '$455,780', '$455,850', '$455,880', '$455,888', '$455,900', '$455,920', '$455,959', '$455,990', '$455,990+', '$455,992', '$456,000', '$456,051', '$456,067', '$456,099', '$456,194', '$456,200', '$456,219', '$456,270', '$456,371', '$456,376', '$456,400+', '$456,482', '$456,500', '$456,500+', '$456,577', '$456,697', '$456,747', '$456,894', '$456,900', '$456,900+', '$456,917', '$456,961', '$456,965', '$456,990', '$456,990+', '$456,995', '$456,995+', '$457,000', '$457,013', '$457,125', '$457,168', '$457,200', '$457,200+', '$457,204', '$457,250', '$457,335', '$457,400', '$457,447', '$457,450', '$457,474', '$457,500', '$457,532', '$457,571', '$457,585', '$457,605', '$457,609', '$457,700', '$457,792', '$457,800', '$457,840', '$457,867', '$457,877', '$457,892', '$457,900', '$457,934', '$457,940+', '$457,941', '$457,945', '$457,990', '$457,990+', '$457,995', '$457,995+', '$457,998', '$458,000', '$458,051', '$458,080', '$458,090', '$458,105', '$458,194', '$458,198', '$458,240', '$458,294', '$458,389', '$458,433', '$458,460', '$458,473', '$458,474', '$458,490', '$458,490+', '$458,500', '$458,500+', '$458,505', '$458,531', '$458,603', '$458,682', '$458,888', '$458,900', '$458,900+', '$458,926', '$458,950', '$458,990', '$458,990+', '$458,995', '$458,999', '$459,000', '$459,033', '$459,081', '$459,092', '$459,100', '$459,103', '$459,123', '$459,160', '$459,241', '$459,250', '$459,300', '$459,303', '$459,340', '$459,355', '$459,382', '$459,400', '$459,410', '$459,490', '$459,495', '$459,500', '$459,500+', '$459,520', '$459,566', '$459,585', '$459,587', '$459,600', '$459,699', '$459,700', '$459,745', '$459,800', '$459,801', '$459,888', '$459,899', '$459,900', '$459,900+', '$459,930', '$459,950', '$459,980', '$459,987', '$459,990', '$459,990+', '$459,995', '$459,999', '$46,000', '$46,000,000', '$46,050', '$46,066', '$46,079', '$46,079+', '$46,218', '$46,300', '$46,332', '$46,334', '$46,350', '$46,413', '$46,443', '$46,450', '$46,462', '$46,500', '$46,505,000', '$46,532', '$46,551', '$46,609', '$46,611', '$46,639', '$46,800', '$46,851', '$46,861', '$46,900', '$46,900+', '$46,960', '$46,990', '$46,997', '$46,999', '$460,000', '$460,000+', '$460,045', '$460,057', '$460,086', '$460,097', '$460,157', '$460,320', '$460,386', '$460,394', '$460,450', '$460,500', '$460,526', '$460,540', '$460,640', '$460,665', '$460,671', '$460,694', '$460,795', '$460,837', '$460,900', '$460,930', '$460,950', '$460,990', '$460,990+', '$460,995', '$461,000', '$461,002+', '$461,017', '$461,054', '$461,066', '$461,100', '$461,120', '$461,140', '$461,177', '$461,338', '$461,490', '$461,490+', '$461,492', '$461,511', '$461,520', '$461,520+', '$461,598', '$461,608', '$461,700', '$461,705', '$461,750', '$461,794', '$461,800', '$461,800+', '$461,850', '$461,885', '$461,900', '$461,900+', '$461,901', '$461,950', '$461,953', '$461,990', '$461,990+', '$461,995+', '$462,000', '$462,021', '$462,063', '$462,114', '$462,219', '$462,289', '$462,400', '$462,410', '$462,490', '$462,500', '$462,576', '$462,585', '$462,650', '$462,700', '$462,745', '$462,800', '$462,900', '$462,907', '$462,990', '$462,990+', '$463,000', '$463,027', '$463,040', '$463,055', '$463,067', '$463,108', '$463,139', '$463,183', '$463,300', '$463,315', '$463,343', '$463,400', '$463,400+', '$463,425', '$463,465', '$463,478', '$463,485', '$463,500', '$463,592', '$463,649', '$463,659', '$463,680', '$463,692', '$463,699', '$463,750', '$463,849', '$463,900', '$463,900+', '$463,912', '$463,955', '$463,960', '$463,961', '$463,969', '$463,990', '$463,990+', '$463,997', '$464,000', '$464,023', '$464,033', '$464,072', '$464,083', '$464,100', '$464,217', '$464,239', '$464,266', '$464,283', '$464,306', '$464,331', '$464,384', '$464,454', '$464,500', '$464,525', '$464,536', '$464,545', '$464,569', '$464,601', '$464,625', '$464,649', '$464,651', '$464,674', '$464,700', '$464,712', '$464,747', '$464,750', '$464,776', '$464,777', '$464,792', '$464,800', '$464,850', '$464,877', '$464,900', '$464,900+', '$464,901', '$464,950', '$464,950+', '$464,978', '$464,990', '$464,990+', '$464,995', '$464,999', '$465,000', '$465,000+', '$465,085', '$465,109', '$465,120', '$465,204', '$465,230', '$465,284', '$465,291', '$465,318', '$465,319', '$465,320', '$465,340', '$465,393', '$465,400', '$465,425', '$465,441', '$465,468', '$465,485', '$465,500', '$465,510', '$465,521', '$465,522', '$465,533', '$465,555', '$465,650', '$465,682', '$465,697', '$465,800', '$465,806', '$465,817', '$465,887', '$465,900', '$465,900+', '$465,990', '$465,990+', '$465,999', '$466,000', '$466,000+', '$466,081', '$466,093', '$466,114', '$466,118', '$466,132', '$466,242', '$466,315', '$466,345', '$466,346', '$466,400', '$466,407', '$466,413', '$466,441', '$466,465', '$466,497', '$466,500', '$466,581', '$466,651', '$466,663', '$466,800', '$466,872', '$466,900', '$466,900+', '$466,907', '$466,908', '$466,990', '$466,990+', '$466,995', '$466,995+', '$467,000', '$467,065', '$467,094', '$467,097', '$467,100', '$467,147', '$467,200', '$467,239', '$467,300', '$467,320', '$467,360', '$467,490', '$467,490+', '$467,500', '$467,506', '$467,550', '$467,560', '$467,640', '$467,666', '$467,745', '$467,751', '$467,760', '$467,805', '$467,882', '$467,900', '$467,900+', '$467,906', '$467,980', '$467,990', '$467,990+', '$467,995', '$467,999', '$468,000', '$468,014', '$468,060', '$468,254', '$468,272', '$468,290', '$468,470', '$468,480', '$468,490+', '$468,500', '$468,507', '$468,635', '$468,716', '$468,720', '$468,737', '$468,788', '$468,800', '$468,873', '$468,888', '$468,890', '$468,895', '$468,900', '$468,965', '$468,990', '$468,990+', '$468,999', '$469,000', '$469,001', '$469,045', '$469,300', '$469,315', '$469,350', '$469,375', '$469,410', '$469,419', '$469,432', '$469,475', '$469,490+', '$469,499', '$469,500', '$469,516', '$469,563', '$469,618', '$469,675', '$469,700', '$469,710', '$469,777', '$469,799', '$469,800', '$469,850', '$469,869', '$469,885', '$469,888', '$469,889', '$469,900', '$469,900+', '$469,931', '$469,949', '$469,950', '$469,950+', '$469,962', '$469,969', '$469,973', '$469,990', '$469,990+', '$469,995', '$469,995+', '$469,998', '$469,999', '$47,000', '$47,026', '$47,041', '$47,169', '$47,200', '$47,227', '$47,240', '$47,250', '$47,327', '$47,400', '$47,435', '$47,440', '$47,477', '$47,500', '$47,529', '$47,536', '$47,560', '$47,564', '$47,588', '$47,592', '$47,776', '$47,782', '$47,784', '$47,798', '$47,800', '$47,882', '$47,900', '$47,914', '$47,950', '$47,965', '$47,965+', '$47,990', '$47,995', '$470,000', '$470,000+', '$470,073', '$470,109', '$470,185', '$470,200', '$470,256', '$470,306', '$470,321+', '$470,386', '$470,500', '$470,500+', '$470,540', '$470,557', '$470,590', '$470,729', '$470,799', '$470,889', '$470,900', '$470,915', '$470,933', '$470,980', '$470,990', '$470,990+', '$470,995', '$471,000', '$471,005', '$471,100', '$471,128', '$471,197', '$471,200+', '$471,204', '$471,226', '$471,241', '$471,353', '$471,380', '$471,412', '$471,450', '$471,490', '$471,500', '$471,554', '$471,600+', '$471,649', '$471,660', '$471,746', '$471,781', '$471,785', '$471,790', '$471,821', '$471,867', '$471,900', '$471,900+', '$471,950', '$471,975', '$471,990', '$471,995', '$472,000', '$472,000+', '$472,113', '$472,175', '$472,200', '$472,400', '$472,410', '$472,431', '$472,490', '$472,500', '$472,546', '$472,551', '$472,743', '$472,800', '$472,890', '$472,900', '$472,900+', '$472,915', '$472,925', '$472,969', '$472,990', '$472,990+', '$473,000', '$473,000+', '$473,030', '$473,114', '$473,234', '$473,316', '$473,365', '$473,410', '$473,486', '$473,500', '$473,510', '$473,516', '$473,541', '$473,566', '$473,592', '$473,720', '$473,720+', '$473,800', '$473,857', '$473,900', '$473,900+', '$473,970', '$473,978', '$473,990', '$473,990+', '$473,995+', '$473,999', '$474,000', '$474,099', '$474,100', '$474,109', '$474,111', '$474,225', '$474,245', '$474,250', '$474,271', '$474,300', '$474,320', '$474,400', '$474,430', '$474,450', '$474,490', '$474,497', '$474,500', '$474,531', '$474,534', '$474,537', '$474,627', '$474,700', '$474,720', '$474,777', '$474,785', '$474,788', '$474,800', '$474,880', '$474,888', '$474,900', '$474,900+', '$474,950', '$474,960', '$474,968', '$474,977', '$474,984', '$474,990', '$474,990+', '$474,995', '$474,998', '$474,999', '$475,000', '$475,000+', '$475,023', '$475,100', '$475,165', '$475,200', '$475,234', '$475,247', '$475,281', '$475,500', '$475,500+', '$475,527', '$475,571', '$475,791', '$475,880+', '$475,888', '$475,900', '$475,900+', '$475,926', '$475,945', '$475,985', '$475,990', '$475,990+', '$475,995+', '$475,999', '$476,000', '$476,030', '$476,100', '$476,120', '$476,145', '$476,175', '$476,284', '$476,375', '$476,442', '$476,500', '$476,544', '$476,547', '$476,550', '$476,600', '$476,667', '$476,670', '$476,700', '$476,733', '$476,809', '$476,810', '$476,850', '$476,895', '$476,900', '$476,900+', '$476,950', '$476,990', '$476,990+', '$476,999', '$477,000', '$477,080', '$477,088', '$477,090', '$477,100', '$477,195', '$477,250', '$477,260', '$477,261', '$477,283', '$477,290', '$477,325', '$477,357', '$477,400', '$477,413', '$477,416', '$477,490', '$477,500', '$477,500+', '$477,546', '$477,549', '$477,565', '$477,611', '$477,700', '$477,738', '$477,745', '$477,750', '$477,777', '$477,789', '$477,800', '$477,810', '$477,820', '$477,835', '$477,888', '$477,900', '$477,976', '$477,990', '$477,990+', '$477,995', '$477,995+', '$478,000', '$478,003', '$478,245', '$478,264', '$478,300', '$478,333', '$478,373', '$478,374', '$478,400', '$478,490', '$478,490+', '$478,495', '$478,500', '$478,550', '$478,578', '$478,599', '$478,603', '$478,800', '$478,872', '$478,900', '$478,900+', '$478,917', '$478,973', '$478,985', '$478,990', '$478,990+', '$478,995+', '$478,999', '$479,000', '$479,090', '$479,108', '$479,154', '$479,182', '$479,200', '$479,211', '$479,245', '$479,275', '$479,315', '$479,345', '$479,359', '$479,400', '$479,450', '$479,465', '$479,474', '$479,476', '$479,500', '$479,500+', '$479,519', '$479,550', '$479,600', '$479,640', '$479,642', '$479,723', '$479,750', '$479,762', '$479,800', '$479,837', '$479,888', '$479,900', '$479,900+', '$479,917', '$479,950', '$479,959', '$479,975', '$479,980', '$479,990', '$479,990+', '$479,994', '$479,995', '$479,995+', '$479,999', '$48,000', '$48,000,000', '$48,014', '$48,057+', '$48,060', '$48,074', '$48,100', '$48,114', '$48,135', '$48,165', '$48,182', '$48,183', '$48,245', '$48,250', '$48,266', '$48,300', '$48,400', '$48,405', '$48,440', '$48,458', '$48,470', '$48,500', '$48,500,000', '$48,550', '$48,594', '$48,600', '$48,630', '$48,640', '$48,684', '$48,700', '$48,702', '$48,702+', '$48,710', '$48,732', '$48,740', '$48,741', '$48,748', '$48,750', '$48,780', '$48,800', '$48,816', '$48,817', '$48,856', '$48,880', '$48,900', '$48,920', '$48,925', '$48,944', '$48,950', '$48,981', '$48,995', '$48,998', '$48,999', '$480,000', '$480,000+', '$480,140', '$480,203', '$480,237', '$480,248', '$480,249', '$480,347', '$480,409', '$480,481', '$480,500', '$480,727', '$480,732', '$480,750+', '$480,870', '$480,900', '$480,900+', '$480,902', '$480,922', '$480,947', '$480,976', '$480,988', '$480,990', '$480,990+', '$480,995', '$481,000', '$481,000+', '$481,042', '$481,050', '$481,200', '$481,221', '$481,258', '$481,275', '$481,378', '$481,445', '$481,500', '$481,524', '$481,525', '$481,655', '$481,680', '$481,694', '$481,819', '$481,820', '$481,898', '$481,900', '$481,900+', '$481,913', '$481,915', '$481,929', '$481,941', '$481,950', '$481,990', '$481,990+', '$481,995', '$481,995+', '$481,999', '$482,000', '$482,000+', '$482,104', '$482,125', '$482,154', '$482,209', '$482,252', '$482,300+', '$482,351', '$482,400', '$482,410', '$482,490', '$482,499', '$482,500', '$482,540', '$482,630', '$482,750', '$482,777', '$482,790', '$482,889', '$482,898', '$482,900', '$482,900+', '$482,971', '$482,979', '$482,990+', '$482,995+', '$483,000', '$483,000+', '$483,001', '$483,065', '$483,159', '$483,183', '$483,214', '$483,234', '$483,257', '$483,399', '$483,410', '$483,490', '$483,500', '$483,500+', '$483,532', '$483,595', '$483,700', '$483,825', '$483,833', '$483,840+', '$483,900', '$483,990', '$483,990+', '$483,995', '$483,999', '$484,000', '$484,021', '$484,052', '$484,075', '$484,200', '$484,255', '$484,280', '$484,340', '$484,343+', '$484,490+', '$484,500', '$484,542', '$484,575', '$484,605', '$484,636', '$484,640', '$484,700', '$484,745', '$484,754', '$484,765+', '$484,819', '$484,850', '$484,860', '$484,888', '$484,900', '$484,900+', '$484,930', '$484,945', '$484,950', '$484,972', '$484,990', '$484,990+', '$484,994', '$484,995', '$484,999', '$485,000', '$485,000+', '$485,065', '$485,083', '$485,084', '$485,099', '$485,100', '$485,167', '$485,177', '$485,177+', '$485,199', '$485,217', '$485,300', '$485,450', '$485,500', '$485,555', '$485,636', '$485,711', '$485,777', '$485,787', '$485,815', '$485,830', '$485,834', '$485,877', '$485,900', '$485,900+', '$485,920', '$485,944', '$485,990', '$485,990+', '$485,995', '$485,999', '$486,000', '$486,052', '$486,082', '$486,155', '$486,169', '$486,235', '$486,291', '$486,303', '$486,390', '$486,400', '$486,414', '$486,420', '$486,429', '$486,445', '$486,500', '$486,506', '$486,664', '$486,675', '$486,698', '$486,800', '$486,865', '$486,888', '$486,900', '$486,950', '$486,961', '$486,987', '$486,990', '$486,990+', '$486,995', '$486,995+', '$486,999', '$487,000', '$487,046', '$487,065', '$487,085', '$487,167', '$487,300', '$487,400', '$487,402', '$487,450', '$487,499', '$487,500', '$487,524', '$487,564', '$487,600', '$487,634', '$487,685', '$487,700', '$487,781', '$487,888', '$487,900', '$487,900+', '$487,955', '$487,990', '$487,995', '$487,995+', '$488,000', '$488,151', '$488,162', '$488,264', '$488,369', '$488,375', '$488,453', '$488,462', '$488,490', '$488,500', '$488,600', '$488,693', '$488,700', '$488,715', '$488,750', '$488,771', '$488,800', '$488,880', '$488,888', '$488,900', '$488,900+', '$488,903', '$488,990', '$488,990+', '$488,999', '$489,000', '$489,094', '$489,132', '$489,162', '$489,168', '$489,170', '$489,174', '$489,205', '$489,222', '$489,252', '$489,268+', '$489,291', '$489,297', '$489,300', '$489,339', '$489,351', '$489,400', '$489,412', '$489,450', '$489,487', '$489,490+', '$489,499', '$489,500', '$489,527', '$489,550', '$489,551', '$489,582', '$489,600', '$489,620', '$489,652', '$489,675', '$489,700', '$489,725', '$489,743', '$489,747', '$489,750', '$489,800', '$489,836', '$489,887', '$489,888', '$489,897', '$489,900', '$489,900+', '$489,907', '$489,925', '$489,927', '$489,941', '$489,950', '$489,950+', '$489,961', '$489,984', '$489,990', '$489,990+', '$489,995', '$489,997', '$489,999', '$49,000', '$49,000,000', '$49,057', '$49,113', '$49,125', '$49,139', '$49,182', '$49,183', '$49,200', '$49,260', '$49,337', '$49,400', '$49,455', '$49,499', '$49,500', '$49,500,000', '$49,574', '$49,600', '$49,619', '$49,700', '$49,730', '$49,750', '$49,777', '$49,800', '$49,850', '$49,861', '$49,869', '$49,877', '$49,900', '$49,900+', '$49,900,000', '$49,944', '$49,950', '$49,963', '$49,973', '$49,975', '$49,986', '$49,988', '$49,990', '$49,995', '$49,999', '$490,000', '$490,000+', '$490,025', '$490,025+', '$490,041', '$490,048', '$490,071', '$490,125', '$490,145', '$490,254', '$490,382', '$490,400', '$490,450', '$490,478', '$490,500', '$490,507', '$490,536', '$490,584', '$490,667', '$490,786', '$490,800+', '$490,824', '$490,900', '$490,900+', '$490,920', '$490,975', '$490,990', '$490,990+', '$491,000', '$491,001', '$491,188', '$491,200', '$491,201', '$491,280', '$491,304', '$491,308', '$491,360', '$491,400', '$491,445', '$491,570', '$491,590', '$491,848', '$491,855', '$491,859', '$491,900', '$491,918', '$491,927', '$491,958', '$491,990', '$491,990+', '$491,995', '$491,995+', '$492,000', '$492,026', '$492,027', '$492,099', '$492,099+', '$492,175', '$492,193', '$492,221', '$492,317', '$492,450', '$492,475', '$492,490', '$492,500', '$492,596', '$492,638', '$492,695', '$492,765', '$492,800', '$492,875', '$492,900', '$492,919', '$492,933', '$492,950', '$492,990', '$492,990+', '$492,995', '$492,995+', '$492,999+', '$493,000', '$493,000+', '$493,370', '$493,415', '$493,500', '$493,500+', '$493,580', '$493,800', '$493,860', '$493,900', '$493,900+', '$493,909', '$493,937', '$493,950', '$493,958', '$493,990', '$493,990+', '$493,995+', '$493,999', '$494,000', '$494,010', '$494,089', '$494,092', '$494,106', '$494,244', '$494,300', '$494,346', '$494,400', '$494,452', '$494,470', '$494,500', '$494,583', '$494,698', '$494,700', '$494,741', '$494,800', '$494,800+', '$494,826', '$494,840', '$494,850', '$494,900', '$494,900+', '$494,924', '$494,950', '$494,974', '$494,990', '$494,990+', '$494,995', '$494,995+', '$494,999', '$495,000', '$495,000+', '$495,024', '$495,035', '$495,123', '$495,155', '$495,301', '$495,400', '$495,458', '$495,500', '$495,520', '$495,529', '$495,543', '$495,595', '$495,600', '$495,600+', '$495,775', '$495,800', '$495,850', '$495,875', '$495,877', '$495,900', '$495,900+', '$495,914', '$495,920', '$495,950', '$495,969', '$495,975', '$495,990', '$495,990+', '$495,995+', '$495,999', '$496,000', '$496,037', '$496,089', '$496,200', '$496,298', '$496,375', '$496,390', '$496,461', '$496,480', '$496,500', '$496,542', '$496,630', '$496,648', '$496,777', '$496,860', '$496,871', '$496,880', '$496,880+', '$496,900', '$496,900+', '$496,930', '$496,940+', '$496,947', '$496,950', '$496,950+', '$496,952', '$496,990', '$496,990+', '$496,999', '$497,000', '$497,095', '$497,097', '$497,103', '$497,115', '$497,140', '$497,211', '$497,250', '$497,290', '$497,331', '$497,400', '$497,500', '$497,589', '$497,650', '$497,680', '$497,700', '$497,730', '$497,747', '$497,791', '$497,885', '$497,900', '$497,900+', '$497,917', '$497,921', '$497,931', '$497,950', '$497,990', '$497,990+', '$497,995', '$497,995+', '$498,000', '$498,095', '$498,130', '$498,200', '$498,210', '$498,242', '$498,300', '$498,334', '$498,400', '$498,409', '$498,440', '$498,500', '$498,512', '$498,590', '$498,590+', '$498,636', '$498,688', '$498,695', '$498,700', '$498,750', '$498,800', '$498,846', '$498,888', '$498,894', '$498,900', '$498,900+', '$498,950', '$498,990', '$498,990+', '$498,998', '$498,999', '$499,000', '$499,000+', '$499,007', '$499,025', '$499,044', '$499,056', '$499,095', '$499,100', '$499,155', '$499,175', '$499,200', '$499,297', '$499,306', '$499,316', '$499,369', '$499,400', '$499,450', '$499,500', '$499,520', '$499,522', '$499,525', '$499,590', '$499,634', '$499,700', '$499,746', '$499,750', '$499,770', '$499,775', '$499,777', '$499,800', '$499,802', '$499,850', '$499,859', '$499,875', '$499,888', '$499,899', '$499,900', '$499,900+', '$499,902', '$499,925', '$499,933', '$499,935', '$499,950', '$499,950+', '$499,955', '$499,956', '$499,960', '$499,973', '$499,975', '$499,977', '$499,978', '$499,982', '$499,990', '$499,990+', '$499,991', '$499,994', '$499,995', '$499,995+', '$499,996', '$499,997', '$499,998', '$499,999', '$5,000', '$5,000,000', '$5,000/mo', '$5,042,379', '$5,050,000', '$5,075,000', '$5,090', '$5,095,000', '$5,099', '$5,100', '$5,100,000', '$5,125,000', '$5,145,000', '$5,149,000', '$5,150,000', '$5,163,000', '$5,164,625', '$5,170,000', '$5,175,000', '$5,189,000', '$5,190,000', '$5,195,000', '$5,199,000', '$5,200', '$5,200,000', '$5,210', '$5,214,000', '$5,218', '$5,227,200', '$5,240,000', '$5,250', '$5,250,000', '$5,266,800', '$5,266,800+', '$5,274,443', '$5,275,000', '$5,288,000', '$5,290,000', '$5,291,050', '$5,295,000', '$5,295,000+', '$5,298,000', '$5,299,000', '$5,299,999', '$5,300', '$5,300,000', '$5,300/mo', '$5,312,900', '$5,330,000', '$5,333', '$5,347,000', '$5,349,000', '$5,350', '$5,350,000', '$5,360,000', '$5,375,000', '$5,380,000', '$5,385,000', '$5,390,000', '$5,395,000', '$5,397,000', '$5,398,800', '$5,398,880', '$5,399,999', '$5,400', '$5,400,000', '$5,409', '$5,440,000', '$5,449,000', '$5,450', '$5,450,000', '$5,470,000', '$5,475,000', '$5,482,500', '$5,488,000', '$5,490', '$5,490,000', '$5,492,250', '$5,493,000', '$5,494,999', '$5,495', '$5,495,000', '$5,495,000+', '$5,498,000', '$5,499', '$5,499,000', '$5,499,900', '$5,499,999', '$5,500', '$5,500,000', '$5,500/mo', '$5,505,000', '$5,510,000', '$5,525,000', '$5,538,000', '$5,540,000', '$5,543,000', '$5,549,000', '$5,550,000', '$5,556,970', '$5,557,500', '$5,560,000', '$5,575,000', '$5,580,000', '$5,590,000', '$5,595,000', '$5,599,000', '$5,600', '$5,600,000', '$5,630,000', '$5,630,000+', '$5,648,800', '$5,650,000', '$5,655,000', '$5,675,000', '$5,685,000', '$5,688,000', '$5,690,000', '$5,695,000', '$5,700', '$5,700,000', '$5,700/mo', '$5,707,920', '$5,710,000', '$5,720,000', '$5,725,000', '$5,749,000', '$5,749,500', '$5,750', '$5,750,000', '$5,750,080', '$5,750/mo', '$5,768,700', '$5,775,000', '$5,793,480', '$5,795', '$5,795,000', '$5,799,000', '$5,799,999', '$5,800', '$5,800,000', '$5,850', '$5,850,000', '$5,860,000', '$5,875,000', '$5,875,000+', '$5,880,000', '$5,880,800', '$5,885,000', '$5,888', '$5,895,000', '$5,899,000', '$5,899,995', '$5,900', '$5,900,000', '$5,900/mo', '$5,920,000', '$5,944', '$5,950', '$5,950,000', '$5,950,942', '$5,950/mo', '$5,955,000', '$5,968,000', '$5,975,000', '$5,979,000', '$5,980,000', '$5,985,000', '$5,989,000', '$5,990,000', '$5,995', '$5,995,000', '$5,995,900', '$5,998,000', '$5,999', '$5,999,000', '$5,999,888', '$5,999,900', '$5,999,995', '$5,999,999', '$50,000', '$50,000,000', '$50,045', '$50,050', '$50,051', '$50,053', '$50,100', '$50,124', '$50,130', '$50,150', '$50,160', '$50,300', '$50,400', '$50,401', '$50,418', '$50,419', '$50,419+', '$50,421', '$50,490', '$50,500', '$50,505', '$50,600', '$50,601', '$50,604', '$50,616', '$50,692', '$50,699', '$50,771', '$50,814', '$50,900', '$50,999', '$500', '$500,000', '$500,000+', '$500,021', '$500,139', '$500,180', '$500,204', '$500,226', '$500,281', '$500,318', '$500,452', '$500,457', '$500,528', '$500,582', '$500,602', '$500,699', '$500,740', '$500,743', '$500,749', '$500,777', '$500,859', '$500,877', '$500,900', '$500,900+', '$500,945', '$500,990', '$500,990+', '$501,000', '$501,016', '$501,020', '$501,038', '$501,100', '$501,100+', '$501,204', '$501,358', '$501,545', '$501,558', '$501,610', '$501,630', '$501,635', '$501,640', '$501,761', '$501,837', '$501,900', '$501,969', '$501,980', '$501,990', '$501,990+', '$501,995', '$501,995+', '$502,000', '$502,036', '$502,100', '$502,130', '$502,200', '$502,206', '$502,215', '$502,415', '$502,450', '$502,537', '$502,556', '$502,560', '$502,587', '$502,597', '$502,600+', '$502,618', '$502,653', '$502,700', '$502,720', '$502,721', '$502,778', '$502,800', '$502,900', '$502,900+', '$502,950', '$502,990', '$502,990+', '$502,999', '$502,999+', '$503,000', '$503,047', '$503,085', '$503,101', '$503,250+', '$503,284', '$503,400', '$503,460', '$503,511', '$503,548', '$503,696', '$503,771', '$503,860', '$503,900', '$503,900+', '$503,904', '$503,945', '$503,950', '$503,990', '$503,990+', '$503,995', '$503,995+', '$504,000', '$504,002+', '$504,090', '$504,256', '$504,319', '$504,325', '$504,398', '$504,413', '$504,481', '$504,486', '$504,500', '$504,500+', '$504,537', '$504,655', '$504,758', '$504,860', '$504,869', '$504,900', '$504,900+', '$504,950', '$504,990', '$504,990+', '$504,995', '$504,999', '$505,000', '$505,021', '$505,072', '$505,250', '$505,287', '$505,311', '$505,351', '$505,369', '$505,396', '$505,430', '$505,432', '$505,500', '$505,570', '$505,718', '$505,729', '$505,800', '$505,900', '$505,900+', '$505,916', '$505,987', '$505,990', '$505,990+', '$506,000', '$506,045', '$506,084', '$506,100', '$506,100+', '$506,167', '$506,250', '$506,335', '$506,490+', '$506,525', '$506,569', '$506,610', '$506,744', '$506,756', '$506,800', '$506,878', '$506,891', '$506,900', '$506,906', '$506,990', '$506,990+', '$507,000', '$507,020', '$507,078', '$507,100', '$507,215', '$507,226', '$507,285', '$507,489', '$507,492', '$507,500', '$507,530', '$507,640', '$507,666', '$507,741', '$507,742', '$507,791', '$507,800', '$507,817+', '$507,838', '$507,900', '$507,900+', '$507,950', '$507,990', '$507,990+', '$508,000', '$508,032', '$508,040', '$508,150', '$508,204', '$508,373', '$508,430', '$508,459', '$508,490+', '$508,504', '$508,510', '$508,513', '$508,720', '$508,729', '$508,750', '$508,774', '$508,877', '$508,888', '$508,890', '$508,900', '$508,900+', '$508,950', '$508,955', '$508,956', '$508,990+', '$509,000', '$509,085', '$509,088', '$509,315', '$509,330', '$509,376', '$509,400', '$509,458', '$509,463', '$509,490', '$509,500', '$509,515', '$509,525', '$509,573', '$509,583', '$509,590', '$509,725', '$509,746', '$509,779', '$509,888', '$509,900', '$509,900+', '$509,911', '$509,950', '$509,950+', '$509,990', '$509,990+', '$509,995', '$509,995+', '$509,999', '$51,000', '$51,050', '$51,150', '$51,199', '$51,231', '$51,250', '$51,319', '$51,357', '$51,363', '$51,400', '$51,498', '$51,500', '$51,535', '$51,600', '$51,750', '$51,753', '$51,800', '$51,858', '$51,859', '$51,880', '$51,900', '$51,903', '$51,947', '$51,995', '$51,999', '$510,000', '$510,000+', '$510,010', '$510,223', '$510,234', '$510,255', '$510,260', '$510,280', '$510,333', '$510,430', '$510,495', '$510,500', '$510,510', '$510,524', '$510,598', '$510,864', '$510,868', '$510,900', '$510,900+', '$510,950', '$510,990', '$510,990+', '$510,995+', '$510,999', '$511,000', '$511,212', '$511,350', '$511,400', '$511,500', '$511,560', '$511,608', '$511,609', '$511,639', '$511,700', '$511,700+', '$511,734', '$511,749', '$511,780', '$511,835', '$511,900', '$511,929', '$511,990', '$511,990+', '$511,995+', '$512,000', '$512,091', '$512,094', '$512,114', '$512,146', '$512,191', '$512,259', '$512,296', '$512,450', '$512,490', '$512,500', '$512,562', '$512,571', '$512,700', '$512,703', '$512,721', '$512,758', '$512,800', '$512,900', '$512,900+', '$512,950', '$512,990', '$512,990+', '$513,000', '$513,046', '$513,111', '$513,128', '$513,158', '$513,228', '$513,300', '$513,383', '$513,544', '$513,580', '$513,595', '$513,600', '$513,631', '$513,872', '$513,900', '$513,990', '$513,990+', '$513,995', '$513,995+', '$513,999', '$514,000', '$514,023', '$514,183', '$514,213', '$514,347', '$514,412', '$514,444', '$514,479', '$514,500', '$514,525', '$514,604', '$514,695', '$514,700', '$514,780', '$514,842', '$514,879', '$514,880', '$514,880+', '$514,888', '$514,900', '$514,900+', '$514,925', '$514,947', '$514,950', '$514,989', '$514,990', '$514,990+', '$514,995', '$514,995+', '$514,999', '$515,000', '$515,000+', '$515,003', '$515,140', '$515,142', '$515,191', '$515,234', '$515,240', '$515,274', '$515,327', '$515,380', '$515,395', '$515,400', '$515,500', '$515,525', '$515,530', '$515,550', '$515,564', '$515,635', '$515,722', '$515,755', '$515,888', '$515,899', '$515,900', '$515,900+', '$515,915', '$515,950', '$515,950+', '$515,990', '$515,990+', '$516,000', '$516,017', '$516,055', '$516,261', '$516,273', '$516,309', '$516,360', '$516,382', '$516,443', '$516,480', '$516,500', '$516,500+', '$516,513', '$516,515', '$516,536', '$516,600', '$516,750', '$516,750+', '$516,779', '$516,800', '$516,830', '$516,849', '$516,900', '$516,903', '$516,950', '$516,990', '$516,995', '$516,995+', '$517,000', '$517,100', '$517,125', '$517,263', '$517,310', '$517,481', '$517,482', '$517,500', '$517,532', '$517,560', '$517,582', '$517,638', '$517,700', '$517,790', '$517,888', '$517,900', '$517,990', '$517,990+', '$517,995', '$517,996', '$517,998', '$518,000', '$518,080', '$518,185', '$518,222', '$518,250', '$518,300', '$518,491', '$518,500', '$518,500+', '$518,558', '$518,600', '$518,740', '$518,750', '$518,800', '$518,900', '$518,940', '$518,950', '$518,990', '$518,990+', '$518,998', '$518,999', '$519,000', '$519,000+', '$519,023', '$519,036', '$519,088', '$519,222', '$519,448', '$519,500', '$519,537', '$519,600', '$519,605', '$519,624', '$519,670', '$519,700', '$519,750', '$519,755', '$519,800', '$519,804', '$519,850', '$519,900', '$519,950', '$519,960', '$519,988', '$519,989', '$519,990', '$519,990+', '$519,995', '$519,995+', '$519,999', '$52,000', '$52,000,000', '$52,038', '$52,043', '$52,070', '$52,126', '$52,200', '$52,249', '$52,250', '$52,380', '$52,400', '$52,412', '$52,500', '$52,555', '$52,579', '$52,584', '$52,631', '$52,633', '$52,695', '$52,703', '$52,727', '$52,765', '$52,800', '$52,824', '$52,900', '$52,944', '$52,958+', '$52,990', '$52,999', '$520,000', '$520,000+', '$520,031', '$520,110', '$520,111', '$520,154', '$520,169', '$520,200', '$520,273', '$520,368', '$520,381', '$520,393', '$520,423', '$520,514', '$520,617', '$520,716', '$520,760', '$520,781', '$520,800', '$520,801', '$520,866', '$520,900', '$520,965', '$520,990', '$520,990+', '$520,995', '$521,000', '$521,132', '$521,305', '$521,490+', '$521,500', '$521,521', '$521,825', '$521,829', '$521,900', '$521,900+', '$521,940', '$521,950', '$521,972', '$521,976', '$521,990', '$521,990+', '$521,995+', '$522,000', '$522,025', '$522,041', '$522,198', '$522,200', '$522,315', '$522,497', '$522,500', '$522,538', '$522,670', '$522,713', '$522,718', '$522,750+', '$522,880', '$522,880+', '$522,900', '$522,900+', '$522,985', '$522,990', '$522,990+', '$523,000', '$523,119', '$523,189', '$523,215', '$523,226', '$523,250', '$523,255', '$523,274', '$523,310', '$523,343', '$523,459', '$523,499', '$523,500', '$523,528', '$523,600', '$523,641', '$523,671', '$523,900+', '$523,930', '$523,990', '$523,990+', '$523,995', '$523,999', '$524,000', '$524,162', '$524,239', '$524,300', '$524,315', '$524,385', '$524,468', '$524,479', '$524,500', '$524,513', '$524,573', '$524,682', '$524,700', '$524,750', '$524,756', '$524,800', '$524,808', '$524,830', '$524,867', '$524,880', '$524,888', '$524,890', '$524,900', '$524,900+', '$524,942', '$524,950', '$524,950+', '$524,964', '$524,987', '$524,990', '$524,990+', '$524,995', '$524,995+', '$524,999', '$525,000', '$525,000+', '$525,126', '$525,141', '$525,205', '$525,233', '$525,236', '$525,254', '$525,257', '$525,376', '$525,400', '$525,436', '$525,467', '$525,500', '$525,635', '$525,720', '$525,746', '$525,800', '$525,835', '$525,876', '$525,899', '$525,900', '$525,900+', '$525,909', '$525,980', '$525,990', '$525,990+', '$526,000', '$526,009', '$526,022', '$526,056', '$526,094', '$526,176', '$526,226', '$526,239', '$526,240', '$526,266', '$526,267', '$526,316', '$526,380', '$526,442', '$526,447', '$526,474', '$526,524', '$526,570', '$526,699', '$526,757', '$526,757+', '$526,788', '$526,880+', '$526,900', '$526,950', '$526,961', '$526,990', '$526,990+', '$526,999', '$527,000', '$527,062', '$527,076', '$527,100', '$527,103', '$527,103+', '$527,104', '$527,181', '$527,194', '$527,267', '$527,357', '$527,374', '$527,393', '$527,400', '$527,500', '$527,600', '$527,630', '$527,700', '$527,800+', '$527,867', '$527,870', '$527,880+', '$527,900', '$527,900+', '$527,934', '$527,940', '$527,950', '$527,988', '$527,990', '$527,990+', '$527,995+', '$528,000', '$528,103', '$528,148', '$528,243', '$528,300', '$528,333', '$528,356', '$528,360', '$528,421', '$528,442', '$528,466', '$528,500', '$528,552', '$528,613', '$528,800', '$528,888', '$528,900', '$528,900+', '$528,926', '$528,928', '$528,990', '$528,990+', '$529,000', '$529,000+', '$529,081', '$529,100', '$529,155', '$529,221', '$529,273', '$529,420', '$529,500', '$529,540', '$529,543', '$529,680', '$529,800', '$529,810', '$529,850', '$529,865', '$529,888', '$529,899', '$529,900', '$529,900+', '$529,944', '$529,950', '$529,975', '$529,988', '$529,990', '$529,990+', '$529,995', '$529,995+', '$529,999', '$53,000', '$53,000,000', '$53,087', '$53,100', '$53,101', '$53,125', '$53,133', '$53,196+', '$53,200', '$53,212', '$53,252', '$53,267', '$53,342', '$53,400', '$53,443', '$53,448', '$53,500', '$53,519', '$53,600', '$53,628', '$53,629', '$53,680', '$53,700', '$53,795', '$53,800', '$53,837', '$53,900', '$53,910', '$53,940', '$53,960', '$530,000', '$530,040', '$530,122', '$530,145', '$530,209', '$530,252', '$530,280', '$530,404', '$530,415', '$530,418', '$530,500+', '$530,523', '$530,587', '$530,590', '$530,600', '$530,627', '$530,733', '$530,837', '$530,839', '$530,900', '$530,900+', '$530,927', '$530,990', '$530,990+', '$530,995', '$531,000', '$531,059', '$531,137', '$531,300', '$531,500', '$531,509', '$531,675', '$531,792', '$531,900', '$531,900+', '$531,931', '$531,943', '$531,950', '$531,990', '$531,990+', '$532,000', '$532,015', '$532,033', '$532,070', '$532,153', '$532,218', '$532,228', '$532,235', '$532,260', '$532,386', '$532,500', '$532,582', '$532,593', '$532,596', '$532,645', '$532,692', '$532,800', '$532,835', '$532,872', '$532,900', '$532,900+', '$532,941', '$532,949', '$532,950', '$532,988', '$532,990', '$532,990+', '$533,000', '$533,034', '$533,110', '$533,171', '$533,229', '$533,275', '$533,500', '$533,527', '$533,600', '$533,605', '$533,625', '$533,627', '$533,750', '$533,795', '$533,800', '$533,832', '$533,888', '$533,900', '$533,950', '$533,990', '$533,990+', '$534,000', '$534,000+', '$534,064', '$534,107', '$534,165', '$534,422', '$534,500', '$534,500+', '$534,558', '$534,600', '$534,621', '$534,700', '$534,856', '$534,888', '$534,900', '$534,900+', '$534,917', '$534,945', '$534,950', '$534,985', '$534,990', '$534,990+', '$534,995', '$534,996+', '$534,998', '$534,999', '$535,000', '$535,041', '$535,119', '$535,204', '$535,500', '$535,640', '$535,800', '$535,877', '$535,888', '$535,900', '$535,900+', '$535,941', '$535,985', '$535,990', '$535,990+', '$535,995', '$535,995+', '$535,999', '$536,000', '$536,047', '$536,135', '$536,320', '$536,404', '$536,435', '$536,510', '$536,527', '$536,580', '$536,598', '$536,750', '$536,888', '$536,900', '$536,900+', '$536,990', '$536,990+', '$536,995', '$536,995+', '$536,999', '$537,000', '$537,070', '$537,145', '$537,213', '$537,330', '$537,350', '$537,352', '$537,360', '$537,500', '$537,510', '$537,511', '$537,518', '$537,535', '$537,599', '$537,666', '$537,715', '$537,736', '$537,797', '$537,900', '$537,900+', '$537,952', '$537,990', '$537,990+', '$537,995', '$537,995+', '$538,000', '$538,000+', '$538,117', '$538,225', '$538,234', '$538,283', '$538,331', '$538,350', '$538,500', '$538,500+', '$538,644', '$538,645', '$538,700', '$538,723', '$538,768', '$538,800', '$538,880', '$538,888', '$538,890', '$538,900', '$538,900+', '$538,970', '$538,990', '$538,995', '$538,999', '$539,000', '$539,123', '$539,144', '$539,200', '$539,276', '$539,298', '$539,305', '$539,314', '$539,385', '$539,390', '$539,475', '$539,500', '$539,500+', '$539,565', '$539,573', '$539,623', '$539,648', '$539,652', '$539,700', '$539,730', '$539,750', '$539,777', '$539,869', '$539,888', '$539,895', '$539,899', '$539,900', '$539,935', '$539,950', '$539,950+', '$539,985', '$539,990', '$539,990+', '$539,995', '$539,995+', '$539,999', '$54,000', '$54,000,000', '$54,056', '$54,123', '$54,142', '$54,200', '$54,254', '$54,344', '$54,360', '$54,400', '$54,408', '$54,431', '$54,435', '$54,450', '$54,472', '$54,487', '$54,500', '$54,529', '$54,599', '$54,600', '$54,625', '$54,650', '$54,684', '$54,700', '$54,720', '$54,735', '$54,750', '$54,799', '$54,800', '$54,837', '$54,885', '$54,900', '$54,928', '$54,936', '$54,950', '$54,963', '$54,983', '$54,988', '$54,990', '$54,995', '$54,999', '$540,000', '$540,000+', '$540,009', '$540,023', '$540,050', '$540,079', '$540,131', '$540,193', '$540,461', '$540,510', '$540,705', '$540,725', '$540,727', '$540,790', '$540,800', '$540,800+', '$540,900', '$540,900+', '$540,909', '$540,990', '$540,990+', '$540,995', '$540,999+', '$541,000', '$541,021', '$541,244', '$541,300+', '$541,337', '$541,386', '$541,490', '$541,517', '$541,562', '$541,669', '$541,712', '$541,800', '$541,900', '$541,900+', '$541,950', '$541,990', '$541,990+', '$542,000', '$542,118', '$542,252', '$542,300', '$542,325', '$542,350', '$542,361', '$542,500', '$542,550', '$542,859', '$542,900', '$542,900+', '$542,939', '$542,940', '$542,990', '$542,990+', '$542,995', '$542,995+', '$543,000', '$543,099', '$543,123', '$543,137', '$543,243', '$543,270', '$543,420', '$543,490', '$543,496', '$543,500', '$543,622', '$543,700', '$543,850', '$543,900', '$543,900+', '$543,917', '$543,943', '$543,990', '$543,990+', '$543,995', '$544,000', '$544,145', '$544,215', '$544,292', '$544,340', '$544,400', '$544,442', '$544,500', '$544,710', '$544,769', '$544,800', '$544,810', '$544,888', '$544,895', '$544,900', '$544,900+', '$544,936', '$544,950', '$544,989', '$544,990', '$544,990+', '$544,995', '$544,998', '$544,999', '$545,000', '$545,000+', '$545,097', '$545,125', '$545,136', '$545,376', '$545,378', '$545,381', '$545,500', '$545,508', '$545,593', '$545,605', '$545,700', '$545,799', '$545,832', '$545,856', '$545,900', '$545,917', '$545,950', '$545,990', '$545,995', '$545,999', '$546,000', '$546,070', '$546,141', '$546,195', '$546,211', '$546,212', '$546,295', '$546,436+', '$546,473', '$546,571', '$546,704', '$546,787', '$546,884', '$546,900', '$546,900+', '$546,905', '$546,990', '$546,990+', '$546,995', '$547,000', '$547,048', '$547,064', '$547,200', '$547,204', '$547,274', '$547,350', '$547,400', '$547,450', '$547,484', '$547,485', '$547,500', '$547,517', '$547,534', '$547,640', '$547,777', '$547,785', '$547,800', '$547,900', '$547,900+', '$547,904', '$547,939', '$547,990', '$547,990+', '$547,995+', '$547,999', '$548,000', '$548,000+', '$548,060', '$548,284', '$548,300', '$548,444', '$548,475', '$548,495', '$548,500', '$548,577', '$548,626', '$548,642', '$548,679', '$548,720', '$548,749', '$548,750', '$548,763', '$548,800', '$548,810', '$548,836', '$548,880', '$548,888', '$548,900', '$548,950', '$548,990', '$548,995', '$548,999', '$549,000', '$549,001', '$549,080', '$549,200', '$549,239', '$549,336', '$549,354', '$549,400', '$549,418', '$549,440', '$549,462', '$549,463', '$549,489', '$549,498', '$549,500', '$549,502', '$549,555', '$549,638', '$549,689', '$549,700', '$549,706', '$549,750', '$549,800', '$549,829', '$549,876', '$549,888', '$549,890', '$549,899', '$549,900', '$549,900+', '$549,911', '$549,917', '$549,940', '$549,945', '$549,950', '$549,950+', '$549,971', '$549,975', '$549,988', '$549,990', '$549,990+', '$549,994', '$549,995', '$549,995+', '$549,996+', '$549,998', '$549,999', '$55,000', '$55,000,000', '$55,004', '$55,014', '$55,149', '$55,216', '$55,225', '$55,250', '$55,305', '$55,309', '$55,400', '$55,419', '$55,440', '$55,500', '$55,538', '$55,573', '$55,600', '$55,657', '$55,671', '$55,685', '$55,700', '$55,707', '$55,710', '$55,724', '$55,728', '$55,767', '$55,800', '$55,801', '$55,843', '$55,865', '$55,893', '$55,900', '$55,950', '$550,000', '$550,000+', '$550,069', '$550,490+', '$550,500', '$550,660', '$550,711', '$550,865', '$550,888', '$550,900', '$550,900+', '$550,940', '$550,941', '$550,950', '$550,964', '$550,990', '$550,990+', '$550,999', '$551,000', '$551,107', '$551,200', '$551,377', '$551,500', '$551,685', '$551,820', '$551,842', '$551,900', '$551,900+', '$551,990', '$551,990+', '$552,000', '$552,100', '$552,115', '$552,314', '$552,350', '$552,497', '$552,500', '$552,502', '$552,502+', '$552,506', '$552,590', '$552,751', '$552,810', '$552,900', '$552,937', '$552,950', '$552,990', '$552,990+', '$553,000', '$553,055', '$553,114', '$553,350', '$553,351', '$553,370', '$553,486', '$553,500', '$553,541', '$553,696', '$553,708', '$553,757', '$553,800', '$553,900', '$553,900+', '$553,973', '$553,990', '$553,995+', '$554,000', '$554,008', '$554,017', '$554,036', '$554,300', '$554,307', '$554,500', '$554,559', '$554,810', '$554,871', '$554,900', '$554,900+', '$554,917', '$554,940', '$554,950', '$554,954', '$554,959', '$554,990', '$554,990+', '$554,995', '$554,998', '$554,999', '$555,000', '$555,070', '$555,270', '$555,295', '$555,300', '$555,370', '$555,500', '$555,502', '$555,555', '$555,561', '$555,596', '$555,599', '$555,703', '$555,750', '$555,810', '$555,854', '$555,888', '$555,900', '$555,900+', '$555,937', '$555,963', '$555,990', '$555,990+', '$555,993', '$556,000', '$556,051', '$556,160', '$556,261', '$556,291', '$556,300', '$556,380', '$556,400', '$556,420', '$556,640', '$556,789', '$556,837', '$556,891', '$556,900', '$556,950', '$556,990', '$556,990+', '$556,995', '$557,000', '$557,094', '$557,195', '$557,225', '$557,245', '$557,400', '$557,438', '$557,450', '$557,491', '$557,500', '$557,517', '$557,550', '$557,669', '$557,750', '$557,760', '$557,784', '$557,837', '$557,900', '$557,900+', '$557,903', '$557,990', '$558,000', '$558,000+', '$558,015', '$558,031', '$558,080', '$558,203', '$558,249', '$558,300', '$558,360', '$558,500', '$558,502', '$558,597', '$558,600', '$558,600+', '$558,700', '$558,766', '$558,800', '$558,900', '$558,950+', '$558,954', '$558,990', '$558,990+', '$559,000', '$559,000+', '$559,160', '$559,234', '$559,243', '$559,250', '$559,340', '$559,481', '$559,500', '$559,575', '$559,670', '$559,719', '$559,794', '$559,800', '$559,880+', '$559,888', '$559,890', '$559,900', '$559,900+', '$559,913', '$559,950', '$559,955', '$559,965', '$559,978', '$559,990', '$559,990+', '$559,993', '$559,995', '$559,995+', '$559,999', '$56,000', '$56,000,000', '$56,033', '$56,049', '$56,065', '$56,069', '$56,081', '$56,120', '$56,144', '$56,152', '$56,196', '$56,200', '$56,236', '$56,250', '$56,274', '$56,352', '$56,400', '$56,404', '$56,430', '$56,456', '$56,492', '$56,500', '$56,501', '$56,523', '$56,543', '$56,555', '$56,589', '$56,607', '$56,650', '$56,658', '$56,700', '$56,733', '$56,750', '$56,765', '$56,780', '$56,800', '$56,810', '$56,820', '$56,831', '$56,900', '$56,907', '$56,917', '$56,942', '$56,950', '$56,995', '$56,995+', '$56,999', '$560,000', '$560,000+', '$560,164', '$560,270', '$560,290', '$560,319', '$560,394', '$560,460', '$560,460+', '$560,499', '$560,695', '$560,700', '$560,833', '$560,870', '$560,874', '$560,900', '$560,900+', '$560,917', '$560,940', '$560,964', '$560,990', '$560,990+', '$561,000', '$561,107', '$561,120', '$561,250', '$561,325', '$561,334', '$561,437', '$561,468', '$561,686', '$561,750', '$561,861', '$561,900', '$561,900+', '$561,950', '$561,952', '$561,990', '$561,990+', '$561,995', '$561,995+', '$562,000', '$562,029', '$562,057', '$562,132', '$562,387', '$562,469', '$562,500', '$562,728', '$562,829', '$562,850', '$562,864', '$562,900', '$562,990', '$562,990+', '$562,995', '$562,995+', '$563,000', '$563,013', '$563,100+', '$563,215', '$563,309', '$563,343', '$563,374', '$563,472', '$563,500', '$563,550', '$563,663', '$563,746', '$563,750', '$563,825', '$563,892', '$563,900', '$563,920', '$563,925', '$563,935', '$563,982', '$563,990+', '$564,000', '$564,020', '$564,029', '$564,304', '$564,389', '$564,452', '$564,494', '$564,495', '$564,500', '$564,521', '$564,622', '$564,637', '$564,703', '$564,712', '$564,794', '$564,800', '$564,850', '$564,888', '$564,900', '$564,900+', '$564,950', '$564,990', '$564,990+', '$564,995', '$564,998', '$564,999', '$564,999+', '$565,000', '$565,000+', '$565,073', '$565,105', '$565,210', '$565,230', '$565,278', '$565,400', '$565,500', '$565,500+', '$565,555', '$565,571', '$565,686', '$565,701', '$565,860', '$565,900', '$565,900+', '$565,950', '$565,990', '$565,990+', '$565,995', '$565,999', '$566,000', '$566,109', '$566,279', '$566,400', '$566,400+', '$566,500', '$566,525', '$566,555', '$566,574', '$566,598', '$566,610', '$566,612', '$566,647', '$566,670', '$566,775', '$566,847', '$566,874', '$566,900', '$566,900+', '$566,990', '$566,990+', '$566,995', '$566,995+', '$566,999', '$567,000', '$567,067', '$567,099', '$567,100', '$567,268', '$567,426', '$567,500', '$567,529', '$567,587', '$567,644', '$567,652', '$567,750', '$567,810', '$567,895', '$567,900', '$567,949', '$567,950', '$567,950+', '$567,985', '$567,990+', '$567,995+', '$568,000', '$568,100', '$568,120', '$568,400', '$568,407', '$568,429', '$568,500', '$568,556', '$568,588', '$568,785', '$568,790', '$568,800', '$568,825', '$568,888', '$568,898', '$568,900', '$568,900+', '$568,950', '$568,990', '$568,990+', '$568,995', '$568,998', '$568,999', '$569,000', '$569,000+', '$569,007', '$569,050', '$569,065', '$569,235', '$569,317', '$569,400', '$569,490', '$569,500', '$569,507', '$569,522', '$569,600', '$569,643', '$569,647', '$569,700', '$569,727', '$569,777+', '$569,800', '$569,876', '$569,888', '$569,900', '$569,900+', '$569,917', '$569,932', '$569,950', '$569,950+', '$569,974', '$569,988', '$569,990', '$569,990+', '$569,995', '$569,999', '$57,000', '$57,000,000', '$57,027', '$57,036', '$57,067', '$57,075', '$57,106', '$57,225', '$57,255', '$57,285', '$57,286', '$57,289', '$57,321', '$57,401', '$57,500', '$57,581', '$57,600', '$57,625', '$57,666', '$57,677', '$57,700', '$57,750', '$57,753', '$57,765', '$57,767', '$57,790', '$57,800', '$57,888', '$57,900', '$57,987', '$57,990', '$57,995', '$57,998', '$57,999', '$570,000', '$570,000+', '$570,080', '$570,086', '$570,130', '$570,349', '$570,353', '$570,490', '$570,490+', '$570,512', '$570,540', '$570,653', '$570,836', '$570,872', '$570,900', '$570,900+', '$570,929', '$570,990+', '$571,000', '$571,120', '$571,168', '$571,250', '$571,277', '$571,352', '$571,367', '$571,379', '$571,595', '$571,600', '$571,602', '$571,686', '$571,851', '$571,900', '$571,900+', '$571,918', '$571,990', '$571,990+', '$571,995', '$572,000', '$572,200', '$572,232', '$572,400', '$572,410', '$572,500', '$572,574', '$572,625', '$572,664', '$572,800', '$572,815', '$572,900', '$572,900+', '$572,950', '$572,966', '$572,990', '$572,990+', '$573,000', '$573,012', '$573,037', '$573,232', '$573,400', '$573,500', '$573,652', '$573,656', '$573,677', '$573,680', '$573,755', '$573,900', '$573,900+', '$573,995', '$573,999', '$574,000', '$574,059', '$574,099', '$574,200', '$574,239', '$574,264', '$574,346', '$574,400', '$574,463', '$574,489', '$574,500', '$574,500+', '$574,515', '$574,595', '$574,750', '$574,770', '$574,777', '$574,800', '$574,810', '$574,875', '$574,887', '$574,888', '$574,900', '$574,900+', '$574,950', '$574,978', '$574,989', '$574,990', '$574,990+', '$574,995', '$574,996+', '$574,997', '$574,998', '$574,999', '$575,000', '$575,000+', '$575,023', '$575,061', '$575,200', '$575,259', '$575,271', '$575,464', '$575,490+', '$575,498', '$575,500', '$575,700', '$575,772', '$575,859', '$575,860', '$575,888', '$575,900', '$575,900+', '$575,990', '$575,990+', '$575,995+', '$575,999+', '$576,000', '$576,040', '$576,067', '$576,188', '$576,195', '$576,242', '$576,300', '$576,301', '$576,430', '$576,500', '$576,511', '$576,550', '$576,633', '$576,650', '$576,761', '$576,887', '$576,900', '$576,900+', '$576,904', '$576,924', '$576,945', '$576,969', '$576,990', '$576,990+', '$577,000', '$577,069', '$577,085', '$577,165', '$577,180', '$577,310', '$577,321', '$577,350', '$577,380+', '$577,400', '$577,468', '$577,500', '$577,536', '$577,565', '$577,802', '$577,880+', '$577,888', '$577,990', '$577,990+', '$577,995', '$578,000', '$578,097', '$578,200', '$578,400', '$578,492', '$578,500', '$578,573', '$578,618', '$578,888', '$578,900', '$578,900+', '$578,957', '$578,990', '$578,990+', '$578,999', '$579,000', '$579,100', '$579,275', '$579,350', '$579,354', '$579,400', '$579,500', '$579,545', '$579,650', '$579,683', '$579,777', '$579,782', '$579,795', '$579,800', '$579,861', '$579,888', '$579,900', '$579,900+', '$579,919', '$579,950', '$579,950+', '$579,990', '$579,990+', '$579,995', '$579,999', '$58,000', '$58,015', '$58,057', '$58,090', '$58,099', '$58,100', '$58,250', '$58,291', '$58,300', '$58,306', '$58,374', '$58,400', '$58,413', '$58,466', '$58,495', '$58,500', '$58,500,000', '$58,512', '$58,550', '$58,586', '$58,599', '$58,609', '$58,700', '$58,706', '$58,750', '$58,764', '$58,795', '$58,800', '$58,832', '$58,858', '$58,871', '$58,888', '$58,899', '$58,900', '$58,950', '$58,995', '$58,999', '$580,000', '$580,000+', '$580,010', '$580,037', '$580,219', '$580,305', '$580,500', '$580,565', '$580,650', '$580,789', '$580,900+', '$580,943', '$580,990', '$580,990+', '$580,995', '$580,995+', '$581,000', '$581,094', '$581,109', '$581,250+', '$581,260', '$581,401', '$581,431', '$581,466', '$581,503', '$581,614', '$581,673', '$581,689', '$581,875', '$581,900', '$581,900+', '$581,954', '$581,990', '$581,990+', '$582,000', '$582,100', '$582,222', '$582,276', '$582,307', '$582,487', '$582,500', '$582,595', '$582,623', '$582,654', '$582,750', '$582,776', '$582,857', '$582,900', '$582,900+', '$582,913', '$582,990', '$582,990+', '$582,995', '$582,999', '$583,000', '$583,000+', '$583,034', '$583,082', '$583,315', '$583,320', '$583,500', '$583,577', '$583,620', '$583,625', '$583,770+', '$583,900', '$583,990', '$583,990+', '$583,995', '$583,999', '$584,000', '$584,047', '$584,119', '$584,225', '$584,299', '$584,397', '$584,499', '$584,500', '$584,525', '$584,573', '$584,579', '$584,697', '$584,783', '$584,821', '$584,830', '$584,888', '$584,900', '$584,900+', '$584,910', '$584,950', '$584,950+', '$584,977', '$584,990', '$584,995', '$584,995+', '$584,999', '$585,000', '$585,000+', '$585,037', '$585,164', '$585,187', '$585,200', '$585,250', '$585,483', '$585,500', '$585,681', '$585,781', '$585,789', '$585,820+', '$585,871', '$585,900', '$585,900+', '$585,950', '$585,952', '$585,990', '$585,990+', '$586,000', '$586,117', '$586,122', '$586,300', '$586,395', '$586,458', '$586,500', '$586,550', '$586,586', '$586,900+', '$586,990', '$586,990+', '$587,000', '$587,395', '$587,400', '$587,404', '$587,434', '$587,500', '$587,529', '$587,600', '$587,625', '$587,800', '$587,888', '$587,900', '$587,900+', '$587,950', '$587,990', '$587,990+', '$587,995+', '$588,000', '$588,020', '$588,030', '$588,060', '$588,100+', '$588,114', '$588,125', '$588,157', '$588,400', '$588,500', '$588,505', '$588,588', '$588,663', '$588,794', '$588,800', '$588,888', '$588,900', '$588,900+', '$588,990', '$588,990+', '$589,000', '$589,000+', '$589,022', '$589,030', '$589,082', '$589,092', '$589,253', '$589,264', '$589,277', '$589,296', '$589,365', '$589,400', '$589,402', '$589,450', '$589,500', '$589,586', '$589,628', '$589,677', '$589,699', '$589,700', '$589,707', '$589,750', '$589,777', '$589,800', '$589,880', '$589,888', '$589,900', '$589,900+', '$589,950', '$589,950+', '$589,990', '$589,990+', '$589,995', '$589,998', '$589,999', '$59,000', '$59,000,000', '$59,006', '$59,040', '$59,100', '$59,111', '$59,124', '$59,250', '$59,301', '$59,340', '$59,355', '$59,393', '$59,400', '$59,483', '$59,499', '$59,500', '$59,504', '$59,518', '$59,579+', '$59,597', '$59,600', '$59,667', '$59,691', '$59,700', '$59,715', '$59,750', '$59,765', '$59,800', '$59,881', '$59,888', '$59,899', '$59,900', '$59,900+', '$59,900,000', '$59,925', '$59,950', '$59,975', '$59,980', '$59,989', '$59,990', '$59,993', '$59,995', '$59,995,000', '$59,998', '$59,999', '$590,000', '$590,000+', '$590,468', '$590,490', '$590,490+', '$590,885', '$590,900', '$590,900+', '$590,914', '$590,950', '$590,990', '$590,990+', '$590,995', '$591,001', '$591,140', '$591,208', '$591,236', '$591,256', '$591,331', '$591,332', '$591,465', '$591,500', '$591,548', '$591,750', '$591,800', '$591,820', '$591,875', '$591,950+', '$591,990', '$591,990+', '$591,995+', '$592,000', '$592,071', '$592,088', '$592,093', '$592,119', '$592,188', '$592,416', '$592,500', '$592,518', '$592,563', '$592,570', '$592,785', '$592,808', '$592,866', '$592,888', '$592,900', '$592,900+', '$592,932', '$592,990', '$592,990+', '$592,995+', '$593,000', '$593,000+', '$593,010', '$593,026', '$593,094', '$593,250', '$593,350', '$593,485', '$593,583', '$593,728', '$593,870', '$593,890', '$593,900', '$593,900+', '$593,990', '$593,990+', '$593,995', '$594,000', '$594,000+', '$594,068', '$594,280', '$594,345', '$594,397', '$594,463', '$594,465', '$594,500', '$594,552', '$594,700', '$594,730', '$594,762', '$594,820', '$594,862', '$594,891', '$594,900', '$594,900+', '$594,950', '$594,950+', '$594,990', '$594,990+', '$594,995', '$594,995+', '$594,998', '$594,999', '$595,000', '$595,000+', '$595,100', '$595,123', '$595,182', '$595,360', '$595,459', '$595,485', '$595,500', '$595,543', '$595,595', '$595,636', '$595,668', '$595,700', '$595,782', '$595,799', '$595,800', '$595,888', '$595,900', '$595,900+', '$595,902', '$595,944', '$595,950', '$595,990', '$595,990+', '$595,999', '$596,000', '$596,100', '$596,193', '$596,200', '$596,250', '$596,461', '$596,500', '$596,604', '$596,800', '$596,900', '$596,900+', '$596,990', '$596,995', '$597,000', '$597,076', '$597,100', '$597,229', '$597,400', '$597,450', '$597,485', '$597,500', '$597,644', '$597,691', '$597,700', '$597,755', '$597,777', '$597,800', '$597,900', '$597,900+', '$597,990', '$597,990+', '$598,000', '$598,004', '$598,361', '$598,500', '$598,540', '$598,580', '$598,600', '$598,672', '$598,700', '$598,800', '$598,850', '$598,857', '$598,888', '$598,900', '$598,900+', '$598,990', '$598,990+', '$598,999', '$599,000', '$599,000+', '$599,010', '$599,200', '$599,218', '$599,220', '$599,263', '$599,269', '$599,300', '$599,303', '$599,400', '$599,430', '$599,500', '$599,555', '$599,688', '$599,690', '$599,700', '$599,760', '$599,770', '$599,777', '$599,799', '$599,800', '$599,821', '$599,850', '$599,880', '$599,888', '$599,890', '$599,899', '$599,900', '$599,900+', '$599,916', '$599,945', '$599,946', '$599,950', '$599,950+', '$599,965', '$599,975', '$599,977', '$599,988', '$599,990', '$599,990+', '$599,995', '$599,995+', '$599,998', '$599,999', '$599,999+', '$6,000', '$6,000,000', '$6,000/mo', '$6,039,324', '$6,050,000', '$6,075,000', '$6,077,000', '$6,079,000', '$6,090,700', '$6,095,000', '$6,100', '$6,100,000', '$6,107,310', '$6,150', '$6,150,000', '$6,190,000', '$6,195,000', '$6,198,000', '$6,199,000', '$6,200', '$6,200,000', '$6,200/mo', '$6,222', '$6,224,710', '$6,235,000', '$6,245,000', '$6,249,000', '$6,250', '$6,250,000', '$6,275', '$6,280,000', '$6,285,000', '$6,290,000', '$6,295,000', '$6,297,888', '$6,299,999', '$6,300', '$6,300,000', '$6,325,000', '$6,350,000', '$6,354,750', '$6,360,000', '$6,372,828', '$6,375,000', '$6,390,000', '$6,390/mo', '$6,395,000', '$6,400', '$6,400,000', '$6,449,000', '$6,450,000', '$6,475,000', '$6,479,000', '$6,480,000', '$6,485,000', '$6,490', '$6,490,000', '$6,495', '$6,495,000', '$6,498,000', '$6,499', '$6,499,000', '$6,499,900', '$6,500', '$6,500,000', '$6,500/mo', '$6,502', '$6,512', '$6,550', '$6,550,000', '$6,574,750', '$6,579,000', '$6,595,000', '$6,599,000', '$6,600', '$6,600,000', '$6,600,000+', '$6,650,000', '$6,684,000', '$6,684,090', '$6,690,000', '$6,695,000', '$6,695,000+', '$6,699,000', '$6,699,999', '$6,700', '$6,700,000', '$6,706', '$6,715', '$6,743,785', '$6,745,000', '$6,748,950', '$6,750', '$6,750,000', '$6,750,111', '$6,750,990', '$6,755,000', '$6,780,000', '$6,788,800', '$6,790', '$6,790,000', '$6,795,000', '$6,799,000', '$6,800', '$6,800,000', '$6,825,852', '$6,826', '$6,850', '$6,850,000', '$6,875', '$6,875,000', '$6,875,990', '$6,885,000', '$6,888', '$6,890', '$6,890,000', '$6,890,900', '$6,895,000', '$6,898,000', '$6,899,000', '$6,900', '$6,900,000', '$6,900/mo', '$6,930,000', '$6,945,000', '$6,950', '$6,950,000', '$6,950/mo', '$6,956', '$6,960,000', '$6,975,000', '$6,980,000', '$6,988,000', '$6,989,000', '$6,990', '$6,990,000', '$6,992,000', '$6,993,000', '$6,995', '$6,995,000', '$6,995,000+', '$6,995/mo', '$6,997,000', '$6,998,000', '$6,998,230', '$6,999', '$6,999,000', '$6,999,500', '$6,999,999', '$60,000', '$60,000,000', '$60,168', '$60,225', '$60,246', '$60,300', '$60,331', '$60,351', '$60,363', '$60,500', '$60,644', '$60,671', '$60,697', '$60,700', '$60,778', '$60,786', '$60,800', '$60,900', '$60,917', '$60,928', '$60,979', '$600', '$600,000', '$600,008', '$600,050', '$600,059', '$600,099', '$600,270', '$600,409', '$600,447', '$600,490+', '$600,586', '$600,600', '$600,700', '$600,900', '$600,900+', '$600,950+', '$600,990', '$600,990+', '$600/mo', '$601,031', '$601,144', '$601,500', '$601,599', '$601,631', '$601,900', '$601,950', '$601,972', '$601,990', '$601,990+', '$601,995', '$601,995+', '$602,000', '$602,000+', '$602,250', '$602,368', '$602,466', '$602,500', '$602,500+', '$602,757', '$602,786', '$602,990', '$602,990+', '$602,995+', '$602,999', '$603,000', '$603,137', '$603,176', '$603,230', '$603,313', '$603,474', '$603,500', '$603,570', '$603,732', '$603,756', '$603,900+', '$603,950', '$603,990', '$603,990+', '$604,000', '$604,060', '$604,200', '$604,490', '$604,500', '$604,546', '$604,621', '$604,644', '$604,821', '$604,900', '$604,900+', '$604,935', '$604,950', '$604,990', '$604,990+', '$604,999', '$605,000', '$605,000+', '$605,032', '$605,180', '$605,260', '$605,474', '$605,490', '$605,496', '$605,510', '$605,545', '$605,564', '$605,578', '$605,584', '$605,680', '$605,700', '$605,773', '$605,829', '$605,900', '$605,900+', '$605,953', '$605,990', '$605,990+', '$606,355', '$606,500+', '$606,519', '$606,590', '$606,800', '$606,827', '$606,900+', '$606,915', '$606,950', '$606,990', '$606,990+', '$607,000', '$607,242', '$607,500', '$607,500+', '$607,581', '$607,599', '$607,771', '$607,791', '$607,860', '$607,880', '$607,900', '$607,973', '$607,990', '$607,991', '$607,995', '$608,000', '$608,057', '$608,137', '$608,240', '$608,300', '$608,362', '$608,500', '$608,663', '$608,673', '$608,820', '$608,880', '$608,880+', '$608,888', '$608,900', '$608,990', '$608,990+', '$608,995', '$609,000', '$609,242', '$609,449', '$609,476', '$609,499', '$609,500', '$609,640', '$609,669', '$609,675', '$609,800', '$609,817', '$609,850', '$609,900', '$609,950', '$609,950+', '$609,980', '$609,988', '$609,990', '$609,999', '$61,000', '$61,050', '$61,052', '$61,100', '$61,200', '$61,347', '$61,400', '$61,500', '$61,536', '$61,557', '$61,600', '$61,605', '$61,615', '$61,620', '$61,625', '$61,699', '$61,733', '$61,750', '$61,789', '$61,800', '$61,824', '$61,900', '$61,970', '$610,000', '$610,000+', '$610,091', '$610,152', '$610,500', '$610,790', '$610,795+', '$610,800', '$610,809', '$610,940', '$610,987', '$610,990', '$610,990+', '$610,992', '$611,000', '$611,016', '$611,095', '$611,400', '$611,426', '$611,510', '$611,582', '$611,630', '$611,726', '$611,880+', '$611,900', '$611,900+', '$611,909', '$611,950', '$611,970', '$611,990', '$611,990+', '$612,000', '$612,028', '$612,037', '$612,190', '$612,197', '$612,278', '$612,350', '$612,500', '$612,500+', '$612,724', '$612,750', '$612,900', '$612,902', '$612,941', '$612,944', '$612,990', '$612,990+', '$612,995+', '$613,000', '$613,000+', '$613,181', '$613,500', '$613,526', '$613,618', '$613,640', '$613,794', '$613,800', '$613,990', '$613,990+', '$613,993', '$613,996', '$614,000', '$614,000+', '$614,010', '$614,200', '$614,365', '$614,453', '$614,514', '$614,680', '$614,700', '$614,750', '$614,795', '$614,800', '$614,900', '$614,950', '$614,950+', '$614,990', '$614,990+', '$614,999', '$615,000', '$615,041', '$615,061', '$615,177', '$615,256', '$615,272', '$615,280', '$615,281', '$615,402', '$615,500', '$615,550', '$615,667', '$615,716', '$615,800', '$615,900', '$615,954', '$615,990', '$615,990+', '$615,995', '$615,999', '$616,000', '$616,001', '$616,340', '$616,400', '$616,422', '$616,600', '$616,626', '$616,722', '$616,808', '$616,900', '$616,900+', '$616,917', '$616,950', '$616,990', '$617,000', '$617,054', '$617,130', '$617,175', '$617,218', '$617,272', '$617,329', '$617,500', '$617,503', '$617,681', '$617,750', '$617,900', '$617,900+', '$617,990', '$617,990+', '$617,995+', '$618,000', '$618,100', '$618,290', '$618,500', '$618,711', '$618,741', '$618,756', '$618,800', '$618,880', '$618,888', '$618,900', '$618,988', '$618,990', '$618,993', '$618,998', '$618,999', '$619,000', '$619,000+', '$619,100', '$619,100+', '$619,120', '$619,200', '$619,500', '$619,500+', '$619,700', '$619,800', '$619,827', '$619,855', '$619,880', '$619,888', '$619,900', '$619,900+', '$619,950', '$619,954', '$619,962', '$619,980', '$619,990', '$619,990+', '$619,995+', '$619,999', '$62,000', '$62,021', '$62,022', '$62,032', '$62,083', '$62,100', '$62,145', '$62,203', '$62,208', '$62,251', '$62,281', '$62,335', '$62,370', '$62,379', '$62,382', '$62,384', '$62,400', '$62,412', '$62,433', '$62,435', '$62,453', '$62,496', '$62,500', '$62,578', '$62,600', '$62,666', '$62,687', '$62,700', '$62,794', '$62,800', '$62,814', '$62,838', '$62,899+', '$62,900', '$62,928', '$62,950', '$62,952', '$62,995', '$620,000', '$620,100', '$620,209', '$620,212', '$620,490+', '$620,500', '$620,548', '$620,560', '$620,578', '$620,666', '$620,900', '$620,900+', '$620,990', '$620,990+', '$621,000', '$621,345', '$621,792', '$621,794', '$621,865', '$621,873', '$621,900', '$621,990', '$621,995', '$621,995+', '$622,000', '$622,250', '$622,439', '$622,450', '$622,500', '$622,545', '$622,590+', '$622,637', '$622,791', '$622,900', '$622,900+', '$622,990', '$622,995', '$622,999', '$623,000', '$623,101', '$623,154', '$623,200', '$623,230', '$623,274', '$623,279', '$623,400', '$623,609', '$623,750', '$623,809', '$623,889', '$623,900', '$623,900+', '$623,950', '$623,963', '$623,990', '$623,990+', '$623,998', '$624,000', '$624,000+', '$624,388', '$624,490', '$624,500', '$624,580', '$624,681', '$624,691', '$624,700', '$624,741', '$624,762', '$624,775', '$624,788', '$624,800', '$624,805', '$624,880', '$624,900', '$624,900+', '$624,907', '$624,942', '$624,950', '$624,965', '$624,970', '$624,990', '$624,990+', '$624,995', '$624,995+', '$624,999', '$625,000', '$625,000+', '$625,037', '$625,261', '$625,309', '$625,345', '$625,374', '$625,384', '$625,450', '$625,567', '$625,590+', '$625,750', '$625,900', '$625,930', '$625,940', '$625,949', '$625,980', '$625,990', '$625,995', '$625,995+', '$626,000', '$626,085', '$626,245', '$626,269', '$626,400', '$626,470', '$626,609', '$626,800', '$626,852+', '$626,888', '$626,900', '$626,936', '$626,940', '$627,000', '$627,000+', '$627,154', '$627,179', '$627,267', '$627,307', '$627,412', '$627,463', '$627,500', '$627,524', '$627,533', '$627,572', '$627,635+', '$627,695', '$627,750', '$627,777', '$627,900', '$627,990', '$627,999', '$628,000', '$628,048', '$628,500', '$628,602', '$628,666', '$628,800', '$628,830', '$628,880', '$628,888', '$628,900', '$628,900+', '$628,962', '$628,990', '$628,990+', '$628,995+', '$628,999', '$629,000', '$629,000+', '$629,084', '$629,107', '$629,150', '$629,200', '$629,333', '$629,450', '$629,500', '$629,617', '$629,664', '$629,800', '$629,880', '$629,888', '$629,900', '$629,900+', '$629,950', '$629,950+', '$629,978', '$629,987', '$629,990', '$629,990+', '$629,995', '$629,999', '$63,000', '$63,000,000', '$63,005+', '$63,050', '$63,093', '$63,134', '$63,154', '$63,198', '$63,250', '$63,270', '$63,276', '$63,280', '$63,280+', '$63,300', '$63,316', '$63,377', '$63,432', '$63,449', '$63,500', '$63,520', '$63,550', '$63,600', '$63,726', '$63,729', '$63,750', '$63,750,000', '$63,787', '$63,796', '$63,800', '$63,815,000', '$63,824', '$63,839', '$63,841', '$63,900', '$63,980', '$63,999', '$630,000', '$630,000+', '$630,026', '$630,029', '$630,090', '$630,190', '$630,242', '$630,275+', '$630,345', '$630,490+', '$630,500', '$630,632', '$630,769', '$630,777', '$630,800', '$630,873', '$630,900', '$630,900+', '$630,990', '$630,990+', '$630,995+', '$631,008', '$631,097', '$631,145', '$631,210', '$631,300', '$631,360', '$631,500', '$631,558', '$631,583', '$631,750', '$631,807', '$631,845', '$631,900', '$631,900+', '$631,970', '$631,990', '$631,990+', '$631,995', '$631,995+', '$631,999', '$632,000', '$632,140', '$632,316', '$632,330', '$632,500', '$632,800', '$632,840', '$632,900', '$632,900+', '$632,990', '$632,990+', '$632,993', '$632,995', '$632,995+', '$633,000', '$633,500', '$633,592', '$633,665', '$633,790', '$633,823', '$633,855', '$633,900', '$633,960', '$633,990', '$633,990+', '$634,000', '$634,000+', '$634,227', '$634,382', '$634,440', '$634,500', '$634,599', '$634,623', '$634,669', '$634,800', '$634,900', '$634,900+', '$634,945', '$634,950', '$634,990', '$634,995', '$634,995+', '$634,998', '$634,999', '$635,000', '$635,002', '$635,100', '$635,128', '$635,150', '$635,211', '$635,274', '$635,500', '$635,577', '$635,670', '$635,800', '$635,900', '$635,940', '$635,990', '$635,990+', '$635,995', '$635,999', '$636,000', '$636,197', '$636,320', '$636,401', '$636,501', '$636,532', '$636,637', '$636,900', '$636,900+', '$636,990', '$636,990+', '$637,000', '$637,020', '$637,128', '$637,164', '$637,168', '$637,259', '$637,400', '$637,412', '$637,418', '$637,445', '$637,500', '$637,620', '$637,714', '$637,816', '$637,840', '$637,888', '$637,900', '$637,950', '$637,990', '$637,990+', '$638,000', '$638,200', '$638,398', '$638,493', '$638,495', '$638,500', '$638,723', '$638,759', '$638,800', '$638,850', '$638,888', '$638,900', '$638,900+', '$638,950', '$638,990', '$638,990+', '$639,000', '$639,079', '$639,100', '$639,103', '$639,148', '$639,205', '$639,243', '$639,452', '$639,499', '$639,500', '$639,755', '$639,800', '$639,850', '$639,888', '$639,900', '$639,900+', '$639,927', '$639,940', '$639,950', '$639,950+', '$639,956', '$639,961', '$639,990', '$639,990+', '$639,995', '$639,995+', '$639,999', '$639,999+', '$64,000', '$64,100', '$64,120', '$64,186', '$64,200', '$64,250', '$64,257', '$64,309', '$64,398', '$64,400', '$64,428', '$64,450', '$64,500', '$64,502', '$64,527', '$64,550', '$64,600', '$64,608', '$64,610', '$64,633', '$64,640', '$64,750', '$64,800', '$64,885', '$64,888', '$64,900', '$64,904', '$64,904+', '$64,923', '$64,930', '$64,931', '$64,948', '$64,950', '$64,990', '$64,993', '$64,997', '$64,999', '$640,000', '$640,000+', '$640,023', '$640,223', '$640,445', '$640,490', '$640,500', '$640,650', '$640,900+', '$640,910', '$640,990', '$641,000', '$641,243', '$641,330', '$641,415', '$641,584', '$641,654', '$641,670', '$641,812', '$641,817', '$641,900', '$641,950', '$641,990', '$641,990+', '$642,000', '$642,184', '$642,300', '$642,500', '$642,545', '$642,567', '$642,670', '$642,733', '$642,900', '$642,917', '$642,949', '$642,950', '$642,990', '$642,990+', '$642,995', '$643,000', '$643,113', '$643,379', '$643,595', '$643,754', '$643,850', '$643,900', '$643,990', '$643,990+', '$643,999', '$644,000', '$644,100', '$644,114', '$644,289', '$644,395', '$644,500', '$644,747', '$644,801', '$644,824', '$644,856', '$644,870', '$644,900', '$644,900+', '$644,950', '$644,963', '$644,990', '$645,000', '$645,000+', '$645,030', '$645,500', '$645,555', '$645,650', '$645,800', '$645,814', '$645,824', '$645,900', '$645,930', '$645,950', '$645,990', '$645,999', '$646,000', '$646,340', '$646,500', '$646,900', '$646,906', '$646,990', '$646,990+', '$647,000', '$647,500', '$647,578', '$647,750', '$647,900', '$647,900+', '$647,990', '$647,999', '$648,000', '$648,000+', '$648,054', '$648,090', '$648,100', '$648,108', '$648,159', '$648,219', '$648,338', '$648,375', '$648,390', '$648,400', '$648,444', '$648,500', '$648,569', '$648,588', '$648,643', '$648,660', '$648,691', '$648,700', '$648,800', '$648,866', '$648,876', '$648,880', '$648,888', '$648,890', '$648,900', '$648,900+', '$648,950', '$648,977', '$648,989', '$648,990', '$649,000', '$649,000+', '$649,029', '$649,053', '$649,056', '$649,164', '$649,244', '$649,333', '$649,367', '$649,379', '$649,440', '$649,455', '$649,456', '$649,469', '$649,500', '$649,511', '$649,557', '$649,600', '$649,632', '$649,633', '$649,637', '$649,700', '$649,750', '$649,777', '$649,800', '$649,850', '$649,888', '$649,897', '$649,899', '$649,900', '$649,900+', '$649,913', '$649,935', '$649,950', '$649,950+', '$649,965', '$649,988', '$649,990', '$649,990+', '$649,995', '$649,995+', '$649,997', '$649,998', '$649,999', '$65,000', '$65,000,000', '$65,035', '$65,046', '$65,048', '$65,134', '$65,138', '$65,202', '$65,250', '$65,285', '$65,400', '$65,450', '$65,454', '$65,459', '$65,494', '$65,500', '$65,521', '$65,525', '$65,532', '$65,637', '$65,660', '$65,700', '$65,702', '$65,740', '$65,742', '$65,743', '$65,777', '$65,793', '$65,838', '$65,875', '$65,899', '$65,900', '$65,928', '$65,966', '$65,966+', '$65,993', '$65,995', '$65,999', '$650,000', '$650,000+', '$650,001', '$650,165', '$650,362', '$650,400', '$650,490+', '$650,657', '$650,763', '$650,798', '$650,832', '$650,900', '$650,900+', '$650,990', '$651,000', '$651,100', '$651,210', '$651,282', '$651,655', '$651,679', '$651,900', '$651,990', '$651,990+', '$651,999', '$652,000', '$652,200', '$652,300', '$652,660', '$652,673', '$652,894', '$652,900', '$652,900+', '$652,982', '$652,990', '$652,990+', '$653,000', '$653,000+', '$653,058', '$653,170', '$653,208', '$653,400', '$653,500', '$653,550', '$653,800', '$653,900', '$653,900+', '$653,963', '$653,990', '$653,995', '$654,000', '$654,065', '$654,280', '$654,500', '$654,505', '$654,575', '$654,600', '$654,655', '$654,770', '$654,800', '$654,845', '$654,900', '$654,900+', '$654,950', '$654,990', '$654,990+', '$654,995+', '$654,999', '$655,000', '$655,165', '$655,350', '$655,415', '$655,500', '$655,583', '$655,695', '$655,725', '$655,878', '$655,880+', '$655,900', '$655,950', '$655,990', '$656,000', '$656,073', '$656,262', '$656,346', '$656,349', '$656,358', '$656,410', '$656,438', '$656,480', '$656,500', '$656,502', '$656,853', '$656,900+', '$656,990', '$657,000', '$657,100', '$657,199', '$657,200', '$657,233', '$657,257', '$657,608', '$657,643', '$657,800', '$657,814', '$657,900', '$658,000', '$658,003', '$658,053', '$658,293', '$658,439', '$658,450', '$658,500', '$658,800', '$658,888', '$658,900', '$658,900+', '$658,950', '$658,990', '$658,990+', '$658,995+', '$658,999', '$659,000', '$659,023', '$659,199', '$659,290', '$659,368', '$659,425', '$659,500', '$659,528', '$659,602', '$659,611', '$659,800', '$659,833', '$659,845', '$659,849', '$659,888', '$659,900', '$659,900+', '$659,930', '$659,950', '$659,950+', '$659,955', '$659,980', '$659,990', '$659,990+', '$659,999', '$66,000', '$66,011', '$66,036', '$66,046', '$66,101', '$66,119', '$66,135', '$66,320+', '$66,330', '$66,355', '$66,371', '$66,400', '$66,422', '$66,451', '$66,500', '$66,518', '$66,569', '$66,572', '$66,643', '$66,645', '$66,711', '$66,719', '$66,723', '$66,723+', '$66,785', '$66,800', '$66,840', '$66,852', '$66,866', '$66,868', '$66,880', '$66,900', '$66,908', '$66,924', '$66,950', '$660,000', '$660,078', '$660,400', '$660,490', '$660,490+', '$660,900', '$660,990', '$661,000', '$661,281', '$661,472', '$661,490+', '$661,500', '$661,590', '$661,670', '$661,900', '$661,900+', '$661,960', '$661,990', '$661,990+', '$662,000', '$662,190', '$662,400', '$662,416', '$662,500', '$662,510', '$662,545', '$662,615', '$662,625', '$662,706', '$662,900+', '$663,000', '$663,201', '$663,265', '$663,347', '$663,745', '$663,800', '$663,900', '$663,904', '$663,918', '$663,990', '$663,995+', '$664,000', '$664,451', '$664,500', '$664,597', '$664,780', '$664,810', '$664,883', '$664,888', '$664,900', '$664,900+', '$664,931', '$664,950', '$664,990', '$664,997', '$664,998', '$664,999', '$665,000', '$665,210', '$665,265', '$665,400', '$665,458', '$665,490', '$665,500', '$665,600', '$665,845', '$665,900', '$665,988', '$665,990', '$665,990+', '$665,995+', '$666,000', '$666,310', '$666,477', '$666,500', '$666,579', '$666,878', '$666,900', '$666,980', '$666,990', '$667,000', '$667,000+', '$667,163', '$667,210', '$667,252', '$667,300', '$667,332', '$667,400', '$667,500', '$667,888', '$667,900', '$667,900+', '$667,990', '$668,000', '$668,008', '$668,060', '$668,500', '$668,528', '$668,600', '$668,700', '$668,730', '$668,789', '$668,794', '$668,800', '$668,813', '$668,880', '$668,888', '$668,900', '$668,919', '$669,000', '$669,000+', '$669,100', '$669,115', '$669,115+', '$669,200', '$669,300', '$669,309', '$669,400', '$669,476', '$669,500', '$669,570', '$669,632', '$669,685', '$669,715', '$669,716', '$669,771', '$669,777', '$669,850', '$669,879', '$669,891', '$669,900', '$669,900+', '$669,950', '$669,990', '$669,990+', '$669,995', '$669,995+', '$669,997', '$669,999', '$67,000', '$67,000,000', '$67,002', '$67,017', '$67,022', '$67,035', '$67,081', '$67,171', '$67,212', '$67,243', '$67,308', '$67,378', '$67,388', '$67,400', '$67,500', '$67,528', '$67,551', '$67,600', '$67,632', '$67,650', '$67,673', '$67,692', '$67,700', '$67,708', '$67,741', '$67,755', '$67,800', '$67,802', '$67,804', '$67,822', '$67,888', '$67,900', '$670,000', '$670,018', '$670,375', '$670,375+', '$670,734', '$670,888', '$670,950', '$670,990', '$670,990+', '$671,000', '$671,056', '$671,440', '$671,600', '$671,799', '$671,970', '$671,990', '$672,000', '$672,171', '$672,463', '$672,500', '$672,800', '$672,863', '$672,890', '$672,894', '$672,900', '$672,916', '$672,950', '$672,955', '$672,990', '$672,990+', '$672,995+', '$672,999', '$673,000', '$673,409', '$673,581', '$673,800', '$673,870', '$673,900', '$673,995+', '$674,000', '$674,076', '$674,275', '$674,475', '$674,500', '$674,690', '$674,700', '$674,709', '$674,777', '$674,800', '$674,888', '$674,900', '$674,900+', '$674,950', '$674,950+', '$674,969', '$674,990', '$674,995', '$674,996', '$674,999', '$675,000', '$675,000+', '$675,023', '$675,068', '$675,190', '$675,228', '$675,279', '$675,346', '$675,555', '$675,900', '$675,900+', '$675,990', '$675,990+', '$676,000', '$676,040', '$676,376+', '$676,389', '$676,437', '$676,598', '$676,660', '$676,715', '$676,800', '$676,900', '$676,950', '$676,990', '$677,000', '$677,176', '$677,500', '$677,551', '$677,815', '$677,834', '$677,867', '$677,874', '$677,905', '$677,924', '$677,990', '$677,995', '$677,995+', '$678,000', '$678,109', '$678,200', '$678,300', '$678,353', '$678,500', '$678,750', '$678,800', '$678,843', '$678,888', '$678,900', '$678,900+', '$678,910', '$678,990', '$678,995', '$678,995+', '$678,999', '$679,000', '$679,200', '$679,210', '$679,250', '$679,321', '$679,346', '$679,400', '$679,500', '$679,580', '$679,679', '$679,750', '$679,850', '$679,862', '$679,873', '$679,880', '$679,888', '$679,897', '$679,900', '$679,940', '$679,950', '$679,988', '$679,990', '$679,995', '$679,999', '$679,999+', '$68,000', '$68,011', '$68,033', '$68,048', '$68,100', '$68,176', '$68,182', '$68,188', '$68,200', '$68,219', '$68,224', '$68,234', '$68,264', '$68,276', '$68,286', '$68,456', '$68,500', '$68,542', '$68,581', '$68,637', '$68,683', '$68,724', '$68,760', '$68,777', '$68,797', '$68,801', '$68,808', '$68,816', '$68,884', '$68,893', '$68,900', '$68,950', '$68,999', '$680,000', '$680,350', '$680,400', '$680,822', '$680,900', '$680,954', '$680,954+', '$680,960', '$681,000', '$681,000+', '$681,310', '$681,599', '$681,801', '$681,950', '$681,974', '$681,990+', '$682,000', '$682,490+', '$682,500', '$682,767', '$682,777', '$682,888', '$682,900+', '$682,950', '$682,990', '$682,999', '$683,000', '$683,287', '$683,349', '$683,401', '$683,785', '$683,883', '$683,933', '$683,990', '$683,995+', '$684,000', '$684,128', '$684,187', '$684,294', '$684,328', '$684,401', '$684,500', '$684,757', '$684,800', '$684,802', '$684,899', '$684,900', '$684,950', '$684,950+', '$684,980', '$684,990', '$685,000', '$685,050', '$685,095', '$685,490+', '$685,500', '$685,875', '$685,900', '$685,950', '$685,969', '$685,990', '$685,990+', '$686,000', '$686,020', '$686,085', '$686,576', '$686,858', '$686,863', '$686,900', '$686,950+', '$686,990', '$687,000', '$687,210', '$687,227', '$687,249', '$687,315', '$687,500', '$687,545', '$687,750', '$687,868', '$687,960', '$687,990', '$687,990+', '$688,000', '$688,044', '$688,360', '$688,465', '$688,476', '$688,500', '$688,777', '$688,800', '$688,834', '$688,880', '$688,888', '$688,900', '$688,995', '$688,995+', '$689,000', '$689,002', '$689,098+', '$689,258', '$689,395', '$689,440', '$689,500', '$689,550', '$689,675', '$689,780', '$689,799', '$689,829', '$689,855', '$689,880', '$689,888', '$689,900', '$689,930', '$689,950', '$689,957', '$689,980', '$689,990', '$689,990+', '$689,999', '$69,000', '$69,002', '$69,018', '$69,037', '$69,110', '$69,111', '$69,132', '$69,137', '$69,204', '$69,210', '$69,300', '$69,312', '$69,336', '$69,399', '$69,400', '$69,500', '$69,518', '$69,526', '$69,583', '$69,600', '$69,615', '$69,638', '$69,694+', '$69,700', '$69,743', '$69,750', '$69,753', '$69,772', '$69,800', '$69,850', '$69,876', '$69,895', '$69,900', '$69,911', '$69,920', '$69,950', '$69,950,000', '$69,975,000', '$69,985', '$69,990', '$69,995', '$69,999', '$690,000', '$690,128', '$690,139', '$690,197', '$690,289', '$690,290', '$690,340', '$690,380', '$690,421', '$690,540', '$690,800', '$690,900', '$690,900+', '$690,990', '$691,000', '$691,222', '$691,308', '$691,400', '$691,490', '$691,492', '$691,500', '$691,600', '$691,786', '$691,891', '$691,980', '$691,995+', '$692,000', '$692,150', '$692,500', '$692,540', '$692,757', '$692,900', '$692,900+', '$692,999', '$693,000', '$693,142', '$693,153', '$693,486', '$693,543', '$693,619', '$693,696', '$693,859', '$693,990', '$693,995', '$693,995+', '$693,999', '$694,000', '$694,170', '$694,200', '$694,289', '$694,300', '$694,500', '$694,880', '$694,900', '$694,900+', '$694,950', '$694,990', '$694,999', '$695,000', '$695,334', '$695,400', '$695,410', '$695,479', '$695,500', '$695,694', '$695,700', '$695,750', '$695,771', '$695,800', '$695,900', '$695,990', '$695,995', '$695,995+', '$696,000', '$696,158', '$696,213', '$696,600', '$696,667', '$696,900', '$696,990', '$696,995', '$697,000', '$697,009', '$697,198', '$697,374', '$697,400', '$697,500', '$697,534', '$697,700', '$697,777', '$697,820', '$697,848', '$697,878', '$697,880', '$697,900', '$697,913', '$697,950', '$697,990+', '$697,995', '$697,995+', '$697,999', '$698,000', '$698,050', '$698,088', '$698,090', '$698,103', '$698,200', '$698,221', '$698,287', '$698,292', '$698,300', '$698,324', '$698,500', '$698,600', '$698,700', '$698,750', '$698,751', '$698,800', '$698,835', '$698,888', '$698,900', '$698,900+', '$698,950', '$698,990', '$698,995', '$698,999', '$699,000', '$699,000+', '$699,011', '$699,026', '$699,136', '$699,151', '$699,450', '$699,499', '$699,500', '$699,547', '$699,600', '$699,653', '$699,685', '$699,686', '$699,700', '$699,750', '$699,800', '$699,880', '$699,880+', '$699,888', '$699,889', '$699,900', '$699,900+', '$699,920', '$699,950', '$699,950+', '$699,960', '$699,988', '$699,990', '$699,994', '$699,995', '$699,997', '$699,998', '$699,999', '$7,000', '$7,000,000', '$7,000/mo', '$7,040,000', '$7,045,000', '$7,050,000', '$7,100', '$7,100,000', '$7,125,000', '$7,148,890', '$7,150,000', '$7,195,000', '$7,200', '$7,200,000', '$7,203,000', '$7,245,000', '$7,249,000', '$7,250', '$7,250,000', '$7,281,500', '$7,284,368', '$7,288,000', '$7,290,000', '$7,295,000', '$7,300', '$7,300,000', '$7,325,000', '$7,340,000', '$7,350,000', '$7,375,000', '$7,375,000+', '$7,380,000', '$7,390,000', '$7,395,000', '$7,400', '$7,400,000', '$7,425,000', '$7,449,000', '$7,450', '$7,450,000', '$7,450,725', '$7,495,000', '$7,499', '$7,499,000', '$7,500', '$7,500,000', '$7,533', '$7,550', '$7,550,000', '$7,580,000', '$7,590', '$7,595,000', '$7,599,000', '$7,600', '$7,600,000', '$7,625,000', '$7,645,000', '$7,645,000+', '$7,650', '$7,650,000', '$7,688,000', '$7,695,000', '$7,700', '$7,700,000', '$7,741,000', '$7,745,000', '$7,750', '$7,750,000', '$7,750,000+', '$7,770,000', '$7,775,000', '$7,777,777', '$7,780,000', '$7,795,000', '$7,800', '$7,800,000', '$7,840', '$7,849,995', '$7,850', '$7,850,000', '$7,855,000', '$7,887,000', '$7,890,000', '$7,895,000', '$7,900', '$7,900,000', '$7,911', '$7,950', '$7,950,000', '$7,950,000+', '$7,965,936', '$7,975,000', '$7,977', '$7,985,000', '$7,988,000', '$7,990', '$7,990,000', '$7,994', '$7,995', '$7,995,000', '$7,999', '$7,999,000', '$7,999,900', '$7,999,999', '$70,000', '$70,018', '$70,061', '$70,074', '$70,078', '$70,081', '$70,111', '$70,185', '$70,198', '$70,297', '$70,300', '$70,350', '$70,352', '$70,354', '$70,357', '$70,357+', '$70,369', '$70,400', '$70,405', '$70,406', '$70,435', '$70,470', '$70,500', '$70,526', '$70,699', '$70,700', '$70,767', '$70,770', '$70,777', '$70,792', '$70,800', '$70,875', '$70,898', '$70,900', '$70,906', '$70,920', '$70,927', '$70,931', '$70,981', '$70,995', '$700', '$700,000', '$700,000+', '$700,038', '$700,319', '$700,490', '$700,490+', '$700,500', '$700,900+', '$700,950', '$700,990', '$700,990+', '$700/mo', '$701,160', '$701,625', '$701,865', '$701,900+', '$701,995+', '$702,395', '$702,434', '$702,672', '$702,715', '$702,883', '$702,935', '$702,990', '$703,000', '$703,500', '$703,502', '$703,540', '$703,714', '$703,788', '$703,839', '$703,990', '$703,990+', '$704,000+', '$704,284', '$704,900', '$704,900+', '$704,950', '$704,999', '$705,000', '$705,000+', '$705,180', '$705,344', '$705,639', '$705,850', '$705,900', '$705,933', '$705,990+', '$705,995+', '$706,000', '$706,281', '$706,313', '$706,550', '$706,950', '$707,000', '$707,162', '$707,223', '$707,303', '$707,525', '$707,581', '$707,608', '$707,790', '$707,850', '$707,900', '$707,955', '$707,999', '$708,000', '$708,990', '$708,998', '$709,000', '$709,403', '$709,500', '$709,843', '$709,900', '$709,900+', '$709,947', '$709,950', '$709,950+', '$709,990', '$709,990+', '$709,995', '$709,999', '$71,000', '$71,071', '$71,072', '$71,075', '$71,092', '$71,100', '$71,118', '$71,200', '$71,201', '$71,223', '$71,241', '$71,250', '$71,278', '$71,324', '$71,393', '$71,400', '$71,405', '$71,424', '$71,433', '$71,436', '$71,443', '$71,500', '$71,519', '$71,525', '$71,532', '$71,680', '$71,700', '$71,751', '$71,777', '$71,840', '$71,855', '$71,858', '$71,900', '$71,918', '$71,995', '$710,000', '$710,000+', '$710,047', '$710,087', '$710,200', '$710,367', '$710,368', '$710,463', '$710,550', '$710,614', '$710,760', '$710,850', '$710,876', '$710,880+', '$710,900+', '$710,995', '$711,000', '$711,785', '$711,900', '$711,900+', '$711,995', '$711,995+', '$712,000', '$712,000+', '$712,180', '$712,333', '$712,418', '$712,490', '$712,500', '$712,502', '$712,814', '$712,815', '$712,915', '$712,915+', '$712,990', '$712,990+', '$712,995', '$712,995+', '$713,000', '$713,310', '$713,455', '$713,570+', '$713,721', '$713,800', '$713,880', '$713,900', '$713,900+', '$713,990', '$713,999', '$714,000', '$714,159', '$714,183', '$714,250', '$714,339', '$714,400', '$714,500', '$714,550', '$714,700', '$714,780', '$714,800', '$714,900', '$714,950', '$714,950+', '$714,990', '$714,990+', '$715,000', '$715,000+', '$715,440', '$715,499', '$715,692', '$715,800', '$715,830', '$715,896', '$715,900', '$715,908', '$715,995', '$716,000', '$716,069', '$716,112', '$716,210', '$716,386', '$716,390', '$716,395', '$716,460', '$716,553', '$716,783', '$716,800', '$716,836', '$716,880', '$716,900', '$716,990', '$716,990+', '$717,000', '$717,151', '$717,229', '$717,235', '$717,290', '$717,379', '$717,740', '$717,790', '$717,856', '$717,900', '$717,990', '$717,990+', '$718,000', '$718,268', '$718,542', '$718,620', '$718,801', '$718,888', '$718,900', '$718,900+', '$718,990', '$718,994', '$718,999', '$719,000', '$719,012', '$719,018', '$719,500', '$719,550', '$719,626', '$719,849', '$719,895', '$719,900', '$719,900+', '$719,950', '$719,990', '$719,998', '$719,999', '$719,999+', '$72,000', '$72,036', '$72,056', '$72,059', '$72,071', '$72,100', '$72,200', '$72,212', '$72,259', '$72,300', '$72,368', '$72,400', '$72,430', '$72,432', '$72,433', '$72,443', '$72,485', '$72,500', '$72,500/mo', '$72,537', '$72,546+', '$72,700', '$72,800', '$72,834', '$72,834+', '$72,891', '$72,900', '$72,920', '$72,990', '$72,995', '$720,000', '$720,000+', '$720,256', '$720,305', '$720,400', '$720,411', '$720,500', '$720,650', '$720,880+', '$720,900', '$720,990', '$721,000', '$721,025', '$721,246', '$721,249', '$721,339', '$721,447', '$721,500', '$721,746', '$721,817', '$721,840', '$721,900', '$721,900+', '$721,990', '$721,995+', '$722,000', '$722,000+', '$722,320', '$722,489', '$722,500', '$722,600', '$722,900', '$722,995', '$723,000', '$723,251', '$723,585', '$723,703', '$723,708', '$723,820', '$723,900+', '$724,000', '$724,223', '$724,340', '$724,453', '$724,500', '$724,760', '$724,800', '$724,876', '$724,880', '$724,888', '$724,897', '$724,900', '$724,900+', '$724,909', '$724,923', '$724,950', '$724,990', '$724,995', '$724,998', '$724,999', '$725,000', '$725,000+', '$725,177', '$725,200', '$725,200+', '$725,268', '$725,290', '$725,290+', '$725,300', '$725,340', '$725,343', '$725,575', '$725,700', '$725,900', '$725,990', '$726,000', '$726,000+', '$726,100', '$726,102', '$726,214', '$726,296', '$726,362', '$726,690', '$726,699', '$726,809', '$726,880', '$726,900', '$726,900+', '$726,990', '$726,995+', '$727,000', '$727,008', '$727,050', '$727,145', '$727,342', '$727,500', '$727,574', '$727,620', '$727,700', '$727,700+', '$727,760', '$727,900', '$727,990', '$727,990+', '$727,995+', '$728,000', '$728,400', '$728,413', '$728,500', '$728,520+', '$728,547', '$728,570', '$728,590', '$728,700', '$728,800', '$728,888', '$728,900', '$728,937', '$729,000', '$729,045', '$729,085', '$729,120', '$729,180', '$729,300', '$729,362', '$729,500', '$729,600', '$729,855', '$729,888', '$729,900', '$729,900+', '$729,950', '$729,950+', '$729,959', '$729,990+', '$729,995', '$729,997', '$729,999', '$73,000', '$73,031', '$73,040', '$73,063', '$73,064', '$73,100', '$73,156', '$73,179', '$73,203', '$73,255', '$73,271', '$73,345', '$73,360', '$73,372', '$73,452', '$73,472', '$73,476', '$73,490', '$73,500', '$73,507', '$73,545', '$73,568', '$73,573', '$73,600', '$73,638', '$73,663', '$73,700', '$73,700+', '$73,745', '$73,757', '$73,800', '$73,805', '$73,839', '$73,888', '$73,900', '$73,949', '$73,950', '$73,958', '$730,000', '$730,000+', '$730,062', '$730,154', '$730,214', '$730,430', '$730,659', '$730,896', '$730,950', '$730,990', '$731,400', '$731,414', '$731,737', '$731,741', '$731,831', '$731,856', '$731,900', '$732,000', '$732,500', '$732,647', '$732,808', '$732,818', '$732,900+', '$732,990', '$732,995', '$733,000', '$733,007', '$733,200', '$733,337', '$733,410', '$733,605', '$733,800', '$733,805', '$733,880', '$733,890', '$733,920', '$733,990', '$734,000', '$734,150', '$734,190', '$734,306', '$734,348', '$734,400', '$734,500', '$734,540', '$734,858', '$734,900', '$734,950', '$734,999', '$735,000', '$735,000+', '$735,038', '$735,184', '$735,194', '$735,500', '$735,853', '$735,900', '$735,990', '$735,995', '$736,000', '$736,200', '$736,333', '$736,342', '$736,510', '$736,555', '$736,645', '$736,685', '$736,740', '$736,858', '$736,990', '$737,000', '$737,468', '$737,499', '$737,500', '$737,681', '$737,777', '$737,900', '$737,990', '$738,000', '$738,450', '$738,500', '$738,772', '$738,780', '$738,800', '$738,850', '$738,888', '$738,900', '$738,992', '$738,999', '$739,000', '$739,015', '$739,300', '$739,390', '$739,500', '$739,888', '$739,900', '$739,900+', '$739,950', '$739,990', '$739,990+', '$739,995+', '$739,999', '$74,000', '$74,013', '$74,137', '$74,170', '$74,200', '$74,228', '$74,250', '$74,258', '$74,283', '$74,293', '$74,320', '$74,400', '$74,419', '$74,466', '$74,500', '$74,650', '$74,662', '$74,700', '$74,721', '$74,751', '$74,760', '$74,770', '$74,777', '$74,796', '$74,800', '$74,805', '$74,812', '$74,828', '$74,900', '$74,920', '$74,950', '$74,970', '$74,988', '$74,990', '$74,995', '$74,999', '$740,000', '$740,000+', '$740,125', '$740,200', '$740,426', '$740,687', '$740,900', '$740,990+', '$740,995', '$741,000', '$741,300', '$741,600', '$741,638', '$741,709', '$741,720', '$741,774', '$741,795', '$741,875', '$741,880', '$741,900+', '$741,918', '$741,990+', '$742,000', '$742,034', '$742,181', '$742,244', '$742,341', '$742,372', '$742,500', '$742,570', '$742,900', '$742,990', '$743,000', '$743,087', '$743,266', '$743,350', '$743,482', '$743,500', '$743,548', '$743,700', '$743,734', '$743,767', '$743,900', '$743,909', '$743,995', '$744,000', '$744,335', '$744,430', '$744,500', '$744,520+', '$744,600+', '$744,700', '$744,746', '$744,852', '$744,900', '$744,950', '$744,990', '$744,990+', '$744,999', '$745,000', '$745,129', '$745,158', '$745,340', '$745,354', '$745,388', '$745,390', '$745,500', '$745,574', '$745,583', '$745,600', '$745,645', '$745,656', '$745,800', '$745,811', '$745,900', '$745,900+', '$745,908', '$745,976', '$745,990', '$745,990+', '$746,000', '$746,074', '$746,111', '$746,160', '$746,500', '$746,765', '$746,800', '$746,900', '$746,950+', '$746,995', '$747,000', '$747,171', '$747,225', '$747,272', '$747,390', '$747,440', '$747,495', '$747,500', '$747,505', '$747,831', '$747,990', '$747,990+', '$748,000', '$748,007', '$748,102', '$748,201', '$748,318', '$748,500', '$748,690', '$748,750', '$748,780', '$748,788', '$748,800', '$748,888', '$748,900', '$748,990', '$748,999', '$749,000', '$749,000+', '$749,276', '$749,394', '$749,400', '$749,465', '$749,500', '$749,550', '$749,700', '$749,800', '$749,825', '$749,850', '$749,880', '$749,888', '$749,899', '$749,900', '$749,900+', '$749,910', '$749,947', '$749,950', '$749,950+', '$749,975', '$749,987', '$749,990', '$749,995', '$749,997', '$749,998', '$749,999', '$75,000', '$75,000,000', '$75,037', '$75,043', '$75,092', '$75,112', '$75,177', '$75,194', '$75,240', '$75,300', '$75,334', '$75,360', '$75,433', '$75,499', '$75,500', '$75,508', '$75,550', '$75,584', '$75,600', '$75,628', '$75,690', '$75,700', '$75,760', '$75,778', '$75,780', '$75,800', '$75,814', '$75,818', '$75,832', '$75,842', '$75,900', '$75,944', '$75,949', '$75,950', '$75,960', '$75,999', '$750', '$750,000', '$750,075', '$750,288', '$750,400+', '$750,411', '$750,500', '$750,888', '$750,900', '$750,900+', '$750,990+', '$750/mo', '$751,000', '$751,040', '$751,349', '$751,354', '$751,426', '$751,525', '$751,565', '$751,579', '$751,995+', '$752,000', '$752,140', '$752,170', '$752,192', '$752,277', '$752,350', '$752,541', '$752,700', '$752,767', '$752,900', '$752,911', '$752,922+', '$752,990', '$753,518', '$753,600', '$753,700', '$753,842', '$753,990+', '$754,000', '$754,301', '$754,369', '$754,452', '$754,615', '$754,900', '$754,950', '$754,960', '$754,990', '$755,000', '$755,111', '$755,140', '$755,156', '$755,181', '$755,481', '$755,497', '$755,500', '$755,669', '$755,800', '$755,806', '$755,910', '$755,945+', '$755,983', '$755,990', '$756,081', '$756,152', '$756,700', '$756,900+', '$756,995', '$757,000', '$757,320', '$757,545', '$757,615', '$757,705', '$757,705+', '$757,800', '$757,858', '$757,986', '$758,000', '$758,064', '$758,118', '$758,199', '$758,209', '$758,300', '$758,430', '$758,490', '$758,740', '$758,800', '$758,880', '$758,880+', '$758,888', '$758,900', '$758,900+', '$758,920', '$758,950', '$759,000', '$759,300', '$759,370', '$759,377', '$759,500', '$759,540', '$759,606', '$759,777', '$759,800', '$759,844', '$759,880', '$759,888', '$759,900', '$759,950', '$759,980', '$759,990', '$759,990+', '$759,995+', '$759,999', '$76,000', '$76,003', '$76,010', '$76,025', '$76,042', '$76,056', '$76,089', '$76,099', '$76,200', '$76,232', '$76,250', '$76,263', '$76,400', '$76,472', '$76,490', '$76,500', '$76,518', '$76,558', '$76,575', '$76,587', '$76,600', '$76,610', '$76,635', '$76,650', '$76,651', '$76,660', '$76,666', '$76,692', '$76,778', '$76,781', '$76,800', '$76,802', '$76,825', '$76,830', '$76,895', '$76,900', '$76,950', '$76,998', '$76,999', '$760,000', '$760,043', '$760,080', '$760,123', '$760,177', '$760,500', '$760,578', '$760,900', '$760,970+', '$761,000', '$761,193', '$761,520+', '$761,840', '$761,900+', '$762,000', '$762,138', '$762,214', '$762,255', '$762,400+', '$762,467', '$762,500', '$762,823', '$762,900', '$763,023+', '$763,278', '$763,464', '$763,523', '$763,588', '$763,758', '$763,850', '$763,900', '$763,965', '$763,990+', '$764,000', '$764,010', '$764,344', '$764,400', '$764,671', '$764,900', '$764,950', '$764,990', '$764,995', '$764,999', '$765,000', '$765,000+', '$765,395', '$765,700', '$765,716', '$765,742', '$765,880', '$765,900', '$765,990', '$766,000', '$766,018', '$766,360', '$766,370', '$766,645', '$766,700', '$766,700+', '$766,950+', '$767,000', '$767,250', '$767,499', '$767,659', '$767,690', '$767,751', '$767,932', '$767,950', '$768,000', '$768,247', '$768,500', '$768,505', '$768,541', '$768,666', '$768,800', '$768,880', '$768,888', '$768,900', '$768,900+', '$768,995', '$769,000', '$769,133', '$769,239', '$769,335', '$769,380', '$769,380+', '$769,500', '$769,527', '$769,696', '$769,800', '$769,850', '$769,876', '$769,888', '$769,895', '$769,900', '$769,900+', '$769,950', '$769,950+', '$769,967', '$769,990', '$769,995', '$769,998', '$769,999', '$77,000', '$77,071', '$77,129', '$77,219', '$77,250', '$77,280', '$77,352', '$77,377', '$77,400', '$77,499', '$77,500', '$77,511', '$77,550', '$77,584', '$77,621', '$77,700', '$77,749', '$77,770', '$77,777', '$77,800', '$77,800+', '$77,832', '$77,833', '$77,888', '$77,899', '$77,900', '$77,902', '$77,929', '$77,950', '$77,999', '$770,000', '$770,000+', '$770,800', '$770,825', '$770,970', '$770,990', '$771,000', '$771,100+', '$772,000', '$772,050', '$772,110', '$772,255', '$772,880', '$772,995+', '$773,000', '$773,142', '$773,287', '$773,477', '$773,500', '$773,571', '$773,656', '$773,695', '$773,780', '$773,816', '$773,856', '$773,889', '$773,900', '$774,000', '$774,000+', '$774,078', '$774,200', '$774,300', '$774,320', '$774,367', '$774,463', '$774,495', '$774,500', '$774,642', '$774,642+', '$774,740', '$774,800', '$774,888', '$774,900', '$774,950', '$774,990', '$774,990+', '$774,995+', '$774,999', '$775,000', '$775,000+', '$775,049', '$775,453', '$775,500', '$775,558', '$775,644', '$775,690', '$775,772', '$775,783', '$775,900', '$775,900+', '$775,950', '$775,972', '$775,990', '$775,990+', '$776,081', '$776,208', '$776,351', '$776,500', '$776,691', '$776,900', '$776,915', '$776,990', '$776,990+', '$777,000', '$777,153', '$777,450+', '$777,477', '$777,589', '$777,655', '$777,669', '$777,717', '$777,777', '$777,995+', '$778,000', '$778,090', '$778,115', '$778,440', '$778,499', '$778,500', '$778,642', '$778,710', '$778,800', '$778,888', '$778,900', '$778,904', '$779,000', '$779,000+', '$779,050', '$779,433', '$779,490', '$779,500', '$779,748', '$779,800', '$779,830', '$779,888', '$779,900', '$779,950', '$779,950+', '$779,959', '$779,977', '$779,980', '$779,990', '$779,990+', '$779,999', '$78,000', '$78,000+', '$78,000,000', '$78,014', '$78,125', '$78,147', '$78,200', '$78,262', '$78,300', '$78,313', '$78,335', '$78,344', '$78,392', '$78,395', '$78,440', '$78,499', '$78,500', '$78,503', '$78,519', '$78,546', '$78,600', '$78,607', '$78,700', '$78,769', '$78,800', '$78,888', '$78,900', '$78,900+', '$78,987', '$78,999', '$780,000', '$780,320', '$780,508', '$780,574', '$780,703', '$780,750', '$780,900', '$780,990', '$781,000', '$781,004', '$781,100', '$781,234', '$781,749', '$781,840', '$781,990', '$781,990+', '$781,995', '$781,995+', '$782,000', '$782,140', '$782,220', '$782,500', '$782,547', '$782,620', '$782,830', '$782,880', '$782,950', '$782,975', '$782,990', '$782,995+', '$783,000', '$783,000+', '$783,368', '$783,500', '$783,663', '$783,675', '$783,726', '$783,756', '$783,763', '$783,900+', '$783,995', '$783,995+', '$784,000', '$784,046', '$784,400', '$784,748', '$784,900', '$784,950', '$784,979', '$784,990', '$784,990+', '$784,995', '$784,995+', '$785,000', '$785,000+', '$785,040', '$785,097', '$785,200', '$785,336', '$785,437', '$785,500', '$785,800', '$785,917', '$785,990+', '$786,000', '$786,013', '$786,200', '$786,497', '$786,500', '$786,670', '$787,000', '$787,130', '$787,133', '$787,500', '$787,532', '$787,601', '$787,700', '$787,900+', '$787,995', '$788,000', '$788,200', '$788,208', '$788,500', '$788,778', '$788,800', '$788,824', '$788,880', '$788,888', '$788,900', '$788,995', '$788,995+', '$789,000', '$789,000+', '$789,123', '$789,386', '$789,428', '$789,500', '$789,800', '$789,888', '$789,890', '$789,900', '$789,900+', '$789,950', '$789,990', '$789,990+', '$789,999', '$79,000', '$79,050', '$79,073', '$79,074', '$79,135', '$79,143', '$79,170', '$79,174', '$79,177', '$79,191', '$79,200', '$79,209', '$79,241', '$79,245', '$79,261', '$79,280', '$79,285', '$79,300', '$79,323', '$79,398', '$79,400', '$79,424', '$79,481', '$79,500', '$79,511', '$79,541', '$79,542', '$79,549', '$79,550', '$79,600', '$79,650', '$79,695', '$79,700', '$79,750', '$79,753', '$79,777', '$79,787', '$79,800', '$79,808', '$79,820', '$79,823', '$79,840', '$79,850', '$79,888', '$79,898', '$79,900', '$79,907', '$79,950', '$79,972', '$79,980', '$79,985', '$79,987', '$79,990', '$79,995', '$79,999', '$790,000', '$790,000+', '$790,398', '$790,500', '$790,600', '$790,800', '$790,924', '$791,000', '$791,160', '$791,220', '$791,625', '$791,950', '$791,990', '$791,990+', '$792,000', '$792,164', '$792,232', '$792,450', '$792,500', '$792,525', '$792,652', '$792,750', '$792,801', '$792,995+', '$793,000', '$793,065', '$793,250', '$793,500', '$793,564', '$793,852', '$794,000', '$794,000+', '$794,482', '$794,500', '$794,800', '$794,850', '$794,880', '$794,900', '$794,900+', '$794,950', '$794,990', '$794,995', '$795,000', '$795,000+', '$795,290', '$795,290+', '$795,400', '$795,500', '$795,557', '$795,700', '$795,712', '$795,900', '$795,950', '$795,990', '$795,990+', '$796,000', '$796,066', '$796,159', '$796,183', '$796,867', '$796,871', '$796,900', '$797,000', '$797,040', '$797,125', '$797,170', '$797,400', '$797,500', '$797,500+', '$797,527', '$797,600', '$797,855', '$797,900', '$797,984', '$797,990', '$798,000', '$798,000+', '$798,250', '$798,300', '$798,490', '$798,500', '$798,517', '$798,777', '$798,800', '$798,876', '$798,888', '$798,900', '$798,935', '$798,990+', '$798,995', '$798,998', '$798,999', '$799,000', '$799,000+', '$799,253', '$799,315', '$799,348', '$799,350', '$799,386', '$799,400', '$799,500', '$799,506', '$799,546', '$799,658', '$799,700', '$799,777', '$799,787', '$799,800', '$799,888', '$799,890', '$799,900', '$799,900+', '$799,950', '$799,951', '$799,960', '$799,975', '$799,988', '$799,990', '$799,990+', '$799,994', '$799,995', '$799,997', '$799,998', '$799,999', '$8,000', '$8,000,000', '$8,006,000', '$8,029,599', '$8,075', '$8,095,000', '$8,095,000+', '$8,100', '$8,100,000', '$8,120,000', '$8,125', '$8,150,000', '$8,175,000', '$8,190,000', '$8,195,000', '$8,199,000', '$8,200', '$8,200,000', '$8,211', '$8,250', '$8,250,000', '$8,281,000', '$8,299,000', '$8,300', '$8,300,000', '$8,324,102', '$8,325,900', '$8,326,000', '$8,340,000', '$8,350,000', '$8,363,520', '$8,375,000', '$8,395,000', '$8,399', '$8,399,000', '$8,400', '$8,400,000', '$8,425', '$8,450', '$8,450,000', '$8,490,000', '$8,495,000', '$8,499', '$8,499,000', '$8,499,900', '$8,499,999', '$8,500', '$8,500,000', '$8,500/mo', '$8,554,000', '$8,565,000', '$8,595,000', '$8,600', '$8,600,000', '$8,625,000', '$8,638', '$8,650', '$8,650,000', '$8,650,000+', '$8,681,290', '$8,695,000', '$8,699,000', '$8,700', '$8,700,000', '$8,700/mo', '$8,745,000', '$8,749,000', '$8,750,000', '$8,780', '$8,795,000', '$8,800', '$8,800,000', '$8,825', '$8,850,000', '$8,880,000', '$8,885,000', '$8,895,000', '$8,900', '$8,900,000', '$8,950', '$8,950,000', '$8,975', '$8,975,000', '$8,990', '$8,990,000', '$8,995', '$8,995,000', '$8,995,990', '$8,998,000', '$8,999', '$8,999,000', '$8,999,990', '$8,999,998', '$8,999,999', '$80,000', '$80,022', '$80,024', '$80,026', '$80,037', '$80,040', '$80,071', '$80,075', '$80,100', '$80,114', '$80,158', '$80,160', '$80,180', '$80,193', '$80,212', '$80,258', '$80,289', '$80,317', '$80,330', '$80,390', '$80,400', '$80,414', '$80,431', '$80,446', '$80,500', '$80,520', '$80,580', '$80,622', '$80,693', '$80,708', '$80,750', '$80,751', '$80,765', '$80,785', '$80,803', '$80,856', '$80,866', '$80,900', '$80,906', '$80,916', '$80,928', '$80,995', '$80,999', '$800', '$800,000', '$800,700', '$800/mo', '$801,140', '$801,211', '$801,500', '$801,591', '$801,686', '$801,740', '$801,759', '$801,990', '$802,000', '$802,325', '$802,389', '$802,900', '$802,995+', '$803,000+', '$803,250', '$803,302', '$803,734', '$803,900', '$803,966', '$804,300', '$804,420', '$804,500', '$804,640', '$804,880+', '$804,900', '$805,000', '$805,658', '$805,900', '$805,900+', '$806,000', '$806,110', '$806,120', '$806,696', '$806,754', '$806,880', '$806,900', '$806,933', '$806,995', '$807,277', '$807,300', '$807,546', '$807,669', '$807,990+', '$808,000', '$808,133', '$808,200', '$808,422', '$808,500', '$808,655', '$808,900+', '$808,969', '$809,000', '$809,000+', '$809,276', '$809,648', '$809,880', '$809,880+', '$809,900', '$809,990', '$809,999', '$81,000', '$81,032', '$81,036', '$81,041', '$81,100', '$81,103', '$81,105', '$81,121', '$81,131', '$81,141', '$81,149', '$81,172', '$81,239', '$81,300', '$81,340', '$81,345', '$81,365', '$81,371', '$81,375', '$81,380', '$81,385', '$81,428', '$81,432', '$81,491', '$81,500', '$81,505', '$81,533', '$81,540', '$81,547', '$81,592', '$81,600', '$81,605', '$81,633', '$81,663', '$81,784', '$81,839', '$81,841', '$81,860', '$81,865', '$81,870', '$81,900', '$81,983', '$81,995', '$81,999', '$810,000', '$810,404', '$811,001', '$811,125', '$811,523', '$811,863', '$811,888', '$811,990', '$812,000', '$812,488', '$812,500', '$812,518', '$812,700', '$812,900', '$813,000', '$813,020', '$813,057', '$813,237', '$813,350', '$813,880', '$813,900', '$814,000', '$814,271', '$814,304', '$814,430', '$814,500', '$814,700', '$814,750', '$814,772', '$814,800', '$814,900', '$814,990', '$814,999', '$815,000', '$815,059', '$815,787', '$815,800', '$815,881', '$815,990', '$815,995', '$816,000', '$816,328', '$816,400', '$816,560', '$816,990', '$816,990+', '$817,000', '$817,040', '$817,130', '$817,130+', '$817,975', '$817,990+', '$818,000', '$818,109', '$818,160', '$818,800', '$818,834', '$818,881', '$818,888', '$818,925', '$818,999', '$819,000', '$819,000+', '$819,329', '$819,500', '$819,762', '$819,775', '$819,880', '$819,900', '$819,900+', '$819,950', '$819,950+', '$819,990', '$819,995', '$819,999', '$82,000', '$82,084', '$82,150', '$82,152', '$82,223', '$82,228', '$82,250', '$82,256', '$82,266', '$82,300', '$82,325', '$82,364', '$82,401', '$82,402', '$82,500', '$82,500,000', '$82,515', '$82,522', '$82,581', '$82,589', '$82,595', '$82,600', '$82,723', '$82,750', '$82,768', '$82,770', '$82,800', '$82,811', '$82,814', '$82,824', '$82,873', '$82,900', '$82,925', '$82,948', '$82,949', '$82,952', '$82,999', '$820,000', '$820,076', '$820,140', '$820,234', '$820,330', '$820,660', '$821,000', '$821,325', '$821,358', '$821,364', '$821,635', '$821,880', '$821,950+', '$821,978', '$822,000', '$822,471', '$822,500', '$822,995+', '$823,000', '$823,039', '$823,507', '$823,590', '$823,780', '$823,880', '$823,900', '$823,990+', '$823,995', '$824,000', '$824,178', '$824,300', '$824,421', '$824,500', '$824,652', '$824,755', '$824,850', '$824,880', '$824,880+', '$824,888', '$824,900', '$824,925', '$824,950', '$824,975', '$824,990', '$824,995', '$824,999', '$825,000', '$825,000+', '$825,190', '$825,423', '$825,500', '$825,513', '$825,670', '$825,799', '$825,888', '$825,890', '$825,900', '$825,990', '$825,999', '$825/mo', '$826,000', '$826,231', '$826,379', '$826,816', '$826,900', '$826,900+', '$826,995', '$827,000', '$827,367', '$828,000', '$828,128', '$828,142', '$828,232', '$828,279', '$828,415', '$828,452', '$828,494', '$828,500', '$828,767', '$828,880', '$828,880+', '$828,881', '$828,888', '$828,900', '$828,950', '$828,995', '$829,000', '$829,234+', '$829,500', '$829,800', '$829,900', '$829,900+', '$829,909', '$829,919', '$829,950', '$829,950+', '$829,990', '$829,995', '$829,999', '$83,000', '$83,001', '$83,004', '$83,008', '$83,047', '$83,100', '$83,147', '$83,200', '$83,210', '$83,258', '$83,356', '$83,363', '$83,397', '$83,400', '$83,415', '$83,422', '$83,452', '$83,500', '$83,583', '$83,641', '$83,700', '$83,703', '$83,707', '$83,714', '$83,800', '$83,824', '$83,868', '$83,880', '$83,893', '$83,900', '$83,950', '$83,968', '$83,979', '$83,990', '$83,999', '$830,000', '$830,000+', '$830,500', '$830,670', '$830,700', '$830,827', '$830,888', '$830,900', '$830,994', '$831,228', '$831,300', '$831,375', '$831,550', '$831,780', '$831,900', '$831,935', '$831,990', '$831,995', '$832,000', '$832,500', '$832,632', '$832,900', '$833,000', '$833,195', '$833,500', '$833,900', '$833,990', '$833,990+', '$834,000', '$834,247', '$834,900', '$834,900+', '$834,990', '$834,996', '$835,000', '$835,000+', '$835,150', '$835,800', '$835,888', '$835,990+', '$836,000', '$836,002', '$836,140', '$836,675', '$836,880', '$837,000', '$837,377', '$837,400', '$837,465', '$837,810', '$837,990+', '$838,000', '$838,035', '$838,500', '$838,667', '$838,800', '$838,857', '$838,880', '$838,888', '$838,900', '$839,000', '$839,000+', '$839,200', '$839,349', '$839,500', '$839,750', '$839,888', '$839,900', '$839,900+', '$839,950', '$839,950+', '$839,990', '$839,990+', '$839,995', '$839,996', '$839,999', '$84,000', '$84,092', '$84,099', '$84,152', '$84,179', '$84,192', '$84,194', '$84,204', '$84,258', '$84,286', '$84,319', '$84,346', '$84,370', '$84,400', '$84,422', '$84,460', '$84,499', '$84,500', '$84,512', '$84,518', '$84,531', '$84,586', '$84,592', '$84,600', '$84,650', '$84,700', '$84,708', '$84,750', '$84,762', '$84,769', '$84,788', '$84,795', '$84,800', '$84,888', '$84,893', '$84,900', '$84,914', '$84,950', '$84,990', '$84,995', '$84,999', '$840,000', '$840,373', '$840,597', '$840,687+', '$840,880+', '$840,888', '$841,000', '$841,002', '$841,005', '$841,298', '$841,877', '$841,980', '$841,995+', '$842,000', '$842,071', '$842,221', '$842,500', '$842,525', '$842,599', '$842,746', '$842,900', '$842,995+', '$843,000', '$843,700', '$843,704', '$843,752', '$844,000', '$844,500', '$844,516', '$844,715', '$844,888', '$844,900', '$844,950', '$844,950+', '$844,990', '$844,995', '$844,995+', '$845,000', '$845,220', '$845,552', '$845,706', '$845,880+', '$845,900', '$845,916', '$845,950', '$846,000', '$846,120', '$846,276', '$846,900', '$846,971', '$847,000', '$847,215', '$847,500', '$847,591', '$847,682', '$847,747', '$847,794', '$847,900', '$847,995', '$847,995+', '$847,999', '$848,000', '$848,080', '$848,483', '$848,500', '$848,713', '$848,880', '$848,888', '$848,900', '$848,950', '$848,999', '$849,000', '$849,000+', '$849,412', '$849,500', '$849,554', '$849,800', '$849,870', '$849,880+', '$849,888', '$849,900', '$849,948', '$849,950', '$849,961', '$849,980', '$849,990', '$849,990+', '$849,995', '$849,999', '$85,000', '$85,044', '$85,098', '$85,117', '$85,120', '$85,131', '$85,176', '$85,179', '$85,198', '$85,200', '$85,244', '$85,245', '$85,296', '$85,316', '$85,349', '$85,381', '$85,395', '$85,400', '$85,403', '$85,410', '$85,434', '$85,449', '$85,454', '$85,466', '$85,487', '$85,500', '$85,555', '$85,594', '$85,600', '$85,643', '$85,686', '$85,700', '$85,713', '$85,753', '$85,777', '$85,802', '$85,857', '$85,860', '$85,871', '$85,888', '$85,895', '$85,900', '$85,912', '$85,970', '$85,976', '$85,980', '$85,984', '$85,987', '$85,995', '$850', '$850,000', '$850,300', '$850,349', '$850,542', '$850,557', '$850/mo', '$851,000', '$851,268', '$851,850', '$851,950', '$851,995+', '$852,000', '$852,450', '$852,500', '$852,700', '$852,990', '$852,990+', '$852,995+', '$853,000', '$853,332', '$853,352', '$853,800', '$853,900', '$854,000', '$854,040', '$854,302', '$854,510', '$854,790', '$854,900', '$854,990+', '$854,995', '$855,000', '$855,076', '$855,440', '$855,576', '$855,727', '$855,867', '$855,960', '$856,000', '$856,090', '$856,480', '$856,929', '$857,000', '$857,500', '$857,780', '$857,987', '$857,990', '$857,990+', '$857,995', '$857,995+', '$858,000', '$858,800', '$858,888', '$858,900', '$859,000', '$859,354', '$859,500', '$859,504', '$859,872', '$859,880', '$859,900', '$859,900+', '$859,925', '$859,933', '$859,940', '$859,950', '$859,990', '$859,995', '$859,999', '$86,000', '$86,008', '$86,067', '$86,112', '$86,119', '$86,194', '$86,251', '$86,269', '$86,338', '$86,400', '$86,497', '$86,499', '$86,500', '$86,520', '$86,530', '$86,532', '$86,600', '$86,605', '$86,637', '$86,654', '$86,676', '$86,785', '$86,800', '$86,804', '$86,838', '$86,900', '$86,906', '$86,960', '$86,962', '$86,982', '$86,990', '$86,995', '$86,995+', '$86,999', '$860,000', '$860,720', '$860,880', '$860,880+', '$860,974', '$861,157', '$861,690', '$861,880', '$862,000', '$862,200', '$862,361+', '$862,500', '$862,990', '$862,995', '$862,995+', '$863,000', '$863,240', '$863,300+', '$863,321', '$863,566', '$863,782', '$863,846', '$863,880', '$863,980', '$864,000', '$864,121', '$864,216', '$864,500', '$864,596', '$864,855', '$864,879', '$864,888', '$864,900', '$864,990', '$864,995+', '$864,999', '$865,000', '$865,075', '$865,400', '$865,950', '$866,000', '$866,059', '$866,420', '$866,500', '$866,730', '$866,773', '$866,900', '$866,900+', '$866,990+', '$866,995+', '$867,500', '$867,800', '$867,847', '$867,866', '$867,950+', '$867,976', '$868,000', '$868,127', '$868,500', '$868,534', '$868,601', '$868,750', '$868,800', '$868,888', '$869,000', '$869,000+', '$869,200', '$869,250', '$869,283', '$869,500', '$869,880', '$869,888', '$869,900', '$869,950', '$869,950+', '$869,960', '$869,968', '$869,990', '$869,990+', '$869,995', '$869,999', '$87,000', '$87,002', '$87,140', '$87,200', '$87,246', '$87,360', '$87,368', '$87,448', '$87,450', '$87,485', '$87,500', '$87,552', '$87,570', '$87,596', '$87,642', '$87,688', '$87,700', '$87,746', '$87,770', '$87,777', '$87,800', '$87,865', '$87,900', '$87,908', '$87,971', '$87,977', '$87,990', '$87,995', '$87,999', '$870,000', '$870,568', '$870,880', '$871,400', '$871,702', '$871,820', '$871,861', '$871,984', '$872,000', '$872,362', '$872,500', '$873,000', '$873,050', '$873,512', '$873,610', '$873,700', '$873,744', '$873,995+', '$874,000', '$874,169', '$874,258', '$874,500', '$874,530', '$874,700', '$874,888', '$874,900', '$874,900+', '$874,950', '$874,975', '$874,990', '$874,990+', '$874,999', '$875,000', '$875,000+', '$875,116', '$875,400', '$875,500', '$875,555', '$875,591', '$875,808', '$875,900', '$875/mo', '$876,000', '$876,500', '$876,863', '$876,981', '$876,995+', '$877,000', '$877,540', '$877,860', '$877,900', '$878,000', '$878,629', '$878,640', '$878,800', '$878,888', '$878,995', '$879,000', '$879,061', '$879,330', '$879,400', '$879,419', '$879,500', '$879,681', '$879,800', '$879,877', '$879,888', '$879,890', '$879,900', '$879,950', '$879,990', '$879,995', '$879,995+', '$879,999', '$88,000', '$88,000,000', '$88,082', '$88,100', '$88,185', '$88,200', '$88,214', '$88,251', '$88,252', '$88,391', '$88,396', '$88,400', '$88,406', '$88,408', '$88,454', '$88,455', '$88,459', '$88,499', '$88,500', '$88,511', '$88,525', '$88,535', '$88,560', '$88,574', '$88,642', '$88,656', '$88,675', '$88,700', '$88,720', '$88,750', '$88,777', '$88,800', '$88,825', '$88,838', '$88,853', '$88,880', '$88,888', '$88,900', '$88,995', '$88,999', '$880,000', '$881,195', '$881,449', '$881,689', '$881,730', '$881,988', '$882,108', '$882,427', '$883,000', '$883,451', '$883,663', '$883,726', '$883,950+', '$883,990+', '$884,000', '$884,701', '$884,880+', '$884,900', '$884,900+', '$884,990', '$884,990+', '$884,995+', '$885,000', '$885,118', '$885,225', '$885,444', '$885,626', '$885,875', '$885,900', '$885,990+', '$886,000', '$886,519', '$886,990', '$886,990+', '$887,000', '$887,537', '$887,618', '$887,643', '$887,900', '$887,999', '$888,000', '$888,440', '$888,515', '$888,720', '$888,849', '$888,888', '$888,900', '$888,999', '$889,000', '$889,498', '$889,500', '$889,710', '$889,750', '$889,777', '$889,840', '$889,900', '$889,934', '$889,950', '$889,988', '$889,990', '$889,995', '$889,999', '$89,000', '$89,060', '$89,100', '$89,106', '$89,115', '$89,164', '$89,179', '$89,200', '$89,232', '$89,255', '$89,292', '$89,300', '$89,323', '$89,350', '$89,367', '$89,393', '$89,400', '$89,425', '$89,435', '$89,499', '$89,500', '$89,508', '$89,538', '$89,589', '$89,650', '$89,665', '$89,688', '$89,700', '$89,700+', '$89,705', '$89,711', '$89,714', '$89,725', '$89,753', '$89,758', '$89,759', '$89,789', '$89,800', '$89,816', '$89,830', '$89,850', '$89,855', '$89,864', '$89,871', '$89,888', '$89,900', '$89,900+', '$89,950', '$89,975', '$89,986', '$89,988', '$89,990', '$89,995', '$89,995+', '$89,997', '$89,998', '$89,999', '$890,000', '$890,231', '$890,315', '$890,525', '$890,880', '$890,880+', '$890,950', '$890,990', '$890/mo', '$891,000', '$891,000+', '$891,037', '$891,341', '$892,000', '$892,028', '$892,240', '$892,500', '$892,534', '$892,797', '$892,833', '$892,900', '$892,907', '$892,918', '$893,000', '$893,053', '$893,500', '$893,750', '$893,756', '$893,761', '$893,880', '$893,880+', '$893,900+', '$893,921', '$894,000', '$894,090', '$894,184', '$894,500', '$894,551', '$894,900', '$894,950', '$894,999', '$895,000', '$895,000+', '$895,433', '$895,500', '$895,555', '$895,625', '$895,888', '$895,900', '$895,960', '$895,976', '$895,995', '$895,995+', '$895,999', '$896,000', '$896,331', '$896,424', '$896,900', '$896,950', '$896,990+', '$897,000', '$897,500', '$897,792', '$897,900', '$897,990', '$897,995', '$898,000', '$898,153', '$898,500', '$898,718', '$898,800', '$898,817', '$898,880', '$898,888', '$898,888+', '$898,900', '$898,990', '$898,999', '$899,000', '$899,000+', '$899,050', '$899,100', '$899,140', '$899,499', '$899,500', '$899,550', '$899,650', '$899,655', '$899,700', '$899,731', '$899,750', '$899,777', '$899,800', '$899,880', '$899,888', '$899,899', '$899,900', '$899,950', '$899,980', '$899,987', '$899,990', '$899,990+', '$899,995', '$899,998', '$899,999', '$9,000', '$9,000,000', '$9,045,000', '$9,050,000', '$9,058,000', '$9,099', '$9,100,000', '$9,135', '$9,150,000', '$9,195', '$9,200', '$9,200,000', '$9,250', '$9,250,000', '$9,284', '$9,289', '$9,300', '$9,341,650', '$9,343', '$9,350', '$9,350,000', '$9,375,000', '$9,385,000', '$9,388,000', '$9,395,000', '$9,400', '$9,400,000', '$9,450,000', '$9,490', '$9,495,000', '$9,499,000', '$9,499,999', '$9,500', '$9,500,000', '$9,524,000', '$9,550,000', '$9,590,000', '$9,595,000', '$9,599', '$9,600', '$9,600,000', '$9,650', '$9,650,000', '$9,700', '$9,700,000', '$9,750', '$9,750,000', '$9,757,440', '$9,800', '$9,800,000', '$9,825,000', '$9,850', '$9,850,000', '$9,870', '$9,875,000', '$9,880,000', '$9,887', '$9,888', '$9,888,000', '$9,900', '$9,900,000', '$9,900,050', '$9,911', '$9,950', '$9,950,000', '$9,975', '$9,975,000', '$9,980,000', '$9,984,078', '$9,988,000', '$9,990', '$9,990,000', '$9,995', '$9,995,000', '$9,995,990', '$9,997', '$9,998,000', '$9,999', '$9,999,000', '$9,999,950', '$9,999,999', '$9,999,999+', '$90,000', '$90,053', '$90,064', '$90,096', '$90,100', '$90,150', '$90,171', '$90,298', '$90,300', '$90,424', '$90,449', '$90,452', '$90,500', '$90,535', '$90,593', '$90,599', '$90,600', '$90,602', '$90,604', '$90,620', '$90,634', '$90,651', '$90,750', '$90,800', '$90,829', '$90,850', '$90,863', '$90,868', '$90,900', '$90,929', '$90,995', '$90,999', '$900', '$900,000', '$900,000+', '$900,297', '$900,412', '$900,500', '$900,726', '$900,849', '$900/mo', '$901,000', '$901,064', '$902,655', '$902,723', '$903,201', '$904,780', '$905,000', '$905,000+', '$905,025', '$905,626', '$905,900', '$905,995', '$905,995+', '$906,011', '$906,058', '$906,300', '$906,621', '$906,671', '$906,780', '$907,995', '$908,000', '$908,131', '$908,888', '$908,995', '$909,000', '$909,153', '$909,888', '$909,899', '$909,900', '$909,900+', '$909,972', '$909,990', '$91,000', '$91,043', '$91,059', '$91,118', '$91,144', '$91,200', '$91,210', '$91,214', '$91,250', '$91,259', '$91,273', '$91,276', '$91,300', '$91,304', '$91,307', '$91,323', '$91,338', '$91,432', '$91,500', '$91,549', '$91,611', '$91,639', '$91,649', '$91,713', '$91,778', '$91,787', '$91,900', '$91,954', '$91,973', '$91,990', '$910,000', '$910,800', '$911,250', '$911,372', '$911,500', '$911,640', '$912,000', '$912,500', '$912,990', '$913,760', '$913,900', '$914,000', '$914,200', '$914,369', '$914,400', '$914,760', '$914,823', '$914,900', '$914,987', '$914,990+', '$915,000', '$915,500', '$915,748', '$915,798', '$915,995', '$915,995+', '$916,000', '$916,000+', '$916,300', '$916,530', '$916,700', '$916,794', '$916,900', '$917,000', '$917,121', '$917,155', '$917,215', '$917,281', '$917,500', '$917,775', '$917,971', '$917,990+', '$918,000', '$918,537', '$918,686', '$918,738', '$918,777', '$918,888', '$918,900', '$919,000', '$919,250', '$919,500', '$919,900', '$919,950', '$919,990', '$919,999', '$92,000', '$92,021', '$92,026', '$92,073', '$92,200', '$92,218', '$92,229', '$92,238', '$92,257', '$92,268', '$92,298', '$92,305', '$92,331', '$92,374', '$92,380', '$92,481', '$92,488', '$92,500', '$92,526', '$92,547', '$92,600', '$92,616', '$92,680', '$92,733', '$92,778', '$92,866', '$92,900', '$92,937', '$92,950', '$92,995', '$92,999', '$920,000', '$920,063', '$920,100', '$920,880+', '$921,746', '$921,900+', '$921,917', '$922,000', '$922,223', '$922,500', '$922,600', '$923,000', '$923,490', '$923,900', '$923,990', '$924,000', '$924,028', '$924,104', '$924,239', '$924,414', '$924,450', '$924,500', '$924,711', '$924,750', '$924,800', '$924,900', '$924,940', '$924,950', '$924,990', '$924,990+', '$924,995', '$924,996', '$924,997', '$924,999', '$925,000', '$925,200', '$925,871', '$925,900', '$925,950', '$925,998', '$925/mo', '$926,000', '$926,300', '$926,724', '$926,990', '$926,990+', '$927,000', '$927,130', '$927,319', '$927,500', '$928,000', '$928,500', '$928,614', '$928,697', '$928,880', '$928,888', '$928,900', '$928,990', '$928,990+', '$928,999', '$929,000', '$929,141', '$929,500', '$929,600', '$929,757', '$929,880', '$929,880+', '$929,900', '$929,929', '$929,950', '$929,960', '$929,989', '$929,990', '$929,995+', '$929,999', '$93,000', '$93,005', '$93,010', '$93,046', '$93,086', '$93,100', '$93,106', '$93,123', '$93,135', '$93,155', '$93,179', '$93,197', '$93,250', '$93,273', '$93,289', '$93,319', '$93,337', '$93,372', '$93,400', '$93,458', '$93,500', '$93,509', '$93,650', '$93,691', '$93,700', '$93,709', '$93,750', '$93,758', '$93,775', '$93,815', '$93,900', '$93,945', '$93,962', '$93,970', '$93,999', '$930,000', '$930,945', '$930,990', '$931,000', '$931,197', '$931,285', '$931,347', '$931,900', '$931,900+', '$932,000', '$932,018', '$932,038', '$932,121', '$932,500', '$932,500+', '$933,000', '$933,000+', '$933,794', '$934,000', '$934,500', '$934,888', '$934,900', '$934,990', '$934,990+', '$934,995+', '$935,000', '$935,455', '$935,500', '$935,828', '$935,900', '$936,050', '$936,388', '$936,800', '$936,862', '$936,878', '$937,195', '$937,195+', '$937,250', '$937,282', '$937,500', '$937,800', '$937,990+', '$938,000', '$938,236', '$938,290', '$938,500', '$938,700', '$938,800', '$938,888', '$938,995', '$939,000', '$939,330', '$939,381', '$939,400', '$939,500', '$939,750', '$939,868', '$939,875', '$939,888', '$939,900', '$939,950', '$939,960', '$939,990', '$939,990+', '$939,995', '$939,999', '$94,000', '$94,004', '$94,005', '$94,050', '$94,058', '$94,108', '$94,110', '$94,152', '$94,164', '$94,188', '$94,220', '$94,300', '$94,307', '$94,314', '$94,365', '$94,385', '$94,400', '$94,411', '$94,442', '$94,448', '$94,499', '$94,500', '$94,525', '$94,550', '$94,552', '$94,559', '$94,570', '$94,610', '$94,616', '$94,656', '$94,659', '$94,699', '$94,700', '$94,727', '$94,747', '$94,799', '$94,800', '$94,804', '$94,829', '$94,830', '$94,838', '$94,849', '$94,884', '$94,900', '$94,916', '$94,950', '$94,985', '$94,990', '$94,995', '$94,995+', '$94,996', '$94,999', '$940,000', '$940,000+', '$940,498', '$941,441', '$941,455', '$941,500', '$941,990', '$941,990+', '$942,000', '$942,534', '$942,757', '$943,000', '$943,986+', '$943,995+', '$944,000', '$944,500', '$944,572', '$944,777', '$944,888', '$944,900', '$944,990', '$944,995', '$944,998', '$945,000', '$945,888', '$945,900', '$945,995', '$946,500', '$946,776', '$946,900', '$946,938', '$947,000', '$947,119', '$947,500', '$947,803', '$947,823', '$947,940', '$947,947', '$947,975', '$948,000', '$948,000+', '$948,047', '$948,550', '$948,785', '$948,800', '$948,888', '$948,900', '$948,970', '$948,999', '$949,000', '$949,007', '$949,100', '$949,220', '$949,500', '$949,701', '$949,777', '$949,800', '$949,817', '$949,873', '$949,880', '$949,888', '$949,897', '$949,900', '$949,950', '$949,989', '$949,990', '$949,995', '$949,995+', '$949,998', '$949,999', '$95,000', '$95,023', '$95,051', '$95,095', '$95,100', '$95,169', '$95,200', '$95,205', '$95,229', '$95,250', '$95,260', '$95,284', '$95,300', '$95,400', '$95,413', '$95,459', '$95,488', '$95,500', '$95,508', '$95,550', '$95,613', '$95,661', '$95,670', '$95,672', '$95,695', '$95,700', '$95,701', '$95,703', '$95,760', '$95,838', '$95,888', '$95,899', '$95,900', '$95,980', '$95,995', '$95,995+', '$950', '$950,000', '$950,000+', '$950,323', '$950,328', '$950,500', '$950,638', '$950,800', '$950/mo', '$951,000', '$951,013', '$951,700', '$952,509', '$952,664', '$953,210', '$953,750', '$953,760', '$954,000', '$954,095', '$954,500', '$954,900', '$954,902', '$954,973', '$954,995+', '$955,000', '$955,289', '$955,770', '$956,000', '$956,248', '$956,800', '$957,000', '$957,439', '$957,607', '$958,000', '$958,095', '$958,140', '$958,288', '$958,500', '$958,888', '$959,000', '$959,190', '$959,291', '$959,500', '$959,888', '$959,900', '$959,990', '$959,990+', '$959,999', '$96,000', '$96,016', '$96,059', '$96,083', '$96,100', '$96,106', '$96,118', '$96,125', '$96,196', '$96,200', '$96,201', '$96,218', '$96,231', '$96,250', '$96,263', '$96,276', '$96,277', '$96,300', '$96,407', '$96,500', '$96,552', '$96,589', '$96,672', '$96,700', '$96,759', '$96,800', '$96,813', '$96,820', '$96,831', '$96,835', '$96,868', '$96,900', '$96,903', '$96,933', '$96,990', '$96,992', '$96,995', '$960,000', '$960,104', '$960,255', '$960,500', '$960,954', '$961,595', '$961,600', '$961,798', '$961,805', '$961,900', '$961,995', '$962,250', '$962,500', '$963,000', '$963,429', '$963,900', '$963,994', '$964,000', '$964,500', '$964,900', '$964,990+', '$964,999', '$965,000', '$965,190', '$965,333', '$965,900', '$965,900+', '$965,995', '$965,995+', '$966,000', '$966,929', '$966,961', '$967,000', '$967,367', '$967,500', '$967,700', '$967,777', '$968,000', '$968,500', '$968,880', '$968,888', '$968,900', '$968,990', '$968,999', '$969,000', '$969,500', '$969,509', '$969,728', '$969,800', '$969,900', '$969,950', '$969,991', '$97,000', '$97,002', '$97,008', '$97,040', '$97,094', '$97,109', '$97,110', '$97,111', '$97,161', '$97,168', '$97,238', '$97,261', '$97,264', '$97,312', '$97,333', '$97,357', '$97,400', '$97,408', '$97,409', '$97,411', '$97,500', '$97,561', '$97,597', '$97,600', '$97,633', '$97,650', '$97,653', '$97,700', '$97,702', '$97,748', '$97,750', '$97,800', '$97,809', '$97,850', '$97,900', '$97,900+', '$97,928', '$97,945', '$97,962', '$97,991', '$97,993', '$97,995', '$97,995+', '$97,999', '$970,000', '$970,209', '$970,500', '$970,892', '$970,920', '$971,000', '$971,157', '$971,600', '$971,900', '$972,000', '$972,444', '$972,750', '$972,900', '$972,913', '$972,995', '$973,000', '$973,307', '$973,353', '$973,720', '$973,875', '$973,900', '$973,995', '$973,995+', '$974,000', '$974,000+', '$974,173', '$974,500', '$974,578', '$974,900', '$974,950', '$974,990', '$974,999', '$975,000', '$975,900', '$975,950+', '$975/mo', '$976,199', '$976,250', '$976,360', '$976,500', '$976,888', '$976,900', '$977,000', '$977,300', '$977,990', '$978,000', '$978,135', '$978,328', '$978,460', '$978,850', '$978,888', '$978,895', '$978,900', '$979,000', '$979,000+', '$979,450', '$979,500', '$979,735', '$979,800', '$979,820', '$979,888', '$979,900', '$979,918', '$979,950', '$979,995', '$979,999', '$98,000', '$98,000,000', '$98,036', '$98,077', '$98,078', '$98,098', '$98,152', '$98,181', '$98,185', '$98,255', '$98,268', '$98,291', '$98,324', '$98,366', '$98,368', '$98,400', '$98,437', '$98,468', '$98,469', '$98,491', '$98,500', '$98,500+', '$98,515', '$98,538', '$98,550', '$98,573', '$98,599', '$98,637', '$98,700', '$98,745', '$98,750', '$98,772', '$98,800', '$98,816', '$98,829', '$98,836', '$98,850', '$98,888', '$98,895', '$98,900', '$98,920', '$98,932', '$98,936', '$98,940', '$98,950', '$98,951', '$98,990', '$98,995', '$98,999', '$980,000', '$980,500', '$980,874', '$980,888', '$981,000', '$981,536', '$982,383', '$983,000', '$983,000+', '$983,212', '$984,000', '$984,208', '$984,644', '$984,644+', '$984,900', '$985,000', '$985,500', '$985,691', '$985,888', '$986,000', '$986,081', '$986,200', '$986,662', '$986,900+', '$987,000', '$987,500', '$987,700', '$987,750', '$987,888', '$988,000', '$988,412', '$988,555', '$988,800', '$988,888', '$989,000', '$989,402', '$989,500', '$989,700', '$989,750', '$989,800', '$989,888', '$989,888+', '$989,900', '$989,950', '$989,990', '$989,990+', '$989,999', '$99,000', '$99,015', '$99,164', '$99,180', '$99,200', '$99,313', '$99,325', '$99,327', '$99,339', '$99,400', '$99,450', '$99,456', '$99,483', '$99,493', '$99,500', '$99,510', '$99,536', '$99,544', '$99,555', '$99,575', '$99,578', '$99,588', '$99,600', '$99,616', '$99,627', '$99,643', '$99,687', '$99,700', '$99,707', '$99,750', '$99,767', '$99,780', '$99,800', '$99,809', '$99,833', '$99,840', '$99,850', '$99,880', '$99,888', '$99,898', '$99,899', '$99,900', '$99,900+', '$99,911', '$99,950', '$99,975', '$99,980', '$99,985', '$99,990', '$99,995', '$99,999', '$990,000', '$990,000+', '$990,164', '$990,490', '$990,562', '$990,900', '$990,990', '$990/mo', '$991,000', '$991,880', '$991,900', '$991,990', '$992,000', '$992,130', '$992,171', '$992,200', '$992,358', '$992,367', '$992,590', '$992,600', '$992,600+', '$992,700', '$992,800', '$993,000', '$993,200', '$993,470', '$993,627', '$994,000', '$994,375+', '$994,540', '$994,600', '$994,718', '$994,733', '$994,888', '$994,900', '$994,925', '$994,945', '$994,950', '$994,975', '$994,990', '$994,990+', '$994,992', '$994,999', '$995,000', '$995,372', '$995,490', '$995,500', '$995,555', '$995,850', '$995,900', '$995,995', '$996,000', '$996,086', '$996,497', '$996,500', '$996,606', '$996,635', '$996,995+', '$997,000', '$997,250', '$997,500', '$997,612', '$997,700', '$997,777', '$997,850', '$997,888', '$997,890', '$997,900', '$997,999', '$998,000', '$998,380', '$998,500', '$998,700', '$998,743', '$998,800', '$998,888', '$998,890', '$998,900', '$998,987', '$998,990', '$998,995', '$998,999', '$999,000', '$999,097', '$999,144', '$999,341', '$999,448', '$999,480', '$999,500', '$999,648', '$999,750', '$999,800', '$999,880', '$999,888', '$999,899', '$999,900', '$999,900+', '$999,950', '$999,977', '$999,990', '$999,995', '$999,996', '$999,998', '$999,999', '$999,999+', '1', '1,000', '1,000,000', '1,000,999', '1,007,250', '1,010,000', '1,015,000', '1,017,000', '1,017,800', '1,018,000', '1,019,000', '1,020,000', '1,021,000', '1,023,000', '1,024,000', '1,024,876', '1,024,900', '1,025,000', '1,027,502', '1,029,000', '1,029,990', '1,030,000', '1,033,415', '1,034,900', '1,035,000', '1,035,500', '1,035,900', '1,038,000', '1,038,888', '1,039,000', '1,040,000', '1,045,000', '1,047,000', '1,048,000', '1,049,000', '1,049,500', '1,049,900', '1,049,950', '1,049,999', '1,050,000', '1,055,000', '1,056,125', '1,059,000', '1,060,000', '1,064,568', '1,065,000', '1,067,000', '1,067,500', '1,069,000', '1,069,900', '1,069,994', '1,070,000', '1,070,995', '1,071,900', '1,074,000', '1,074,500', '1,074,900', '1,074,950', '1,075,000', '1,077,000', '1,078,500', '1,079,000', '1,079,500', '1,080,000', '1,080,999', '1,083,000', '1,085,000', '1,088,000', '1,088,850', '1,088,888', '1,089,000', '1,089,520', '1,089,900', '1,090,000', '1,092,000', '1,093,000', '1,095,000', '1,096,400', '1,097,000', '1,098,000', '1,098,250', '1,098,880', '1,098,888', '1,099,000', '1,099,500', '1,099,900', '1,099,950', '1,099,990', '1,099,999', '1,100', '1,100,000', '1,100,500', '1,105,000', '1,108,870', '1,109,900', '1,110,000', '1,112,500', '1,113,400', '1,114,422', '1,115,000', '1,115,500', '1,118,000', '1,119,000', '1,120,000', '1,120,900', '1,124,000', '1,124,900', '1,125,000', '1,127,000', '1,128,000', '1,129,000', '1,129,395', '1,129,995', '1,130,000', '1,130,007', '1,131,000', '1,133,000', '1,134,000', '1,135,000', '1,136,000', '1,137,000', '1,138,000', '1,139,000', '1,139,500', '1,139,900', '1,140,000', '1,144,900', '1,144,950', '1,145,000', '1,147,000', '1,148,000', '1,148,500', '1,149,000', '1,149,900', '1,149,995', '1,149,999', '1,150,000', '1,151,000', '1,152,000', '1,152,500', '1,154,000', '1,155,000', '1,155,560', '1,157,999', '1,158,000', '1,159,000', '1,160,000', '1,163,175', '1,165,000', '1,168,000', '1,168,125', '1,169,900', '1,170,000', '1,173,700', '1,174,000', '1,174,900', '1,174,995', '1,174,999', '1,175,000', '1,175,900', '1,177,000', '1,179,000', '1,180,000', '1,181,700', '1,185,000', '1,185,900', '1,187,760', '1,188,000', '1,188,888', '1,189,000', '1,189,500', '1,189,900', '1,190,000', '1,190,375', '1,194,500', '1,194,900', '1,195,000', '1,195,531', '1,196,000', '1,197,000', '1,197,999', '1,198,000', '1,198,754', '1,199,000', '1,199,256', '1,199,500', '1,199,900', '1,199,950', '1,199,975', '1,199,995', '1,199,999', '1,200,000', '1,201,012', '1,205,000', '1,209,990', '1,210,000', '1,215,000', '1,215,999', '1,217,000', '1,219,000', '1,220,000', '1,224,000', '1,224,500', '1,224,900', '1,224,999', '1,225,000', '1,228,250', '1,229,000', '1,229,263', '1,229,995', '1,230,000', '1,232,500', '1,232,750', '1,234,000', '1,235,000', '1,235,500', '1,238,500', '1,239,000', '1,240,000', '1,244,674', '1,245,000', '1,245,900', '1,248,000', '1,248,500', '1,249,000', '1,249,578', '1,249,789', '1,249,900', '1,249,950', '1,249,998', '1,249,999', '1,250,000', '1,254,000', '1,255,000', '1,259,000', '1,259,900', '1,260,000', '1,264,000', '1,264,500', '1,265,000', '1,268,000', '1,268,880', '1,269,000', '1,269,304', '1,270,000', '1,272,000', '1,274,242', '1,274,999', '1,275,000', '1,275,950', '1,276,943', '1,277,000', '1,278,000', '1,278,250', '1,278,500', '1,278,700', '1,279,000', '1,279,944', '1,280,000', '1,280,474', '1,282,000', '1,283,000', '1,285,000', '1,287,500', '1,288,000', '1,288,890', '1,288,900', '1,289,000', '1,289,900', '1,289,950', '1,290,000', '1,294,000', '1,295,000', '1,296,940', '1,297,000', '1,298,000', '1,298,999', '1,299,000', '1,299,500', '1,299,777', '1,299,900', '1,299,990', '1,299,999', '1,300,000', '1,300,506', '1,307,000', '1,310,000', '1,315,000', '1,317,100', '1,319,000', '1,319,950', '1,320,000', '1,324,000', '1,325,000', '1,328,760', '1,329,000', '1,329,999', '1,330,000', '1,330,839', '1,335,000', '1,337,605', '1,339,000', '1,340,000', '1,340,900', '1,345,000', '1,347,000', '1,348,000', '1,349,000', '1,349,900', '1,349,995', '1,349,999', '1,350,000', '1,355,000', '1,355,990', '1,357,000', '1,359,000', '1,360,000', '1,363,500', '1,365,000', '1,368,000', '1,369,000', '1,370,000', '1,370,995', '1,375,000', '1,379,000', '1,379,500', '1,380,000', '1,382,000', '1,384,000', '1,385,000', '1,388,000', '1,388,321', '1,388,888', '1,389,000', '1,390,000', '1,390,350', '1,392,000', '1,395,000', '1,395,950', '1,397,000', '1,398,000', '1,399,000', '1,399,500', '1,399,900', '1,399,950', '1,399,990', '1,399,999', '1,400,000', '1,402,600', '1,403,244', '1,405,000', '1,405,800', '1,406,000', '1,410,000', '1,415,000', '1,418,000', '1,419,000', '1,419,999', '1,420,000', '1,424,000', '1,425,000', '1,425,888', '1,428,000', '1,429,000', '1,429,999', '1,430,000', '1,435,000', '1,435,435', '1,437,000', '1,438,000', '1,439,000', '1,439,995', '1,440,000', '1,445,000', '1,446,422', '1,448,888', '1,449,000', '1,449,500', '1,449,888', '1,449,900', '1,450,000', '1,455,000', '1,459,000', '1,459,900', '1,460,000', '1,460,990', '1,464,900', '1,465,000', '1,468,000', '1,469,000', '1,469,998', '1,470,000', '1,470,522', '1,471,260', '1,474,990', '1,475,000', '1,475,900', '1,478,000', '1,478,500', '1,479,000', '1,480,000', '1,482,000', '1,483,000', '1,485,000', '1,487,000', '1,488,000', '1,488,800', '1,488,888', '1,489,000', '1,489,900', '1,490,000', '1,491,000', '1,494,000', '1,495,000', '1,496,799', '1,497,000', '1,497,500', '1,498,000', '1,498,999', '1,499,000', '1,499,500', '1,499,850', '1,499,888', '1,499,900', '1,499,950', '1,499,998', '1,499,999', '1,500,000', '1,500,900', '1,505,000', '1,517,000', '1,519,000', '1,520,000', '1,524,000', '1,525,000', '1,526,000', '1,528,900', '1,529,000', '1,530,000', '1,535,000', '1,537,000', '1,538,786', '1,538,885', '1,539,000', '1,545,000', '1,547,000', '1,549,000', '1,549,500', '1,549,900', '1,549,999', '1,550,000', '1,553,000', '1,555,000', '1,556,000', '1,557,000', '1,558,000', '1,559,000', '1,560,000', '1,565,000', '1,565,550', '1,566,870', '1,568,000', '1,568,850', '1,569,000', '1,570,000', '1,570,888', '1,573,000', '1,574,900', '1,574,999', '1,575,000', '1,579,000', '1,580,000', '1,583,000', '1,583,100', '1,584,000', '1,585,000', '1,587,200', '1,588,000', '1,588,545', '1,589,000', '1,589,900', '1,590,000', '1,593,000', '1,594,000', '1,595,000', '1,596,000', '1,597,000', '1,597,350', '1,598,000', '1,598,888', '1,598,998', '1,599,000', '1,599,500', '1,599,900', '1,599,990', '1,599,995', '1,599,999', '1,600,000', '1,602,000', '1,605,000', '1,608,000', '1,610,000', '1,615,000', '1,620,000', '1,624,000', '1,624,800', '1,624,900', '1,625,000', '1,628,000', '1,629,000', '1,630,000', '1,635,000', '1,635,650', '1,639,000', '1,639,888', '1,640,000', '1,644,000', '1,644,500', '1,644,750', '1,645,000', '1,648,000', '1,648,800', '1,649,000', '1,649,900', '1,650,000', '1,650,500', '1,652,625', '1,658,000', '1,659,000', '1,660,000', '1,665,000', '1,665,990', '1,668,000', '1,669,000', '1,670,000', '1,671,277', '1,672,000', '1,674,000', '1,674,500', '1,674,900', '1,675,000', '1,677,060', '1,679,000', '1,680,000', '1,682,000', '1,684,356', '1,685,000', '1,687,000', '1,687,500', '1,688,000', '1,688,500', '1,688,888', '1,689,000', '1,690,000', '1,692,000', '1,694,800', '1,695,000', '1,695,950', '1,695,990', '1,698,900', '1,699,000', '1,699,500', '1,699,770', '1,699,900', '1,699,990', '1,699,999', '1,700,000', '1,704,000', '1,708,000', '1,710,000', '1,711,000', '1,712,500', '1,715,000', '1,720,000', '1,722,500', '1,723,250', '1,724,950', '1,725,000', '1,729,000', '1,730,000', '1,735,000', '1,737,000', '1,738,000', '1,739,000', '1,740,000', '1,745,000', '1,745,055', '1,746,250', '1,747,000', '1,749,000', '1,749,900', '1,749,999', '1,750,000', '1,754,075', '1,755,000', '1,756,000', '1,760,000', '1,764,000', '1,765,000', '1,769,000', '1,770,000', '1,775,000', '1,776,000', '1,779,000', '1,780,000', '1,782,000', '1,784,836', '1,785,000', '1,785,900', '1,786,000', '1,787,000', '1,787,500', '1,788,000', '1,789,000', '1,789,999', '1,790,000', '1,791,800', '1,792,000', '1,794,000', '1,794,775', '1,795,000', '1,798,000', '1,798,888', '1,799,000', '1,799,991', '1,799,999', '1,800', '1,800,000', '1,800,990', '1,806,000', '1,810,000', '1,814,000', '1,818,000', '1,819,900', '1,820,000', '1,824,999', '1,825,000', '1,830,000', '1,835,000', '1,840,000', '1,845,000', '1,847,850', '1,849,000', '1,849,995', '1,850,000', '1,855,000', '1,855,900', '1,859,000', '1,860,000', '1,868,000', '1,869,999', '1,870,000', '1,875,000', '1,875,695', '1,878,000', '1,880,000', '1,885,000', '1,888,000', '1,888,888', '1,889,000', '1,890,000', '1,892,000', '1,892,403', '1,895,000', '1,896,000', '1,897,000', '1,898,000', '1,898,800', '1,899,000', '1,899,500', '1,899,900', '1,899,999', '1,900,000', '1,901,000', '1,904,000', '1,915,000', '1,920,000', '1,924,690', '1,924,900', '1,925,000', '1,935,000', '1,938,000', '1,940,000', '1,945,000', '1,948,700', '1,949,000', '1,949,500', '1,949,900', '1,950,000', '1,950,990', '1,954,150', '1,955,000', '1,960,000', '1,965,000', '1,970,000', '1,971,798', '1,975,000', '1,975,990', '1,979,000', '1,980,000', '1,985,000', '1,985,990', '1,987,500', '1,988,000', '1,989,000', '1,989,360', '1,989,800', '1,990,000', '1,990,900', '1,993,600', '1,995,000', '1,997,000', '1,998,000', '1,998,500', '1,998,700', '1,998,888', '1,999,000', '1,999,500', '1,999,899', '1,999,900', '1,999,950', '1,999,980', '1,999,990', '1,999,995', '1,999,998', '1,999,999', '10,000', '10,000,000', '10,001', '10,250,000', '10,355', '10,429', '10,495,000', '10,500', '10,500,000', '10,600,000', '10,700', '10,750,000', '10,800,000', '10,825,000', '10,895,000', '10,897,500', '10,900', '10,900,000', '10,945,000', '10,950,000', '10,980,000', '10,995', '10,995,000', '10,999', '10,999,999', '100,000', '101,000', '101,100', '102,000', '102,500', '102,688', '102,800', '102,900', '103,000', '103,100', '103,350', '103,500', '103,900', '104,000', '104,400', '104,500', '104,800', '104,880', '104,900', '104,950', '104,991', '104,999', '105,000', '105,400', '105,500', '105,750', '105,888', '105,900', '106,000', '106,140', '106,500', '106,560', '106,700', '106,900', '107,000', '107,500', '107,600', '107,777', '107,800', '107,900', '108,000', '108,189', '108,500', '108,550', '108,601', '108,816', '108,900', '109,000', '109,450', '109,500', '109,777', '109,900', '109,950', '109,990', '109,998', '109,999', '11,000', '11,000,000', '11,100,000', '11,200,000', '11,245,000', '11,250,000', '11,400', '11,450,000', '11,500', '11,500,000', '11,555', '11,750', '11,750,000', '11,775,000', '11,800', '11,800,000', '11,850,000', '11,880', '11,888,000', '11,900', '11,900,000', '11,950,000', '11,990', '11,995,000', '11,997', '11,999', '110,000', '110,500', '110,888', '110,900', '111,000', '111,400', '111,500', '111,900', '111,999', '112,000', '112,500', '112,700', '112,900', '113,000', '113,500', '113,640', '113,777', '113,905', '114,000', '114,331', '114,400', '114,500', '114,700', '114,899', '114,900', '114,950', '114,999', '115,000', '115,300', '115,900', '115,999', '116,000', '116,400', '116,500', '116,600', '116,900', '117,000', '117,200', '117,291', '117,400', '117,500', '117,777', '117,900', '118,000', '118,300', '118,500', '118,750', '118,800', '118,900', '118,999', '119,000', '119,300', '119,495', '119,500', '119,700', '119,800', '119,850', '119,900', '119,975', '119,990', '119,999', '12,000', '12,000,000', '12,100', '12,100,000', '12,200,000', '12,300,000', '12,306,468', '12,350,000', '12,375', '12,400', '12,400,000', '12,499,800', '12,500', '12,500,000', '12,525,000', '12,650,000', '12,695,000', '12,700,000', '12,750,000', '12,850,000', '12,900', '12,900,000', '12,950', '12,950,000', '12,985,990', '12,995,000', '12,999', '120,000', '120,500', '120,540', '120,900', '121,000', '121,500', '121,900', '122,000', '122,100', '122,500', '122,900', '122,999', '123,000', '123,100', '123,200', '123,400', '123,540', '123,600', '123,700', '123,750', '123,760', '123,900', '124,000', '124,400', '124,500', '124,600', '124,750', '124,888', '124,900', '124,950', '124,989', '124,990', '124,995', '124,998', '124,999', '125,000', '125,500', '125,900', '126,000', '126,400', '126,500', '126,900', '126,997', '126,999', '127,000', '127,500', '127,700', '127,770', '127,775', '127,900', '127,999', '128,000', '128,200', '128,300', '128,500', '128,700', '128,777', '128,799', '128,900', '128,995', '129,000', '129,500', '129,777', '129,800', '129,850', '129,888', '129,900', '129,907', '129,950', '129,990', '129,995', '129,999', '13,000', '13,000,000', '13,250,000', '13,333', '13,495,000', '13,500', '13,500,000', '13,600', '13,700', '13,721,400', '13,730,000', '13,845,000', '13,850,000', '13,900', '13,900,000', '13,950,000', '13,975,000', '13,995', '13,995,000', '130,000', '130,500', '130,900', '130,990', '131,000', '131,375', '131,500', '131,560', '131,800', '131,900', '132,000', '132,500', '132,900', '133,000', '133,300', '133,450', '133,490', '133,499', '133,500', '133,900', '133,990', '134,000', '134,300', '134,444', '134,500', '134,800', '134,888', '134,900', '134,990', '134,997', '134,999', '135,000', '135,119', '135,299', '135,500', '135,900', '135,995', '135,999', '136,000', '136,400', '136,500', '136,550', '136,800', '136,900', '137,000', '137,300', '137,400', '137,500', '137,800', '137,900', '137,950', '137,990', '138,000', '138,150', '138,500', '138,600', '138,700', '138,900', '138,990', '139,000', '139,411', '139,499', '139,500', '139,520', '139,700', '139,800', '139,850', '139,880', '139,900', '139,950', '139,975', '139,990', '139,995', '139,999', '14,000', '14,000,000', '14,200', '14,300', '14,500', '14,500,000', '14,599', '14,600', '14,650,000', '14,700,000', '14,796', '14,800', '14,850', '14,900', '14,900,000', '14,911', '14,950,000', '14,995,000', '14,997', '14,999', '140,000', '140,300', '140,500', '140,900', '141,000', '141,117', '141,500', '141,800', '141,900', '141,950', '141,999', '142,000', '142,499', '142,500', '142,700', '142,750', '142,800', '142,900', '143,000', '143,250', '143,500', '143,589', '143,900', '143,975', '144,000', '144,400', '144,500', '144,800', '144,890', '144,900', '144,950', '144,988', '144,990', '144,995', '144,999', '145,000', '145,500', '145,600', '145,700', '145,900', '146,000', '146,400', '146,500', '146,525', '146,900', '146,999', '147,000', '147,240', '147,250', '147,400', '147,500', '147,700', '147,900', '148,000', '148,018', '148,500', '148,700', '148,888', '148,900', '148,995', '149,000', '149,121', '149,500', '149,600', '149,640', '149,700', '149,750', '149,777', '149,899', '149,900', '149,950', '149,974', '149,975', '149,990', '149,995', '149,999', '15,000', '15,000,000', '15,400', '15,400,000', '15,490,000', '15,495,000', '15,500', '15,500,000', '15,750', '15,750,000', '15,800,000', '15,888,999', '15,900', '15,900,000', '15,950', '15,980,000', '15,995', '15,998,000', '15,999', '150,000', '150,275', '150,360', '150,600', '150,900', '150,999', '151,000', '151,900', '151,999', '152,000', '152,499', '152,500', '152,900', '152,990', '152,999', '153,000', '153,500', '153,506', '153,555', '153,900', '154,000', '154,040', '154,500', '154,750', '154,777', '154,800', '154,900', '154,990', '154,995', '154,997', '154,999', '155,000', '155,184', '155,555', '155,700', '155,900', '155,995', '156,000', '156,400', '156,500', '156,700', '156,900', '156,999', '157,000', '157,400', '157,500', '157,815', '157,900', '157,995', '157,999', '158,000', '158,300', '158,400', '158,500', '158,700', '158,777', '158,800', '158,900', '159,000', '159,250', '159,300', '159,400', '159,500', '159,538', '159,700', '159,799', '159,800', '159,856', '159,900', '159,924', '159,938', '159,950', '159,990', '159,995', '159,997', '159,999', '16,000', '16,000,000', '16,250', '16,300,000', '16,500', '16,500,000', '16,700,000', '16,750,000', '16,800,000', '16,900', '16,900,000', '16,950,000', '16,990', '16,995,000', '160,000', '160,500', '160,615', '160,900', '160,990', '160,999', '161,000', '161,190', '161,500', '161,900', '161,969', '162,000', '162,300', '162,500', '162,750', '162,819', '162,900', '162,949', '162,999', '163,000', '163,240', '163,499', '163,500', '163,900', '164,000', '164,490', '164,500', '164,561', '164,700', '164,777', '164,800', '164,862', '164,900', '164,990', '164,999', '165,000', '165,400', '165,500', '165,700', '165,900', '166,000', '166,050', '166,300', '166,500', '166,900', '166,950', '166,990', '167,000', '167,230', '167,400', '167,500', '167,700', '167,715', '167,800', '167,840', '167,900', '168,000', '168,250', '168,351', '168,499', '168,500', '168,740', '168,800', '168,888', '168,900', '168,990', '168,999', '169,000', '169,100', '169,300', '169,400', '169,450', '169,499', '169,500', '169,689', '169,700', '169,780', '169,800', '169,888', '169,900', '169,917', '169,950', '169,990', '169,997', '169,999', '17,000', '17,000,000', '17,500', '17,500,000', '17,550', '17,700,000', '17,775,000', '17,810', '17,900', '17,950,000', '17,995', '17,995,000', '17,999', '17,999,000', '170,000', '170,230', '170,499', '170,500', '170,850', '170,900', '170,990', '171,000', '171,140', '171,500', '171,700', '171,800', '171,900', '171,995', '172,000', '172,499', '172,500', '172,800', '172,900', '172,999', '173,000', '173,200', '173,400', '173,500', '173,853', '173,900', '173,990', '173,999', '174,000', '174,100', '174,400', '174,500', '174,699', '174,800', '174,817', '174,898', '174,899', '174,900', '174,903', '174,950', '174,980', '174,990', '174,995', '174,997', '174,999', '175,000', '175,200', '175,499', '175,500', '175,800', '175,900', '175,999', '176,000', '176,240', '176,450', '176,490', '176,500', '176,900', '176,980', '177,000', '177,221', '177,330', '177,499', '177,500', '177,900', '177,999', '178,000', '178,080', '178,440', '178,490', '178,495', '178,499', '178,500', '178,888', '178,890', '178,900', '178,950', '178,990', '178,999', '179,000', '179,300', '179,330', '179,399', '179,499', '179,500', '179,640', '179,799', '179,800', '179,850', '179,900', '179,920', '179,950', '179,990', '179,995', '179,999', '18,000', '18,000,000', '18,330', '18,450', '18,500', '18,500,000', '18,800,000', '18,899', '18,900', '18,900,000', '18,950,000', '18,990', '18,995,000', '18,999,000', '180,000', '180,440', '180,499', '180,500', '180,899', '180,950', '180,999', '181,000', '181,172', '181,450', '181,499', '181,500', '181,900', '181,930', '181,999', '182,000', '182,125', '182,270', '182,499', '182,500', '182,899', '182,900', '182,999', '183,000', '183,498', '183,499', '183,500', '183,800', '183,900', '183,990', '183,999', '184,000', '184,499', '184,500', '184,770', '184,800', '184,850', '184,900', '184,950', '184,990', '184,995', '184,999', '185,000', '185,300', '185,321', '185,399', '185,400', '185,500', '185,645', '185,750', '185,900', '185,991', '185,999', '186,000', '186,100', '186,165', '186,300', '186,399', '186,499', '186,500', '186,520', '186,888', '186,900', '186,990', '186,999', '187,000', '187,165', '187,300', '187,490', '187,499', '187,500', '187,600', '187,900', '187,975', '187,990', '187,999', '188,000', '188,175', '188,300', '188,499', '188,500', '188,750', '188,800', '188,840', '188,846', '188,888', '188,900', '188,973', '188,990', '189,000', '189,050', '189,487', '189,500', '189,700', '189,750', '189,770', '189,900', '189,950', '189,990', '189,995', '189,999', '19,000', '19,350', '19,400', '19,450,000', '19,500', '19,500,000', '19,600', '19,750,000', '19,800', '19,800,000', '19,900', '19,900,000', '19,942,500', '19,959', '19,995,000', '19,999', '190,000', '190,100', '190,310', '190,900', '190,955', '190,990', '190,999', '191,000', '191,100', '191,500', '191,900', '191,999', '192,000', '192,050', '192,300', '192,420', '192,490', '192,500', '192,625', '192,700', '192,900', '192,999', '193,000', '193,035', '193,200', '193,300', '193,499', '193,500', '193,700', '193,750', '193,900', '193,990', '193,999', '194,000', '194,223', '194,300', '194,457', '194,500', '194,598', '194,600', '194,745', '194,899', '194,900', '194,950', '194,955', '194,990', '194,999', '195,000', '195,140', '195,215', '195,490', '195,499', '195,500', '195,700', '195,750', '195,900', '195,909', '195,990', '195,995', '196,000', '196,300', '196,350', '196,399', '196,408', '196,499', '196,500', '196,800', '196,869', '196,900', '196,980', '196,990', '196,999', '197,000', '197,300', '197,499', '197,500', '197,600', '197,700', '197,800', '197,880', '197,900', '197,990', '197,999', '198,000', '198,085', '198,233', '198,265', '198,300', '198,360', '198,400', '198,500', '198,700', '198,750', '198,784', '198,800', '198,900', '198,905', '198,965', '198,990', '198,999', '199,000', '199,040', '199,095', '199,260', '199,300', '199,315', '199,500', '199,555', '199,700', '199,760', '199,780', '199,794', '199,800', '199,850', '199,875', '199,899', '199,900', '199,930', '199,950', '199,955', '199,968', '199,975', '199,990', '199,995', '199,997', '199,999', '2,000', '2,000,000', '2,025,000', '2,030,000', '2,035,990', '2,036,050', '2,037,500', '2,040,000', '2,042,572', '2,045,000', '2,049,000', '2,050,000', '2,059,000', '2,067,000', '2,070,000', '2,075,000', '2,077,670', '2,080,000', '2,085,000', '2,088,000', '2,090,000', '2,094,649', '2,095,000', '2,097,000', '2,097,700', '2,098,000', '2,098,600', '2,099,000', '2,099,999', '2,100,000', '2,105,000', '2,110,000', '2,111,000', '2,120,000', '2,125,000', '2,126,500', '2,135,000', '2,139,000', '2,140,000', '2,145,000', '2,148,000', '2,149,000', '2,149,500', '2,150,000', '2,155,000', '2,158,289', '2,158,950', '2,163,060', '2,165,000', '2,167,000', '2,170,000', '2,172,000', '2,174,340', '2,175,000', '2,177,000', '2,180,000', '2,188,000', '2,190,000', '2,194,000', '2,195,000', '2,195,990', '2,197,000', '2,198,000', '2,199,000', '2,199,900', '2,199,990', '2,199,999', '2,200,000', '2,202,440', '2,205,878', '2,210,000', '2,215,000', '2,222,000', '2,225,000', '2,226,000', '2,230,000', '2,231,000', '2,239,999', '2,240,000', '2,245,000', '2,249,000', '2,249,900', '2,250', '2,250,000', '2,254,950', '2,257,500', '2,268,000', '2,272,400', '2,275,000', '2,275,900', '2,280,000', '2,285,000', '2,289,000', '2,290,000', '2,295,000', '2,295,750', '2,296,000', '2,297,000', '2,297,500', '2,298,000', '2,299,000', '2,299,900', '2,299,998', '2,300,000', '2,309,000', '2,310,000', '2,313,000', '2,316,675', '2,318,000', '2,319,000', '2,320,000', '2,324,000', '2,325,000', '2,329,995', '2,330,000', '2,340,000', '2,345,000', '2,347,000', '2,349,000', '2,349,900', '2,350,000', '2,350,900', '2,352,717', '2,359,777', '2,360,000', '2,367,000', '2,374,900', '2,375,000', '2,378,000', '2,380,000', '2,385,000', '2,390,000', '2,395,000', '2,399,000', '2,400', '2,400,000', '2,409,000', '2,410,000', '2,419,650', '2,420,000', '2,420,460', '2,425,000', '2,440,000', '2,443,075', '2,445,000', '2,449,000', '2,450,000', '2,450,990', '2,456,000', '2,456,190', '2,460,000', '2,465,000', '2,469,000', '2,470,050', '2,475,000', '2,478,000', '2,480,000', '2,480,990', '2,484,000', '2,485,000', '2,486,000', '2,488,888', '2,489,000', '2,490,000', '2,495,000', '2,495,900', '2,496,000', '2,497,500', '2,498,000', '2,498,888', '2,498,950', '2,499,000', '2,499,888', '2,499,900', '2,499,990', '2,499,995', '2,499,999', '2,500', '2,500,000', '2,512,800', '2,520,000', '2,525,000', '2,527,445', '2,529,701', '2,530,000', '2,538,000', '2,545,900', '2,550,000', '2,559,000', '2,565,000', '2,575,000', '2,575,990', '2,580,000', '2,585,000', '2,589,000', '2,590,000', '2,595,000', '2,597,377', '2,598,000', '2,599,000', '2,599,900', '2,599,999', '2,600,000', '2,615,000', '2,617,000', '2,625,000', '2,630,000', '2,640,000', '2,644,700', '2,645,000', '2,649,000', '2,650', '2,650,000', '2,650,900', '2,655,000', '2,660,000', '2,670,000', '2,675,000', '2,675,900', '2,679,000', '2,680,000', '2,685,000', '2,686,119', '2,690,000', '2,692,000', '2,694,500', '2,695,000', '2,699,000', '2,699,900', '2,700,000', '2,717,000', '2,720', '2,720,000', '2,723,000', '2,724,000', '2,725,000', '2,730,000', '2,735,000', '2,745,000', '2,747,852', '2,749,000', '2,750,000', '2,760,000', '2,763,000', '2,765,000', '2,775,000', '2,777,000', '2,780,000', '2,785,000', '2,790,000', '2,795,000', '2,797,000', '2,799,000', '2,799,900', '2,799,999', '2,800,000', '2,805,000', '2,825,000', '2,829,000', '2,834,000', '2,835,000', '2,840,000', '2,840,040', '2,845,000', '2,847,000', '2,849,000', '2,850,000', '2,865,000', '2,870,000', '2,875,000', '2,879,000', '2,880,000', '2,885,000', '2,888,000', '2,889,000', '2,890,000', '2,892,000', '2,895,000', '2,899,000', '2,899,900', '2,899,995', '2,900', '2,900,000', '2,909,000', '2,920,000', '2,925,000', '2,940,000', '2,945,000', '2,947,000', '2,948,800', '2,949,000', '2,950', '2,950,000', '2,970,000', '2,970,990', '2,974,890', '2,975,000', '2,978,000', '2,980,000', '2,985,000', '2,985,990', '2,988,000', '2,990', '2,990,000', '2,993,500', '2,995,000', '2,995,900', '2,997,000', '2,998,000', '2,999,000', '2,999,500', '2,999,900', '2,999,999', '20', '20,000', '20,000,000', '20,250', '20,350', '20,500', '20,900', '20,995,000', '200,000', '200,001', '200,009', '200,010', '200,100', '200,150', '200,900', '200,990', '201,000', '201,085', '201,500', '201,528', '201,600', '201,727', '201,900', '201,990', '201,999', '202,000', '202,255', '202,355', '202,490', '202,500', '202,729', '202,840', '202,900', '202,930', '202,990', '202,999', '203,000', '203,157', '203,166', '203,400', '203,490', '203,500', '203,520', '203,690', '203,765', '203,815', '203,900', '203,950', '203,990', '204,000', '204,040', '204,090', '204,200', '204,237', '204,490', '204,500', '204,520', '204,580', '204,750', '204,805', '204,850', '204,900', '204,985', '204,990', '204,999', '205,000', '205,026', '205,150', '205,402', '205,456', '205,465', '205,500', '205,700', '205,790', '205,800', '205,900', '205,990', '206,000', '206,448', '206,470', '206,500', '206,600', '206,750', '206,900', '206,985', '206,990', '206,999', '207,000', '207,010', '207,420', '207,449', '207,499', '207,500', '207,900', '207,950', '207,990', '207,999', '208,000', '208,208', '208,300', '208,500', '208,568', '208,640', '208,800', '208,900', '208,990', '208,999', '209,000', '209,090', '209,150', '209,250', '209,400', '209,440', '209,450', '209,500', '209,667', '209,700', '209,750', '209,790', '209,800', '209,850', '209,900', '209,990', '209,995', '209,999', '21,000', '21,000,000', '21,200', '21,250,000', '21,500', '21,500,000', '21,700', '21,750', '21,800,000', '21,900', '210,000', '210,010', '210,300', '210,380', '210,440', '210,450', '210,500', '210,900', '210,990', '211,000', '211,190', '211,298', '211,390', '211,520', '211,750', '211,800', '211,900', '211,999', '212,000', '212,115', '212,190', '212,230', '212,400', '212,500', '212,650', '212,665', '212,895', '212,900', '212,990', '212,999', '213,000', '213,290', '213,500', '213,642', '213,750', '213,885', '213,888', '213,900', '213,985', '213,990', '214,000', '214,108', '214,300', '214,390', '214,395', '214,400', '214,500', '214,700', '214,750', '214,890', '214,900', '214,908', '214,920', '214,950', '214,990', '214,999', '215,000', '215,010', '215,040', '215,090', '215,300', '215,490', '215,491', '215,500', '215,700', '215,800', '215,900', '215,990', '216,000', '216,008', '216,133', '216,300', '216,350', '216,405', '216,500', '216,600', '216,682', '216,750', '216,781', '216,800', '216,835', '216,900', '216,990', '216,999', '217,000', '217,020', '217,167', '217,300', '217,490', '217,500', '217,577', '217,600', '217,887', '217,900', '217,999', '218,000', '218,050', '218,258', '218,308', '218,499', '218,500', '218,530', '218,615', '218,700', '218,799', '218,800', '218,860', '218,888', '218,900', '218,950', '218,990', '218,999', '219,000', '219,090', '219,120', '219,146', '219,400', '219,480', '219,500', '219,553', '219,590', '219,599', '219,625', '219,777', '219,900', '219,950', '219,980', '219,990', '219,999', '22,000', '22,000,000', '22,350', '22,495,000', '22,500', '22,500,000', '22,650,000', '22,900', '22,900,000', '22,999', '220,000', '220,269', '220,500', '220,528', '220,584', '220,900', '220,932', '220,990', '221,000', '221,010', '221,500', '221,700', '221,728', '221,760', '221,770', '221,900', '221,950', '221,990', '221,995', '221,999', '222,000', '222,400', '222,480', '222,500', '222,648', '222,700', '222,800', '222,900', '222,975', '222,990', '222,999', '223,000', '223,286', '223,300', '223,305', '223,450', '223,500', '223,537', '223,575', '223,600', '223,700', '223,800', '223,900', '223,990', '223,999', '224,000', '224,103', '224,300', '224,450', '224,470', '224,490', '224,500', '224,640', '224,700', '224,720', '224,800', '224,850', '224,888', '224,900', '224,910', '224,980', '224,990', '224,995', '224,999', '225,000', '225,100', '225,255', '225,285', '225,310', '225,500', '225,815', '225,900', '225,985', '225,990', '225,999', '226,000', '226,190', '226,400', '226,405', '226,500', '226,533', '226,615', '226,700', '226,900', '226,965', '226,990', '227,000', '227,015', '227,065', '227,100', '227,200', '227,300', '227,400', '227,499', '227,500', '227,769', '227,811', '227,888', '227,900', '227,980', '227,990', '227,997', '228,000', '228,085', '228,140', '228,500', '228,888', '228,899', '228,900', '228,915', '228,944', '228,987', '228,990', '228,995', '229,000', '229,100', '229,200', '229,500', '229,542', '229,700', '229,788', '229,800', '229,900', '229,950', '229,980', '229,987', '229,990', '229,995', '229,998', '229,999', '23,000', '23,450', '23,500', '23,500,000', '23,700', '23,750', '23,900', '23,900,000', '23,990,000', '23,999', '230,000', '230,100', '230,351', '230,357', '230,360', '230,400', '230,500', '230,799', '230,843', '230,900', '230,990', '231,000', '231,237', '231,365', '231,470', '231,500', '231,635', '231,744', '231,750', '231,885', '231,900', '231,990', '232,000', '232,340', '232,386', '232,459', '232,500', '232,650', '232,864', '232,900', '232,990', '232,999', '233,000', '233,100', '233,458', '233,500', '233,640', '233,650', '233,759', '233,900', '233,915', '233,922', '233,965', '233,990', '233,999', '234,000', '234,090', '234,225', '234,253', '234,274', '234,336', '234,400', '234,445', '234,500', '234,520', '234,650', '234,690', '234,700', '234,786', '234,800', '234,885', '234,890', '234,897', '234,900', '234,950', '234,960', '234,990', '234,995', '234,999', '235,000', '235,040', '235,105', '235,200', '235,500', '235,590', '235,650', '235,696', '235,900', '235,969', '235,990', '236,000', '236,300', '236,415', '236,500', '236,700', '236,900', '236,950', '236,990', '236,995', '237,000', '237,326', '237,400', '237,425', '237,499', '237,500', '237,600', '237,700', '237,777', '237,900', '237,950', '237,990', '237,995', '238,000', '238,130', '238,145', '238,360', '238,381', '238,399', '238,405', '238,500', '238,510', '238,682', '238,744', '238,777', '238,790', '238,800', '238,865', '238,900', '238,990', '238,991', '238,999', '239,000', '239,050', '239,332', '239,485', '239,500', '239,670', '239,700', '239,750', '239,760', '239,790', '239,793', '239,888', '239,900', '239,927', '239,932', '239,950', '239,962', '239,988', '239,990', '239,995', '239,999', '24,000', '24,350', '24,400', '24,500', '24,500,000', '24,650', '24,735', '24,750', '24,892', '24,900', '24,900,000', '24,950', '24,975,000', '24,990', '24,990,000', '24,999', '240,000', '240,500', '240,630', '240,695', '240,900', '240,990', '240,999', '241,000', '241,107', '241,150', '241,170', '241,175', '241,600', '241,700', '241,874', '241,900', '241,990', '241,999', '242,000', '242,007', '242,040', '242,100', '242,249', '242,250', '242,264', '242,500', '242,670', '242,698', '242,700', '242,750', '242,847', '242,900', '242,965', '242,990', '242,999', '243,000', '243,035', '243,400', '243,470', '243,500', '243,566', '243,635', '243,690', '243,900', '243,990', '243,999', '244,000', '244,034', '244,050', '244,098', '244,180', '244,200', '244,305', '244,400', '244,448', '244,500', '244,600', '244,700', '244,850', '244,888', '244,900', '244,914', '244,921', '244,950', '244,952', '244,990', '244,995', '244,999', '245,000', '245,128', '245,300', '245,390', '245,500', '245,524', '245,720', '245,750', '245,800', '245,900', '245,990', '245,991', '245,999', '246,000', '246,500', '246,680', '246,706', '246,800', '246,810', '246,900', '246,950', '246,990', '247,000', '247,200', '247,400', '247,430', '247,500', '247,708', '247,800', '247,900', '247,917', '247,950', '247,980', '247,990', '247,999', '248,000', '248,075', '248,085', '248,120', '248,130', '248,149', '248,150', '248,165', '248,180', '248,500', '248,690', '248,736', '248,800', '248,888', '248,899', '248,900', '248,927', '248,990', '249,000', '249,040', '249,269', '249,497', '249,500', '249,520', '249,550', '249,573', '249,600', '249,640', '249,650', '249,700', '249,750', '249,800', '249,850', '249,888', '249,900', '249,920', '249,949', '249,950', '249,990', '249,991', '249,993', '249,995', '249,997', '249,999', '25', '25,000', '25,000,000', '25,110', '25,500', '25,900', '25,900,000', '25,950,000', '25,999', '250,000', '250,177', '250,500', '250,564', '250,598', '250,670', '250,850', '250,900', '250,999', '251,000', '251,200', '251,343', '251,367', '251,400', '251,490', '251,500', '251,616', '251,900', '251,990', '252,000', '252,210', '252,318', '252,320', '252,324', '252,500', '252,600', '252,635', '252,740', '252,900', '252,950', '252,990', '253,000', '253,100', '253,160', '253,175', '253,188', '253,400', '253,449', '253,500', '253,575', '253,648', '253,777', '253,790', '253,800', '253,900', '254,000', '254,005', '254,090', '254,238', '254,250', '254,300', '254,420', '254,500', '254,600', '254,700', '254,800', '254,888', '254,890', '254,900', '254,912', '254,945', '254,950', '254,990', '254,995', '254,999', '255,000', '255,135', '255,467', '255,490', '255,500', '255,600', '255,891', '255,895', '255,900', '255,990', '256,000', '256,091', '256,465', '256,490', '256,500', '256,619', '256,900', '256,960', '256,990', '257,000', '257,021', '257,150', '257,200', '257,400', '257,499', '257,500', '257,800', '257,900', '257,924', '257,990', '258,000', '258,197', '258,240', '258,250', '258,300', '258,333', '258,360', '258,490', '258,500', '258,800', '258,813', '258,820', '258,888', '258,900', '258,990', '258,999', '259,000', '259,468', '259,490', '259,500', '259,510', '259,636', '259,658', '259,700', '259,731', '259,777', '259,794', '259,800', '259,850', '259,897', '259,900', '259,952', '259,990', '259,992', '259,995', '259,996', '259,999', '26,000', '26,010', '26,030', '26,200', '26,499', '26,500', '26,500,000', '26,750', '26,800', '26,900', '260,000', '260,099', '260,208', '260,479', '260,500', '260,700', '260,900', '260,961', '260,985', '260,990', '260,999', '261,000', '261,090', '261,250', '261,340', '261,369', '261,400', '261,500', '261,562', '261,624', '261,670', '261,725', '261,900', '261,990', '262,000', '262,190', '262,230', '262,250', '262,287', '262,350', '262,400', '262,485', '262,490', '262,500', '262,630', '262,640', '262,746', '262,900', '262,990', '263,000', '263,113', '263,375', '263,490', '263,500', '263,658', '263,700', '263,720', '263,790', '263,900', '263,990', '263,995', '263,999', '264,000', '264,007', '264,126', '264,161', '264,500', '264,729', '264,844', '264,900', '264,912', '264,950', '264,980', '264,990', '264,995', '264,999', '265,000', '265,150', '265,230', '265,490', '265,500', '265,530', '265,790', '265,810', '265,900', '265,980', '265,990', '265,999', '266,000', '266,119', '266,169', '266,190', '266,340', '266,485', '266,486', '266,500', '266,520', '266,888', '266,900', '266,990', '267,000', '267,150', '267,208', '267,230', '267,257', '267,400', '267,500', '267,508', '267,800', '267,810', '267,900', '267,935', '268,000', '268,101', '268,125', '268,315', '268,326', '268,338', '268,400', '268,500', '268,540', '268,700', '268,737', '268,800', '268,885', '268,900', '268,990', '268,999', '269,000', '269,047', '269,178', '269,247', '269,280', '269,300', '269,388', '269,450', '269,470', '269,500', '269,530', '269,725', '269,750', '269,800', '269,850', '269,890', '269,900', '269,922', '269,950', '269,990', '269,995', '269,998', '269,999', '27,000', '27,000,000', '27,200', '27,500', '27,500,000', '27,700', '27,750,000', '27,900', '27,990', '270,000', '270,017', '270,080', '270,099', '270,119', '270,149', '270,162', '270,165', '270,183', '270,408', '270,495', '270,681', '270,750', '270,840', '270,900', '270,990', '271,000', '271,497', '271,500', '271,680', '271,793', '271,883', '271,900', '271,910', '271,949', '271,990', '272,000', '272,028', '272,250', '272,500', '272,507', '272,678', '272,700', '272,830', '272,855', '272,860', '272,900', '272,995', '273,000', '273,238', '273,301', '273,490', '273,500', '273,860', '273,900', '273,990', '273,995', '273,998', '274,000', '274,200', '274,210', '274,245', '274,324', '274,359', '274,408', '274,495', '274,500', '274,590', '274,720', '274,727', '274,800', '274,809', '274,860', '274,888', '274,900', '274,924', '274,950', '274,988', '274,990', '274,999', '275,000', '275,045', '275,205', '275,274', '275,313', '275,500', '275,570', '275,830', '275,900', '275,902', '275,990', '276,000', '276,226', '276,317', '276,350', '276,400', '276,500', '276,541', '276,680', '276,707', '276,765', '276,890', '276,900', '276,966', '276,990', '277,000', '277,090', '277,125', '277,145', '277,150', '277,200', '277,240', '277,400', '277,470', '277,500', '277,606', '277,615', '277,630', '277,900', '277,990', '278,000', '278,365', '278,390', '278,500', '278,569', '278,600', '278,800', '278,900', '278,990', '278,999', '279,000', '279,028', '279,070', '279,095', '279,150', '279,330', '279,400', '279,490', '279,500', '279,600', '279,700', '279,800', '279,812', '279,890', '279,900', '279,950', '279,955', '279,990', '279,995', '279,997', '279,999', '28,000', '28,000,000', '28,300', '28,400', '28,500', '28,500,000', '28,750', '28,888', '28,900', '28,900,000', '280,000', '280,085', '280,379', '280,469', '280,603', '280,790', '280,800', '280,900', '280,990', '281,000', '281,016', '281,100', '281,175', '281,216', '281,296', '281,424', '281,645', '281,720', '281,820', '281,900', '281,990', '281,999', '282,000', '282,067', '282,200', '282,226', '282,238', '282,300', '282,499', '282,500', '282,900', '282,945', '282,990', '282,999', '283,000', '283,027', '283,165', '283,500', '283,660', '283,758', '283,900', '283,990', '283,999', '284,000', '284,400', '284,445', '284,499', '284,500', '284,690', '284,700', '284,740', '284,800', '284,888', '284,890', '284,900', '284,925', '284,950', '284,962', '284,990', '284,995', '284,999', '285,000', '285,154', '285,179', '285,230', '285,269', '285,490', '285,500', '285,553', '285,700', '285,880', '285,900', '285,932', '285,990', '286,000', '286,138', '286,150', '286,200', '286,425', '286,476', '286,490', '286,500', '286,700', '286,755', '286,900', '286,965', '286,990', '286,999', '287,000', '287,250', '287,390', '287,490', '287,500', '287,527', '287,900', '287,990', '287,999', '288,000', '288,168', '288,490', '288,500', '288,571', '288,800', '288,888', '288,900', '288,990', '288,999', '289,000', '289,270', '289,284', '289,321', '289,450', '289,470', '289,500', '289,557', '289,700', '289,750', '289,800', '289,801', '289,805', '289,890', '289,895', '289,900', '289,926', '289,950', '289,975', '289,987', '289,990', '289,995', '289,999', '29', '29,000', '29,463', '29,480', '29,500', '29,500,000', '29,600', '29,750', '29,750,000', '29,850', '29,850,000', '29,900', '29,950', '29,970', '29,975', '29,995', '29,999', '29,999,000', '290,000', '290,095', '290,119', '290,400', '290,452', '290,480', '290,623', '290,718', '290,797', '290,880', '290,900', '290,990', '290,995', '290,999', '291,000', '291,055', '291,150', '291,250', '291,367', '291,388', '291,500', '291,615', '291,748', '291,770', '291,900', '291,990', '292,000', '292,159', '292,161', '292,178', '292,400', '292,410', '292,412', '292,500', '292,600', '292,750', '292,850', '292,888', '292,900', '292,931', '292,940', '292,990', '293,000', '293,175', '293,215', '293,290', '293,310', '293,406', '293,410', '293,495', '293,500', '293,543', '293,840', '293,900', '293,990', '294,000', '294,288', '294,374', '294,500', '294,604', '294,618', '294,695', '294,700', '294,740', '294,875', '294,900', '294,950', '294,990', '294,995', '294,999', '295,000', '295,031', '295,260', '295,290', '295,400', '295,410', '295,500', '295,843', '295,900', '295,990', '295,995', '295,999', '296,000', '296,060', '296,070', '296,090', '296,490', '296,499', '296,500', '296,513', '296,530', '296,540', '296,700', '296,739', '296,779', '296,900', '296,990', '297,000', '297,090', '297,130', '297,205', '297,255', '297,350', '297,500', '297,650', '297,750', '297,800', '297,900', '297,912', '297,990', '297,995', '298,000', '298,300', '298,400', '298,500', '298,700', '298,765', '298,800', '298,835', '298,900', '298,950', '298,960', '298,990', '298,995', '298,998', '298,999', '299,000', '299,090', '299,122', '299,168', '299,250', '299,300', '299,350', '299,450', '299,495', '299,499', '299,500', '299,519', '299,593', '299,700', '299,780', '299,800', '299,815', '299,840', '299,890', '299,891', '299,899', '299,900', '299,925', '299,935', '299,950', '299,988', '299,989', '299,990', '299,995', '299,997', '299,998', '299,999', '3', '3,000', '3,000,000', '3,010,000', '3,020,000', '3,026,000', '3,030,000', '3,050,000', '3,075,000', '3,079,000', '3,085,990', '3,090,000', '3,095,000', '3,100,000', '3,104,956', '3,120,000', '3,125,000', '3,132,400', '3,145,000', '3,147,000', '3,149,000', '3,150,000', '3,159,000', '3,175,000', '3,180,000', '3,188,000', '3,188,592', '3,190,000', '3,195,000', '3,198,000', '3,199,000', '3,199,995', '3,199,999', '3,200,000', '3,213,000', '3,215,000', '3,218,000', '3,225,000', '3,235,000', '3,240,000', '3,246,000', '3,249,000', '3,250,000', '3,255,000', '3,260,000', '3,265,000', '3,275,000', '3,280,000', '3,284,900', '3,285,000', '3,290,000', '3,295,000', '3,298,000', '3,299,000', '3,300', '3,300,000', '3,307,500', '3,325,000', '3,325,990', '3,330,000', '3,333', '3,345,000', '3,348,000', '3,349,000', '3,349,442', '3,350,000', '3,355,990', '3,356,250', '3,360,000', '3,362,000', '3,375,000', '3,380,000', '3,390,000', '3,395,000', '3,398,000', '3,399,000', '3,399,999', '3,400', '3,400,000', '3,410,000', '3,415,000', '3,420,000', '3,425,000', '3,446,000', '3,449,000', '3,449,500', '3,450,000', '3,455,000', '3,460,000', '3,475,000', '3,480,000', '3,483,000', '3,487,000', '3,490,000', '3,495,000', '3,498,000', '3,498,412', '3,499,000', '3,499,900', '3,500', '3,500,000', '3,504,900', '3,524,950', '3,525,000', '3,527,000', '3,535,000', '3,550,000', '3,554,000', '3,555,000', '3,557,000', '3,575,000', '3,585,000', '3,590,000', '3,595,000', '3,595,990', '3,598,000', '3,599,000', '3,600', '3,600,000', '3,610,000', '3,623,700', '3,625,000', '3,630,000', '3,646,766', '3,649,500', '3,650,000', '3,655,275', '3,661,000', '3,665,000', '3,672,000', '3,675,000', '3,690,000', '3,695,000', '3,699,999', '3,700', '3,700,000', '3,710,000', '3,717,846', '3,730,000', '3,735,000', '3,749,000', '3,750', '3,750,000', '3,765,000', '3,768,000', '3,770,000', '3,775,000', '3,788,888', '3,792,000', '3,795,000', '3,798,000', '3,799,000', '3,800', '3,800,000', '3,802,000', '3,815,000', '3,820,000', '3,821,226', '3,830,000', '3,845,000', '3,850', '3,850,000', '3,855,000', '3,865,000', '3,870,000', '3,875,000', '3,880,000', '3,890,000', '3,895,000', '3,899,000', '3,899,900', '3,900', '3,900,000', '3,905,000', '3,910,000', '3,917,428', '3,925,000', '3,925,990', '3,945,000', '3,949,000', '3,950', '3,950,000', '3,960,000', '3,975,000', '3,980,000', '3,985,000', '3,987,000', '3,989,000', '3,990', '3,990,000', '3,995', '3,995,000', '3,997,000', '3,998,000', '3,999', '3,999,000', '3,999,900', '3,999,950', '3,999,995', '3,999,999', '30', '30,000', '30,000,000', '30,500', '30,999', '300,000', '300,448', '300,480', '300,490', '300,550', '300,660', '300,948', '300,955', '300,990', '300,995', '301,000', '301,650', '301,900', '301,925', '301,990', '302,000', '302,490', '302,500', '302,570', '302,608', '302,627', '302,635', '302,900', '302,990', '302,995', '303,000', '303,010', '303,090', '303,125', '303,150', '303,500', '303,750', '303,777', '303,850', '303,900', '303,990', '304,000', '304,285', '304,500', '304,588', '304,750', '304,800', '304,806', '304,900', '304,911', '304,990', '304,999', '305,000', '305,060', '305,298', '305,300', '305,490', '305,750', '305,791', '305,900', '305,917', '305,950', '305,990', '305,995', '305,999', '306,000', '306,140', '306,200', '306,300', '306,398', '306,500', '306,654', '306,900', '306,950', '306,990', '306,999', '307,000', '307,400', '307,500', '307,575', '307,799', '307,820', '307,880', '307,990', '307,995', '308,000', '308,080', '308,200', '308,365', '308,485', '308,490', '308,550', '308,595', '308,900', '308,990', '309,000', '309,135', '309,430', '309,477', '309,500', '309,591', '309,700', '309,730', '309,800', '309,830', '309,900', '309,930', '309,950', '309,985', '309,990', '309,995', '309,998', '309,999', '31,000', '31,000,000', '31,180', '31,250', '31,350', '31,500', '31,700', '31,999', '310,000', '310,185', '310,277', '310,450', '310,485', '310,600', '310,604', '310,900', '310,930', '310,990', '311,000', '311,022', '311,500', '311,800', '311,840', '311,900', '311,990', '311,994', '312,000', '312,025', '312,029', '312,500', '312,700', '312,740', '312,840', '312,889', '312,900', '312,995', '313,000', '313,048', '313,075', '313,223', '313,240', '313,244', '313,340', '313,500', '313,595', '313,619', '313,750', '313,765', '313,990', '314,000', '314,400', '314,415', '314,500', '314,555', '314,800', '314,843', '314,864', '314,898', '314,900', '314,950', '314,975', '314,990', '314,995', '314,999', '315,000', '315,490', '315,500', '315,620', '315,700', '315,774', '315,900', '315,990', '315,999', '316,000', '316,400', '316,443', '316,499', '316,500', '316,545', '316,615', '316,700', '316,779', '316,808', '316,840', '316,900', '316,990', '316,995', '316,999', '317,000', '317,130', '317,500', '317,525', '317,615', '317,665', '317,699', '317,725', '317,750', '317,821', '317,900', '317,989', '317,990', '317,999', '318,000', '318,445', '318,500', '318,680', '318,770', '318,900', '318,988', '319,000', '319,100', '319,200', '319,255', '319,288', '319,375', '319,500', '319,591', '319,640', '319,800', '319,899', '319,900', '319,925', '319,950', '319,975', '319,979', '319,990', '319,995', '319,999', '32,000', '32,000,000', '32,499', '32,500', '32,500,000', '32,580', '32,900', '32,999', '320,000', '320,022', '320,150', '320,234', '320,400', '320,490', '320,500', '320,783', '321,000', '321,361', '321,377', '321,390', '321,784', '321,900', '321,990', '322,000', '322,200', '322,261', '322,400', '322,500', '322,625', '322,670', '322,900', '322,987', '322,990', '323,000', '323,031', '323,040', '323,220', '323,683', '323,700', '323,900', '323,963', '324,000', '324,056', '324,385', '324,499', '324,500', '324,565', '324,603', '324,700', '324,750', '324,800', '324,895', '324,900', '324,916', '324,950', '324,990', '324,995', '324,999', '325,000', '325,050', '325,106', '325,281', '325,436', '325,500', '325,745', '325,900', '325,921', '325,990', '325,995', '326,000', '326,259', '326,280', '326,444', '326,500', '326,900', '326,921', '326,990', '327,000', '327,125', '327,130', '327,190', '327,400', '327,500', '327,699', '327,888', '327,900', '327,990', '327,995', '328,000', '328,010', '328,100', '328,167', '328,382', '328,500', '328,600', '328,684', '328,700', '328,888', '328,900', '328,990', '329,000', '329,115', '329,165', '329,257', '329,322', '329,380', '329,499', '329,500', '329,502', '329,525', '329,777', '329,800', '329,840', '329,850', '329,882', '329,900', '329,950', '329,990', '329,995', '329,999', '33,000', '33,000,000', '33,150', '33,333', '33,400,000', '33,500', '33,540', '33,700', '33,900', '33,950', '330,000', '330,015', '330,310', '330,500', '330,800', '330,880', '330,888', '330,900', '330,990', '331,000', '331,330', '331,335', '331,500', '331,509', '331,601', '331,700', '331,890', '331,894', '331,900', '331,990', '331,999', '332,000', '332,377', '332,500', '332,699', '332,740', '332,852', '332,900', '332,995', '333,000', '333,065', '333,070', '333,200', '333,500', '333,700', '333,755', '333,900', '333,990', '334,000', '334,138', '334,170', '334,400', '334,499', '334,500', '334,634', '334,800', '334,900', '334,950', '334,990', '334,995', '334,999', '335,000', '335,250', '335,315', '335,390', '335,415', '335,460', '335,475', '335,480', '335,500', '335,718', '335,840', '335,900', '335,990', '335,995', '336,000', '336,024', '336,300', '336,325', '336,350', '336,400', '336,500', '336,888', '336,895', '336,900', '337,000', '337,090', '337,300', '337,400', '337,500', '337,634', '337,866', '337,900', '337,913', '337,950', '337,990', '337,999', '338,000', '338,100', '338,400', '338,500', '338,600', '338,800', '338,900', '338,990', '339,000', '339,050', '339,219', '339,500', '339,575', '339,700', '339,800', '339,867', '339,888', '339,900', '339,915', '339,923', '339,933', '339,950', '339,988', '339,989', '339,990', '339,995', '339,997', '339,999', '34,000', '34,000,000', '34,250', '34,450', '34,500', '34,900', '34,975', '34,990', '34,994', '34,995', '34,999', '340,000', '340,090', '340,500', '340,540', '340,616', '340,860', '340,900', '340,914', '341,000', '341,100', '341,200', '341,240', '341,436', '341,499', '341,500']\n"
          ]
        }
      ],
      "source": [
        "missing_values_target  = realty_data1['target'].isna().sum()\n",
        "\n",
        "\n",
        "\n",
        "print(f\"Количество пропущенных значений: {missing_values_target}\\n\"\n",
        "f\"Количество уникальных значений: {realty_data1['target'].nunique()}\\n\"\n",
        "f\"Уникальные значения: {list(realty_data1['target'].sort_values().unique()[:40000])}\")"
      ]
    },
    {
      "cell_type": "code",
      "execution_count": null,
      "id": "2110bcc9",
      "metadata": {
        "id": "2110bcc9"
      },
      "outputs": [],
      "source": [
        "# Удалим строки с пропусками так как мы не можем потом использовать\n",
        "realty_data1 = realty_data1.dropna(subset=['target'])"
      ]
    },
    {
      "cell_type": "markdown",
      "id": "05378a1e",
      "metadata": {
        "id": "05378a1e"
      },
      "source": [
        "В строках есть данные о цене за месяц (с частью '/mo')"
      ]
    },
    {
      "cell_type": "code",
      "execution_count": null,
      "id": "e2940312",
      "metadata": {
        "id": "e2940312",
        "outputId": "4541bdc3-80ab-42a7-d915-b2ba18cbeb68"
      },
      "outputs": [
        {
          "data": {
            "text/html": [
              "<div>\n",
              "<style scoped>\n",
              "    .dataframe tbody tr th:only-of-type {\n",
              "        vertical-align: middle;\n",
              "    }\n",
              "\n",
              "    .dataframe tbody tr th {\n",
              "        vertical-align: top;\n",
              "    }\n",
              "\n",
              "    .dataframe thead th {\n",
              "        text-align: right;\n",
              "    }\n",
              "</style>\n",
              "<table border=\"1\" class=\"dataframe\">\n",
              "  <thead>\n",
              "    <tr style=\"text-align: right;\">\n",
              "      <th></th>\n",
              "      <th>status</th>\n",
              "      <th>street</th>\n",
              "      <th>baths</th>\n",
              "      <th>fireplace</th>\n",
              "      <th>city</th>\n",
              "      <th>sqft</th>\n",
              "      <th>zipcode</th>\n",
              "      <th>state</th>\n",
              "      <th>target</th>\n",
              "      <th>Type</th>\n",
              "      <th>pool</th>\n",
              "      <th>Year built</th>\n",
              "      <th>Heating</th>\n",
              "      <th>Cooling</th>\n",
              "      <th>Parking</th>\n",
              "      <th>school_rating _mean</th>\n",
              "      <th>school_dist_min</th>\n",
              "    </tr>\n",
              "  </thead>\n",
              "  <tbody>\n",
              "    <tr>\n",
              "      <th>547</th>\n",
              "      <td>For rent</td>\n",
              "      <td>4323 N Central Park Ave</td>\n",
              "      <td>3.0</td>\n",
              "      <td>True</td>\n",
              "      <td>Chicago</td>\n",
              "      <td>3300.0</td>\n",
              "      <td>60618</td>\n",
              "      <td>IL</td>\n",
              "      <td>$5,500/mo</td>\n",
              "      <td>single_family</td>\n",
              "      <td>False</td>\n",
              "      <td>1913</td>\n",
              "      <td>True</td>\n",
              "      <td>False</td>\n",
              "      <td>True</td>\n",
              "      <td>2.3</td>\n",
              "      <td>0.13</td>\n",
              "    </tr>\n",
              "    <tr>\n",
              "      <th>609</th>\n",
              "      <td>For rent</td>\n",
              "      <td>220 Boylston St #1412</td>\n",
              "      <td>2.0</td>\n",
              "      <td>True</td>\n",
              "      <td>Boston</td>\n",
              "      <td>1673.0</td>\n",
              "      <td>2116</td>\n",
              "      <td>MA</td>\n",
              "      <td>$10,500/mo</td>\n",
              "      <td>multi_family</td>\n",
              "      <td>False</td>\n",
              "      <td>1985</td>\n",
              "      <td>False</td>\n",
              "      <td>False</td>\n",
              "      <td>False</td>\n",
              "      <td>-1.0</td>\n",
              "      <td>-1.00</td>\n",
              "    </tr>\n",
              "    <tr>\n",
              "      <th>2075</th>\n",
              "      <td>For rent</td>\n",
              "      <td>2830 NE 56th Ct</td>\n",
              "      <td>4.0</td>\n",
              "      <td>False</td>\n",
              "      <td>Fort Lauderdale</td>\n",
              "      <td>2400.0</td>\n",
              "      <td>33308</td>\n",
              "      <td>FL</td>\n",
              "      <td>$6,390/mo</td>\n",
              "      <td>single_family</td>\n",
              "      <td>True</td>\n",
              "      <td>1965</td>\n",
              "      <td>False</td>\n",
              "      <td>False</td>\n",
              "      <td>False</td>\n",
              "      <td>4.0</td>\n",
              "      <td>1.19</td>\n",
              "    </tr>\n",
              "    <tr>\n",
              "      <th>3025</th>\n",
              "      <td>For rent</td>\n",
              "      <td>411 Kline Aly</td>\n",
              "      <td>2.0</td>\n",
              "      <td>False</td>\n",
              "      <td>Clarksville</td>\n",
              "      <td>1280.0</td>\n",
              "      <td>37040</td>\n",
              "      <td>TN</td>\n",
              "      <td>$1,200/mo</td>\n",
              "      <td>multi_family</td>\n",
              "      <td>False</td>\n",
              "      <td>2014</td>\n",
              "      <td>True</td>\n",
              "      <td>False</td>\n",
              "      <td>False</td>\n",
              "      <td>8.0</td>\n",
              "      <td>0.68</td>\n",
              "    </tr>\n",
              "    <tr>\n",
              "      <th>3645</th>\n",
              "      <td>For rent</td>\n",
              "      <td>240 E Illinois St #2011</td>\n",
              "      <td>2.0</td>\n",
              "      <td>False</td>\n",
              "      <td>Chicago</td>\n",
              "      <td>1473.0</td>\n",
              "      <td>60611</td>\n",
              "      <td>IL</td>\n",
              "      <td>$3,600/mo</td>\n",
              "      <td>multi_family</td>\n",
              "      <td>True</td>\n",
              "      <td>2003</td>\n",
              "      <td>False</td>\n",
              "      <td>False</td>\n",
              "      <td>True</td>\n",
              "      <td>5.5</td>\n",
              "      <td>0.72</td>\n",
              "    </tr>\n",
              "  </tbody>\n",
              "</table>\n",
              "</div>"
            ],
            "text/plain": [
              "        status                   street  baths  fireplace             city  \\\n",
              "547   For rent  4323 N Central Park Ave    3.0       True          Chicago   \n",
              "609   For rent    220 Boylston St #1412    2.0       True           Boston   \n",
              "2075  For rent          2830 NE 56th Ct    4.0      False  Fort Lauderdale   \n",
              "3025  For rent            411 Kline Aly    2.0      False      Clarksville   \n",
              "3645  For rent  240 E Illinois St #2011    2.0      False          Chicago   \n",
              "\n",
              "        sqft zipcode state      target           Type   pool Year built  \\\n",
              "547   3300.0   60618    IL   $5,500/mo  single_family  False       1913   \n",
              "609   1673.0    2116    MA  $10,500/mo   multi_family  False       1985   \n",
              "2075  2400.0   33308    FL   $6,390/mo  single_family   True       1965   \n",
              "3025  1280.0   37040    TN   $1,200/mo   multi_family  False       2014   \n",
              "3645  1473.0   60611    IL   $3,600/mo   multi_family   True       2003   \n",
              "\n",
              "      Heating  Cooling  Parking  school_rating _mean  school_dist_min  \n",
              "547      True    False     True                  2.3             0.13  \n",
              "609     False    False    False                 -1.0            -1.00  \n",
              "2075    False    False    False                  4.0             1.19  \n",
              "3025     True    False    False                  8.0             0.68  \n",
              "3645    False    False     True                  5.5             0.72  "
            ]
          },
          "execution_count": 394,
          "metadata": {},
          "output_type": "execute_result"
        }
      ],
      "source": [
        "realty_data1[realty_data1.target.str.contains('/mo',regex=True)].head()"
      ]
    },
    {
      "cell_type": "markdown",
      "id": "f6aff277",
      "metadata": {
        "id": "f6aff277"
      },
      "source": [
        "Так как мы прогнозируем цену на продажу квартиры,а не на аренду ,то удалим их."
      ]
    },
    {
      "cell_type": "code",
      "execution_count": null,
      "id": "84d57db5",
      "metadata": {
        "id": "84d57db5"
      },
      "outputs": [],
      "source": [
        "realty_data1 = realty_data1[~realty_data1['target'].str.contains('/mo', regex=True)]"
      ]
    },
    {
      "cell_type": "code",
      "execution_count": null,
      "id": "79e7a36b",
      "metadata": {
        "id": "79e7a36b"
      },
      "outputs": [],
      "source": [
        "# Замена символов в столбце 'target'\n",
        "realty_data1['target'] = realty_data1['target'].str.replace(r'\\$|\\+|,|', '', regex=True)"
      ]
    },
    {
      "cell_type": "code",
      "execution_count": null,
      "id": "d0dbaa11",
      "metadata": {
        "id": "d0dbaa11"
      },
      "outputs": [],
      "source": [
        "realty_data1.target = realty_data1.target.astype(int)"
      ]
    },
    {
      "cell_type": "code",
      "execution_count": null,
      "id": "5aaae9d0",
      "metadata": {
        "id": "5aaae9d0",
        "outputId": "72c9fd0d-5837-4863-de80-8bc999837f6a"
      },
      "outputs": [
        {
          "data": {
            "text/html": [
              "<div>\n",
              "<style scoped>\n",
              "    .dataframe tbody tr th:only-of-type {\n",
              "        vertical-align: middle;\n",
              "    }\n",
              "\n",
              "    .dataframe tbody tr th {\n",
              "        vertical-align: top;\n",
              "    }\n",
              "\n",
              "    .dataframe thead th {\n",
              "        text-align: right;\n",
              "    }\n",
              "</style>\n",
              "<table border=\"1\" class=\"dataframe\">\n",
              "  <thead>\n",
              "    <tr style=\"text-align: right;\">\n",
              "      <th></th>\n",
              "      <th>status</th>\n",
              "      <th>street</th>\n",
              "      <th>baths</th>\n",
              "      <th>fireplace</th>\n",
              "      <th>city</th>\n",
              "      <th>sqft</th>\n",
              "      <th>zipcode</th>\n",
              "      <th>state</th>\n",
              "      <th>target</th>\n",
              "      <th>Type</th>\n",
              "      <th>pool</th>\n",
              "      <th>Year built</th>\n",
              "      <th>Heating</th>\n",
              "      <th>Cooling</th>\n",
              "      <th>Parking</th>\n",
              "      <th>school_rating _mean</th>\n",
              "      <th>school_dist_min</th>\n",
              "    </tr>\n",
              "  </thead>\n",
              "  <tbody>\n",
              "    <tr>\n",
              "      <th>15533</th>\n",
              "      <td>Active</td>\n",
              "      <td>1230 Old Dickerson Rd</td>\n",
              "      <td>2.0</td>\n",
              "      <td>False</td>\n",
              "      <td>Goodlettsville</td>\n",
              "      <td>1596.0</td>\n",
              "      <td>37072</td>\n",
              "      <td>TN</td>\n",
              "      <td>1</td>\n",
              "      <td>single_family</td>\n",
              "      <td>False</td>\n",
              "      <td>1940</td>\n",
              "      <td>True</td>\n",
              "      <td>False</td>\n",
              "      <td>True</td>\n",
              "      <td>2.3</td>\n",
              "      <td>0.20</td>\n",
              "    </tr>\n",
              "    <tr>\n",
              "      <th>25334</th>\n",
              "      <td>other</td>\n",
              "      <td>3205 N High School Rd</td>\n",
              "      <td>1.0</td>\n",
              "      <td>True</td>\n",
              "      <td>Indianapolis</td>\n",
              "      <td>1586.0</td>\n",
              "      <td>46224</td>\n",
              "      <td>IN</td>\n",
              "      <td>1</td>\n",
              "      <td>single_family</td>\n",
              "      <td>False</td>\n",
              "      <td>1957</td>\n",
              "      <td>True</td>\n",
              "      <td>True</td>\n",
              "      <td>True</td>\n",
              "      <td>1.5</td>\n",
              "      <td>0.20</td>\n",
              "    </tr>\n",
              "    <tr>\n",
              "      <th>84943</th>\n",
              "      <td>Foreclosed</td>\n",
              "      <td>7804 Hamilton Ave</td>\n",
              "      <td>2.0</td>\n",
              "      <td>True</td>\n",
              "      <td>Cincinnati</td>\n",
              "      <td>2536.0</td>\n",
              "      <td>45231</td>\n",
              "      <td>OH</td>\n",
              "      <td>1</td>\n",
              "      <td>land</td>\n",
              "      <td>False</td>\n",
              "      <td>1865</td>\n",
              "      <td>False</td>\n",
              "      <td>True</td>\n",
              "      <td>True</td>\n",
              "      <td>2.0</td>\n",
              "      <td>0.50</td>\n",
              "    </tr>\n",
              "    <tr>\n",
              "      <th>148218</th>\n",
              "      <td>Active</td>\n",
              "      <td>Cummings St</td>\n",
              "      <td>2.0</td>\n",
              "      <td>False</td>\n",
              "      <td>Huntley</td>\n",
              "      <td>0.0</td>\n",
              "      <td>60142</td>\n",
              "      <td>IL</td>\n",
              "      <td>1</td>\n",
              "      <td>land</td>\n",
              "      <td>False</td>\n",
              "      <td>no date</td>\n",
              "      <td>False</td>\n",
              "      <td>False</td>\n",
              "      <td>False</td>\n",
              "      <td>-1.0</td>\n",
              "      <td>-1.00</td>\n",
              "    </tr>\n",
              "    <tr>\n",
              "      <th>205313</th>\n",
              "      <td>Active</td>\n",
              "      <td>Route 47 Hwy</td>\n",
              "      <td>2.0</td>\n",
              "      <td>False</td>\n",
              "      <td>Huntley</td>\n",
              "      <td>0.0</td>\n",
              "      <td>60142</td>\n",
              "      <td>IL</td>\n",
              "      <td>1</td>\n",
              "      <td>land</td>\n",
              "      <td>False</td>\n",
              "      <td>no date</td>\n",
              "      <td>False</td>\n",
              "      <td>False</td>\n",
              "      <td>False</td>\n",
              "      <td>7.8</td>\n",
              "      <td>0.90</td>\n",
              "    </tr>\n",
              "    <tr>\n",
              "      <th>252231</th>\n",
              "      <td>Foreclosed</td>\n",
              "      <td>8136 Bradyville Pike</td>\n",
              "      <td>2.0</td>\n",
              "      <td>False</td>\n",
              "      <td>Murfreesboro</td>\n",
              "      <td>0.0</td>\n",
              "      <td>37127</td>\n",
              "      <td>TN</td>\n",
              "      <td>1</td>\n",
              "      <td>land</td>\n",
              "      <td>False</td>\n",
              "      <td>2005</td>\n",
              "      <td>False</td>\n",
              "      <td>False</td>\n",
              "      <td>False</td>\n",
              "      <td>6.3</td>\n",
              "      <td>3.15</td>\n",
              "    </tr>\n",
              "    <tr>\n",
              "      <th>252558</th>\n",
              "      <td>Active</td>\n",
              "      <td>114 S Washington St</td>\n",
              "      <td>2.0</td>\n",
              "      <td>True</td>\n",
              "      <td>Circleville</td>\n",
              "      <td>1771.0</td>\n",
              "      <td>43113</td>\n",
              "      <td>OH</td>\n",
              "      <td>1</td>\n",
              "      <td>single_family</td>\n",
              "      <td>False</td>\n",
              "      <td>1920</td>\n",
              "      <td>False</td>\n",
              "      <td>True</td>\n",
              "      <td>False</td>\n",
              "      <td>4.7</td>\n",
              "      <td>1.00</td>\n",
              "    </tr>\n",
              "    <tr>\n",
              "      <th>256120</th>\n",
              "      <td>other</td>\n",
              "      <td>9115 Sea Oats Dr</td>\n",
              "      <td>3.0</td>\n",
              "      <td>True</td>\n",
              "      <td>Indianapolis</td>\n",
              "      <td>1780.0</td>\n",
              "      <td>46250</td>\n",
              "      <td>IN</td>\n",
              "      <td>1</td>\n",
              "      <td>condos</td>\n",
              "      <td>False</td>\n",
              "      <td>1989</td>\n",
              "      <td>True</td>\n",
              "      <td>True</td>\n",
              "      <td>True</td>\n",
              "      <td>3.7</td>\n",
              "      <td>1.90</td>\n",
              "    </tr>\n",
              "    <tr>\n",
              "      <th>270972</th>\n",
              "      <td>Active</td>\n",
              "      <td>Middleground Rd SW</td>\n",
              "      <td>2.0</td>\n",
              "      <td>False</td>\n",
              "      <td>Pataskala</td>\n",
              "      <td>0.0</td>\n",
              "      <td>43062</td>\n",
              "      <td>OH</td>\n",
              "      <td>1</td>\n",
              "      <td>land</td>\n",
              "      <td>False</td>\n",
              "      <td>no date</td>\n",
              "      <td>False</td>\n",
              "      <td>False</td>\n",
              "      <td>False</td>\n",
              "      <td>6.8</td>\n",
              "      <td>1.80</td>\n",
              "    </tr>\n",
              "    <tr>\n",
              "      <th>277489</th>\n",
              "      <td>Foreclosed</td>\n",
              "      <td>2902 W McMicken Ave</td>\n",
              "      <td>3.0</td>\n",
              "      <td>True</td>\n",
              "      <td>Cincinnati</td>\n",
              "      <td>3226.0</td>\n",
              "      <td>45225</td>\n",
              "      <td>OH</td>\n",
              "      <td>1</td>\n",
              "      <td>multi_family</td>\n",
              "      <td>False</td>\n",
              "      <td>1870</td>\n",
              "      <td>True</td>\n",
              "      <td>True</td>\n",
              "      <td>True</td>\n",
              "      <td>2.5</td>\n",
              "      <td>0.59</td>\n",
              "    </tr>\n",
              "  </tbody>\n",
              "</table>\n",
              "</div>"
            ],
            "text/plain": [
              "            status                 street  baths  fireplace            city  \\\n",
              "15533       Active  1230 Old Dickerson Rd    2.0      False  Goodlettsville   \n",
              "25334        other  3205 N High School Rd    1.0       True    Indianapolis   \n",
              "84943   Foreclosed      7804 Hamilton Ave    2.0       True      Cincinnati   \n",
              "148218      Active            Cummings St    2.0      False         Huntley   \n",
              "205313      Active           Route 47 Hwy    2.0      False         Huntley   \n",
              "252231  Foreclosed   8136 Bradyville Pike    2.0      False    Murfreesboro   \n",
              "252558      Active   114 S Washington St     2.0       True     Circleville   \n",
              "256120       other       9115 Sea Oats Dr    3.0       True    Indianapolis   \n",
              "270972      Active     Middleground Rd SW    2.0      False       Pataskala   \n",
              "277489  Foreclosed    2902 W McMicken Ave    3.0       True      Cincinnati   \n",
              "\n",
              "          sqft zipcode state  target           Type   pool Year built  \\\n",
              "15533   1596.0   37072    TN       1  single_family  False       1940   \n",
              "25334   1586.0   46224    IN       1  single_family  False       1957   \n",
              "84943   2536.0   45231    OH       1           land  False       1865   \n",
              "148218     0.0   60142    IL       1           land  False    no date   \n",
              "205313     0.0   60142    IL       1           land  False    no date   \n",
              "252231     0.0   37127    TN       1           land  False       2005   \n",
              "252558  1771.0   43113    OH       1  single_family  False       1920   \n",
              "256120  1780.0   46250    IN       1         condos  False       1989   \n",
              "270972     0.0   43062    OH       1           land  False    no date   \n",
              "277489  3226.0   45225    OH       1   multi_family  False       1870   \n",
              "\n",
              "        Heating  Cooling  Parking  school_rating _mean  school_dist_min  \n",
              "15533      True    False     True                  2.3             0.20  \n",
              "25334      True     True     True                  1.5             0.20  \n",
              "84943     False     True     True                  2.0             0.50  \n",
              "148218    False    False    False                 -1.0            -1.00  \n",
              "205313    False    False    False                  7.8             0.90  \n",
              "252231    False    False    False                  6.3             3.15  \n",
              "252558    False     True    False                  4.7             1.00  \n",
              "256120     True     True     True                  3.7             1.90  \n",
              "270972    False    False    False                  6.8             1.80  \n",
              "277489     True     True     True                  2.5             0.59  "
            ]
          },
          "metadata": {},
          "output_type": "display_data"
        },
        {
          "data": {
            "text/html": [
              "<div>\n",
              "<style scoped>\n",
              "    .dataframe tbody tr th:only-of-type {\n",
              "        vertical-align: middle;\n",
              "    }\n",
              "\n",
              "    .dataframe tbody tr th {\n",
              "        vertical-align: top;\n",
              "    }\n",
              "\n",
              "    .dataframe thead th {\n",
              "        text-align: right;\n",
              "    }\n",
              "</style>\n",
              "<table border=\"1\" class=\"dataframe\">\n",
              "  <thead>\n",
              "    <tr style=\"text-align: right;\">\n",
              "      <th></th>\n",
              "      <th>status</th>\n",
              "      <th>street</th>\n",
              "      <th>baths</th>\n",
              "      <th>fireplace</th>\n",
              "      <th>city</th>\n",
              "      <th>sqft</th>\n",
              "      <th>zipcode</th>\n",
              "      <th>state</th>\n",
              "      <th>target</th>\n",
              "      <th>Type</th>\n",
              "      <th>pool</th>\n",
              "      <th>Year built</th>\n",
              "      <th>Heating</th>\n",
              "      <th>Cooling</th>\n",
              "      <th>Parking</th>\n",
              "      <th>school_rating _mean</th>\n",
              "      <th>school_dist_min</th>\n",
              "    </tr>\n",
              "  </thead>\n",
              "  <tbody>\n",
              "    <tr>\n",
              "      <th>132406</th>\n",
              "      <td>Active</td>\n",
              "      <td>875 Nimes Rd</td>\n",
              "      <td>18.0</td>\n",
              "      <td>True</td>\n",
              "      <td>Los Angeles</td>\n",
              "      <td>0.0</td>\n",
              "      <td>90077</td>\n",
              "      <td>CA</td>\n",
              "      <td>195000000</td>\n",
              "      <td>single_family</td>\n",
              "      <td>True</td>\n",
              "      <td>1935</td>\n",
              "      <td>True</td>\n",
              "      <td>True</td>\n",
              "      <td>True</td>\n",
              "      <td>2.7</td>\n",
              "      <td>1.3</td>\n",
              "    </tr>\n",
              "  </tbody>\n",
              "</table>\n",
              "</div>"
            ],
            "text/plain": [
              "        status        street  baths  fireplace         city  sqft zipcode  \\\n",
              "132406  Active  875 Nimes Rd   18.0       True  Los Angeles   0.0   90077   \n",
              "\n",
              "       state     target           Type  pool Year built  Heating  Cooling  \\\n",
              "132406    CA  195000000  single_family  True       1935     True     True   \n",
              "\n",
              "        Parking  school_rating _mean  school_dist_min  \n",
              "132406     True                  2.7              1.3  "
            ]
          },
          "metadata": {},
          "output_type": "display_data"
        }
      ],
      "source": [
        "display(realty_data1[realty_data1['target'] == realty_data1['target']. min ()].head(10))\n",
        "display(realty_data1[realty_data1['target'] == realty_data1['target']. max ()].head())"
      ]
    },
    {
      "cell_type": "code",
      "execution_count": null,
      "id": "45be66ce",
      "metadata": {
        "id": "45be66ce",
        "outputId": "902a3541-7498-47c4-8f22-a3856621ccf3"
      },
      "outputs": [
        {
          "name": "stdout",
          "output_type": "stream",
          "text": [
            "Количество строк: 25\n"
          ]
        }
      ],
      "source": [
        "#  количество строк\n",
        "count = len(realty_data1[realty_data1['target'] < 500])\n",
        "print(f\"Количество строк: {count}\")\n"
      ]
    },
    {
      "cell_type": "markdown",
      "id": "2377d712",
      "metadata": {
        "id": "2377d712"
      },
      "source": [
        "Удаляем строки,где стоимость недвижимости меньше 500 ,  так как в среднем по рынку даже небольшой участок земли(без дома)стоит около 500-1000"
      ]
    },
    {
      "cell_type": "code",
      "execution_count": null,
      "id": "335544db",
      "metadata": {
        "id": "335544db"
      },
      "outputs": [],
      "source": [
        "realty_data1 = realty_data1.drop(realty_data1[realty_data1['target'] < 500].index)"
      ]
    },
    {
      "cell_type": "code",
      "execution_count": null,
      "id": "f2018aad",
      "metadata": {
        "id": "f2018aad",
        "outputId": "e825732f-fbfa-4a5d-97d6-2a1386deaa86"
      },
      "outputs": [
        {
          "name": "stdout",
          "output_type": "stream",
          "text": [
            "Количество пропущенных значений: 0\n"
          ]
        }
      ],
      "source": [
        "missing_values_target  = realty_data1['target'].isna().sum()\n",
        "print(f\"Количество пропущенных значений: {missing_values_target}\")"
      ]
    },
    {
      "cell_type": "code",
      "execution_count": null,
      "id": "60401931",
      "metadata": {
        "id": "60401931",
        "outputId": "8987b23a-6caa-45fc-fb4f-13aad2db5f08"
      },
      "outputs": [
        {
          "data": {
            "text/plain": [
              "306"
            ]
          },
          "execution_count": 402,
          "metadata": {},
          "output_type": "execute_result"
        }
      ],
      "source": [
        "# Проверим дубликаты\n",
        "realty_data1.duplicated().sum()"
      ]
    },
    {
      "cell_type": "code",
      "execution_count": null,
      "id": "6708e535",
      "metadata": {
        "id": "6708e535"
      },
      "outputs": [],
      "source": [
        "# Удалим дубликаты\n",
        "realty_data1 = realty_data1.drop_duplicates(ignore_index=True)"
      ]
    },
    {
      "cell_type": "code",
      "execution_count": null,
      "id": "2a8a23e8",
      "metadata": {
        "id": "2a8a23e8",
        "outputId": "995d421c-091b-4456-a42d-c717eb4657ce"
      },
      "outputs": [
        {
          "data": {
            "text/html": [
              "<div>\n",
              "<style scoped>\n",
              "    .dataframe tbody tr th:only-of-type {\n",
              "        vertical-align: middle;\n",
              "    }\n",
              "\n",
              "    .dataframe tbody tr th {\n",
              "        vertical-align: top;\n",
              "    }\n",
              "\n",
              "    .dataframe thead th {\n",
              "        text-align: right;\n",
              "    }\n",
              "</style>\n",
              "<table border=\"1\" class=\"dataframe\">\n",
              "  <thead>\n",
              "    <tr style=\"text-align: right;\">\n",
              "      <th></th>\n",
              "      <th>status</th>\n",
              "      <th>street</th>\n",
              "      <th>baths</th>\n",
              "      <th>fireplace</th>\n",
              "      <th>city</th>\n",
              "      <th>sqft</th>\n",
              "      <th>zipcode</th>\n",
              "      <th>state</th>\n",
              "      <th>target</th>\n",
              "      <th>Type</th>\n",
              "      <th>pool</th>\n",
              "      <th>Year built</th>\n",
              "      <th>Heating</th>\n",
              "      <th>Cooling</th>\n",
              "      <th>Parking</th>\n",
              "      <th>school_rating _mean</th>\n",
              "      <th>school_dist_min</th>\n",
              "    </tr>\n",
              "  </thead>\n",
              "  <tbody>\n",
              "    <tr>\n",
              "      <th>0</th>\n",
              "      <td>Active</td>\n",
              "      <td>240 Heather Ln</td>\n",
              "      <td>3.0</td>\n",
              "      <td>True</td>\n",
              "      <td>Southern Pines</td>\n",
              "      <td>2900.0</td>\n",
              "      <td>28387</td>\n",
              "      <td>NC</td>\n",
              "      <td>418000</td>\n",
              "      <td>single_family</td>\n",
              "      <td>False</td>\n",
              "      <td>2019</td>\n",
              "      <td>True</td>\n",
              "      <td>False</td>\n",
              "      <td>False</td>\n",
              "      <td>5.2</td>\n",
              "      <td>2.70</td>\n",
              "    </tr>\n",
              "    <tr>\n",
              "      <th>1</th>\n",
              "      <td>Active</td>\n",
              "      <td>12911 E Heroy Ave</td>\n",
              "      <td>3.0</td>\n",
              "      <td>False</td>\n",
              "      <td>Spokane Valley</td>\n",
              "      <td>1947.0</td>\n",
              "      <td>99216</td>\n",
              "      <td>WA</td>\n",
              "      <td>310000</td>\n",
              "      <td>single_family</td>\n",
              "      <td>False</td>\n",
              "      <td>2019</td>\n",
              "      <td>False</td>\n",
              "      <td>False</td>\n",
              "      <td>False</td>\n",
              "      <td>4.0</td>\n",
              "      <td>1.01</td>\n",
              "    </tr>\n",
              "    <tr>\n",
              "      <th>2</th>\n",
              "      <td>Active</td>\n",
              "      <td>2005 Westridge Rd</td>\n",
              "      <td>2.0</td>\n",
              "      <td>True</td>\n",
              "      <td>Los Angeles</td>\n",
              "      <td>3000.0</td>\n",
              "      <td>90049</td>\n",
              "      <td>CA</td>\n",
              "      <td>2895000</td>\n",
              "      <td>single_family</td>\n",
              "      <td>True</td>\n",
              "      <td>1961</td>\n",
              "      <td>True</td>\n",
              "      <td>True</td>\n",
              "      <td>True</td>\n",
              "      <td>6.7</td>\n",
              "      <td>1.19</td>\n",
              "    </tr>\n",
              "    <tr>\n",
              "      <th>3</th>\n",
              "      <td>Active</td>\n",
              "      <td>4311 Livingston Ave</td>\n",
              "      <td>8.0</td>\n",
              "      <td>True</td>\n",
              "      <td>Dallas</td>\n",
              "      <td>6457.0</td>\n",
              "      <td>75205</td>\n",
              "      <td>TX</td>\n",
              "      <td>2395000</td>\n",
              "      <td>single_family</td>\n",
              "      <td>False</td>\n",
              "      <td>2006</td>\n",
              "      <td>True</td>\n",
              "      <td>True</td>\n",
              "      <td>True</td>\n",
              "      <td>5.6</td>\n",
              "      <td>0.10</td>\n",
              "    </tr>\n",
              "    <tr>\n",
              "      <th>4</th>\n",
              "      <td>Active</td>\n",
              "      <td>1524 Kiscoe St</td>\n",
              "      <td>2.0</td>\n",
              "      <td>False</td>\n",
              "      <td>Palm Bay</td>\n",
              "      <td>0.0</td>\n",
              "      <td>32908</td>\n",
              "      <td>FL</td>\n",
              "      <td>5000</td>\n",
              "      <td>land</td>\n",
              "      <td>False</td>\n",
              "      <td>no date</td>\n",
              "      <td>False</td>\n",
              "      <td>False</td>\n",
              "      <td>False</td>\n",
              "      <td>4.7</td>\n",
              "      <td>3.03</td>\n",
              "    </tr>\n",
              "  </tbody>\n",
              "</table>\n",
              "</div>"
            ],
            "text/plain": [
              "   status               street  baths  fireplace            city    sqft  \\\n",
              "0  Active       240 Heather Ln    3.0       True  Southern Pines  2900.0   \n",
              "1  Active    12911 E Heroy Ave    3.0      False  Spokane Valley  1947.0   \n",
              "2  Active    2005 Westridge Rd    2.0       True     Los Angeles  3000.0   \n",
              "3  Active  4311 Livingston Ave    8.0       True          Dallas  6457.0   \n",
              "4  Active       1524 Kiscoe St    2.0      False        Palm Bay     0.0   \n",
              "\n",
              "  zipcode state   target           Type   pool Year built  Heating  Cooling  \\\n",
              "0   28387    NC   418000  single_family  False       2019     True    False   \n",
              "1   99216    WA   310000  single_family  False       2019    False    False   \n",
              "2   90049    CA  2895000  single_family   True       1961     True     True   \n",
              "3   75205    TX  2395000  single_family  False       2006     True     True   \n",
              "4   32908    FL     5000           land  False    no date    False    False   \n",
              "\n",
              "   Parking  school_rating _mean  school_dist_min  \n",
              "0    False                  5.2             2.70  \n",
              "1    False                  4.0             1.01  \n",
              "2     True                  6.7             1.19  \n",
              "3     True                  5.6             0.10  \n",
              "4    False                  4.7             3.03  "
            ]
          },
          "execution_count": 404,
          "metadata": {},
          "output_type": "execute_result"
        }
      ],
      "source": [
        "realty_data1.head()"
      ]
    },
    {
      "cell_type": "markdown",
      "id": "fb859b49",
      "metadata": {
        "id": "fb859b49"
      },
      "source": [
        "Посмотрим на строки,которые содержат большое количество пропусков"
      ]
    },
    {
      "cell_type": "code",
      "execution_count": null,
      "id": "5496d4ee",
      "metadata": {
        "id": "5496d4ee",
        "outputId": "ee95e9a4-2961-4e14-fe0c-b79f4af933a7"
      },
      "outputs": [
        {
          "data": {
            "text/html": [
              "<div>\n",
              "<style scoped>\n",
              "    .dataframe tbody tr th:only-of-type {\n",
              "        vertical-align: middle;\n",
              "    }\n",
              "\n",
              "    .dataframe tbody tr th {\n",
              "        vertical-align: top;\n",
              "    }\n",
              "\n",
              "    .dataframe thead th {\n",
              "        text-align: right;\n",
              "    }\n",
              "</style>\n",
              "<table border=\"1\" class=\"dataframe\">\n",
              "  <thead>\n",
              "    <tr style=\"text-align: right;\">\n",
              "      <th></th>\n",
              "      <th>status</th>\n",
              "      <th>street</th>\n",
              "      <th>baths</th>\n",
              "      <th>fireplace</th>\n",
              "      <th>city</th>\n",
              "      <th>sqft</th>\n",
              "      <th>zipcode</th>\n",
              "      <th>state</th>\n",
              "      <th>target</th>\n",
              "      <th>Type</th>\n",
              "      <th>pool</th>\n",
              "      <th>Year built</th>\n",
              "      <th>Heating</th>\n",
              "      <th>Cooling</th>\n",
              "      <th>Parking</th>\n",
              "      <th>school_rating _mean</th>\n",
              "      <th>school_dist_min</th>\n",
              "    </tr>\n",
              "  </thead>\n",
              "  <tbody>\n",
              "    <tr>\n",
              "      <th>287</th>\n",
              "      <td>Pending</td>\n",
              "      <td>Goodhope</td>\n",
              "      <td>0.0</td>\n",
              "      <td>False</td>\n",
              "      <td>Houston</td>\n",
              "      <td>0.0</td>\n",
              "      <td>77021</td>\n",
              "      <td>TX</td>\n",
              "      <td>39900</td>\n",
              "      <td>land</td>\n",
              "      <td>False</td>\n",
              "      <td>no date</td>\n",
              "      <td>False</td>\n",
              "      <td>False</td>\n",
              "      <td>False</td>\n",
              "      <td>2.3</td>\n",
              "      <td>0.2</td>\n",
              "    </tr>\n",
              "    <tr>\n",
              "      <th>355</th>\n",
              "      <td>Active</td>\n",
              "      <td>1449 Tern Ct</td>\n",
              "      <td>0.0</td>\n",
              "      <td>False</td>\n",
              "      <td>Poinciana</td>\n",
              "      <td>0.0</td>\n",
              "      <td>34759</td>\n",
              "      <td>FL</td>\n",
              "      <td>23000</td>\n",
              "      <td>land</td>\n",
              "      <td>False</td>\n",
              "      <td>no date</td>\n",
              "      <td>False</td>\n",
              "      <td>False</td>\n",
              "      <td>False</td>\n",
              "      <td>2.2</td>\n",
              "      <td>1.2</td>\n",
              "    </tr>\n",
              "    <tr>\n",
              "      <th>577</th>\n",
              "      <td>Active</td>\n",
              "      <td>1211 Molona St</td>\n",
              "      <td>0.0</td>\n",
              "      <td>False</td>\n",
              "      <td>Reunion</td>\n",
              "      <td>0.0</td>\n",
              "      <td>34747</td>\n",
              "      <td>FL</td>\n",
              "      <td>42800</td>\n",
              "      <td>land</td>\n",
              "      <td>False</td>\n",
              "      <td>no date</td>\n",
              "      <td>False</td>\n",
              "      <td>False</td>\n",
              "      <td>False</td>\n",
              "      <td>5.4</td>\n",
              "      <td>2.1</td>\n",
              "    </tr>\n",
              "    <tr>\n",
              "      <th>616</th>\n",
              "      <td>Active</td>\n",
              "      <td>4719 Rue St</td>\n",
              "      <td>0.0</td>\n",
              "      <td>False</td>\n",
              "      <td>Houston</td>\n",
              "      <td>0.0</td>\n",
              "      <td>77033</td>\n",
              "      <td>TX</td>\n",
              "      <td>17500</td>\n",
              "      <td>land</td>\n",
              "      <td>False</td>\n",
              "      <td>no date</td>\n",
              "      <td>False</td>\n",
              "      <td>False</td>\n",
              "      <td>False</td>\n",
              "      <td>2.3</td>\n",
              "      <td>0.5</td>\n",
              "    </tr>\n",
              "    <tr>\n",
              "      <th>843</th>\n",
              "      <td>Active</td>\n",
              "      <td>120 Smallwood Rd</td>\n",
              "      <td>0.0</td>\n",
              "      <td>False</td>\n",
              "      <td>Rotonda West</td>\n",
              "      <td>0.0</td>\n",
              "      <td>33947</td>\n",
              "      <td>FL</td>\n",
              "      <td>9700</td>\n",
              "      <td>land</td>\n",
              "      <td>False</td>\n",
              "      <td>no date</td>\n",
              "      <td>False</td>\n",
              "      <td>False</td>\n",
              "      <td>False</td>\n",
              "      <td>5.7</td>\n",
              "      <td>2.3</td>\n",
              "    </tr>\n",
              "  </tbody>\n",
              "</table>\n",
              "</div>"
            ],
            "text/plain": [
              "      status            street  baths  fireplace          city  sqft zipcode  \\\n",
              "287  Pending          Goodhope    0.0      False       Houston   0.0   77021   \n",
              "355   Active      1449 Tern Ct    0.0      False     Poinciana   0.0   34759   \n",
              "577   Active    1211 Molona St    0.0      False       Reunion   0.0   34747   \n",
              "616   Active       4719 Rue St    0.0      False       Houston   0.0   77033   \n",
              "843   Active  120 Smallwood Rd    0.0      False  Rotonda West   0.0   33947   \n",
              "\n",
              "    state  target  Type   pool Year built  Heating  Cooling  Parking  \\\n",
              "287    TX   39900  land  False    no date    False    False    False   \n",
              "355    FL   23000  land  False    no date    False    False    False   \n",
              "577    FL   42800  land  False    no date    False    False    False   \n",
              "616    TX   17500  land  False    no date    False    False    False   \n",
              "843    FL    9700  land  False    no date    False    False    False   \n",
              "\n",
              "     school_rating _mean  school_dist_min  \n",
              "287                  2.3              0.2  \n",
              "355                  2.2              1.2  \n",
              "577                  5.4              2.1  \n",
              "616                  2.3              0.5  \n",
              "843                  5.7              2.3  "
            ]
          },
          "metadata": {},
          "output_type": "display_data"
        },
        {
          "name": "stdout",
          "output_type": "stream",
          "text": [
            "3802 строк с пропусками \n"
          ]
        }
      ],
      "source": [
        "uninform_lines = realty_data1[(realty_data1['sqft']==0) &\n",
        "                              (realty_data1['Year built'] == 'no date') &\n",
        "                              (realty_data1['baths']==0)]\n",
        "display(uninform_lines.head())\n",
        "\n",
        "num_uninform_lines = len(uninform_lines)\n",
        "\n",
        "print(f\"{num_uninform_lines} строк с пропусками \")"
      ]
    },
    {
      "cell_type": "markdown",
      "id": "0dc0a3ea",
      "metadata": {
        "id": "0dc0a3ea"
      },
      "source": [
        "Удаление строк,где тип недвижимости не земля(земельный участок),нет ванн и год постройки неизвестен."
      ]
    },
    {
      "cell_type": "code",
      "execution_count": null,
      "id": "eb954f92",
      "metadata": {
        "id": "eb954f92"
      },
      "outputs": [],
      "source": [
        "realty_data1 = realty_data1[\n",
        "    ~((realty_data1['sqft'] == 0) &\n",
        "      (realty_data1['Year built'] == 'no date') &\n",
        "      (realty_data1['baths'] == 0))\n",
        "]"
      ]
    },
    {
      "cell_type": "code",
      "execution_count": null,
      "id": "db7606b7",
      "metadata": {
        "id": "db7606b7",
        "outputId": "d7f91d39-8902-44a3-884b-159d9e3c2d85"
      },
      "outputs": [
        {
          "data": {
            "text/html": [
              "<div>\n",
              "<style scoped>\n",
              "    .dataframe tbody tr th:only-of-type {\n",
              "        vertical-align: middle;\n",
              "    }\n",
              "\n",
              "    .dataframe tbody tr th {\n",
              "        vertical-align: top;\n",
              "    }\n",
              "\n",
              "    .dataframe thead th {\n",
              "        text-align: right;\n",
              "    }\n",
              "</style>\n",
              "<table border=\"1\" class=\"dataframe\">\n",
              "  <thead>\n",
              "    <tr style=\"text-align: right;\">\n",
              "      <th></th>\n",
              "      <th>status</th>\n",
              "      <th>street</th>\n",
              "      <th>baths</th>\n",
              "      <th>fireplace</th>\n",
              "      <th>city</th>\n",
              "      <th>sqft</th>\n",
              "      <th>zipcode</th>\n",
              "      <th>state</th>\n",
              "      <th>target</th>\n",
              "      <th>Type</th>\n",
              "      <th>pool</th>\n",
              "      <th>Year built</th>\n",
              "      <th>Heating</th>\n",
              "      <th>Cooling</th>\n",
              "      <th>Parking</th>\n",
              "      <th>school_rating _mean</th>\n",
              "      <th>school_dist_min</th>\n",
              "    </tr>\n",
              "  </thead>\n",
              "  <tbody>\n",
              "    <tr>\n",
              "      <th>313218</th>\n",
              "      <td>Active</td>\n",
              "      <td>1143 Fedora St</td>\n",
              "      <td>5.0</td>\n",
              "      <td>False</td>\n",
              "      <td>Los Angeles</td>\n",
              "      <td>3400.0</td>\n",
              "      <td>90006</td>\n",
              "      <td>CA</td>\n",
              "      <td>1119000</td>\n",
              "      <td>multi_family</td>\n",
              "      <td>False</td>\n",
              "      <td>1925</td>\n",
              "      <td>True</td>\n",
              "      <td>False</td>\n",
              "      <td>False</td>\n",
              "      <td>2.0</td>\n",
              "      <td>0.10</td>\n",
              "    </tr>\n",
              "    <tr>\n",
              "      <th>256477</th>\n",
              "      <td>Active</td>\n",
              "      <td>6711 W 38th Ave</td>\n",
              "      <td>2.0</td>\n",
              "      <td>False</td>\n",
              "      <td>Kennewick</td>\n",
              "      <td>1354.0</td>\n",
              "      <td>99338</td>\n",
              "      <td>WA</td>\n",
              "      <td>279000</td>\n",
              "      <td>single_family</td>\n",
              "      <td>True</td>\n",
              "      <td>2019</td>\n",
              "      <td>True</td>\n",
              "      <td>True</td>\n",
              "      <td>False</td>\n",
              "      <td>4.0</td>\n",
              "      <td>0.54</td>\n",
              "    </tr>\n",
              "    <tr>\n",
              "      <th>13181</th>\n",
              "      <td>Active</td>\n",
              "      <td>5081 Pine Mountain Ave</td>\n",
              "      <td>3.0</td>\n",
              "      <td>False</td>\n",
              "      <td>Las Vegas</td>\n",
              "      <td>1367.0</td>\n",
              "      <td>89139</td>\n",
              "      <td>NV</td>\n",
              "      <td>275000</td>\n",
              "      <td>single_family</td>\n",
              "      <td>False</td>\n",
              "      <td>2004</td>\n",
              "      <td>True</td>\n",
              "      <td>True</td>\n",
              "      <td>True</td>\n",
              "      <td>5.0</td>\n",
              "      <td>1.30</td>\n",
              "    </tr>\n",
              "    <tr>\n",
              "      <th>142156</th>\n",
              "      <td>Active</td>\n",
              "      <td>31 Richardson Dr</td>\n",
              "      <td>2.0</td>\n",
              "      <td>False</td>\n",
              "      <td>Palm Coast</td>\n",
              "      <td>0.0</td>\n",
              "      <td>32164</td>\n",
              "      <td>FL</td>\n",
              "      <td>24500</td>\n",
              "      <td>land</td>\n",
              "      <td>False</td>\n",
              "      <td>no date</td>\n",
              "      <td>False</td>\n",
              "      <td>False</td>\n",
              "      <td>False</td>\n",
              "      <td>4.7</td>\n",
              "      <td>0.23</td>\n",
              "    </tr>\n",
              "    <tr>\n",
              "      <th>183283</th>\n",
              "      <td>Active</td>\n",
              "      <td>1819 E Outer Dr</td>\n",
              "      <td>2.0</td>\n",
              "      <td>True</td>\n",
              "      <td>Detroit</td>\n",
              "      <td>1770.0</td>\n",
              "      <td>48234</td>\n",
              "      <td>MI</td>\n",
              "      <td>60000</td>\n",
              "      <td>single_family</td>\n",
              "      <td>False</td>\n",
              "      <td>1946</td>\n",
              "      <td>True</td>\n",
              "      <td>False</td>\n",
              "      <td>True</td>\n",
              "      <td>3.0</td>\n",
              "      <td>1.79</td>\n",
              "    </tr>\n",
              "  </tbody>\n",
              "</table>\n",
              "</div>"
            ],
            "text/plain": [
              "        status                  street  baths  fireplace         city    sqft  \\\n",
              "313218  Active          1143 Fedora St    5.0      False  Los Angeles  3400.0   \n",
              "256477  Active         6711 W 38th Ave    2.0      False    Kennewick  1354.0   \n",
              "13181   Active  5081 Pine Mountain Ave    3.0      False    Las Vegas  1367.0   \n",
              "142156  Active        31 Richardson Dr    2.0      False   Palm Coast     0.0   \n",
              "183283  Active         1819 E Outer Dr    2.0       True      Detroit  1770.0   \n",
              "\n",
              "       zipcode state   target           Type   pool Year built  Heating  \\\n",
              "313218   90006    CA  1119000   multi_family  False       1925     True   \n",
              "256477   99338    WA   279000  single_family   True       2019     True   \n",
              "13181    89139    NV   275000  single_family  False       2004     True   \n",
              "142156   32164    FL    24500           land  False    no date    False   \n",
              "183283   48234    MI    60000  single_family  False       1946     True   \n",
              "\n",
              "        Cooling  Parking  school_rating _mean  school_dist_min  \n",
              "313218    False    False                  2.0             0.10  \n",
              "256477     True    False                  4.0             0.54  \n",
              "13181      True     True                  5.0             1.30  \n",
              "142156    False    False                  4.7             0.23  \n",
              "183283    False     True                  3.0             1.79  "
            ]
          },
          "metadata": {},
          "output_type": "display_data"
        },
        {
          "name": "stdout",
          "output_type": "stream",
          "text": [
            "<class 'pandas.core.frame.DataFrame'>\n",
            "Index: 369724 entries, 0 to 373525\n",
            "Data columns (total 17 columns):\n",
            " #   Column               Non-Null Count   Dtype  \n",
            "---  ------               --------------   -----  \n",
            " 0   status               369724 non-null  object \n",
            " 1   street               369724 non-null  object \n",
            " 2   baths                369724 non-null  float64\n",
            " 3   fireplace            369724 non-null  bool   \n",
            " 4   city                 369724 non-null  object \n",
            " 5   sqft                 369724 non-null  float64\n",
            " 6   zipcode              369724 non-null  object \n",
            " 7   state                369724 non-null  object \n",
            " 8   target               369724 non-null  int32  \n",
            " 9   Type                 369724 non-null  object \n",
            " 10  pool                 369724 non-null  bool   \n",
            " 11  Year built           369724 non-null  object \n",
            " 12  Heating              369724 non-null  bool   \n",
            " 13  Cooling              369724 non-null  bool   \n",
            " 14  Parking              369724 non-null  bool   \n",
            " 15  school_rating _mean  369724 non-null  float64\n",
            " 16  school_dist_min      369724 non-null  float64\n",
            "dtypes: bool(5), float64(4), int32(1), object(7)\n",
            "memory usage: 37.0+ MB\n"
          ]
        },
        {
          "data": {
            "text/plain": [
              "None"
            ]
          },
          "metadata": {},
          "output_type": "display_data"
        }
      ],
      "source": [
        "display(realty_data1.sample(5))\n",
        "display(realty_data1.info())"
      ]
    },
    {
      "cell_type": "markdown",
      "id": "50ac626a",
      "metadata": {
        "id": "50ac626a"
      },
      "source": [
        "Сохраним,чтобы не потерять при сбоях"
      ]
    },
    {
      "cell_type": "code",
      "execution_count": null,
      "id": "f5e0357c",
      "metadata": {
        "id": "f5e0357c"
      },
      "outputs": [],
      "source": [
        "realty_data1.to_csv(\"realty_data_full.csv\", index=False)"
      ]
    }
  ],
  "metadata": {
    "kernelspec": {
      "display_name": "Python 3 (ipykernel)",
      "language": "python",
      "name": "python3"
    },
    "language_info": {
      "codemirror_mode": {
        "name": "ipython",
        "version": 3
      },
      "file_extension": ".py",
      "mimetype": "text/x-python",
      "name": "python",
      "nbconvert_exporter": "python",
      "pygments_lexer": "ipython3",
      "version": "3.11.5"
    },
    "colab": {
      "provenance": []
    }
  },
  "nbformat": 4,
  "nbformat_minor": 5
}